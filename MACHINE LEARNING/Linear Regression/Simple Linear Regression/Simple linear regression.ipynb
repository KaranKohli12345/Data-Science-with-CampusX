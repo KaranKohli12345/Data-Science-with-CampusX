{
 "cells": [
  {
   "cell_type": "markdown",
   "id": "e83e69e7-cc6e-4f22-87b8-67005c1a210d",
   "metadata": {},
   "source": [
    "## Linear Regression"
   ]
  },
  {
   "cell_type": "markdown",
   "id": "59dd5c5d-54d2-454b-b06c-2a44e7419782",
   "metadata": {},
   "source": [
    "- supervised"
   ]
  },
  {
   "cell_type": "markdown",
   "id": "6fad450c-0036-4b84-905b-2f48f908ad67",
   "metadata": {},
   "source": [
    "Why we study it?\n",
    "\n",
    "- easy to understand\n",
    "- foundational algorithm to other algorithms"
   ]
  },
  {
   "cell_type": "markdown",
   "id": "4aa2659a-30b9-4f95-baa5-7c0113902d28",
   "metadata": {},
   "source": [
    "Types -\n",
    "\n",
    "1. simple linear regression\n",
    "2. multiple linear regression\n",
    "3. polynomial linear regression\n",
    "4. regularization "
   ]
  },
  {
   "cell_type": "markdown",
   "id": "f68fd6da-9f63-4bd2-9346-38b894ac7d82",
   "metadata": {},
   "source": [
    "### 1. Simple Linear Regression\n",
    "\n",
    "1 input column and 1 output column"
   ]
  },
  {
   "cell_type": "code",
   "execution_count": null,
   "id": "0a96a907-6d67-487f-86be-72c118d2072b",
   "metadata": {},
   "outputs": [],
   "source": [
    "# e.g\n",
    "\n",
    "# cgpa    package\n",
    "# 6.66    3.01"
   ]
  },
  {
   "cell_type": "markdown",
   "id": "ab462bfa-d16b-4ebf-99bf-be2a91f44afa",
   "metadata": {},
   "source": [
    "### 2. Multiple Linear Regression"
   ]
  },
  {
   "cell_type": "markdown",
   "id": "a20d7906-5223-429e-ae8e-b565bbb4330c",
   "metadata": {},
   "source": [
    "more than 1 input col"
   ]
  },
  {
   "cell_type": "code",
   "execution_count": null,
   "id": "eb5428a2-0761-4b2c-8bf4-2c791bd59732",
   "metadata": {},
   "outputs": [],
   "source": [
    "# cgpa  gender  12th_marks  state  package"
   ]
  },
  {
   "cell_type": "markdown",
   "id": "0f72c089-8c5e-45a8-affa-7c41335cb760",
   "metadata": {},
   "source": [
    "### 3. Polynomial linear regression"
   ]
  },
  {
   "cell_type": "markdown",
   "id": "ef8f2c02-2171-4111-a2aa-83d346c6e7e3",
   "metadata": {},
   "source": [
    "data is not linear"
   ]
  },
  {
   "cell_type": "markdown",
   "id": "5579c863-a1c4-4869-b6a6-3a38e11499d9",
   "metadata": {},
   "source": [
    "## Simple Linear Regression"
   ]
  },
  {
   "cell_type": "code",
   "execution_count": null,
   "id": "cd398b35-0386-4540-b48d-57063b8cf7f7",
   "metadata": {},
   "outputs": [],
   "source": [
    "# if algo is not there then average is taken"
   ]
  },
  {
   "cell_type": "markdown",
   "id": "6c2d7f17-800c-4c20-b6c9-309489f197b4",
   "metadata": {},
   "source": [
    "Workflow\n",
    "\n",
    "- plot it\n",
    "- find best fit line"
   ]
  },
  {
   "cell_type": "markdown",
   "id": "31f210b4-58e0-4d2f-a44d-fd4a5562bd2b",
   "metadata": {},
   "source": [
    "#### Code example"
   ]
  },
  {
   "cell_type": "code",
   "execution_count": 3,
   "id": "7bfd5b68-41cb-4172-b8f9-01390ad1e707",
   "metadata": {},
   "outputs": [],
   "source": [
    "import numpy as np\n",
    "import pandas as pd\n",
    "import matplotlib.pyplot as plt"
   ]
  },
  {
   "cell_type": "code",
   "execution_count": 4,
   "id": "1bc44661-3634-4d78-8766-4b1cdf52f4ff",
   "metadata": {},
   "outputs": [],
   "source": [
    "df = pd.read_csv(r'placement.csv')"
   ]
  },
  {
   "cell_type": "code",
   "execution_count": 6,
   "id": "b66bbf97-c312-4121-8ec7-fc36bdc31e9b",
   "metadata": {},
   "outputs": [
    {
     "data": {
      "text/html": [
       "<div>\n",
       "<style scoped>\n",
       "    .dataframe tbody tr th:only-of-type {\n",
       "        vertical-align: middle;\n",
       "    }\n",
       "\n",
       "    .dataframe tbody tr th {\n",
       "        vertical-align: top;\n",
       "    }\n",
       "\n",
       "    .dataframe thead th {\n",
       "        text-align: right;\n",
       "    }\n",
       "</style>\n",
       "<table border=\"1\" class=\"dataframe\">\n",
       "  <thead>\n",
       "    <tr style=\"text-align: right;\">\n",
       "      <th></th>\n",
       "      <th>cgpa</th>\n",
       "      <th>package</th>\n",
       "    </tr>\n",
       "  </thead>\n",
       "  <tbody>\n",
       "    <tr>\n",
       "      <th>0</th>\n",
       "      <td>6.89</td>\n",
       "      <td>3.26</td>\n",
       "    </tr>\n",
       "    <tr>\n",
       "      <th>1</th>\n",
       "      <td>5.12</td>\n",
       "      <td>1.98</td>\n",
       "    </tr>\n",
       "    <tr>\n",
       "      <th>2</th>\n",
       "      <td>7.82</td>\n",
       "      <td>3.25</td>\n",
       "    </tr>\n",
       "    <tr>\n",
       "      <th>3</th>\n",
       "      <td>7.42</td>\n",
       "      <td>3.67</td>\n",
       "    </tr>\n",
       "    <tr>\n",
       "      <th>4</th>\n",
       "      <td>6.94</td>\n",
       "      <td>3.57</td>\n",
       "    </tr>\n",
       "  </tbody>\n",
       "</table>\n",
       "</div>"
      ],
      "text/plain": [
       "   cgpa  package\n",
       "0  6.89     3.26\n",
       "1  5.12     1.98\n",
       "2  7.82     3.25\n",
       "3  7.42     3.67\n",
       "4  6.94     3.57"
      ]
     },
     "execution_count": 6,
     "metadata": {},
     "output_type": "execute_result"
    }
   ],
   "source": [
    "df.head()"
   ]
  },
  {
   "cell_type": "code",
   "execution_count": 8,
   "id": "6ad1d5f7-9258-4c45-88e1-5f4c79c03b62",
   "metadata": {},
   "outputs": [
    {
     "data": {
      "text/plain": [
       "<matplotlib.collections.PathCollection at 0x221d7dfbb00>"
      ]
     },
     "execution_count": 8,
     "metadata": {},
     "output_type": "execute_result"
    },
    {
     "data": {
      "image/png": "[encoded data removed]",
      "text/plain": [
       "<Figure size 640x480 with 1 Axes>"
      ]
     },
     "metadata": {},
     "output_type": "display_data"
    }
   ],
   "source": [
    "plt.scatter(df['cgpa'], df['package'], marker='+')"
   ]
  },
  {
   "cell_type": "code",
   "execution_count": 15,
   "id": "801dfde2-5f5b-40f1-b5ab-bbc1a9f507c2",
   "metadata": {},
   "outputs": [],
   "source": [
    "X = df.iloc[:, 0]\n",
    "Y = df.iloc[:, 1]"
   ]
  },
  {
   "cell_type": "code",
   "execution_count": 17,
   "id": "270562a3-997a-4bdb-a779-60e853568211",
   "metadata": {},
   "outputs": [
    {
     "data": {
      "text/plain": [
       "0      6.89\n",
       "1      5.12\n",
       "2      7.82\n",
       "3      7.42\n",
       "4      6.94\n",
       "       ... \n",
       "195    6.93\n",
       "196    5.89\n",
       "197    7.21\n",
       "198    7.63\n",
       "199    6.22\n",
       "Name: cgpa, Length: 200, dtype: float64"
      ]
     },
     "execution_count": 17,
     "metadata": {},
     "output_type": "execute_result"
    }
   ],
   "source": [
    "X"
   ]
  },
  {
   "cell_type": "code",
   "execution_count": 18,
   "id": "f6e652d0-6fb6-40d7-9648-a89d42abc6f9",
   "metadata": {},
   "outputs": [
    {
     "data": {
      "text/plain": [
       "0      3.26\n",
       "1      1.98\n",
       "2      3.25\n",
       "3      3.67\n",
       "4      3.57\n",
       "       ... \n",
       "195    2.46\n",
       "196    2.57\n",
       "197    3.24\n",
       "198    3.96\n",
       "199    2.33\n",
       "Name: package, Length: 200, dtype: float64"
      ]
     },
     "execution_count": 18,
     "metadata": {},
     "output_type": "execute_result"
    }
   ],
   "source": [
    "Y"
   ]
  },
  {
   "cell_type": "code",
   "execution_count": null,
   "id": "716e1421-1df8-4d8f-a9b9-db88258f4a48",
   "metadata": {},
   "outputs": [],
   "source": [
    "# train test split"
   ]
  },
  {
   "cell_type": "code",
   "execution_count": null,
   "id": "b869f95a-120c-42a0-bfa8-a92e3d4431f7",
   "metadata": {},
   "outputs": [],
   "source": [
    "# from sklearn.model_selection"
   ]
  },
  {
   "cell_type": "code",
   "execution_count": null,
   "id": "22c1f1d4-53dd-4569-8a29-12226eec9869",
   "metadata": {},
   "outputs": [],
   "source": []
  },
  {
   "cell_type": "code",
   "execution_count": null,
   "id": "984f86c3-a6d7-4764-975d-9337cb08ea65",
   "metadata": {},
   "outputs": [],
   "source": []
  },
  {
   "cell_type": "code",
   "execution_count": null,
   "id": "6be64c8e-2040-448b-ad60-81dfc1867119",
   "metadata": {},
   "outputs": [],
   "source": []
  },
  {
   "cell_type": "code",
   "execution_count": null,
   "id": "0b1ec99a-2509-4b74-a684-31743e7af38d",
   "metadata": {},
   "outputs": [],
   "source": []
  },
  {
   "cell_type": "code",
   "execution_count": null,
   "id": "1580bfaa-f1f8-4067-b0bf-25895690f423",
   "metadata": {},
   "outputs": [],
   "source": []
  },
  {
   "cell_type": "code",
   "execution_count": null,
   "id": "40869c74-d660-4f1a-bdb7-145290b4489b",
   "metadata": {},
   "outputs": [],
   "source": []
  },
  {
   "cell_type": "code",
   "execution_count": null,
   "id": "e3737e19-53da-4843-b298-6dddf8085d5a",
   "metadata": {},
   "outputs": [],
   "source": []
  }
 ],
 "metadata": {
  "kernelspec": {
   "display_name": "Python 3 (ipykernel)",
   "language": "python",
   "name": "python3"
  },
  "language_info": {
   "codemirror_mode": {
    "name": "ipython",
    "version": 3
   },
   "file_extension": ".py",
   "mimetype": "text/x-python",
   "name": "python",
   "nbconvert_exporter": "python",
   "pygments_lexer": "ipython3",
   "version": "3.12.1"
  }
 },
 "nbformat": 4,
 "nbformat_minor": 5
}
