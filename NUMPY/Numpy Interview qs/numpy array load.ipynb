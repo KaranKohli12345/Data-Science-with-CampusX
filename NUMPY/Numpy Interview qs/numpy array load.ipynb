{
 "cells": [
  {
   "cell_type": "code",
   "execution_count": 1,
   "id": "c9afb857-9dfd-4080-ab4b-b50aa41c2884",
   "metadata": {},
   "outputs": [],
   "source": [
    "import numpy as np"
   ]
  },
  {
   "cell_type": "code",
   "execution_count": 2,
   "id": "f6b68644-a7fe-4a5d-a837-170eb4802c3d",
   "metadata": {},
   "outputs": [
    {
     "data": {
      "text/plain": [
       "array([('A', 100, 6.5, 'Yes'), ('B', 120, 9.7, 'Yes'),\n",
       "       ('C',  90, 6.7, 'No')],\n",
       "      dtype=[('name', '<U20'), ('iq', '<i4'), ('cgpa', '<f8'), ('placed', '<U20')])"
      ]
     },
     "execution_count": 2,
     "metadata": {},
     "output_type": "execute_result"
    }
   ],
   "source": [
    "np.load('students.npy')"
   ]
  },
  {
   "cell_type": "code",
   "execution_count": null,
   "id": "0cb294e5-5300-43d7-b5ce-c483edae298f",
   "metadata": {},
   "outputs": [],
   "source": []
  }
 ],
 "metadata": {
  "kernelspec": {
   "display_name": "Python 3 (ipykernel)",
   "language": "python",
   "name": "python3"
  },
  "language_info": {
   "codemirror_mode": {
    "name": "ipython",
    "version": 3
   },
   "file_extension": ".py",
   "mimetype": "text/x-python",
   "name": "python",
   "nbconvert_exporter": "python",
   "pygments_lexer": "ipython3",
   "version": "3.12.1"
  }
 },
 "nbformat": 4,
 "nbformat_minor": 5
}
