{
 "cells": [
  {
   "cell_type": "markdown",
   "metadata": {
    "id": "6WdKdPGx-tnY"
   },
   "source": [
    "**Note: In Data Science googling is a very important skill. If you find some difficulties to solve the problem, google it and try to find some clues to solve.**"
   ]
  },
  {
   "cell_type": "code",
   "execution_count": 1,
   "metadata": {
    "id": "-J4F1ysN4mLk"
   },
   "outputs": [],
   "source": [
    "import numpy as np"
   ]
  },
  {
   "cell_type": "markdown",
   "metadata": {
    "id": "a_K8IH-C6HDK"
   },
   "source": [
    "### `Q-1` Create a null vector of size 10 but the fifth value which is 1.\n",
    "\n"
   ]
  },
  {
   "cell_type": "code",
   "execution_count": 18,
   "metadata": {
    "id": "sTF03KsZ6QUI"
   },
   "outputs": [
    {
     "data": {
      "text/plain": [
       "array([0., 0., 0., 0., 1., 0., 0., 0., 0., 0.])"
      ]
     },
     "execution_count": 18,
     "metadata": {},
     "output_type": "execute_result"
    }
   ],
   "source": [
    "a = np.zeros(10)\n",
    "\n",
    "a[4] = 1\n",
    "a"
   ]
  },
  {
   "cell_type": "markdown",
   "metadata": {
    "id": "TEiG25rS6S1i"
   },
   "source": [
    "### `Q-2` Ask user to input two numbers a, b. Write a program to generate a random array of shape (a, b) and print the array and avg of the array."
   ]
  },
  {
   "cell_type": "code",
   "execution_count": 14,
   "metadata": {
    "id": "ihwn4oOH6Vh7"
   },
   "outputs": [
    {
     "name": "stdin",
     "output_type": "stream",
     "text": [
      "Enter a:  2\n",
      "Enter b:  3\n"
     ]
    },
    {
     "name": "stdout",
     "output_type": "stream",
     "text": [
      "[[3. 2. 2.]\n",
      " [6. 5. 1.]]\n",
      "Average:  3.1666666666666665\n"
     ]
    }
   ],
   "source": [
    "a = int(input('Enter a: '))\n",
    "b = int(input('Enter b: '))\n",
    "\n",
    "c = np.round(np.random.random((a,b))*10)\n",
    "print(c)\n",
    "print('Average: ', np.mean(c))"
   ]
  },
  {
   "cell_type": "markdown",
   "metadata": {
    "id": "2iEeybS06ZSq"
   },
   "source": [
    "### `Q-3`Write a function to create a 2d array with 1 on the border and 0 inside. Take 2-D array shape as (a,b) as parameter to function.\n",
    "\n",
    "Eg.-\n",
    "```\n",
    "[[1,1,1,1],\n",
    "[1,0,0,1],\n",
    "[1,0,0,1],\n",
    "[1,1,1,1]]\n",
    "```"
   ]
  },
  {
   "cell_type": "code",
   "execution_count": null,
   "metadata": {
    "id": "gEKndkDU6ZSs"
   },
   "outputs": [],
   "source": [
    "def array_maker(a,b):\n",
    "    pass\n",
    "\n",
    "array_maker(4,4)"
   ]
  },
  {
   "cell_type": "markdown",
   "metadata": {
    "id": "QRJicQ8j6ZlE"
   },
   "source": [
    "### `Q-4` Create a vector of size 10 with values ranging from 0 to 1, both excluded."
   ]
  },
  {
   "cell_type": "code",
   "execution_count": 3,
   "metadata": {
    "id": "eC4XLhDq6ZlF"
   },
   "outputs": [
    {
     "data": {
      "text/plain": [
       "array([0.33067677, 0.160133  , 0.93536161, 0.43646783, 0.88732406,\n",
       "       0.36739632, 0.41526848, 0.43841268, 0.3930474 , 0.32260939])"
      ]
     },
     "execution_count": 3,
     "metadata": {},
     "output_type": "execute_result"
    }
   ],
   "source": [
    "np.random.random(10)"
   ]
  },
  {
   "cell_type": "markdown",
   "metadata": {
    "id": "vb4jK4yQ6Zs2"
   },
   "source": [
    "### `Q-5` Can you create a identity mattrix of shape (3,4). If yes write code for it."
   ]
  },
  {
   "cell_type": "code",
   "execution_count": null,
   "metadata": {
    "id": "DTV_AbMS6Zs4"
   },
   "outputs": [],
   "source": [
    "# No"
   ]
  },
  {
   "cell_type": "markdown",
   "metadata": {
    "id": "QtjAFm5PEntK"
   },
   "source": [
    "### `Q-6:` Create a 5x5 matrix with row values ranging from 0 to 4."
   ]
  },
  {
   "cell_type": "code",
   "execution_count": null,
   "metadata": {
    "id": "z2WGxRjvEuRS"
   },
   "outputs": [],
   "source": []
  },
  {
   "cell_type": "markdown",
   "metadata": {
    "id": "KPpvxKjVHnyx"
   },
   "source": [
    "### `Q-7:`  Consider a random integer (in range 1 to 100) vector with shape `(10,2)` representing coordinates, and coordinates of a point as array is given. Create an array of distance of each point in the random vectros from the given point. Distance array should be interger type.\n",
    "\n",
    "```\n",
    "point = np.array([2,3])\n",
    "```\n"
   ]
  },
  {
   "cell_type": "code",
   "execution_count": null,
   "metadata": {
    "id": "X7KGnWLNIM6f"
   },
   "outputs": [],
   "source": [
    "#code here"
   ]
  },
  {
   "cell_type": "markdown",
   "metadata": {
    "id": "tajOFJlCDwTr"
   },
   "source": [
    "### `Q-8:` Consider a (6,7,8) shape array, what is the index (x,y,z) of the 100th element?"
   ]
  },
  {
   "cell_type": "code",
   "execution_count": 4,
   "metadata": {
    "id": "qH4oxvs0D3Ra"
   },
   "outputs": [
    {
     "ename": "TypeError",
     "evalue": "'module' object is not callable",
     "output_type": "error",
     "traceback": [
      "\u001b[1;31m---------------------------------------------------------------------------\u001b[0m",
      "\u001b[1;31mTypeError\u001b[0m                                 Traceback (most recent call last)",
      "Cell \u001b[1;32mIn[4], line 1\u001b[0m\n\u001b[1;32m----> 1\u001b[0m \u001b[43mnp\u001b[49m\u001b[38;5;241;43m.\u001b[39;49m\u001b[43mrandom\u001b[49m\u001b[43m(\u001b[49m\u001b[43m(\u001b[49m\u001b[38;5;241;43m6\u001b[39;49m\u001b[43m,\u001b[49m\u001b[38;5;241;43m7\u001b[39;49m\u001b[43m,\u001b[49m\u001b[38;5;241;43m8\u001b[39;49m\u001b[43m)\u001b[49m\u001b[43m)\u001b[49m\n",
      "\u001b[1;31mTypeError\u001b[0m: 'module' object is not callable"
     ]
    }
   ],
   "source": [
    "np.random((6,7,8))"
   ]
  },
  {
   "cell_type": "markdown",
   "metadata": {
    "id": "9LxBAbT2Pw33"
   },
   "source": [
    "### `Q-9:` Arrays\n",
    "\n",
    "You are given a space separated list of numbers. Your task is to print a reversed NumPy array with the element type float.\n",
    "\n"
   ]
  },
  {
   "cell_type": "markdown",
   "metadata": {
    "id": "JJpqVms2Nq7L"
   },
   "source": [
    "**Input Format:**\n",
    "\n",
    "A single line of input containing space separated numbers.\n",
    "\n",
    "**Output Format:**\n",
    "\n",
    "Print the reverse NumPy array with type float.\n",
    "\n",
    "**Example 1:**\n",
    "\n",
    "Input:\n",
    "\n",
    "```bash\n",
    "1 2 3 4 -8 -10\n",
    "```\n",
    "\n",
    "Output:\n",
    "\n",
    "```bash\n",
    "[-10.  -8.   4.   3.   2.   1.]\n",
    "```"
   ]
  },
  {
   "cell_type": "code",
   "execution_count": null,
   "metadata": {
    "id": "7iQyg6ChNl3j"
   },
   "outputs": [],
   "source": [
    "#Code here"
   ]
  },
  {
   "cell_type": "markdown",
   "metadata": {
    "id": "TPxD7jM8Sjz9"
   },
   "source": [
    "### `Q-10:` Elements count\n",
    "\n",
    "Count the number of elements of a numpy array.\n",
    "\n"
   ]
  },
  {
   "cell_type": "markdown",
   "metadata": {
    "id": "oHTiTz_jNkAU"
   },
   "source": [
    "**Example 1:**\n",
    "\n",
    "Input:\n",
    "```bash\n",
    "np.array([])\n",
    "```\n",
    "\n",
    "Output:\n",
    "```bash\n",
    "elements_count :  0\n",
    "```\n",
    "\n",
    "**Example 2:**\n",
    "\n",
    "Input:\n",
    "```bash\n",
    "np.array([1, 2])\n",
    "```\n",
    "\n",
    "Output:\n",
    "```bash\n",
    "elements_count :  2\n",
    "```"
   ]
  },
  {
   "cell_type": "code",
   "execution_count": null,
   "metadata": {
    "id": "RG0H2I-TNeGN"
   },
   "outputs": [],
   "source": [
    "#Code here"
   ]
  },
  {
   "cell_type": "markdown",
   "metadata": {
    "id": "pwgPz-3l5ic5"
   },
   "source": [
    "### `Q-11:` Softmax function\n",
    "\n",
    "Create a Python function to calculate the Softmax of the given numpy 1D array. The function only accepts the numpy 1D array, otherwise raise error.\n",
    "\n",
    "$$\\Large \\sigma(\\vec z)_i = \\frac{e^{z_i}}{\\sum_{j=i}^{K}{e^{z_j}}}$$\n",
    "\n",
    "https://en.wikipedia.org/wiki/Softmax_function\n",
    "\n"
   ]
  },
  {
   "cell_type": "markdown",
   "metadata": {
    "id": "eZ3WJt6UM1ul"
   },
   "source": [
    "**Example 1:**\n",
    "\n",
    "Input:\n",
    "```bash\n",
    "[86.03331084 37.7285648  48.64908087 87.16563062 38.40852563 37.20006318]\n",
    "```\n",
    "\n",
    "Output:\n",
    "```bash\n",
    "[2.43733249e-01, 2.56112115e-22, 1.41628284e-17, 7.56266751e-01,\n",
    "       5.05514197e-22, 1.50974911e-22]\n",
    "```\n",
    "\n",
    "**Example 2:**\n",
    "\n",
    "Input:\n",
    "```bash\n",
    "[33.17344305 45.61961654 82.05405781 80.9647098  68.82830233 91.52064278]\n",
    "```\n",
    "\n",
    "Output:\n",
    "```bash\n",
    "[4.57181035e-26, 1.16249923e-20, 7.73872596e-05, 2.60358426e-05,\n",
    "       1.39571531e-10, 9.99896577e-01]\n",
    "```"
   ]
  },
  {
   "cell_type": "code",
   "execution_count": null,
   "metadata": {
    "id": "VNzj05lkNaNi"
   },
   "outputs": [],
   "source": [
    "#Code here"
   ]
  },
  {
   "cell_type": "markdown",
   "metadata": {
    "id": "k4JWSwWu_HXg"
   },
   "source": [
    "### `Q-12:` Vertical stack\n",
    "\n",
    "Write a python function that accepts infinite number of numpy arrays and do the vertical stack to them. Then return that new array as result. The function only accepts the numpy array, otherwise raise error.\n",
    "\n"
   ]
  },
  {
   "cell_type": "markdown",
   "metadata": {
    "id": "XhhV3mraNAWr"
   },
   "source": [
    "**Example 1:**\n",
    "\n",
    "Input:\n",
    "```bash\n",
    "a= [[0 1 2 3 4]\n",
    " [5 6 7 8 9]]\n",
    "\n",
    "b= [[1 1 1 1 1]\n",
    " [1 1 1 1 1]]\n",
    "```\n",
    "\n",
    "Output:\n",
    "\n",
    "```bash\n",
    "[[0 1 2 3 4]\n",
    " [5 6 7 8 9]\n",
    " [1 1 1 1 1]\n",
    " [1 1 1 1 1]]\n",
    "```\n",
    "\n",
    "**Example 2:**\n",
    "\n",
    "Input:\n",
    "```bash\n",
    "a= [[0 1 2 3 4]\n",
    " [5 6 7 8 9]]\n",
    "\n",
    "b= [[1 1 1 1 1]\n",
    " [1 1 1 1 1]]\n",
    "\n",
    "c= [[0.10117373 0.1677244  0.73764059 0.83166097 0.48985695]\n",
    " [0.44581567 0.13502419 0.55692335 0.16479622 0.61193593]]\n",
    "```\n",
    "\n",
    "Output:\n",
    "```bash\n",
    "[[0.         1.         2.         3.         4.        ]\n",
    " [5.         6.         7.         8.         9.        ]\n",
    " [1.         1.         1.         1.         1.        ]\n",
    " [1.         1.         1.         1.         1.        ]\n",
    " [0.10117373 0.1677244  0.73764059 0.83166097 0.48985695]\n",
    " [0.44581567 0.13502419 0.55692335 0.16479622 0.61193593]]\n",
    "```"
   ]
  },
  {
   "cell_type": "code",
   "execution_count": null,
   "metadata": {
    "id": "dhtnbSj6NP8z"
   },
   "outputs": [],
   "source": [
    "#Coder here"
   ]
  },
  {
   "cell_type": "markdown",
   "metadata": {
    "id": "3mk8T6CuC2DP"
   },
   "source": [
    "### `Q-13:` Dates\n",
    "\n",
    "Create a python function named **date_array** that accepts two dates as string format and returns a numpy array of dates between those 2 dates. The function only accept 2 strings, otherwise raise error. The date format should be like this only: `2022-12-6`. The end date should be included and for simplicity, choose dates from a same year.\n",
    "\n"
   ]
  },
  {
   "cell_type": "markdown",
   "metadata": {
    "id": "E3IgjnTTNFEk"
   },
   "source": [
    "**Example 1:**\n",
    "\n",
    "Input:\n",
    "```bash\n",
    "date_array(start = '2020-09-15', end = '2020-09-25')\n",
    "```\n",
    "\n",
    "Output:\n",
    "```bash\n",
    "['2020-09-15', '2020-09-16', '2020-09-17', '2020-09-18',\n",
    " '2020-09-19', '2020-09-20', '2020-09-21', '2020-09-22',\n",
    " '2020-09-23', '2020-09-24', '2020-09-25']\n",
    "```\n",
    "\n",
    "**Example 2:**\n",
    "\n",
    "Input:\n",
    "```bash\n",
    "date_array(start = '2022-12-01', end = '2022-12-06')\n",
    "```\n",
    "\n",
    "Output:\n",
    "```bash\n",
    "['2022-12-01', '2022-12-02', '2022-12-03', '2022-12-04', '2022-12-05', '2022-12-06']\n",
    "```\n",
    "\n",
    "**Example 3:**\n",
    "\n",
    "Input:\n",
    "```bash\n",
    "date_array(start = '2020-11-25', end = '2020-11-30')\n",
    "```\n",
    "\n",
    "Output:\n",
    "```bash\n",
    "['2020-11-25', '2020-11-26', '2020-11-27', '2020-11-28',\n",
    " '2020-11-29', '2020-11-30']\n",
    "```"
   ]
  },
  {
   "cell_type": "code",
   "execution_count": null,
   "metadata": {
    "id": "Yj5PBfQQNTnL"
   },
   "outputs": [],
   "source": [
    "#Code here"
   ]
  },
  {
   "cell_type": "markdown",
   "metadata": {
    "id": "bcEp0wTWQijK"
   },
   "source": [
    "### `Q-14:` Subtract the mean of each row from a matrix."
   ]
  },
  {
   "cell_type": "code",
   "execution_count": 51,
   "metadata": {
    "id": "rpILVGcgQzMo"
   },
   "outputs": [
    {
     "data": {
      "text/plain": [
       "array([[1, 2, 3],\n",
       "       [4, 5, 6],\n",
       "       [7, 8, 9]])"
      ]
     },
     "execution_count": 51,
     "metadata": {},
     "output_type": "execute_result"
    }
   ],
   "source": [
    "a14 = np.array([[1,2,3],[4,5,6],[7,8,9]])\n",
    "\n",
    "a14"
   ]
  },
  {
   "cell_type": "code",
   "execution_count": 54,
   "metadata": {},
   "outputs": [
    {
     "data": {
      "text/plain": [
       "array([2., 5., 8.])"
      ]
     },
     "execution_count": 54,
     "metadata": {},
     "output_type": "execute_result"
    }
   ],
   "source": [
    "np.mean(a14, axis=1)"
   ]
  },
  {
   "cell_type": "code",
   "execution_count": null,
   "metadata": {},
   "outputs": [],
   "source": [
    "a14 - a1"
   ]
  },
  {
   "cell_type": "markdown",
   "metadata": {
    "id": "A-dMVlPPSBTT"
   },
   "source": [
    "### `Q-15:` Swap column-1 of array with column-2 in the array."
   ]
  },
  {
   "cell_type": "code",
   "execution_count": 48,
   "metadata": {
    "id": "3RtngM9-Q6S7"
   },
   "outputs": [
    {
     "data": {
      "text/plain": [
       "array([[1, 2, 3],\n",
       "       [4, 5, 6],\n",
       "       [7, 8, 9]])"
      ]
     },
     "execution_count": 48,
     "metadata": {},
     "output_type": "execute_result"
    }
   ],
   "source": [
    "a15 = np.array([[1,2,3],[4,5,6],[7,8,9]])\n",
    "a15"
   ]
  },
  {
   "cell_type": "code",
   "execution_count": 49,
   "metadata": {
    "id": "ueoMV_LlSnGU"
   },
   "outputs": [],
   "source": [
    "a15[:, [0,1]] = a15[:, [1,0]]"
   ]
  },
  {
   "cell_type": "code",
   "execution_count": 50,
   "metadata": {},
   "outputs": [
    {
     "data": {
      "text/plain": [
       "array([[2, 1, 3],\n",
       "       [5, 4, 6],\n",
       "       [8, 7, 9]])"
      ]
     },
     "execution_count": 50,
     "metadata": {},
     "output_type": "execute_result"
    }
   ],
   "source": [
    "a15"
   ]
  },
  {
   "cell_type": "markdown",
   "metadata": {
    "id": "cB4VMexvS6Zi"
   },
   "source": [
    "### `Q-16:` Replace odd elements in arrays with -1."
   ]
  },
  {
   "cell_type": "code",
   "execution_count": 26,
   "metadata": {
    "id": "Bt83nXEVS5O4"
   },
   "outputs": [
    {
     "data": {
      "text/plain": [
       "array([1, 2, 3, 4, 5])"
      ]
     },
     "execution_count": 26,
     "metadata": {},
     "output_type": "execute_result"
    }
   ],
   "source": [
    "arr = np.array([1,2,3,4,5])\n",
    "arr"
   ]
  },
  {
   "cell_type": "code",
   "execution_count": 33,
   "metadata": {
    "id": "1ZlvMaXLVyoW"
   },
   "outputs": [
    {
     "data": {
      "text/plain": [
       "array([-1,  2, -1,  4, -1])"
      ]
     },
     "execution_count": 33,
     "metadata": {},
     "output_type": "execute_result"
    }
   ],
   "source": [
    "np.where(arr%2!=0, -1, arr)"
   ]
  },
  {
   "cell_type": "markdown",
   "metadata": {
    "id": "kf_qvmBxWIT_"
   },
   "source": [
    "### `Q-17:` Given two arrays of same shape. Make an array of max out of two arrays. (Numpy way)\n",
    "```\n",
    "a=np.array([6,3,1,5,8])\n",
    "b=np.array([3,2,1,7,2])\n",
    "\n",
    "Result-> [6 3 1 7 8]\n",
    "```"
   ]
  },
  {
   "cell_type": "code",
   "execution_count": 17,
   "metadata": {
    "id": "TB9ZvF-EZSfu"
   },
   "outputs": [],
   "source": [
    "a = np.array([6,3,1,5,8])\n",
    "b = np.array([3,2,1,7,2])"
   ]
  },
  {
   "cell_type": "code",
   "execution_count": 19,
   "metadata": {
    "id": "D7ad-A6jZzCL"
   },
   "outputs": [
    {
     "name": "stdout",
     "output_type": "stream",
     "text": [
      "[6 3 1 5 8]\n",
      "[3 2 1 7 2]\n"
     ]
    }
   ],
   "source": [
    "print(a)\n",
    "print(b)"
   ]
  },
  {
   "cell_type": "code",
   "execution_count": 25,
   "metadata": {},
   "outputs": [
    {
     "data": {
      "text/plain": [
       "array([6, 3, 1, 7, 8])"
      ]
     },
     "execution_count": 25,
     "metadata": {},
     "output_type": "execute_result"
    }
   ],
   "source": [
    "np.maximum(a,b)"
   ]
  },
  {
   "cell_type": "markdown",
   "metadata": {
    "id": "iOQLUIeGc3zA"
   },
   "source": [
    "### `Q-18` Answer below asked questions on given array:\n",
    "1. Fetch Every alternate column of the array\n",
    "2. Normalise the given array\n",
    "\n",
    "https://en.wikipedia.org/wiki/Normalization_(statistics)\n",
    "\n",
    "There are different form of normalisation for this question use below formula.\n",
    "\n",
    "$$\\large X_{normalized} = \\frac{X - X_{min}}{X_{max} - X_{min}}$$\n",
    "\n",
    "```python\n",
    "arr1=np.random.randint(low=1, high=10000, size=40).reshape(8,5)\n",
    "```\n"
   ]
  },
  {
   "cell_type": "code",
   "execution_count": 6,
   "metadata": {
    "colab": {
     "base_uri": "https://localhost:8080/"
    },
    "id": "vjSm18k3d_1p",
    "outputId": "83d23b61-d2ae-41bc-e91e-0e0722667521"
   },
   "outputs": [
    {
     "data": {
      "text/plain": [
       "array([[3811, 9460, 4543, 6975,  584],\n",
       "       [7163, 3734, 6277, 7697, 2522],\n",
       "       [8933, 5202, 6831, 9961, 7875],\n",
       "       [6086, 7352, 7425, 3644, 2727],\n",
       "       [7176, 4946, 2929, 9582, 3163],\n",
       "       [9141, 1114, 6852,  405, 5535],\n",
       "       [7210, 4762,  874, 4601,  738],\n",
       "       [7218, 2791, 8746,  246, 1661]])"
      ]
     },
     "execution_count": 6,
     "metadata": {},
     "output_type": "execute_result"
    }
   ],
   "source": [
    "# Given\n",
    "arr1 = np.random.randint(low=1, high=10000, size=40).reshape(8,5)\n",
    "\n",
    "arr1"
   ]
  },
  {
   "cell_type": "code",
   "execution_count": 7,
   "metadata": {
    "id": "d7u8DB47eBfQ"
   },
   "outputs": [
    {
     "data": {
      "text/plain": [
       "array([[3811, 4543,  584],\n",
       "       [7163, 6277, 2522],\n",
       "       [8933, 6831, 7875],\n",
       "       [6086, 7425, 2727],\n",
       "       [7176, 2929, 3163],\n",
       "       [9141, 6852, 5535],\n",
       "       [7210,  874,  738],\n",
       "       [7218, 8746, 1661]])"
      ]
     },
     "execution_count": 7,
     "metadata": {},
     "output_type": "execute_result"
    }
   ],
   "source": [
    "# Fetch Every alternate column of the array\n",
    "\n",
    "arr1[:,::2]"
   ]
  },
  {
   "cell_type": "code",
   "execution_count": 15,
   "metadata": {},
   "outputs": [
    {
     "data": {
      "text/plain": [
       "array([[0.36695831, 0.94843026, 0.44230571, 0.69264025, 0.03479156],\n",
       "       [0.71199177, 0.35903242, 0.62079259, 0.76695831, 0.23427689],\n",
       "       [0.89418425, 0.51013896, 0.67781781, 1.        , 0.78528049],\n",
       "       [0.60113227, 0.73144622, 0.73896037, 0.3497684 , 0.25537828],\n",
       "       [0.7133299 , 0.48378796, 0.27617087, 0.96098816, 0.30025733],\n",
       "       [0.91559444, 0.08934637, 0.67997941, 0.01636644, 0.54441585],\n",
       "       [0.71682964, 0.46484817, 0.06464231, 0.44827586, 0.05064334],\n",
       "       [0.71765311, 0.26196603, 0.87493567, 0.        , 0.14565106]])"
      ]
     },
     "execution_count": 15,
     "metadata": {},
     "output_type": "execute_result"
    }
   ],
   "source": [
    "# Normalise the given array\n",
    "\n",
    "Xmax = arr1.max()\n",
    "Xmin = arr1.min()\n",
    "\n",
    "# Xnormalized = (X - Xmin)/(Xmax - Xmin)\n",
    "\n",
    "normalized_arr = (arr1 - Xmin)/(Xmax - Xmin) \n",
    "\n",
    "normalized_arr"
   ]
  },
  {
   "cell_type": "markdown",
   "metadata": {
    "id": "jCzsVEKLgGNo"
   },
   "source": [
    "### `Q-19:` Write a function which will accept 2 arguments.\n",
    "First: A 1D numpy array arr\n",
    "\n",
    "Second: An integer n {Please make sure n<=len(arr)}\n",
    "\n",
    "Output: The output should be the nth largest item out of the array\n",
    "```\n",
    "# Example1 : arr=(12,34,40,7,1,0) and n=3, the output should be 12\n",
    "# Example2 : arr=(12,34,40,7,1,0) and n=1, the output should be 40\n",
    "```"
   ]
  },
  {
   "cell_type": "code",
   "execution_count": 45,
   "metadata": {
    "id": "J4AzkDk7gXSG"
   },
   "outputs": [
    {
     "name": "stdout",
     "output_type": "stream",
     "text": [
      "12\n"
     ]
    }
   ],
   "source": [
    "def find_nth_largest(arr, n):\n",
    "    if n > len(arr):\n",
    "        print('Invalid')\n",
    "    else:\n",
    "        print(np.sort(arr)[::-1][n-1])\n",
    "\n",
    "arr = np.array([12,34,40,7,1,0])\n",
    "n = 3\n",
    "\n",
    "find_nth_largest(arr,n)"
   ]
  },
  {
   "cell_type": "markdown",
   "metadata": {
    "id": "ja0xPCgjhBsg"
   },
   "source": [
    "### `Q-20:` Create the following pattern without hardcoding. Use only numpy functions and the below input array a.\n",
    "```\n",
    "# Input: a = np.array([1,2,3])\n",
    "# Output: array([1, 1, 1, 2, 2, 2, 3, 3, 3, 1, 2, 3, 1, 2, 3, 1, 2, 3])\n",
    "```"
   ]
  },
  {
   "cell_type": "code",
   "execution_count": 2,
   "metadata": {},
   "outputs": [],
   "source": [
    "import numpy as np"
   ]
  },
  {
   "cell_type": "code",
   "execution_count": 4,
   "metadata": {
    "id": "CndS8TTNhG0F"
   },
   "outputs": [
    {
     "data": {
      "text/plain": [
       "array([1, 2, 3])"
      ]
     },
     "execution_count": 4,
     "metadata": {},
     "output_type": "execute_result"
    }
   ],
   "source": [
    "a = np.array([1,2,3])\n",
    "a"
   ]
  },
  {
   "cell_type": "code",
   "execution_count": 17,
   "metadata": {},
   "outputs": [
    {
     "data": {
      "text/plain": [
       "array([1, 1, 1, 2, 2, 2, 3, 3, 3, 1, 2, 3, 1, 2, 3, 1, 2, 3])"
      ]
     },
     "execution_count": 17,
     "metadata": {},
     "output_type": "execute_result"
    }
   ],
   "source": [
    "np.concatenate((np.repeat(a,3), np.tile(a,3)))"
   ]
  },
  {
   "cell_type": "code",
   "execution_count": null,
   "metadata": {},
   "outputs": [],
   "source": []
  },
  {
   "cell_type": "code",
   "execution_count": null,
   "metadata": {},
   "outputs": [],
   "source": []
  }
 ],
 "metadata": {
  "colab": {
   "provenance": []
  },
  "kernelspec": {
   "display_name": "Python 3 (ipykernel)",
   "language": "python",
   "name": "python3"
  },
  "language_info": {
   "codemirror_mode": {
    "name": "ipython",
    "version": 3
   },
   "file_extension": ".py",
   "mimetype": "text/x-python",
   "name": "python",
   "nbconvert_exporter": "python",
   "pygments_lexer": "ipython3",
   "version": "3.12.1"
  }
 },
 "nbformat": 4,
 "nbformat_minor": 4
}
