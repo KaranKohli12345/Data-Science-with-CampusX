{
 "cells": [
  {
   "cell_type": "markdown",
   "id": "eeb81486-884d-4ab3-ad11-ff254e1b37b2",
   "metadata": {},
   "source": [
    "```\n",
    "- having many forms/ multiple faces\n",
    "- jab same cheez situation ke hisaab se alag alag behave kare\n",
    "\n",
    "- Three main concepts are there in polymorphism:\n",
    "    - Method overriding\n",
    "    - Method overloading\n",
    "    - Operator overloading\n",
    "```"
   ]
  },
  {
   "cell_type": "markdown",
   "id": "a62222e8-fa4a-4104-af1c-206f4aad5386",
   "metadata": {},
   "source": [
    "### Method overloading"
   ]
  },
  {
   "cell_type": "code",
   "execution_count": 7,
   "id": "c98944f2-77ac-4926-90ca-aefa840995da",
   "metadata": {},
   "outputs": [],
   "source": [
    "# Objective --> clean code and increses readability\n",
    "# not works in python"
   ]
  },
  {
   "cell_type": "code",
   "execution_count": 10,
   "id": "10dc8e6b-3a32-4f14-b986-55445da00002",
   "metadata": {},
   "outputs": [
    {
     "data": {
      "text/plain": [
       "10"
      ]
     },
     "execution_count": 10,
     "metadata": {},
     "output_type": "execute_result"
    }
   ],
   "source": [
    "class Shape:\n",
    "\n",
    "    def area(self, r):\n",
    "        return 3.14*r*r\n",
    "\n",
    "    def area(self, l, b):\n",
    "        return l*b\n",
    "\n",
    "obj = Shape()\n",
    "\n",
    "# obj.area(5) --> gives error because you can only use the lastest area() i.e. the second one\n",
    "obj.area(5, 2)"
   ]
  },
  {
   "cell_type": "code",
   "execution_count": 11,
   "id": "b92f78cc-4287-4dc8-9627-614a8dc46623",
   "metadata": {},
   "outputs": [],
   "source": [
    "# How do Method overloading works in python then? "
   ]
  },
  {
   "cell_type": "code",
   "execution_count": 13,
   "id": "1b044d7e-ac97-4304-86f7-2108cc41baa6",
   "metadata": {},
   "outputs": [
    {
     "name": "stdout",
     "output_type": "stream",
     "text": [
      "78.5\n",
      "10\n"
     ]
    }
   ],
   "source": [
    "class Shape:\n",
    "\n",
    "    def area(self, a, b = 0):\n",
    "        if b == 0:\n",
    "            return 3.14*a*a\n",
    "\n",
    "        else:\n",
    "            return a*b\n",
    "\n",
    "obj = Shape()\n",
    "\n",
    "print(obj.area(5))\n",
    "print(obj.area(5, 2))"
   ]
  },
  {
   "cell_type": "markdown",
   "id": "612c45f5-35f0-4494-81b8-cec76cb07842",
   "metadata": {},
   "source": [
    "### Operator overloading"
   ]
  },
  {
   "cell_type": "code",
   "execution_count": 14,
   "id": "973b76f4-e3d0-4507-b77d-d57940d6c45e",
   "metadata": {},
   "outputs": [
    {
     "data": {
      "text/plain": [
       "'helloworld'"
      ]
     },
     "execution_count": 14,
     "metadata": {},
     "output_type": "execute_result"
    }
   ],
   "source": [
    "'hello' + 'world'"
   ]
  },
  {
   "cell_type": "code",
   "execution_count": 15,
   "id": "b5e3d75e-765e-48f4-b6d7-9a051e0428fb",
   "metadata": {},
   "outputs": [
    {
     "data": {
      "text/plain": [
       "9"
      ]
     },
     "execution_count": 15,
     "metadata": {},
     "output_type": "execute_result"
    }
   ],
   "source": [
    "4+5"
   ]
  },
  {
   "cell_type": "code",
   "execution_count": 16,
   "id": "8e5b97b4-25e0-474a-b3f2-95d8ba35a25b",
   "metadata": {},
   "outputs": [
    {
     "data": {
      "text/plain": [
       "[1, 2, 3, 4, 5, 6]"
      ]
     },
     "execution_count": 16,
     "metadata": {},
     "output_type": "execute_result"
    }
   ],
   "source": [
    "[1,2,3] + [4,5,6]"
   ]
  },
  {
   "cell_type": "code",
   "execution_count": null,
   "id": "93c2a6ee-35ea-4c32-8b22-025674881236",
   "metadata": {},
   "outputs": [],
   "source": [
    "# In \"Fraction\" class which we made in OOP-1, '+' is an example of Operator overloading"
   ]
  }
 ],
 "metadata": {
  "kernelspec": {
   "display_name": "Python 3 (ipykernel)",
   "language": "python",
   "name": "python3"
  },
  "language_info": {
   "codemirror_mode": {
    "name": "ipython",
    "version": 3
   },
   "file_extension": ".py",
   "mimetype": "text/x-python",
   "name": "python",
   "nbconvert_exporter": "python",
   "pygments_lexer": "ipython3",
   "version": "3.12.1"
  }
 },
 "nbformat": 4,
 "nbformat_minor": 5
}
