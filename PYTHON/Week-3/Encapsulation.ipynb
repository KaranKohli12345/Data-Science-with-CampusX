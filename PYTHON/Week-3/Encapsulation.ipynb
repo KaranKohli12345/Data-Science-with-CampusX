{
 "cells": [
  {
   "cell_type": "code",
   "execution_count": 2,
   "id": "488d62ed-e706-4ff1-bbb4-ea472aad6e3e",
   "metadata": {},
   "outputs": [],
   "source": [
    "# instance variable --> for different objects value is different\n",
    "\n",
    "class Person:\n",
    "\n",
    "  def __init__(self,name_input,country_input):\n",
    "    self.name = name_input\n",
    "    self.country = country_input\n",
    "\n",
    "p1 = Person('nitish','india')\n",
    "p2 = Person('steve','australia')"
   ]
  },
  {
   "cell_type": "code",
   "execution_count": 3,
   "id": "72291965-7486-4150-ba56-2034b0421310",
   "metadata": {},
   "outputs": [
    {
     "data": {
      "text/plain": [
       "'nitish'"
      ]
     },
     "execution_count": 3,
     "metadata": {},
     "output_type": "execute_result"
    }
   ],
   "source": [
    "p1.name"
   ]
  },
  {
   "cell_type": "code",
   "execution_count": 5,
   "id": "b6232d92-60cc-4d76-b354-1006e2b94058",
   "metadata": {},
   "outputs": [
    {
     "data": {
      "text/plain": [
       "'india'"
      ]
     },
     "execution_count": 5,
     "metadata": {},
     "output_type": "execute_result"
    }
   ],
   "source": [
    "p1.country"
   ]
  },
  {
   "cell_type": "code",
   "execution_count": 4,
   "id": "227491c2-d3c7-4b84-9a28-696b3be61940",
   "metadata": {},
   "outputs": [
    {
     "data": {
      "text/plain": [
       "'steve'"
      ]
     },
     "execution_count": 4,
     "metadata": {},
     "output_type": "execute_result"
    }
   ],
   "source": [
    "p2.name"
   ]
  },
  {
   "cell_type": "code",
   "execution_count": 7,
   "id": "b43f1c4a-d3c7-48e9-9936-8dcefc43635d",
   "metadata": {},
   "outputs": [
    {
     "data": {
      "text/plain": [
       "'australia'"
      ]
     },
     "execution_count": 7,
     "metadata": {},
     "output_type": "execute_result"
    }
   ],
   "source": [
    "p2.country"
   ]
  },
  {
   "cell_type": "markdown",
   "id": "6ec9ed50-8e87-44ea-9eab-e0cad009e1f1",
   "metadata": {},
   "source": [
    "## Encapsulation"
   ]
  },
  {
   "cell_type": "code",
   "execution_count": 13,
   "id": "05f4d54c-dc4e-4c2e-9381-68e3fb09bd54",
   "metadata": {},
   "outputs": [],
   "source": [
    "class ATM:\n",
    "\n",
    "    def __init__(self):\n",
    "        self.pin = ''\n",
    "        self.__balance = 0 \n",
    "        # self.menu()\n",
    "\n",
    "    # For every private variable there is a pair of getter and setter\n",
    "    \n",
    "    # getter method\n",
    "    def get_balance(self):\n",
    "        return self.__balance\n",
    "\n",
    "    # setter method\n",
    "    def set_balance(self, new_value):\n",
    "        if type(new_value) == int:\n",
    "            self.__balance = new_value\n",
    "        else:\n",
    "            print('nahi')\n",
    "            \n",
    "    def __menu(self):\n",
    "        user_input = input('''\n",
    "        Hi! how can I help You?\n",
    "        1. Press 1 to create PIN\n",
    "        2. Press 2 to change PIN\n",
    "        3. Press 3 to check balance\n",
    "        4. Press 4 to withdraw money\n",
    "        5. Press any other number to exit\n",
    "        ''')\n",
    "\n",
    "        if user_input == '1':\n",
    "            self.create_pin()\n",
    "        elif user_input == '2':\n",
    "            self.change_pin()\n",
    "        elif user_input == '3':\n",
    "            self.check_balance()\n",
    "        elif user_input == '4':\n",
    "            self.withdraw_money()\n",
    "        else:\n",
    "            exit()\n",
    "\n",
    "    def create_pin(self):\n",
    "        user_pin = input('Enter your pin: ')\n",
    "        self.pin = user_pin\n",
    "\n",
    "        user_balance = int(input('Enter balance: '))\n",
    "        self.__balance = user_balance\n",
    "\n",
    "        print('PIN created successfully')\n",
    "        # self.menu()\n",
    "\n",
    "    def change_pin(self):\n",
    "        old_pin = input('Enter old PIN: ')\n",
    "        if old_pin == self.pin:\n",
    "            new_pin = input('Enter new PIN: ')\n",
    "            self.pin = new_pin\n",
    "            print('PIN changes succesfully')\n",
    "        else:\n",
    "            print('Nahi karne dunga.')\n",
    "        self.menu()    \n",
    "\n",
    "    def check_balance(self):\n",
    "        user_pin = input('Enter you PIN: ')\n",
    "        if self.pin == user_pin:\n",
    "            print('Your balance is: ', self.__balance)\n",
    "        else:\n",
    "            print('Chal nikal yaha se')\n",
    "        self.menu()\n",
    "\n",
    "    def withdraw_money(self):\n",
    "        user_pin = input('Enter you PIN: ')\n",
    "        if self.pin == user_pin:\n",
    "            amount = int(input('Enter amount: '))\n",
    "            if amount <= self.__balance:\n",
    "                self.__balance -= amount\n",
    "                print('Withdrawl successfully')\n",
    "                print('Your balance is: ', self.__balance)\n",
    "            else:\n",
    "                print('bhai paisa dalwa le')\n",
    "        else:\n",
    "            print('nahi dunga paisa')\n",
    "        # self.menu()"
   ]
  },
  {
   "cell_type": "code",
   "execution_count": 14,
   "id": "650aeeb3-abec-4dce-975c-88a4e93adb2b",
   "metadata": {},
   "outputs": [],
   "source": [
    "obj = ATM()"
   ]
  },
  {
   "cell_type": "code",
   "execution_count": 10,
   "id": "724b5de2-6c17-45cc-a784-6d1432ce0f12",
   "metadata": {},
   "outputs": [
    {
     "name": "stdin",
     "output_type": "stream",
     "text": [
      "Enter your pin:  1234\n",
      "Enter balance:  10000\n"
     ]
    },
    {
     "name": "stdout",
     "output_type": "stream",
     "text": [
      "PIN created successfully\n"
     ]
    }
   ],
   "source": [
    "obj.create_pin()\n",
    "# obj.balance = 'hehehe'\n",
    "# obj.__balance = 'hehehe'\n",
    "obj._ATM__balance = 'hehehe'"
   ]
  },
  {
   "cell_type": "code",
   "execution_count": null,
   "id": "d09fa5d0-37db-40cc-9770-244db22e1ed1",
   "metadata": {},
   "outputs": [],
   "source": [
    "# when writing obj.__balance = 'hehehe' it creates a new variable named __balance and has value 'hehehe' \n",
    "# but it does not mean balance variable is changed"
   ]
  },
  {
   "cell_type": "code",
   "execution_count": 29,
   "id": "d4e1132d-a5bb-4d5b-a114-a2b76c37d4ee",
   "metadata": {},
   "outputs": [],
   "source": [
    "# Inside memory __balance changes to _ATM__balance and __balance does not exist."
   ]
  },
  {
   "cell_type": "code",
   "execution_count": 11,
   "id": "fedf40bf-8f4a-4c4d-b643-63c09fe4aeec",
   "metadata": {},
   "outputs": [
    {
     "name": "stdin",
     "output_type": "stream",
     "text": [
      "Enter you PIN:  1234\n",
      "Enter amount:  1\n"
     ]
    },
    {
     "ename": "TypeError",
     "evalue": "'<=' not supported between instances of 'int' and 'str'",
     "output_type": "error",
     "traceback": [
      "\u001b[1;31m---------------------------------------------------------------------------\u001b[0m",
      "\u001b[1;31mTypeError\u001b[0m                                 Traceback (most recent call last)",
      "Cell \u001b[1;32mIn[11], line 1\u001b[0m\n\u001b[1;32m----> 1\u001b[0m \u001b[43mobj\u001b[49m\u001b[38;5;241;43m.\u001b[39;49m\u001b[43mwithdraw_money\u001b[49m\u001b[43m(\u001b[49m\u001b[43m)\u001b[49m\n",
      "Cell \u001b[1;32mIn[8], line 72\u001b[0m, in \u001b[0;36mATM.withdraw_money\u001b[1;34m(self)\u001b[0m\n\u001b[0;32m     70\u001b[0m \u001b[38;5;28;01mif\u001b[39;00m \u001b[38;5;28mself\u001b[39m\u001b[38;5;241m.\u001b[39mpin \u001b[38;5;241m==\u001b[39m user_pin:\n\u001b[0;32m     71\u001b[0m     amount \u001b[38;5;241m=\u001b[39m \u001b[38;5;28mint\u001b[39m(\u001b[38;5;28minput\u001b[39m(\u001b[38;5;124m'\u001b[39m\u001b[38;5;124mEnter amount: \u001b[39m\u001b[38;5;124m'\u001b[39m))\n\u001b[1;32m---> 72\u001b[0m     \u001b[38;5;28;01mif\u001b[39;00m \u001b[43mamount\u001b[49m\u001b[43m \u001b[49m\u001b[38;5;241;43m<\u001b[39;49m\u001b[38;5;241;43m=\u001b[39;49m\u001b[43m \u001b[49m\u001b[38;5;28;43mself\u001b[39;49m\u001b[38;5;241;43m.\u001b[39;49m\u001b[43m__balance\u001b[49m:\n\u001b[0;32m     73\u001b[0m         \u001b[38;5;28mself\u001b[39m\u001b[38;5;241m.\u001b[39m__balance \u001b[38;5;241m-\u001b[39m\u001b[38;5;241m=\u001b[39m amount\n\u001b[0;32m     74\u001b[0m         \u001b[38;5;28mprint\u001b[39m(\u001b[38;5;124m'\u001b[39m\u001b[38;5;124mWithdrawl successfully\u001b[39m\u001b[38;5;124m'\u001b[39m)\n",
      "\u001b[1;31mTypeError\u001b[0m: '<=' not supported between instances of 'int' and 'str'"
     ]
    }
   ],
   "source": [
    "obj.withdraw_money()"
   ]
  },
  {
   "cell_type": "markdown",
   "id": "fc506fe4-8d5a-4266-939e-7d14ea7b8379",
   "metadata": {},
   "source": [
    "#### Always make your class variables private."
   ]
  },
  {
   "cell_type": "code",
   "execution_count": 12,
   "id": "4632c2a9-13b6-4cd8-b63a-7b497a032d6a",
   "metadata": {},
   "outputs": [],
   "source": [
    "# Nothing in python is truly private"
   ]
  },
  {
   "cell_type": "code",
   "execution_count": 15,
   "id": "170d2208-5632-4f18-b55b-d392dcc7f1b6",
   "metadata": {},
   "outputs": [],
   "source": [
    "obj2 = ATM()"
   ]
  },
  {
   "cell_type": "code",
   "execution_count": 16,
   "id": "ed3cd1b5-104c-4fd5-96b5-50e899d41316",
   "metadata": {},
   "outputs": [
    {
     "data": {
      "text/plain": [
       "0"
      ]
     },
     "execution_count": 16,
     "metadata": {},
     "output_type": "execute_result"
    }
   ],
   "source": [
    "obj2.get_balance()"
   ]
  },
  {
   "cell_type": "code",
   "execution_count": 17,
   "id": "b4b4c0a8-c4c7-43ed-bc15-5a1c2dbf5bb9",
   "metadata": {},
   "outputs": [],
   "source": [
    "obj2.set_balance(1000)"
   ]
  },
  {
   "cell_type": "code",
   "execution_count": 18,
   "id": "9776982f-048d-40d9-9ebf-7ac1ef52a707",
   "metadata": {},
   "outputs": [
    {
     "data": {
      "text/plain": [
       "1000"
      ]
     },
     "execution_count": 18,
     "metadata": {},
     "output_type": "execute_result"
    }
   ],
   "source": [
    "obj2.get_balance()"
   ]
  },
  {
   "cell_type": "code",
   "execution_count": 2,
   "id": "6a3ce932-6a80-4480-ba6e-ec4118ab1513",
   "metadata": {},
   "outputs": [],
   "source": [
    "obj3 = ATM()"
   ]
  },
  {
   "cell_type": "code",
   "execution_count": 3,
   "id": "2d52438c-988f-482e-ba73-6a84d7c0f5c3",
   "metadata": {},
   "outputs": [
    {
     "name": "stdin",
     "output_type": "stream",
     "text": [
      "Enter your pin:  1234\n",
      "Enter balance:  10000\n"
     ]
    },
    {
     "name": "stdout",
     "output_type": "stream",
     "text": [
      "PIN created successfully\n"
     ]
    }
   ],
   "source": [
    "obj3.create_pin()"
   ]
  },
  {
   "cell_type": "code",
   "execution_count": 44,
   "id": "fa68b18c-60f6-408a-840b-eec5a3b8c24d",
   "metadata": {},
   "outputs": [
    {
     "data": {
      "text/plain": [
       "10000"
      ]
     },
     "execution_count": 44,
     "metadata": {},
     "output_type": "execute_result"
    }
   ],
   "source": [
    "obj3.get_balance()"
   ]
  },
  {
   "cell_type": "code",
   "execution_count": 45,
   "id": "e47277f5-27c2-4240-8bf1-2e102dcddaf6",
   "metadata": {},
   "outputs": [],
   "source": [
    "obj3.set_balance('hehehe')"
   ]
  },
  {
   "cell_type": "code",
   "execution_count": 46,
   "id": "61c8f474-2862-48e2-9663-978ff5ffc37d",
   "metadata": {},
   "outputs": [
    {
     "data": {
      "text/plain": [
       "'hehehe'"
      ]
     },
     "execution_count": 46,
     "metadata": {},
     "output_type": "execute_result"
    }
   ],
   "source": [
    "obj3.get_balance()"
   ]
  },
  {
   "cell_type": "code",
   "execution_count": 47,
   "id": "ce78eb86-dc50-4d27-8369-e98f6a8008b1",
   "metadata": {},
   "outputs": [
    {
     "name": "stdin",
     "output_type": "stream",
     "text": [
      "Enter you PIN:  1234\n",
      "Enter amount:  2000\n"
     ]
    },
    {
     "ename": "TypeError",
     "evalue": "'<=' not supported between instances of 'int' and 'str'",
     "output_type": "error",
     "traceback": [
      "\u001b[1;31m---------------------------------------------------------------------------\u001b[0m",
      "\u001b[1;31mTypeError\u001b[0m                                 Traceback (most recent call last)",
      "Cell \u001b[1;32mIn[47], line 1\u001b[0m\n\u001b[1;32m----> 1\u001b[0m \u001b[43mobj3\u001b[49m\u001b[38;5;241;43m.\u001b[39;49m\u001b[43mwithdraw_money\u001b[49m\u001b[43m(\u001b[49m\u001b[43m)\u001b[49m\n",
      "Cell \u001b[1;32mIn[31], line 71\u001b[0m, in \u001b[0;36mATM.withdraw_money\u001b[1;34m(self)\u001b[0m\n\u001b[0;32m     69\u001b[0m \u001b[38;5;28;01mif\u001b[39;00m \u001b[38;5;28mself\u001b[39m\u001b[38;5;241m.\u001b[39mpin \u001b[38;5;241m==\u001b[39m user_pin:\n\u001b[0;32m     70\u001b[0m     amount \u001b[38;5;241m=\u001b[39m \u001b[38;5;28mint\u001b[39m(\u001b[38;5;28minput\u001b[39m(\u001b[38;5;124m'\u001b[39m\u001b[38;5;124mEnter amount: \u001b[39m\u001b[38;5;124m'\u001b[39m))\n\u001b[1;32m---> 71\u001b[0m     \u001b[38;5;28;01mif\u001b[39;00m \u001b[43mamount\u001b[49m\u001b[43m \u001b[49m\u001b[38;5;241;43m<\u001b[39;49m\u001b[38;5;241;43m=\u001b[39;49m\u001b[43m \u001b[49m\u001b[38;5;28;43mself\u001b[39;49m\u001b[38;5;241;43m.\u001b[39;49m\u001b[43m__balance\u001b[49m:\n\u001b[0;32m     72\u001b[0m         \u001b[38;5;28mself\u001b[39m\u001b[38;5;241m.\u001b[39m__balance \u001b[38;5;241m-\u001b[39m\u001b[38;5;241m=\u001b[39m amount\n\u001b[0;32m     73\u001b[0m         \u001b[38;5;28mprint\u001b[39m(\u001b[38;5;124m'\u001b[39m\u001b[38;5;124mWithdrawl successfully\u001b[39m\u001b[38;5;124m'\u001b[39m)\n",
      "\u001b[1;31mTypeError\u001b[0m: '<=' not supported between instances of 'int' and 'str'"
     ]
    }
   ],
   "source": [
    "obj3.withdraw_money()"
   ]
  },
  {
   "cell_type": "code",
   "execution_count": 5,
   "id": "caa0ac02-4a67-4670-92b8-0ba4533a9fc8",
   "metadata": {},
   "outputs": [],
   "source": [
    "obj4 = ATM()"
   ]
  },
  {
   "cell_type": "code",
   "execution_count": 6,
   "id": "b43d7b7e-9043-4a5a-a072-d6d5e237efef",
   "metadata": {},
   "outputs": [
    {
     "name": "stdin",
     "output_type": "stream",
     "text": [
      "Enter your pin:  1234\n",
      "Enter balance:  1000\n"
     ]
    },
    {
     "name": "stdout",
     "output_type": "stream",
     "text": [
      "PIN created successfully\n"
     ]
    }
   ],
   "source": [
    "obj4.create_pin()"
   ]
  },
  {
   "cell_type": "code",
   "execution_count": 8,
   "id": "f2647101-56dc-46d0-93f8-698ce3737f7c",
   "metadata": {},
   "outputs": [
    {
     "data": {
      "text/plain": [
       "1000"
      ]
     },
     "execution_count": 8,
     "metadata": {},
     "output_type": "execute_result"
    }
   ],
   "source": [
    "obj4.get_balance()"
   ]
  },
  {
   "cell_type": "code",
   "execution_count": 9,
   "id": "f85cef70-fc03-4353-9ab8-353daa39548c",
   "metadata": {},
   "outputs": [
    {
     "name": "stdout",
     "output_type": "stream",
     "text": [
      "nahi\n"
     ]
    }
   ],
   "source": [
    "obj4.set_balance('hehehe')"
   ]
  },
  {
   "cell_type": "code",
   "execution_count": 10,
   "id": "ca8474c8-fc63-4d00-ae66-f5a915c06633",
   "metadata": {},
   "outputs": [
    {
     "data": {
      "text/plain": [
       "1000"
      ]
     },
     "execution_count": 10,
     "metadata": {},
     "output_type": "execute_result"
    }
   ],
   "source": [
    "obj4.get_balance()"
   ]
  },
  {
   "cell_type": "code",
   "execution_count": 13,
   "id": "63b37fc7-d614-4cdb-8a46-4f849bcd8228",
   "metadata": {},
   "outputs": [],
   "source": [
    "obj4.set_balance(10000)"
   ]
  },
  {
   "cell_type": "code",
   "execution_count": 14,
   "id": "91a8a222-5ce6-46b2-b808-ed78c63fa616",
   "metadata": {},
   "outputs": [
    {
     "data": {
      "text/plain": [
       "10000"
      ]
     },
     "execution_count": 14,
     "metadata": {},
     "output_type": "execute_result"
    }
   ],
   "source": [
    "obj4.get_balance()"
   ]
  },
  {
   "cell_type": "markdown",
   "id": "bb8b8a81-2072-4d2c-840c-1c9f5d1e81c6",
   "metadata": {},
   "source": [
    "## Collection of objects"
   ]
  },
  {
   "cell_type": "code",
   "execution_count": 20,
   "id": "10d3375f-abdd-4d4b-ba3a-51a0d3c89f3d",
   "metadata": {},
   "outputs": [
    {
     "name": "stdout",
     "output_type": "stream",
     "text": [
      "nitish male\n",
      "ankit male\n",
      "ankita female\n"
     ]
    }
   ],
   "source": [
    "# list of objects\n",
    "\n",
    "class Person:\n",
    "\n",
    "  def __init__(self, name, gender):\n",
    "    self.name = name\n",
    "    self.gender = gender\n",
    "\n",
    "p1 = Person('nitish','male')\n",
    "p2 = Person('ankit','male')\n",
    "p3 = Person('ankita','female')\n",
    "\n",
    "L = [p1, p2, p3]\n",
    "\n",
    "# print(L)\n",
    "\n",
    "for i in L:\n",
    "    print(i.name, i.gender)"
   ]
  },
  {
   "cell_type": "code",
   "execution_count": 26,
   "id": "4d009317-c1d9-4d78-a424-3783c8bc2387",
   "metadata": {},
   "outputs": [
    {
     "name": "stdout",
     "output_type": "stream",
     "text": [
      "p1 <__main__.Person object at 0x000002AF3C9DEC30> nitish male\n",
      "p2 <__main__.Person object at 0x000002AF3C958D40> ankit male\n",
      "p3 <__main__.Person object at 0x000002AF3CDB1A60> ankita female\n"
     ]
    }
   ],
   "source": [
    "# dictionary of objects\n",
    "\n",
    "d = {'p1': p1, 'p2': p2, 'p3': p3}\n",
    "\n",
    "for i in d:\n",
    "    print(i, d[i], d[i].name, d[i].gender)"
   ]
  },
  {
   "cell_type": "markdown",
   "id": "dcb6dd5f-a9c9-41d3-aab6-dfb13998c022",
   "metadata": {},
   "source": [
    "## Static Variables (Vs Instance variables)"
   ]
  },
  {
   "cell_type": "code",
   "execution_count": 19,
   "id": "ba12af82-1be8-47ce-935b-9cd2f07bb223",
   "metadata": {},
   "outputs": [],
   "source": [
    "# need for static vars"
   ]
  },
  {
   "cell_type": "code",
   "execution_count": 67,
   "id": "e402e594-7bc4-4073-92cd-27cbfc886c6f",
   "metadata": {},
   "outputs": [],
   "source": [
    "class ATM:\n",
    "\n",
    "    # static var\n",
    "    __counter = 1\n",
    "\n",
    "    def __init__(self):\n",
    "        self.pin = ''\n",
    "        self.__balance = 0  \n",
    "\n",
    "        # instance var\n",
    "        # self.cid = 0\n",
    "        # self.cid += 1\n",
    "\n",
    "       \n",
    "        self.cid = ATM.__counter\n",
    "        ATM.__counter += 1\n",
    "        # self.menu()\n",
    "\n",
    "    # getter and setter methods for static variables:\n",
    "    # utility methods: we can call these methods even without creating an object.\n",
    "    @staticmethod # --> decorator \n",
    "    def get_counter():\n",
    "        return ATM.__counter\n",
    "        \n",
    "    # def set_counter():\n",
    "    #     return ATM.__counter\n",
    "\n",
    "    \n",
    "    # getter and setter methods for instance variables:\n",
    "    # getter method\n",
    "    def get_balance(self):\n",
    "        return self.__balance\n",
    "\n",
    "    # setter method\n",
    "    def set_balance(self, new_value):\n",
    "        if type(new_value) == int:\n",
    "            self.__balance = new_value\n",
    "        else:\n",
    "            print('nahi')\n",
    "        # self.__balance = new_value\n",
    "            \n",
    "    def __menu(self):\n",
    "        user_input = input('''\n",
    "        Hi! how can I help You?\n",
    "        1. Press 1 to create PIN\n",
    "        2. Press 2 to change PIN\n",
    "        3. Press 3 to check balance\n",
    "        4. Press 4 to withdraw money\n",
    "        5. Press any other number to exit\n",
    "        ''')\n",
    "\n",
    "        if user_input == '1':\n",
    "            self.create_pin()\n",
    "        elif user_input == '2':\n",
    "            self.change_pin()\n",
    "        elif user_input == '3':\n",
    "            self.check_balance()\n",
    "        elif user_input == '4':\n",
    "            self.withdraw_money()\n",
    "        else:\n",
    "            exit()\n",
    "\n",
    "    def create_pin(self):\n",
    "        user_pin = input('Enter your pin: ')\n",
    "        self.pin = user_pin\n",
    "\n",
    "        user_balance = int(input('Enter balance: '))\n",
    "        self.__balance = user_balance\n",
    "\n",
    "        print('PIN created successfully')\n",
    "        # self.menu()\n",
    "\n",
    "    def change_pin(self):\n",
    "        old_pin = input('Enter old PIN: ')\n",
    "        if old_pin == self.pin:\n",
    "            new_pin = input('Enter new PIN: ')\n",
    "            self.pin = new_pin\n",
    "            print('PIN changes succesfully')\n",
    "        else:\n",
    "            print('Nahi karne dunga.')\n",
    "        self.menu()    \n",
    "\n",
    "    def check_balance(self):\n",
    "        user_pin = input('Enter you PIN: ')\n",
    "        if self.pin == user_pin:\n",
    "            print('Your balance is: ', self.__balance)\n",
    "        else:\n",
    "            print('Chal nikal yaha se')\n",
    "        self.menu()\n",
    "\n",
    "    def withdraw_money(self):\n",
    "        user_pin = input('Enter you PIN: ')\n",
    "        if self.pin == user_pin:\n",
    "            amount = int(input('Enter amount: '))\n",
    "            if amount <= self.__balance:\n",
    "                self.__balance -= amount\n",
    "                print('Withdrawl successfully')\n",
    "                print('Your balance is: ', self.__balance)\n",
    "            else:\n",
    "                print('bhai paisa dalwa le')\n",
    "        else:\n",
    "            print('nahi dunga paisa')\n",
    "        # self.menu()"
   ]
  },
  {
   "cell_type": "code",
   "execution_count": null,
   "id": "758a246e-0d8d-4f08-ba9d-00a9aac5daa0",
   "metadata": {},
   "outputs": [],
   "source": [
    "# Instance var"
   ]
  },
  {
   "cell_type": "code",
   "execution_count": 64,
   "id": "5c3abde3-449c-45e5-ba23-2853a9677c14",
   "metadata": {},
   "outputs": [],
   "source": [
    "c1 = ATM()\n",
    "c2 = ATM()\n",
    "c3 = ATM()"
   ]
  },
  {
   "cell_type": "code",
   "execution_count": 22,
   "id": "09946194-464d-4ef7-9f87-f0150d2a5274",
   "metadata": {},
   "outputs": [
    {
     "data": {
      "text/plain": [
       "1"
      ]
     },
     "execution_count": 22,
     "metadata": {},
     "output_type": "execute_result"
    }
   ],
   "source": [
    "c1.cid"
   ]
  },
  {
   "cell_type": "code",
   "execution_count": 23,
   "id": "e207a258-c0d1-4716-aace-796e28ac85a9",
   "metadata": {},
   "outputs": [
    {
     "data": {
      "text/plain": [
       "1"
      ]
     },
     "execution_count": 23,
     "metadata": {},
     "output_type": "execute_result"
    }
   ],
   "source": [
    "c2.cid"
   ]
  },
  {
   "cell_type": "code",
   "execution_count": 24,
   "id": "a374dae9-b57d-435f-904d-343de02647c5",
   "metadata": {},
   "outputs": [
    {
     "data": {
      "text/plain": [
       "1"
      ]
     },
     "execution_count": 24,
     "metadata": {},
     "output_type": "execute_result"
    }
   ],
   "source": [
    "c3.cid"
   ]
  },
  {
   "cell_type": "code",
   "execution_count": 25,
   "id": "d470819c-c6b2-49f6-bbea-6b71a0358dbe",
   "metadata": {},
   "outputs": [],
   "source": [
    " # static var"
   ]
  },
  {
   "cell_type": "code",
   "execution_count": 59,
   "id": "e4672f17-81c1-47cb-bbd9-9aaecc4b49b2",
   "metadata": {},
   "outputs": [],
   "source": [
    "c1 = ATM()\n",
    "c2 = ATM()\n",
    "c3 = ATM()"
   ]
  },
  {
   "cell_type": "code",
   "execution_count": 32,
   "id": "27e69eb3-30c9-4e7f-8e2b-df0e1e24fbcb",
   "metadata": {},
   "outputs": [
    {
     "data": {
      "text/plain": [
       "1"
      ]
     },
     "execution_count": 32,
     "metadata": {},
     "output_type": "execute_result"
    }
   ],
   "source": [
    "c1.cid"
   ]
  },
  {
   "cell_type": "code",
   "execution_count": 33,
   "id": "eecb3285-3ef5-4a2f-ad3a-f6b178cb9ac2",
   "metadata": {},
   "outputs": [
    {
     "data": {
      "text/plain": [
       "2"
      ]
     },
     "execution_count": 33,
     "metadata": {},
     "output_type": "execute_result"
    }
   ],
   "source": [
    "c2.cid"
   ]
  },
  {
   "cell_type": "code",
   "execution_count": 34,
   "id": "541f7cad-90a0-4598-8f99-46a4d3a82a8d",
   "metadata": {},
   "outputs": [
    {
     "data": {
      "text/plain": [
       "3"
      ]
     },
     "execution_count": 34,
     "metadata": {},
     "output_type": "execute_result"
    }
   ],
   "source": [
    "c3.cid"
   ]
  },
  {
   "cell_type": "code",
   "execution_count": 36,
   "id": "5c177eb9-b5e2-44e4-afbe-5e61739d6c21",
   "metadata": {},
   "outputs": [
    {
     "ename": "AttributeError",
     "evalue": "type object 'ATM' has no attribute 'counter'",
     "output_type": "error",
     "traceback": [
      "\u001b[1;31m---------------------------------------------------------------------------\u001b[0m",
      "\u001b[1;31mAttributeError\u001b[0m                            Traceback (most recent call last)",
      "Cell \u001b[1;32mIn[36], line 1\u001b[0m\n\u001b[1;32m----> 1\u001b[0m \u001b[43mATM\u001b[49m\u001b[38;5;241;43m.\u001b[39;49m\u001b[43mcounter\u001b[49m\n",
      "\u001b[1;31mAttributeError\u001b[0m: type object 'ATM' has no attribute 'counter'"
     ]
    }
   ],
   "source": [
    "ATM.counter"
   ]
  },
  {
   "cell_type": "code",
   "execution_count": 37,
   "id": "e7026bb8-091d-415e-a724-449e3cdb4e27",
   "metadata": {},
   "outputs": [
    {
     "name": "stdout",
     "output_type": "stream",
     "text": [
      "hehehe\n"
     ]
    }
   ],
   "source": [
    "ATM.counter = 'hehehe'\n",
    "\n",
    "print(ATM.counter)"
   ]
  },
  {
   "cell_type": "markdown",
   "id": "4010604f-af69-4260-976b-acd5eb087acd",
   "metadata": {},
   "source": [
    "- instance var --> object ka var\n",
    "- static var --> class ka var\n",
    "\n",
    "- instance variable ka value har object ke liye different and static variable ka value har object ke liye same"
   ]
  },
  {
   "cell_type": "code",
   "execution_count": 38,
   "id": "c663f9b9-c530-4e03-8f58-18be38bf355a",
   "metadata": {},
   "outputs": [
    {
     "data": {
      "text/plain": [
       "'hehehe'"
      ]
     },
     "execution_count": 38,
     "metadata": {},
     "output_type": "execute_result"
    }
   ],
   "source": [
    "ATM.counter"
   ]
  },
  {
   "cell_type": "code",
   "execution_count": 61,
   "id": "1e7e78b5-77c2-4cdd-a8ab-1ff462dc1a69",
   "metadata": {},
   "outputs": [],
   "source": [
    "# c1.get_counter()"
   ]
  },
  {
   "cell_type": "code",
   "execution_count": 72,
   "id": "8d13beda-3266-41bb-bc5f-9b0381ff3f4b",
   "metadata": {},
   "outputs": [],
   "source": [
    "# c1.get_counter() --> if self is there in getter method"
   ]
  },
  {
   "cell_type": "code",
   "execution_count": 65,
   "id": "40d134ca-e1b3-4db8-a7a5-dfef17a69889",
   "metadata": {},
   "outputs": [
    {
     "data": {
      "text/plain": [
       "4"
      ]
     },
     "execution_count": 65,
     "metadata": {},
     "output_type": "execute_result"
    }
   ],
   "source": [
    "ATM.get_counter()"
   ]
  },
  {
   "cell_type": "markdown",
   "id": "3320d493-2a50-4ea8-bc3f-6f6f0d8cd42a",
   "metadata": {},
   "source": [
    "Methods two types:\n",
    "\n",
    "- Normal methods: accessed without creating an object\n",
    "- static methods: accessed by creating an object"
   ]
  },
  {
   "cell_type": "code",
   "execution_count": null,
   "id": "92b057b2-efaa-4b8d-903b-5196f6018a2d",
   "metadata": {},
   "outputs": [],
   "source": []
  }
 ],
 "metadata": {
  "kernelspec": {
   "display_name": "Python 3 (ipykernel)",
   "language": "python",
   "name": "python3"
  },
  "language_info": {
   "codemirror_mode": {
    "name": "ipython",
    "version": 3
   },
   "file_extension": ".py",
   "mimetype": "text/x-python",
   "name": "python",
   "nbconvert_exporter": "python",
   "pygments_lexer": "ipython3",
   "version": "3.12.1"
  }
 },
 "nbformat": 4,
 "nbformat_minor": 5
}
