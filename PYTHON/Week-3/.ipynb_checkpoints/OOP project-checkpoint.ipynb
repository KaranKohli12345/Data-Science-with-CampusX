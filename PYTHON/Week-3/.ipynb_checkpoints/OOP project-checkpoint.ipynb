{
 "cells": [
  {
   "cell_type": "code",
   "execution_count": null,
   "id": "f356d952-17a3-48ba-b8fc-5be26c3f28b7",
   "metadata": {},
   "outputs": [],
   "source": [
    "# NER (entity extraction)\n",
    "# Language Detection\n",
    "# Sentiment / Emotion Analysis"
   ]
  },
  {
   "cell_type": "code",
   "execution_count": 1,
   "id": "9756ca8f-9632-4e1c-bb99-f509a4df8f05",
   "metadata": {},
   "outputs": [
    {
     "name": "stdout",
     "output_type": "stream",
     "text": [
      "Requirement already satisfied: nlpcloud in c:\\users\\dell\\appdata\\local\\programs\\python\\python312\\lib\\site-packages (1.1.46)\n",
      "Requirement already satisfied: requests in c:\\users\\dell\\appdata\\roaming\\python\\python312\\site-packages (from nlpcloud) (2.31.0)\n",
      "Requirement already satisfied: charset-normalizer<4,>=2 in c:\\users\\dell\\appdata\\roaming\\python\\python312\\site-packages (from requests->nlpcloud) (3.3.2)\n",
      "Requirement already satisfied: idna<4,>=2.5 in c:\\users\\dell\\appdata\\roaming\\python\\python312\\site-packages (from requests->nlpcloud) (3.6)\n",
      "Requirement already satisfied: urllib3<3,>=1.21.1 in c:\\users\\dell\\appdata\\roaming\\python\\python312\\site-packages (from requests->nlpcloud) (2.1.0)\n",
      "Requirement already satisfied: certifi>=2017.4.17 in c:\\users\\dell\\appdata\\roaming\\python\\python312\\site-packages (from requests->nlpcloud) (2023.11.17)\n",
      "Note: you may need to restart the kernel to use updated packages.\n"
     ]
    },
    {
     "name": "stderr",
     "output_type": "stream",
     "text": [
      "\n",
      "[notice] A new release of pip is available: 24.0 -> 24.1.2\n",
      "[notice] To update, run: python.exe -m pip install --upgrade pip\n"
     ]
    }
   ],
   "source": [
    "pip install nlpcloud"
   ]
  },
  {
   "cell_type": "code",
   "execution_count": 11,
   "id": "8b821d58-8dcf-49c6-a6da-ff54fa328b61",
   "metadata": {},
   "outputs": [
    {
     "name": "stdout",
     "output_type": "stream",
     "text": [
      "Collecting textblobNote: you may need to restart the kernel to use updated packages.\n",
      "\n",
      "  Downloading textblob-0.18.0.post0-py3-none-any.whl.metadata (4.5 kB)\n",
      "Requirement already satisfied: nltk>=3.8 in c:\\users\\dell\\appdata\\local\\programs\\python\\python312\\lib\\site-packages (from textblob) (3.8.1)\n",
      "Requirement already satisfied: click in c:\\users\\dell\\appdata\\roaming\\python\\python312\\site-packages (from nltk>=3.8->textblob) (8.1.7)\n",
      "Requirement already satisfied: joblib in c:\\users\\dell\\appdata\\local\\programs\\python\\python312\\lib\\site-packages (from nltk>=3.8->textblob) (1.3.2)\n",
      "Requirement already satisfied: regex>=2021.8.3 in c:\\users\\dell\\appdata\\local\\programs\\python\\python312\\lib\\site-packages (from nltk>=3.8->textblob) (2023.12.25)\n",
      "Requirement already satisfied: tqdm in c:\\users\\dell\\appdata\\roaming\\python\\python312\\site-packages (from nltk>=3.8->textblob) (4.66.1)\n",
      "Requirement already satisfied: colorama in c:\\users\\dell\\appdata\\roaming\\python\\python312\\site-packages (from click->nltk>=3.8->textblob) (0.4.6)\n",
      "Downloading textblob-0.18.0.post0-py3-none-any.whl (626 kB)\n",
      "   ---------------------------------------- 0.0/626.3 kB ? eta -:--:--\n",
      "   ---------------------------------------- 0.0/626.3 kB ? eta -:--:--\n",
      "    --------------------------------------- 10.2/626.3 kB ? eta -:--:--\n",
      "   -- ------------------------------------ 41.0/626.3 kB 393.8 kB/s eta 0:00:02\n",
      "   --- ----------------------------------- 61.4/626.3 kB 469.7 kB/s eta 0:00:02\n",
      "   ------- ------------------------------ 122.9/626.3 kB 654.9 kB/s eta 0:00:01\n",
      "   ------- ------------------------------ 122.9/626.3 kB 654.9 kB/s eta 0:00:01\n",
      "   ------------ ------------------------- 204.8/626.3 kB 692.4 kB/s eta 0:00:01\n",
      "   ------------ ------------------------- 204.8/626.3 kB 692.4 kB/s eta 0:00:01\n",
      "   ------------ ------------------------- 204.8/626.3 kB 692.4 kB/s eta 0:00:01\n",
      "   --------------- ---------------------- 256.0/626.3 kB 628.5 kB/s eta 0:00:01\n",
      "   --------------- ---------------------- 256.0/626.3 kB 628.5 kB/s eta 0:00:01\n",
      "   --------------- ---------------------- 256.0/626.3 kB 628.5 kB/s eta 0:00:01\n",
      "   ------------------- ------------------ 317.4/626.3 kB 517.2 kB/s eta 0:00:01\n",
      "   ------------------- ------------------ 317.4/626.3 kB 517.2 kB/s eta 0:00:01\n",
      "   -------------------- ----------------- 337.9/626.3 kB 511.2 kB/s eta 0:00:01\n",
      "   -------------------- ----------------- 337.9/626.3 kB 511.2 kB/s eta 0:00:01\n",
      "   ------------------------ ------------- 399.4/626.3 kB 530.1 kB/s eta 0:00:01\n",
      "   -------------------------- ----------- 430.1/626.3 kB 526.8 kB/s eta 0:00:01\n",
      "   --------------------------- ---------- 450.6/626.3 kB 512.6 kB/s eta 0:00:01\n",
      "   --------------------------- ---------- 450.6/626.3 kB 512.6 kB/s eta 0:00:01\n",
      "   ------------------------------ ------- 501.8/626.3 kB 524.6 kB/s eta 0:00:01\n",
      "   -------------------------------- ----- 532.5/626.3 kB 522.2 kB/s eta 0:00:01\n",
      "   -------------------------------- ----- 532.5/626.3 kB 522.2 kB/s eta 0:00:01\n",
      "   --------------------------------- ---- 553.0/626.3 kB 511.0 kB/s eta 0:00:01\n",
      "   -------------------------------------  614.4/626.3 kB 522.6 kB/s eta 0:00:01\n",
      "   -------------------------------------  624.6/626.3 kB 517.6 kB/s eta 0:00:01\n",
      "   -------------------------------------- 626.3/626.3 kB 512.1 kB/s eta 0:00:00\n",
      "Installing collected packages: textblob\n",
      "Successfully installed textblob-0.18.0.post0\n"
     ]
    },
    {
     "name": "stderr",
     "output_type": "stream",
     "text": [
      "\n",
      "[notice] A new release of pip is available: 24.0 -> 24.1.2\n",
      "[notice] To update, run: python.exe -m pip install --upgrade pip\n"
     ]
    }
   ],
   "source": [
    "pip install textblob"
   ]
  },
  {
   "cell_type": "code",
   "execution_count": 3,
   "id": "46cc62fc-e83f-4c5c-97fb-05dcc54c7c6d",
   "metadata": {},
   "outputs": [
    {
     "data": {
      "text/plain": [
       "{'entities': [{'start': 26,\n",
       "   'end': 36,\n",
       "   'type': 'programming languages',\n",
       "   'text': 'Javascript'},\n",
       "  {'start': 102,\n",
       "   'end': 108,\n",
       "   'type': 'programming languages',\n",
       "   'text': 'Python'},\n",
       "  {'start': 165, 'end': 167, 'type': 'programming languages', 'text': 'Go'}]}"
      ]
     },
     "execution_count": 3,
     "metadata": {},
     "output_type": "execute_result"
    }
   ],
   "source": [
    "import nlpcloud\n",
    "\n",
    "client = nlpcloud.Client(\"finetuned-gpt-neox-20b\", \"7e6fe564c0baa38b214a9eb574c3242d68bbe982\", gpu=True, lang=\"en\")\n",
    "client.entities(\"\"\"John Doe started learning Javascript when he was 15 years old. After a couple of years he switched to Python and starter learning low level programming. He is now a Go expert at Google.\"\"\", searched_entity=\"programming languages\")"
   ]
  },
  {
   "cell_type": "code",
   "execution_count": 50,
   "id": "f7a87846-a8ba-4c48-8dc4-e3cf4d8a1f07",
   "metadata": {},
   "outputs": [
    {
     "name": "stdin",
     "output_type": "stream",
     "text": [
      "\n",
      "        Hi! How would you like to proceed?\n",
      "        1. Not a member? Register\n",
      "        2. Already a member? Login\n",
      "        3. Galti se aa gaye? Exit\n",
      "         1\n",
      "Enter name:  1\n",
      "Enter email:  1\n",
      "Enter password:  1\n"
     ]
    },
    {
     "name": "stdout",
     "output_type": "stream",
     "text": [
      "{'1': ['1', '1']}\n",
      "Registration successful! Login?\n"
     ]
    },
    {
     "name": "stdin",
     "output_type": "stream",
     "text": [
      "Enter email:  1\n",
      "Enter password:  1\n"
     ]
    },
    {
     "name": "stdout",
     "output_type": "stream",
     "text": [
      "Login successful\n"
     ]
    },
    {
     "name": "stdin",
     "output_type": "stream",
     "text": [
      "\n",
      "        How would you like to proceed?\n",
      "        1. NER\n",
      "        2. Language detection\n",
      "        3. Sentiment analysis\n",
      "        4. Logout\n",
      "         3\n",
      "Enter text:  get lost. sorry i didn't mean to. good bye. \n"
     ]
    },
    {
     "name": "stdout",
     "output_type": "stream",
     "text": [
      "{'scored_labels': [{'label': 'sadness', 'score': 0.9927976727485657}, {'label': 'joy', 'score': 0.004508511163294315}, {'label': 'anger', 'score': 0.001542933750897646}, {'label': 'fear', 'score': 0.0005291641573421657}, {'label': 'love', 'score': 0.0004652183852158487}, {'label': 'surprise', 'score': 0.00015642672951798886}]}\n",
      "\n",
      "Emotion:  sadness\n"
     ]
    },
    {
     "name": "stdin",
     "output_type": "stream",
     "text": [
      "\n",
      "        How would you like to proceed?\n",
      "        1. NER\n",
      "        2. Language detection\n",
      "        3. Sentiment analysis\n",
      "        4. Logout\n",
      "         4\n",
      "\n",
      "        Hi! How would you like to proceed?\n",
      "        1. Not a member? Register\n",
      "        2. Already a member? Login\n",
      "        3. Galti se aa gaye? Exit\n",
      "         3\n"
     ]
    }
   ],
   "source": [
    "import nlpcloud\n",
    "\n",
    "class NLPApp:\n",
    "    \n",
    "    def __init__(self):\n",
    "        self.__database = {}\n",
    "        self.__first_menu()\n",
    "\n",
    "    def __first_menu(self):\n",
    "        first_input = input('''\n",
    "        Hi! How would you like to proceed?\n",
    "        1. Not a member? Register\n",
    "        2. Already a member? Login\n",
    "        3. Galti se aa gaye? Exit\n",
    "        ''')\n",
    "\n",
    "        if first_input == '1':\n",
    "            self.__register()\n",
    "        elif first_input == '2':\n",
    "            self.__login()\n",
    "        else:\n",
    "            exit()\n",
    "            \n",
    "    def __second_menu(self):\n",
    "        second_input = input('''\n",
    "        How would you like to proceed?\n",
    "        1. NER\n",
    "        2. Language detection\n",
    "        3. Sentiment analysis\n",
    "        4. Logout\n",
    "        ''')\n",
    "\n",
    "        if second_input == '1':\n",
    "            self.__ner()\n",
    "        elif second_input == '2':\n",
    "            self.__language_detection()\n",
    "        elif second_input == '3':\n",
    "            self.__sentiment_analysis()\n",
    "        else:\n",
    "            self.__first_menu()\n",
    "\n",
    "    def __register(self):\n",
    "        name = input('Enter name: ')\n",
    "        email = input('Enter email: ')\n",
    "        password = input('Enter password: ')\n",
    "\n",
    "        if email in self.__database:\n",
    "            print('Email already exists! Login?')\n",
    "            self.__login()\n",
    "        else:\n",
    "            self.__database[email] = [name, password]\n",
    "            print(self.__database)\n",
    "            print('Registration successful! Login?')\n",
    "            self.__login()\n",
    "        \n",
    "    def __login(self):\n",
    "        email = input('Enter email: ')\n",
    "        password = input('Enter password: ')\n",
    "\n",
    "        if email in self.__database:\n",
    "            if self.__database[email][1] == password:\n",
    "                print('Login successful')\n",
    "                self.__second_menu()\n",
    "            else:\n",
    "                print('Wrong password! Try again?')\n",
    "                self.__login()\n",
    "        else:\n",
    "            print('You are not registered! Regsiter?')\n",
    "            self.__register()\n",
    "\n",
    "    def __ner(self):\n",
    "        text = input('Enter text: ')\n",
    "        search_term = input('What would you like to search: ')\n",
    "\n",
    "        client = nlpcloud.Client(\"finetuned-gpt-neox-20b\", \"7e6fe564c0baa38b214a9eb574c3242d68bbe982\", gpu=True, lang=\"en\")\n",
    "        response = client.entities(text, searched_entity = search_term)\n",
    "\n",
    "        print(response)\n",
    "        self.__second_menu()\n",
    "\n",
    "    def __language_detection(self):\n",
    "        pass\n",
    "        \n",
    "    def __sentiment_analysis(self):\n",
    "        text = input('Enter text: ')\n",
    "        \n",
    "        client = nlpcloud.Client(\"distilbert-base-uncased-emotion\", \"7e6fe564c0baa38b214a9eb574c3242d68bbe982\", gpu=False)\n",
    "        response = client.sentiment(text)\n",
    "\n",
    "        print(response)\n",
    "        print()\n",
    "\n",
    "        l = []\n",
    "        for i in response['scored_labels']:\n",
    "            l.append(i['score'])\n",
    "        \n",
    "        emotion_index = sorted(list(enumerate(l)), key = lambda x:x[1], reverse = True)[0][0]\n",
    "    \n",
    "        emotion = response['scored_labels'][emotion_index]['label']\n",
    "        print('Emotion: ', emotion)\n",
    "\n",
    "        self.__second_menu()\n",
    "        \n",
    "obj = NLPApp()"
   ]
  },
  {
   "cell_type": "code",
   "execution_count": 41,
   "id": "61eaff7b-38c9-4034-8cb4-1441d8c0ae04",
   "metadata": {},
   "outputs": [],
   "source": [
    "d = {'scored_labels': [{'label': 'sadness', 'score': 0.9968385696411133}, \n",
    "                   {'label': 'anger', 'score': 0.0016130327712744474}, \n",
    "                   {'label': 'joy', 'score': 0.0009405319578945637}, \n",
    "                   {'label': 'fear', 'score': 0.00030305213294923306}, \n",
    "                   {'label': 'love', 'score': 0.00018892475054599345}, \n",
    "                   {'label': 'surprise', 'score': 0.00011588776396820322}]}"
   ]
  },
  {
   "cell_type": "code",
   "execution_count": 42,
   "id": "342e73b3-d549-41a0-86d2-dedde74cc8d3",
   "metadata": {},
   "outputs": [
    {
     "data": {
      "text/plain": [
       "{'scored_labels': [{'label': 'sadness', 'score': 0.9968385696411133},\n",
       "  {'label': 'anger', 'score': 0.0016130327712744474},\n",
       "  {'label': 'joy', 'score': 0.0009405319578945637},\n",
       "  {'label': 'fear', 'score': 0.00030305213294923306},\n",
       "  {'label': 'love', 'score': 0.00018892475054599345},\n",
       "  {'label': 'surprise', 'score': 0.00011588776396820322}]}"
      ]
     },
     "execution_count": 42,
     "metadata": {},
     "output_type": "execute_result"
    }
   ],
   "source": [
    "d"
   ]
  },
  {
   "cell_type": "code",
   "execution_count": 43,
   "id": "15d2fdc0-385c-41c8-9dde-334b339ac92e",
   "metadata": {},
   "outputs": [
    {
     "data": {
      "text/plain": [
       "[{'label': 'sadness', 'score': 0.9968385696411133},\n",
       " {'label': 'anger', 'score': 0.0016130327712744474},\n",
       " {'label': 'joy', 'score': 0.0009405319578945637},\n",
       " {'label': 'fear', 'score': 0.00030305213294923306},\n",
       " {'label': 'love', 'score': 0.00018892475054599345},\n",
       " {'label': 'surprise', 'score': 0.00011588776396820322}]"
      ]
     },
     "execution_count": 43,
     "metadata": {},
     "output_type": "execute_result"
    }
   ],
   "source": [
    "d['scored_labels']"
   ]
  },
  {
   "cell_type": "code",
   "execution_count": 45,
   "id": "488929ae-a3b9-4377-ba3d-ca5471438531",
   "metadata": {},
   "outputs": [
    {
     "name": "stdout",
     "output_type": "stream",
     "text": [
      "Emotion:  sadness\n"
     ]
    }
   ],
   "source": [
    "l = []\n",
    "for i in d['scored_labels']:\n",
    "    l.append(i['score'])\n",
    "\n",
    "emotion_index = sorted(list(enumerate(l)), key = lambda x:x[1], reverse = True)[0][0]\n",
    "\n",
    "emotion = d['scored_labels'][emotion_index]['label']\n",
    "print('Emotion: ', emotion)"
   ]
  },
  {
   "cell_type": "code",
   "execution_count": null,
   "id": "f564681f-d61e-40fe-b4d6-1b482307711e",
   "metadata": {},
   "outputs": [],
   "source": []
  }
 ],
 "metadata": {
  "kernelspec": {
   "display_name": "Python 3 (ipykernel)",
   "language": "python",
   "name": "python3"
  },
  "language_info": {
   "codemirror_mode": {
    "name": "ipython",
    "version": 3
   },
   "file_extension": ".py",
   "mimetype": "text/x-python",
   "name": "python",
   "nbconvert_exporter": "python",
   "pygments_lexer": "ipython3",
   "version": "3.12.1"
  }
 },
 "nbformat": 4,
 "nbformat_minor": 5
}
