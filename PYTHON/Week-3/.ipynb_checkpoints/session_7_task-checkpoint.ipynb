{
 "cells": [
  {
   "cell_type": "markdown",
   "metadata": {
    "id": "FyUJ3PRAsPr4"
   },
   "source": [
    "## `Q-1:` Rectangle Class\n",
    "1. Write a Rectangle class in Python language, allowing you to build a rectangle with length and width attributes.\n",
    "\n",
    "2. Create a Perimeter() method to calculate the perimeter of the rectangle and a Area() method to calculate the area of ​​the rectangle.\n",
    "\n",
    "3. Create a method display() that display the length, width, perimeter and area of an object created using an instantiation on rectangle class."
   ]
  },
  {
   "cell_type": "markdown",
   "metadata": {
    "id": "GxUtOqJfssFK"
   },
   "source": [
    "Eg.\n",
    "After making above classes and methods, on executing below code:-\n",
    "```\n",
    "my_rectangle = Rectangle(3 , 4)\n",
    "my_rectangle.display()\n",
    "```\n",
    "\n",
    "`Output:`\n",
    "```\n",
    "The length of rectangle is:  3\n",
    "The width of rectangle is:  4\n",
    "The perimeter of rectangle is:  14\n",
    "The area of rectangle is:  12\n",
    "```\n"
   ]
  },
  {
   "cell_type": "code",
   "execution_count": 7,
   "metadata": {
    "id": "92_QT-Uj6NBg"
   },
   "outputs": [],
   "source": [
    "class Rectangle:\n",
    "\n",
    "    def __init__(self, x, y):\n",
    "        self.__width = x\n",
    "        self.__length = y\n",
    "        \n",
    "    def __Perimeter(self):\n",
    "        return 2*(self.__width + self.__length)\n",
    "\n",
    "    def __Area(self):\n",
    "        return self.__width * self.__length\n",
    "\n",
    "    def display(self):\n",
    "        print('The length of rectangle is: ', self.__length)\n",
    "        print('The width of rectangle is: ', self.__width)\n",
    "        print('The perimeter of rectangle is: ', self.__Perimeter())\n",
    "        print('The area of rectangle is: ', self.__Area())"
   ]
  },
  {
   "cell_type": "code",
   "execution_count": 9,
   "metadata": {},
   "outputs": [
    {
     "name": "stdout",
     "output_type": "stream",
     "text": [
      "The length of rectangle is:  4\n",
      "The width of rectangle is:  3\n",
      "The perimeter of rectangle is:  14\n",
      "The area of rectangle is:  12\n"
     ]
    }
   ],
   "source": [
    "my_rectangle = Rectangle(3, 4)\n",
    "my_rectangle.display()"
   ]
  },
  {
   "cell_type": "markdown",
   "metadata": {
    "id": "r_GxrS0Vrdom"
   },
   "source": [
    "## `Q-2: Bank Class`\n",
    "\n",
    "1. Create a Python class called `BankAccount` which represents a bank account, having as attributes: `accountNumber` (numeric type), `name` (name of the account owner as string type), `balance`.\n",
    "2. Create a constructor with parameters: `accountNumber, name, balance`.\n",
    "3. Create a `Deposit()` method which manages the deposit actions.\n",
    "4. Create a `Withdrawal()` method  which manages withdrawals actions.\n",
    "5. Create an `bankFees()` method to apply the bank fees with a percentage of 5% of the balance account.\n",
    "6. Create a `display()` method to display account details.\n",
    "Give the complete code for the  BankAccount class."
   ]
  },
  {
   "cell_type": "markdown",
   "metadata": {
    "id": "qvVkOUJgvTV_"
   },
   "source": [
    "Eg.\n",
    "After making above classes and methods, on executing below code:-\n",
    "```\n",
    "newAccount = BankAccount(2178514584, \"Mandy\" , 2800)\n",
    "\n",
    "newAccount.Withdrawal(700)\n",
    "\n",
    "newAccount.Deposit(1000)\n",
    "\n",
    "newAccount.display()\n",
    "```\n",
    "\n",
    "`Output:`\n",
    "```\n",
    "Account Number :  2178514584\n",
    "Account Name :  Mandy\n",
    "Account Balance :  3100 ₹\n",
    "```"
   ]
  },
  {
   "cell_type": "code",
   "execution_count": 10,
   "metadata": {
    "id": "fUQOmQyA6YDR"
   },
   "outputs": [],
   "source": [
    "class BankAccount:\n",
    "\n",
    "    def __init__(self, a, b, c):\n",
    "        self.__accountNumber = a\n",
    "        self.__name = b\n",
    "        self.__balance = c\n",
    "\n",
    "    def Deposit(self, amount):\n",
    "        self.__balance += amount\n",
    "\n",
    "    def Withdrawal(self, amount):\n",
    "        if amount <= self.__balance:\n",
    "            self.__balance -= amount\n",
    "            deduction = self.__bankFees()\n",
    "            self.__balance -= deduction\n",
    "        else:\n",
    "            print('Withdrawal failed')\n",
    "\n",
    "    def __bankFees(self):\n",
    "        return 0.05*self.__balance\n",
    "\n",
    "    def display(self):\n",
    "        print('Account Number : ', self.__accountNumber)\n",
    "        print('Account Name : ', self.__name)\n",
    "        print('Account Balance : ₹', self.__balance)"
   ]
  },
  {
   "cell_type": "code",
   "execution_count": 11,
   "metadata": {},
   "outputs": [
    {
     "name": "stdout",
     "output_type": "stream",
     "text": [
      "Account Number :  2178514584\n",
      "Account Name :  Mandy\n",
      "Account Balance : ₹ 2995.0\n"
     ]
    }
   ],
   "source": [
    "newAccount = BankAccount(2178514584, \"Mandy\" , 2800)\n",
    "\n",
    "newAccount.Withdrawal(700)\n",
    "\n",
    "newAccount.Deposit(1000)\n",
    "\n",
    "newAccount.display()"
   ]
  },
  {
   "cell_type": "markdown",
   "metadata": {
    "id": "QovcQAZTrgGU"
   },
   "source": [
    "## `Q-3:Computation class`\n",
    "\n",
    "1. Create a `Computation` class with a default constructor (without parameters) allowing to perform various calculations on integers numbers.\n",
    "2. Create a method called `Factorial()` which allows to calculate the factorial of an integer n. Integer n as parameter for this method\n",
    "\n",
    "3. Create a method called `naturalSum()` allowing to calculate the sum of the first n integers 1 + 2 + 3 + .. + n. Integer n as parameter for this method.\n",
    "\n",
    "4. Create a method called `testPrime()` in  the Calculation class to test the primality of a given integer n, n is Prime or Not? Integer n as parameter for this method.\n",
    "\n",
    "5. Create  a method called `testPrims()` allowing to test if two numbers are prime between them. Two integers are prime to one another if they have only `1` as their common divisor. Eg. 4 and 9 are prime to each other.\n",
    "\n",
    "5. Create a `tableMult()` method which creates and displays the multiplication table of a given integer. Then create an `allTablesMult()` method to display all the integer multiplication tables 1, 2, 3, ..., 9.\n",
    "\n",
    "6. Create a static `listDiv()` method that gets all the divisors of a given integer on new list called  Ldiv. Create another `listDivPrim()` method that gets all the prime divisors of a given integer."
   ]
  },
  {
   "cell_type": "code",
   "execution_count": 1,
   "metadata": {
    "id": "YEkPH70l6Z-o"
   },
   "outputs": [],
   "source": [
    "class Computation:\n",
    "\n",
    "    def __init__(self):\n",
    "        pass\n",
    "\n",
    "    def Factorial(self, n):\n",
    "        fact = 1\n",
    "        if n>=0:\n",
    "            while n>0:\n",
    "                fact *= n\n",
    "                n -= 1\n",
    "            print(n,'! = ',fact)\n",
    "        else:\n",
    "            print('Invalid!')\n",
    "\n",
    "    def naturalSum(self, n):\n",
    "        sum1 = 0\n",
    "        if n>=0:\n",
    "            while n>0:\n",
    "                sum1 += n\n",
    "                n -= 1\n",
    "            print('Sum of', n, 'natural numbers: ', sum1)\n",
    "        else:\n",
    "            print('Invalid!')\n",
    "\n",
    "    def testPrime(self, n):\n",
    "        for i in range(2,n):\n",
    "            if n%i==0:\n",
    "                print('Not prime')\n",
    "                break\n",
    "        else:\n",
    "            print('Prime')\n",
    "\n",
    "    def testPrims(self, n1, n2):\n",
    "        pass\n",
    "        # test if two numbers are prime between them. \n",
    "        # Two integers are prime to one another if they have only 1 as their common divisor. \n",
    "        # Eg. 4 and 9 are prime to each other.\n",
    "\n",
    "    def tableMult(self, n):\n",
    "        pass\n",
    "        # Create a tableMult() method which creates and displays the multiplication table of a given integer.\n",
    "        # Then create an allTablesMult() method to display all the integer multiplication tables \n",
    "        # 1, 2, 3, ..., 9.\n",
    "\n",
    "    def allTablesMult():\n",
    "        pass\n",
    "        # Then create an allTablesMult() method to display all the integer \n",
    "        # multiplication tables 1, 2, 3, ..., 9.\n",
    "\n",
    "    def listDiv():\n",
    "        pass\n",
    "        # method that gets all the divisors of a given integer on new list called Ldiv.\n",
    "\n",
    "    def listDivPrim(self, n):\n",
    "        for i in range(2,n//2 + 1):\n",
    "            if self.testPrime(i):\n",
    "                print(i)"
   ]
  },
  {
   "cell_type": "code",
   "execution_count": 34,
   "metadata": {},
   "outputs": [
    {
     "name": "stdout",
     "output_type": "stream",
     "text": [
      "Prime\n"
     ]
    }
   ],
   "source": [
    "obj1 = Computation() \n",
    "obj1.testPrime(23)"
   ]
  },
  {
   "cell_type": "markdown",
   "metadata": {
    "id": "0yn23_oEriXa"
   },
   "source": [
    "## `Q-4`: Build flashcard using class in Python.\n",
    "\n",
    "Build a flashcard using class in python. A flashcard is a card having information on both sides, which can be used as an aid in memoization. Flashcards usually have a question on one side and an answer on the other.\n",
    "\n",
    "**Example 1:**\n",
    "\n",
    "Approach:\n",
    "\n",
    "- Create a class named FlashCard.\n",
    "- Initialize dictionary fruits using `__init__()` method. Here you have to define fruit name as key and it's color as value. E.g., {\"Banana\": \"yellow\", \"Strawberries\": \"pink\"}\n",
    "- Now randomly choose a pair from fruits by using _random_ module and store the key in variable _fruit_ and _value_ in variable color.\n",
    "- Now prompt the user to answer the color of the randomly chosen fruit.\n",
    "- If correct print correct else print wrong.\n",
    "\n",
    "Output:\n",
    "```bash\n",
    "welcome to fruit quiz\n",
    "What is the color of Strawberries\n",
    "pink\n",
    "Correct answer\n",
    "Enter 0, if you want to play again: 0\n",
    "What is the color of watermelon\n",
    "green\n",
    "Correct answer\n",
    "Enter 0, if you want to play again: 1\n",
    "```"
   ]
  },
  {
   "cell_type": "code",
   "execution_count": 1,
   "metadata": {},
   "outputs": [],
   "source": [
    "import random\n",
    "\n",
    "class FlashCard:\n",
    "\n",
    "    def __init__(self):\n",
    "        self.__fruits = {\n",
    "            \"Banana\": \"yellow\",\n",
    "            \"Strawberry\": \"red\",\n",
    "            \"Apple\": \"green\",\n",
    "            # \"Orange\": \"orange\",\n",
    "            # \"Grapes\": \"purple\",\n",
    "            # \"Blueberry\": \"blue\",\n",
    "            # \"Lemon\": \"yellow\",\n",
    "            # \"Kiwi\": \"brown\",\n",
    "            # \"Watermelon\": \"green\",\n",
    "            # \"Cherry\": \"red\"\n",
    "        }\n",
    "\n",
    "        print('Hi! Welcome to fruit quiz!')\n",
    "        self.__menu()\n",
    "\n",
    "    def __menu(self):\n",
    "        fruit_and_color = list(self.__fruits.items())\n",
    "        fruit_and_color_random = random.choice(fruit_and_color)\n",
    "        fruit = fruit_and_color_random[0]\n",
    "        color = fruit_and_color_random[1]\n",
    "        \n",
    "        user_color = input('What is the color of {}: '.format(fruit))\n",
    "        \n",
    "        if user_color == self.__fruits[fruit]:\n",
    "            print('Correct answer!')\n",
    "        else:\n",
    "            print('Wrong answer!')\n",
    "        zero_one = int(input('''\n",
    "        Enter 0, if you want to play again OR  \n",
    "        Enter any other number, if you do not want to play again:\n",
    "        '''))\n",
    "        if zero_one==0:\n",
    "            self.__menu()\n",
    "        else:\n",
    "            exit()\n",
    "    "
   ]
  },
  {
   "cell_type": "code",
   "execution_count": 2,
   "metadata": {},
   "outputs": [
    {
     "name": "stdout",
     "output_type": "stream",
     "text": [
      "Hi! Welcome to fruit quiz!\n"
     ]
    },
    {
     "name": "stdin",
     "output_type": "stream",
     "text": [
      "What is the color of Strawberry:  red\n"
     ]
    },
    {
     "name": "stdout",
     "output_type": "stream",
     "text": [
      "Correct answer!\n"
     ]
    },
    {
     "name": "stdin",
     "output_type": "stream",
     "text": [
      "\n",
      "        Enter 0, if you want to play again OR  \n",
      "        Enter any other number, if you do not want to play again:\n",
      "         0\n",
      "What is the color of Strawberry:  red\n"
     ]
    },
    {
     "name": "stdout",
     "output_type": "stream",
     "text": [
      "Correct answer!\n"
     ]
    },
    {
     "name": "stdin",
     "output_type": "stream",
     "text": [
      "\n",
      "        Enter 0, if you want to play again OR  \n",
      "        Enter any other number, if you do not want to play again:\n",
      "         0\n",
      "What is the color of Apple:  green\n"
     ]
    },
    {
     "name": "stdout",
     "output_type": "stream",
     "text": [
      "Correct answer!\n"
     ]
    },
    {
     "name": "stdin",
     "output_type": "stream",
     "text": [
      "\n",
      "        Enter 0, if you want to play again OR  \n",
      "        Enter any other number, if you do not want to play again:\n",
      "         1\n"
     ]
    }
   ],
   "source": [
    "flash_card = FlashCard()"
   ]
  },
  {
   "cell_type": "markdown",
   "metadata": {
    "id": "GN2r0jbRewYr"
   },
   "source": [
    "## `Q-5:` Problem 5 based on OOP Python.\n",
    "\n",
    "TechWorld, a technology training center, wants to allocate courses for instructors. An instructor is identified by name, technology skills, experience and average feedback. An instructor is allocated a course, if he/she satisfies the below two conditions:\n",
    "- eligibility criteria:\n",
    "    - if experience is more than 3 years, average feedback should be 4.5 or more\n",
    "    - if experience is 3 years or less, average feedback should be 4 or more\n",
    "- he/she should posses the technology skill for the course\n",
    "\n",
    "Identify the class name and attributes to represent instructors. Write a Python program to implement the class chosen with its attributes and methods.\n",
    "\n",
    "**Note:**\n",
    "- Consider all instance variables to be private and methods to be public.\n",
    "- An instructor may have multiple technology skills, so consider instance variable, technology_skill to be a list.\n",
    "- *check_eligibility()*: Return true if eligibility criteria is satisfied by the instructor. Else, return false\n",
    "- *allocate_course(technology)*: Return true if the course which requires the given technology can be allocated to the instructor. Else, return false.\n",
    "\n",
    "Represent a few objects of the class, initialize instance variables using setter methods, invoke\n",
    "appropriate methods and test your program."
   ]
  },
  {
   "cell_type": "code",
   "execution_count": 12,
   "metadata": {
    "id": "pdMFuVFnlvKL"
   },
   "outputs": [],
   "source": [
    "class AllocateCouses:\n",
    "\n",
    "    def __init__(self):\n",
    "        self.__name = None\n",
    "        self.__technology_skills = None\n",
    "        self.__experience = None\n",
    "        self.__average_feedback = None\n",
    "\n",
    "    def set_name(self, name):\n",
    "        self.__name = name\n",
    "        \n",
    "    def set_technology_skills(self, skill):\n",
    "        self.__technology_skills = skill\n",
    "        \n",
    "    def set_experience(self, experience):\n",
    "        self.__experience = experience\n",
    "        \n",
    "    def set_average_feedback(self, feedback):\n",
    "        self.__average_feedback = feedback\n",
    "\n",
    "    def eligibility_criteria(self):\n",
    "        if self.__experience > 3 and self.__average_feedback >= 4.5:\n",
    "            return True\n",
    "        elif self.__experience <= 3 and self.__average_feedback >= 4:\n",
    "            return True\n",
    "        else:\n",
    "            return False\n",
    "\n",
    "    def allocate_couses(self, skill):\n",
    "        if self.eligibility_criteria():\n",
    "            if skill in self.__technology_skills:\n",
    "                print('Course allocated')\n",
    "            else:\n",
    "                print('Course not allocated')\n",
    "        else:\n",
    "            print('Course not allocated')"
   ]
  },
  {
   "cell_type": "code",
   "execution_count": 13,
   "metadata": {},
   "outputs": [],
   "source": [
    "ins1 = AllocateCouses()\n",
    "ins2 = AllocateCouses()"
   ]
  },
  {
   "cell_type": "code",
   "execution_count": 14,
   "metadata": {},
   "outputs": [],
   "source": [
    "ins1.set_name('Mr. X')\n",
    "ins1.set_experience(5)\n",
    "ins1.set_average_feedback(4.7)\n",
    "ins1.set_technology_skills(['python','c++','java'])"
   ]
  },
  {
   "cell_type": "code",
   "execution_count": 15,
   "metadata": {},
   "outputs": [
    {
     "name": "stdout",
     "output_type": "stream",
     "text": [
      "Course not allocated\n"
     ]
    }
   ],
   "source": [
    "ins1.allocate_couses('DS')"
   ]
  },
  {
   "cell_type": "code",
   "execution_count": 16,
   "metadata": {},
   "outputs": [
    {
     "name": "stdout",
     "output_type": "stream",
     "text": [
      "Course allocated\n"
     ]
    }
   ],
   "source": [
    "ins1.allocate_couses('python')"
   ]
  },
  {
   "cell_type": "code",
   "execution_count": 31,
   "metadata": {},
   "outputs": [],
   "source": [
    "ins1.set_name('Mr. Y')\n",
    "ins1.set_experience(2)\n",
    "ins1.set_average_feedback(3.7)\n",
    "ins1.set_technology_skills(['python','c++','java'])"
   ]
  },
  {
   "cell_type": "code",
   "execution_count": 32,
   "metadata": {},
   "outputs": [
    {
     "name": "stdout",
     "output_type": "stream",
     "text": [
      "Course not allocated\n"
     ]
    }
   ],
   "source": [
    "ins1.allocate_couses('c++')"
   ]
  },
  {
   "cell_type": "code",
   "execution_count": null,
   "metadata": {},
   "outputs": [],
   "source": []
  }
 ],
 "metadata": {
  "colab": {
   "provenance": []
  },
  "kernelspec": {
   "display_name": "Python 3 (ipykernel)",
   "language": "python",
   "name": "python3"
  },
  "language_info": {
   "codemirror_mode": {
    "name": "ipython",
    "version": 3
   },
   "file_extension": ".py",
   "mimetype": "text/x-python",
   "name": "python",
   "nbconvert_exporter": "python",
   "pygments_lexer": "ipython3",
   "version": "3.12.1"
  }
 },
 "nbformat": 4,
 "nbformat_minor": 4
}
