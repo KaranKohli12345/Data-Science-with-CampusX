{
 "cells": [
  {
   "cell_type": "markdown",
   "id": "05e42a2d-7c5e-4f0d-a98c-f31ab413a782",
   "metadata": {},
   "source": [
    "```\n",
    "- hidden\n",
    "- implementation/technicalities is hidden and we only care about how to use it\n",
    "```"
   ]
  },
  {
   "cell_type": "markdown",
   "id": "457d5b39-004e-427c-b208-3d71bdb693c7",
   "metadata": {},
   "source": [
    "```\n",
    "Two types of methods:\n",
    "\n",
    "- Abstract method --> koi bhi code nahi rehta \n",
    "- Concrete method --> traditional methods\n",
    "```"
   ]
  },
  {
   "cell_type": "code",
   "execution_count": 11,
   "id": "b53a5f5a-081d-4a9f-8c37-fe4fa738d04c",
   "metadata": {},
   "outputs": [],
   "source": [
    "from abc import ABC, abstractmethod\n",
    "\n",
    "class BankApp(ABC): # abstract class --> contains at least one abstract method\n",
    "\n",
    "    def database(self):\n",
    "        print('Connected to database')\n",
    "\n",
    "    @abstractmethod # decorator\n",
    "    def security(self): # abstract method\n",
    "        pass\n",
    "        \n",
    "    @abstractmethod # decorator\n",
    "    def display(self): # abstract method\n",
    "        pass"
   ]
  },
  {
   "cell_type": "code",
   "execution_count": 4,
   "id": "afcc9f7b-1301-420f-a36c-32a126925e8b",
   "metadata": {},
   "outputs": [],
   "source": [
    "class MobileApp(BankApp):\n",
    "    \n",
    "    def mobile_login(self):\n",
    "        print('login into mobile')"
   ]
  },
  {
   "cell_type": "code",
   "execution_count": 6,
   "id": "39ca7ee0-ef70-473d-b92e-29d11ded26d2",
   "metadata": {},
   "outputs": [
    {
     "ename": "TypeError",
     "evalue": "Can't instantiate abstract class MobileApp without an implementation for abstract method 'security'",
     "output_type": "error",
     "traceback": [
      "\u001b[1;31m---------------------------------------------------------------------------\u001b[0m",
      "\u001b[1;31mTypeError\u001b[0m                                 Traceback (most recent call last)",
      "Cell \u001b[1;32mIn[6], line 1\u001b[0m\n\u001b[1;32m----> 1\u001b[0m mobile \u001b[38;5;241m=\u001b[39m \u001b[43mMobileApp\u001b[49m\u001b[43m(\u001b[49m\u001b[43m)\u001b[49m\n",
      "\u001b[1;31mTypeError\u001b[0m: Can't instantiate abstract class MobileApp without an implementation for abstract method 'security'"
     ]
    }
   ],
   "source": [
    "mobile = MobileApp()"
   ]
  },
  {
   "cell_type": "code",
   "execution_count": 7,
   "id": "1e902347-bfdf-4426-843c-856ec1f90c0c",
   "metadata": {},
   "outputs": [],
   "source": [
    "class MobileApp(BankApp):\n",
    "    \n",
    "    def mobile_login(self):\n",
    "        print('login into mobile')\n",
    "\n",
    "    def security(self):\n",
    "        print('Mobile security')"
   ]
  },
  {
   "cell_type": "code",
   "execution_count": 8,
   "id": "7db1ac5d-0737-424e-920b-dce3e409437d",
   "metadata": {},
   "outputs": [],
   "source": [
    "mobile2 = MobileApp()"
   ]
  },
  {
   "cell_type": "code",
   "execution_count": 9,
   "id": "9e53ab13-77d9-4835-8293-0068f8dc0baf",
   "metadata": {},
   "outputs": [
    {
     "name": "stdout",
     "output_type": "stream",
     "text": [
      "login into mobile\n"
     ]
    }
   ],
   "source": [
    "mobile2.mobile_login()"
   ]
  },
  {
   "cell_type": "code",
   "execution_count": 10,
   "id": "d6b14672-9410-4b67-aa6d-7b02570204d4",
   "metadata": {},
   "outputs": [
    {
     "name": "stdout",
     "output_type": "stream",
     "text": [
      "Mobile security\n"
     ]
    }
   ],
   "source": [
    "mobile2.security()"
   ]
  },
  {
   "cell_type": "code",
   "execution_count": 14,
   "id": "afae2d6c-5fae-4e40-adf3-0bc0aa167aca",
   "metadata": {},
   "outputs": [],
   "source": [
    "class MobileApp(BankApp):\n",
    "    \n",
    "    def mobile_login(self):\n",
    "        print('login into mobile')\n",
    "\n",
    "    def security(self):\n",
    "        print('Mobile security')\n",
    "        \n",
    "    def display(self):\n",
    "        print('Mobile display')"
   ]
  },
  {
   "cell_type": "code",
   "execution_count": 15,
   "id": "42d7ffca-4988-4ec2-be9c-da2952f3ad44",
   "metadata": {},
   "outputs": [],
   "source": [
    "mobile3 = MobileApp()"
   ]
  },
  {
   "cell_type": "code",
   "execution_count": null,
   "id": "0c6cb58c-8497-4b3a-9146-afd93030db60",
   "metadata": {},
   "outputs": [],
   "source": [
    "# abstract class ka object nahi bana sakte"
   ]
  },
  {
   "cell_type": "code",
   "execution_count": 16,
   "id": "2fe74a40-2901-4c76-8112-4f9e02ea3c88",
   "metadata": {},
   "outputs": [
    {
     "ename": "TypeError",
     "evalue": "Can't instantiate abstract class BankApp without an implementation for abstract methods 'display', 'security'",
     "output_type": "error",
     "traceback": [
      "\u001b[1;31m---------------------------------------------------------------------------\u001b[0m",
      "\u001b[1;31mTypeError\u001b[0m                                 Traceback (most recent call last)",
      "Cell \u001b[1;32mIn[16], line 1\u001b[0m\n\u001b[1;32m----> 1\u001b[0m obj \u001b[38;5;241m=\u001b[39m \u001b[43mBankApp\u001b[49m\u001b[43m(\u001b[49m\u001b[43m)\u001b[49m\n",
      "\u001b[1;31mTypeError\u001b[0m: Can't instantiate abstract class BankApp without an implementation for abstract methods 'display', 'security'"
     ]
    }
   ],
   "source": [
    "obj = BankApp()"
   ]
  },
  {
   "cell_type": "code",
   "execution_count": null,
   "id": "f7b2ed3c-2c8e-4ca7-ad61-f8c751d6ba2f",
   "metadata": {},
   "outputs": [],
   "source": []
  }
 ],
 "metadata": {
  "kernelspec": {
   "display_name": "Python 3 (ipykernel)",
   "language": "python",
   "name": "python3"
  },
  "language_info": {
   "codemirror_mode": {
    "name": "ipython",
    "version": 3
   },
   "file_extension": ".py",
   "mimetype": "text/x-python",
   "name": "python",
   "nbconvert_exporter": "python",
   "pygments_lexer": "ipython3",
   "version": "3.12.1"
  }
 },
 "nbformat": 4,
 "nbformat_minor": 5
}
