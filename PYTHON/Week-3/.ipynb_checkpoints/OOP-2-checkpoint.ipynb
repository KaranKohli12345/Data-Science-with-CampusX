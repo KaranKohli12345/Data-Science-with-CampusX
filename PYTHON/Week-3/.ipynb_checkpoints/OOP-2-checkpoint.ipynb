{
 "cells": [
  {
   "cell_type": "markdown",
   "id": "373e0bc1-9c5f-4651-9856-d7c24e4f6dcd",
   "metadata": {},
   "source": [
    "## Let's make our own custom data type related to coordinate geometry "
   ]
  },
  {
   "cell_type": "markdown",
   "id": "a6543828-9260-4f1c-881d-73f6b7663dc6",
   "metadata": {},
   "source": [
    "### Write OOP classes to handle the following scenarios:\n",
    "\n",
    "- A user can create and view 2D coordinates\n",
    "- A user can find out the distance between 2 coordinates\n",
    "- A user can find find the distance of a coordinate from origin\n",
    "- A user can check if a point lies on a given line\n",
    "- A user can find the distance between a given 2D point and a given line"
   ]
  },
  {
   "cell_type": "code",
   "execution_count": 12,
   "id": "b90f08af-20cb-4256-94bf-86a717d1a551",
   "metadata": {},
   "outputs": [],
   "source": [
    "# multiple classes\n",
    "\n",
    "# 1st class\n",
    "class Point:\n",
    "\n",
    "    def __init__(self, x, y):\n",
    "        self.x_cord = x\n",
    "        self.y_cord = y\n",
    "\n",
    "    def __str__(self):\n",
    "        return '<{},{}>'.format(self.x_cord, self.y_cord)\n",
    "\n",
    "    def euclidean_distance(self, other):\n",
    "        return round(((self.x_cord - other.x_cord)**2 + (self.y_cord - other.y_cord)**2)**0.5, 2)\n",
    "        \n",
    "    def distance_from_origin(self):\n",
    "        return self.euclidean_distance(Point(0,0))\n",
    "\n",
    "\n",
    "# 2nd class\n",
    "class Line:\n",
    "\n",
    "    def __init__(self, a, b, c):\n",
    "        self.a = a\n",
    "        self.b = b\n",
    "        self.c = c\n",
    "\n",
    "    def __str__(self):\n",
    "        return '{}x + {}y + {} = 0'.format(self.a, self.b, self.c)      \n",
    "\n",
    "    def point_on_line(line, point):\n",
    "        if (line.a * point.x_cord + line.b * point.y_cord + line.c) == 0:\n",
    "            return 'lies on the line'\n",
    "        else:\n",
    "            return 'does not lie on the line'\n",
    "\n",
    "    def shortest_distance(line, point):\n",
    "        return round((abs(line.a * point.x_cord + line.b * point.y_cord + line.c))/(((line.a)**2 + (line.b)**2)**0.5),2)\n",
    "\n",
    "    def lines_intersect_or_not(line1, line2):\n",
    "        if line1.a * line2.b != line2.a * line1.b:\n",
    "            return 'lines intersect'\n",
    "        else:\n",
    "            return 'lines do not intersect'"
   ]
  },
  {
   "cell_type": "code",
   "execution_count": 2,
   "id": "cf52b18a-3c7f-4c14-9f52-19c594ce37f6",
   "metadata": {},
   "outputs": [],
   "source": [
    "p1 = Point(2,3)\n",
    "p2 = Point(1,2)"
   ]
  },
  {
   "cell_type": "code",
   "execution_count": 3,
   "id": "bfdd7e38-fdda-4245-aea4-74995c129fe5",
   "metadata": {},
   "outputs": [
    {
     "name": "stdout",
     "output_type": "stream",
     "text": [
      "<2,3>\n",
      "<1,2>\n"
     ]
    }
   ],
   "source": [
    "# <x,y>\n",
    "print(p1)\n",
    "print(p2)"
   ]
  },
  {
   "cell_type": "code",
   "execution_count": 4,
   "id": "6b1adf78-e842-40df-a188-194be5167cb2",
   "metadata": {},
   "outputs": [
    {
     "data": {
      "text/plain": [
       "1.41"
      ]
     },
     "execution_count": 4,
     "metadata": {},
     "output_type": "execute_result"
    }
   ],
   "source": [
    "p1.euclidean_distance(p2)"
   ]
  },
  {
   "cell_type": "code",
   "execution_count": 5,
   "id": "d42a94a6-f30c-40b0-a854-e3aa7c2f28c4",
   "metadata": {},
   "outputs": [
    {
     "data": {
      "text/plain": [
       "3.61"
      ]
     },
     "execution_count": 5,
     "metadata": {},
     "output_type": "execute_result"
    }
   ],
   "source": [
    "p1.distance_from_origin()"
   ]
  },
  {
   "cell_type": "code",
   "execution_count": 6,
   "id": "c6c87857-d158-44ea-a53d-807daa824a56",
   "metadata": {},
   "outputs": [
    {
     "name": "stdout",
     "output_type": "stream",
     "text": [
      "2x + 3y + 4 = 0\n"
     ]
    }
   ],
   "source": [
    "l1 = Line(2,3,4)\n",
    "\n",
    "print(l1)"
   ]
  },
  {
   "cell_type": "code",
   "execution_count": 7,
   "id": "03b9a9b4-bd61-4dc0-a821-16f121619e02",
   "metadata": {},
   "outputs": [
    {
     "name": "stdout",
     "output_type": "stream",
     "text": [
      "2x + 1y + -2 = 0\n",
      "<1,1>\n"
     ]
    }
   ],
   "source": [
    "l2 = Line(2,1,-2)\n",
    "p3 = Point(1,1)\n",
    "\n",
    "print(l2)\n",
    "print(p3)"
   ]
  },
  {
   "cell_type": "code",
   "execution_count": 8,
   "id": "612debf4-cb9a-4ce0-b547-66f0d87d1e57",
   "metadata": {},
   "outputs": [
    {
     "data": {
      "text/plain": [
       "'does not lie on the line'"
      ]
     },
     "execution_count": 8,
     "metadata": {},
     "output_type": "execute_result"
    }
   ],
   "source": [
    "l2.point_on_line(p3)"
   ]
  },
  {
   "cell_type": "markdown",
   "id": "a50e9ad1-21c4-4df1-b7d6-a4dfda9a2cad",
   "metadata": {},
   "source": [
    "- If two classes are on same file, their objects can interact.\n",
    "- If two classes are on different file, their objects can interact only after importing one into the other."
   ]
  },
  {
   "cell_type": "code",
   "execution_count": 9,
   "id": "ab7f31ef-4e81-44f9-b7ae-a2996146466d",
   "metadata": {},
   "outputs": [
    {
     "data": {
      "text/plain": [
       "10.73"
      ]
     },
     "execution_count": 9,
     "metadata": {},
     "output_type": "execute_result"
    }
   ],
   "source": [
    "l3 = Line(1,2,3)\n",
    "p4 = Point(1,10)\n",
    "\n",
    "l3.shortest_distance(p4)"
   ]
  },
  {
   "cell_type": "code",
   "execution_count": 14,
   "id": "98aed5ec-6415-43da-a346-6dd309dc8339",
   "metadata": {},
   "outputs": [
    {
     "data": {
      "text/plain": [
       "'lines do not intersect'"
      ]
     },
     "execution_count": 14,
     "metadata": {},
     "output_type": "execute_result"
    }
   ],
   "source": [
    "# l4 = Line(2,-1,1)\n",
    "# l5 = Line(1,1,-3)\n",
    "\n",
    "l4 = Line(3,-1,2)\n",
    "l5 = Line(3,-1,-4)\n",
    "\n",
    "l4.lines_intersect_or_not(l5)"
   ]
  },
  {
   "cell_type": "code",
   "execution_count": 15,
   "id": "205054e3-27ec-4bf9-886e-308a57c03ecc",
   "metadata": {},
   "outputs": [],
   "source": [
    "# HTML, CSS, Flask seekh ke isko website me convert kiya jaa sakta hai"
   ]
  },
  {
   "cell_type": "markdown",
   "id": "4c44f369-3e9d-4e32-99a1-5456dd344e01",
   "metadata": {},
   "source": [
    "## How objects access attributes"
   ]
  },
  {
   "cell_type": "code",
   "execution_count": 16,
   "id": "158b0b89-565d-48a6-b51a-16bd76c7333f",
   "metadata": {},
   "outputs": [],
   "source": [
    "class Person:\n",
    "\n",
    "  def __init__(self, name_input, country_input):\n",
    "    self.name = name_input\n",
    "    self.country = country_input\n",
    "\n",
    "  def greet(self):\n",
    "    if self.country == 'india':\n",
    "      print('Namaste', self.name)\n",
    "    else:\n",
    "      print('Hello', self.name)"
   ]
  },
  {
   "cell_type": "code",
   "execution_count": 17,
   "id": "435fa3f6-7f62-40d6-bef9-a10c8ff20bae",
   "metadata": {},
   "outputs": [],
   "source": [
    "# how to access attributes\n",
    "\n",
    "p = Person('Karan', 'india')"
   ]
  },
  {
   "cell_type": "code",
   "execution_count": 18,
   "id": "fe6acc15-252c-43fe-aecf-60dd0ea0f547",
   "metadata": {},
   "outputs": [
    {
     "data": {
      "text/plain": [
       "'india'"
      ]
     },
     "execution_count": 18,
     "metadata": {},
     "output_type": "execute_result"
    }
   ],
   "source": [
    "p.country"
   ]
  },
  {
   "cell_type": "code",
   "execution_count": 19,
   "id": "a05858be-0891-4f5e-813d-ce3bdca38e2c",
   "metadata": {},
   "outputs": [
    {
     "data": {
      "text/plain": [
       "'Karan'"
      ]
     },
     "execution_count": 19,
     "metadata": {},
     "output_type": "execute_result"
    }
   ],
   "source": [
    "p.name"
   ]
  },
  {
   "cell_type": "code",
   "execution_count": 20,
   "id": "58a0bcc3-790f-4c48-9087-c6dc22b1f212",
   "metadata": {},
   "outputs": [
    {
     "name": "stdout",
     "output_type": "stream",
     "text": [
      "Namaste Karan\n"
     ]
    }
   ],
   "source": [
    "# how to access methods\n",
    "\n",
    "p.greet()"
   ]
  },
  {
   "cell_type": "code",
   "execution_count": 21,
   "id": "5487e3c4-a324-40fb-86b5-0d96f3f041b7",
   "metadata": {},
   "outputs": [
    {
     "ename": "AttributeError",
     "evalue": "'Person' object has no attribute 'gender'",
     "output_type": "error",
     "traceback": [
      "\u001b[1;31m---------------------------------------------------------------------------\u001b[0m",
      "\u001b[1;31mAttributeError\u001b[0m                            Traceback (most recent call last)",
      "Cell \u001b[1;32mIn[21], line 3\u001b[0m\n\u001b[0;32m      1\u001b[0m \u001b[38;5;66;03m# what if i try to access non-existent attributes\u001b[39;00m\n\u001b[1;32m----> 3\u001b[0m \u001b[43mp\u001b[49m\u001b[38;5;241;43m.\u001b[39;49m\u001b[43mgender\u001b[49m\n",
      "\u001b[1;31mAttributeError\u001b[0m: 'Person' object has no attribute 'gender'"
     ]
    }
   ],
   "source": [
    "# what if i try to access non-existent attributes\n",
    "\n",
    "p.gender"
   ]
  },
  {
   "cell_type": "markdown",
   "id": "c8e5c402-60d5-481d-b7f4-8dfd56280451",
   "metadata": {},
   "source": [
    "## Attribute creation from outside of the class"
   ]
  },
  {
   "cell_type": "code",
   "execution_count": 22,
   "id": "e6298fa9-923c-4227-8d48-3468d3670c69",
   "metadata": {},
   "outputs": [],
   "source": [
    "p.gender = 'male'"
   ]
  },
  {
   "cell_type": "code",
   "execution_count": 23,
   "id": "c9255222-3b6d-46f6-9620-a73a72b31728",
   "metadata": {},
   "outputs": [
    {
     "data": {
      "text/plain": [
       "'male'"
      ]
     },
     "execution_count": 23,
     "metadata": {},
     "output_type": "execute_result"
    }
   ],
   "source": [
    "p.gender"
   ]
  },
  {
   "cell_type": "markdown",
   "id": "c0d25ee1-99c7-4c18-9f55-503ffeca1811",
   "metadata": {},
   "source": [
    "# Reference Variables\n",
    "\n",
    "- Reference variables hold the objects\n",
    "- We can create objects without reference variable as well\n",
    "- An object can have multiple reference variables\n",
    "- Assigning a new reference variable to an existing object does not create a new object"
   ]
  },
  {
   "cell_type": "code",
   "execution_count": 35,
   "id": "bc5902f9-bd1a-494a-ba34-fff57bf8f52c",
   "metadata": {},
   "outputs": [],
   "source": [
    "# object without a reference\n",
    "\n",
    "class Person:\n",
    "\n",
    "  def __init__(self):\n",
    "    self.name = 'python'\n",
    "    self.gender = 'male'"
   ]
  },
  {
   "cell_type": "code",
   "execution_count": 25,
   "id": "9c24f4c9-2ccd-406f-9ca1-c72161a51f66",
   "metadata": {},
   "outputs": [
    {
     "data": {
      "text/plain": [
       "<__main__.Person at 0x141d7376f30>"
      ]
     },
     "execution_count": 25,
     "metadata": {},
     "output_type": "execute_result"
    }
   ],
   "source": [
    "Person()"
   ]
  },
  {
   "cell_type": "code",
   "execution_count": 82,
   "id": "b16b1338-d9b9-4a10-8081-4035a8ea47b7",
   "metadata": {},
   "outputs": [
    {
     "name": "stdout",
     "output_type": "stream",
     "text": [
      "<__main__.Person object at 0x0000021E42726F90>\n"
     ]
    }
   ],
   "source": [
    "p = Person()\n",
    "\n",
    "print(p)"
   ]
  },
  {
   "cell_type": "markdown",
   "id": "077dffaf-1a8c-4226-8027-5c12ecdcf9f9",
   "metadata": {},
   "source": [
    "- p is not the object.\n",
    "- It is a vaiable that contains address/reference of the actaul object created.\n",
    "- p is Reference variable."
   ]
  },
  {
   "cell_type": "code",
   "execution_count": 26,
   "id": "e7b35397-9536-46de-a130-dc96f3f1abf7",
   "metadata": {},
   "outputs": [
    {
     "name": "stdout",
     "output_type": "stream",
     "text": [
      "<__main__.Person object at 0x00000141D73840E0>\n"
     ]
    }
   ],
   "source": [
    "q = p\n",
    "\n",
    "print(q)"
   ]
  },
  {
   "cell_type": "code",
   "execution_count": 28,
   "id": "a759f65e-d651-4db6-86f3-fa1331dad971",
   "metadata": {},
   "outputs": [
    {
     "name": "stdout",
     "output_type": "stream",
     "text": [
      "1382295290080\n",
      "1382295290080\n"
     ]
    }
   ],
   "source": [
    "# Multiple ref\n",
    "\n",
    "print(id(p))\n",
    "print(id(q))"
   ]
  },
  {
   "cell_type": "code",
   "execution_count": 29,
   "id": "8db8c6b3-9c06-4574-86de-b31bf25fd437",
   "metadata": {},
   "outputs": [
    {
     "name": "stdout",
     "output_type": "stream",
     "text": [
      "3 3\n",
      "140718688123384 140718688123384\n"
     ]
    }
   ],
   "source": [
    "a = 3\n",
    "b = a\n",
    "\n",
    "print(a, b)\n",
    "print(id(a), id(b))"
   ]
  },
  {
   "cell_type": "markdown",
   "id": "e40a4ada-4198-408a-86fe-84fe078ca2de",
   "metadata": {},
   "source": [
    "## Change attribute value with the help of 2nd object"
   ]
  },
  {
   "cell_type": "code",
   "execution_count": 36,
   "id": "f67f09f9-8481-429b-a73f-8eedd040a045",
   "metadata": {},
   "outputs": [
    {
     "name": "stdout",
     "output_type": "stream",
     "text": [
      "python\n",
      "python\n"
     ]
    }
   ],
   "source": [
    "print(p.name)\n",
    "print(q.name)"
   ]
  },
  {
   "cell_type": "code",
   "execution_count": 37,
   "id": "f149bcbe-ee62-4105-9edb-2fd20d614c47",
   "metadata": {},
   "outputs": [
    {
     "name": "stdout",
     "output_type": "stream",
     "text": [
      "Karan\n",
      "Karan\n"
     ]
    }
   ],
   "source": [
    "q.name = 'Karan'\n",
    "\n",
    "print(q.name)\n",
    "print(p.name)"
   ]
  },
  {
   "cell_type": "markdown",
   "id": "e3a3ca2d-32ac-461c-9684-f883c28d915e",
   "metadata": {},
   "source": [
    "## Passing objects to function"
   ]
  },
  {
   "cell_type": "code",
   "execution_count": 38,
   "id": "de92d27a-21cc-4476-b9ff-dd6cb0256106",
   "metadata": {},
   "outputs": [
    {
     "name": "stdout",
     "output_type": "stream",
     "text": [
      "Hi my name is Karan and I am a male\n"
     ]
    }
   ],
   "source": [
    "class Person:\n",
    "\n",
    "  def __init__(self, name, gender):\n",
    "    self.name = name\n",
    "    self.gender = gender\n",
    "\n",
    "# outside the class --> function\n",
    "def greet(person):\n",
    "    print('Hi my name is', person.name, 'and I am a', person.gender)\n",
    "\n",
    "p = Person('Karan', 'male')\n",
    "\n",
    "greet(p)"
   ]
  },
  {
   "cell_type": "markdown",
   "id": "7856b049-f13b-4d43-ae08-558e1a56060d",
   "metadata": {},
   "source": [
    "## Returning objects from a function"
   ]
  },
  {
   "cell_type": "code",
   "execution_count": 42,
   "id": "832e4d98-c7ec-4af8-81aa-c853b954330b",
   "metadata": {},
   "outputs": [
    {
     "name": "stdout",
     "output_type": "stream",
     "text": [
      "Hi my name is Karan and I am a male\n",
      "Python female\n"
     ]
    }
   ],
   "source": [
    "class Person:\n",
    "\n",
    "  def __init__(self, name, gender):\n",
    "    self.name = name\n",
    "    self.gender = gender\n",
    "\n",
    "# outside the class --> function\n",
    "def greet(person):\n",
    "    print('Hi my name is', person.name, 'and I am a', person.gender)\n",
    "    \n",
    "    p1 = Person('Python', 'female')\n",
    "    return p1\n",
    "\n",
    "p = Person('Karan', 'male')\n",
    "\n",
    "x = greet(p)\n",
    "\n",
    "print(x.name, x.gender)"
   ]
  },
  {
   "cell_type": "markdown",
   "id": "bab43d8b-3e38-4f3c-8044-5819f3205370",
   "metadata": {},
   "source": [
    "## Pass by reference"
   ]
  },
  {
   "cell_type": "code",
   "execution_count": 57,
   "id": "041ba97e-2845-41c1-8817-f07422de9676",
   "metadata": {},
   "outputs": [
    {
     "name": "stdout",
     "output_type": "stream",
     "text": [
      "1382296568256\n",
      "1382296568256\n",
      "1382306458224\n"
     ]
    }
   ],
   "source": [
    "# immutable\n",
    "\n",
    "def hi(y):\n",
    "    print(id(y))\n",
    "    y += (4,)\n",
    "    print(id(y))\n",
    "    \n",
    "x = (1,2,3)\n",
    "print(id(x))\n",
    "hi(x)"
   ]
  },
  {
   "cell_type": "code",
   "execution_count": 59,
   "id": "0c6454ea-aa0d-4551-843f-e4b53f87d642",
   "metadata": {},
   "outputs": [
    {
     "name": "stdout",
     "output_type": "stream",
     "text": [
      "1382302297984\n",
      "1382302297984\n",
      "1382302297984\n"
     ]
    }
   ],
   "source": [
    "# mutable\n",
    "\n",
    "def hi(y):\n",
    "    print(id(y))\n",
    "    y.append(4)\n",
    "    print(id(y))\n",
    "\n",
    "x = [1,2,3]\n",
    "print(id(x))\n",
    "hi(x)"
   ]
  },
  {
   "cell_type": "code",
   "execution_count": 60,
   "id": "ca68adf8-dd64-4d05-b084-5619db3f369b",
   "metadata": {},
   "outputs": [
    {
     "name": "stdout",
     "output_type": "stream",
     "text": [
      "1382295237600\n",
      "1382295237600\n"
     ]
    }
   ],
   "source": [
    "# Pass by reference\n",
    "\n",
    "class Person:\n",
    "\n",
    "  def __init__(self, name, gender):\n",
    "    self.name = name\n",
    "    self.gender = gender\n",
    "\n",
    "# outside the class --> function\n",
    "def greet(person):\n",
    "    print(id(person))\n",
    "    \n",
    "p = Person('Karan', 'male')\n",
    "print(id(p))\n",
    "\n",
    "greet(p)"
   ]
  },
  {
   "cell_type": "markdown",
   "id": "ffc31e04-a0d7-41da-ae81-d90a0824f69d",
   "metadata": {},
   "source": [
    "```\n",
    "When you pass an object to a function in Python, you're passing a reference to that object, not a copy of it.\n",
    "```"
   ]
  },
  {
   "cell_type": "code",
   "execution_count": 62,
   "id": "3db86ea7-5262-4771-a6ff-1005f71c3194",
   "metadata": {},
   "outputs": [
    {
     "name": "stdout",
     "output_type": "stream",
     "text": [
      "python\n",
      "python\n"
     ]
    }
   ],
   "source": [
    "# Pass by reference\n",
    "\n",
    "class Person:\n",
    "\n",
    "  def __init__(self, name, gender):\n",
    "    self.name = name\n",
    "    self.gender = gender\n",
    "\n",
    "def greet(person):\n",
    "    # print(id(person))\n",
    "    \n",
    "    person.name = 'python'\n",
    "    print(person.name)\n",
    "    \n",
    "p = Person('Karan', 'male')\n",
    "# print(id(p))\n",
    "\n",
    "greet(p)\n",
    "\n",
    "print(p.name)"
   ]
  },
  {
   "cell_type": "markdown",
   "id": "f9335e7c-e362-4541-a4b9-87698051e55b",
   "metadata": {},
   "source": [
    "```\n",
    "The above code signifies that object are mutable by default\n",
    "```"
   ]
  },
  {
   "cell_type": "code",
   "execution_count": 64,
   "id": "92d8a854-b839-4788-b0fc-c0edfc89762e",
   "metadata": {},
   "outputs": [
    {
     "name": "stdout",
     "output_type": "stream",
     "text": [
      "6\n",
      "5\n"
     ]
    }
   ],
   "source": [
    "# immutable\n",
    "\n",
    "def hi(y):\n",
    "    y += 1\n",
    "    print(y)\n",
    "\n",
    "x = 5\n",
    "hi(x)\n",
    "print(x)"
   ]
  },
  {
   "cell_type": "code",
   "execution_count": 65,
   "id": "f6e59cde-a907-4b89-85c3-31a5f6f71866",
   "metadata": {},
   "outputs": [
    {
     "name": "stdout",
     "output_type": "stream",
     "text": [
      "1382302248256\n",
      "[1, 2, 3, 4]\n",
      "1382302248256\n",
      "[1, 2, 3, 4]\n"
     ]
    }
   ],
   "source": [
    "# mutable\n",
    "\n",
    "def hi(y):\n",
    "    print(id(y))\n",
    "    # y = y + [4,5,6]\n",
    "    # print(y)\n",
    "    y.append(4)\n",
    "    print(y)\n",
    "    print(id(y))\n",
    "\n",
    "x = [1,2,3]\n",
    "hi(x)\n",
    "print(x)"
   ]
  },
  {
   "cell_type": "markdown",
   "id": "b95b3c17-d86a-4875-af3b-feff380de005",
   "metadata": {},
   "source": [
    "#### All user-defined objects of classes are mutable by default."
   ]
  },
  {
   "cell_type": "code",
   "execution_count": 63,
   "id": "a2b6fe15-52b3-4f40-a996-6bc5426fcb4b",
   "metadata": {},
   "outputs": [
    {
     "name": "stdout",
     "output_type": "stream",
     "text": [
      "1382295289936\n",
      "1382295289936\n"
     ]
    }
   ],
   "source": [
    "# Pass by reference\n",
    "\n",
    "class Person:\n",
    "\n",
    "  def __init__(self, name, gender):\n",
    "    self.name = name\n",
    "    self.gender = gender\n",
    "\n",
    "# outside the class --> function\n",
    "def greet(person):\n",
    "    person.name = 'python'\n",
    "    return person\n",
    "    \n",
    "p = Person('Karan', 'male')\n",
    "print(id(p))\n",
    "\n",
    "p1 = greet(p)\n",
    "\n",
    "print(id(p1))"
   ]
  },
  {
   "cell_type": "markdown",
   "id": "20b77348-052b-4f94-b41f-980065705169",
   "metadata": {},
   "source": [
    "# ??"
   ]
  },
  {
   "cell_type": "code",
   "execution_count": 66,
   "id": "902b7137-b0e3-4b3b-83dd-781678fef797",
   "metadata": {},
   "outputs": [
    {
     "name": "stdout",
     "output_type": "stream",
     "text": [
      "{<__main__.Person object at 0x00000141D7D82990>, <__main__.Person object at 0x00000141D73846E0>}\n"
     ]
    }
   ],
   "source": [
    "class Person:\n",
    "    def __init__(self, name):\n",
    "        self.name = name\n",
    "\n",
    "p1 = Person('Alice')\n",
    "p2 = Person('Bob')\n",
    "\n",
    "my_set = {p1, p2}\n",
    "# my_set = {p1.name, p2.name}\n",
    "print(my_set)"
   ]
  },
  {
   "cell_type": "code",
   "execution_count": 70,
   "id": "2ae8377b-4e8e-486f-876f-618bc703e695",
   "metadata": {},
   "outputs": [
    {
     "name": "stdout",
     "output_type": "stream",
     "text": [
      "1382295799232\n",
      "1382295798992\n",
      "1382295798992\n",
      "1382295799232\n"
     ]
    }
   ],
   "source": [
    "class Person:\n",
    "\n",
    "  def __init__(self, name, gender):\n",
    "    self.name = name\n",
    "    self.gender = gender\n",
    "\n",
    "def greet(person):\n",
    "    p = Person('Karan', 'male') \n",
    "    print(id(p))\n",
    "    \n",
    "    # p1 = Person('Karan', 'male') \n",
    "    # print(id(p1))\n",
    "    \n",
    "    # p = Person('python', 'female') \n",
    "    # print(id(p))\n",
    "    \n",
    "    p1 = Person('python', 'female') \n",
    "    print(id(p))\n",
    "    \n",
    "p = Person('Karan', 'male')\n",
    "\n",
    "print(id(p))\n",
    "\n",
    "greet(p)\n",
    "\n",
    "print(id(p))"
   ]
  },
  {
   "cell_type": "code",
   "execution_count": 69,
   "id": "cc129265-ad42-4910-a783-ce0ba5429623",
   "metadata": {},
   "outputs": [
    {
     "name": "stdout",
     "output_type": "stream",
     "text": [
      "5\n"
     ]
    }
   ],
   "source": [
    "a = 6\n",
    "a = 5\n",
    "\n",
    "print(a)"
   ]
  },
  {
   "cell_type": "markdown",
   "id": "550da808-b6bd-43c9-ab0b-d5d28c31aa9a",
   "metadata": {},
   "source": [
    "# ??"
   ]
  },
  {
   "cell_type": "code",
   "execution_count": null,
   "id": "205b818a-e851-4131-8e62-45fbab134a0b",
   "metadata": {},
   "outputs": [],
   "source": []
  }
 ],
 "metadata": {
  "kernelspec": {
   "display_name": "Python 3 (ipykernel)",
   "language": "python",
   "name": "python3"
  },
  "language_info": {
   "codemirror_mode": {
    "name": "ipython",
    "version": 3
   },
   "file_extension": ".py",
   "mimetype": "text/x-python",
   "name": "python",
   "nbconvert_exporter": "python",
   "pygments_lexer": "ipython3",
   "version": "3.12.1"
  }
 },
 "nbformat": 4,
 "nbformat_minor": 5
}
