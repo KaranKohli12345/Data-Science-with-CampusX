{
 "cells": [
  {
   "cell_type": "markdown",
   "metadata": {
    "id": "A05OG15VqOPF"
   },
   "source": [
    "# Task : Session 1\n",
    "Solve these questions own your own and try to test yourself what you have learned in the session.\n",
    "\n",
    "Happy Learning!"
   ]
  },
  {
   "cell_type": "markdown",
   "metadata": {
    "id": "2doIXf8bqe9_"
   },
   "source": [
    "### Q1 :- Print the given strings as per stated format.\n",
    "\n",
    "**Given strings**:\n",
    "```\n",
    "\"Data\" \"Science\" \"Mentorship\" \"Program\"\n",
    "\"By\" \"CampusX\"\n",
    "```\n",
    "**Output**:\n",
    "```\n",
    "Data-Science-Mentorship-Program-started-By-CampusX\n",
    "```\n",
    "\n",
    "Concept- [Seperator and End]"
   ]
  },
  {
   "cell_type": "code",
   "execution_count": null,
   "metadata": {
    "colab": {
     "base_uri": "https://localhost:8080/"
    },
    "id": "-em6d3KErDtp",
    "outputId": "05a697a5-68db-4607-c853-68fa2c4a1b32"
   },
   "outputs": [
    {
     "name": "stdout",
     "output_type": "stream",
     "text": [
      "Data-Science-Mentorship-Program-started-By-CampusX\n"
     ]
    }
   ],
   "source": [
    "print(\"Data\", \"Science\", \"Mentorship\", \"Program\", \"started\", \"By\", \"CampusX\", sep=\"-\")"
   ]
  },
  {
   "cell_type": "code",
   "execution_count": 7,
   "metadata": {},
   "outputs": [
    {
     "name": "stdout",
     "output_type": "stream",
     "text": [
      "Data-Science-Mentorship-Program-started-By-CampusX\n"
     ]
    }
   ],
   "source": [
    "# or\n",
    "\n",
    "print(\"Data\", \"Science\", \"Mentorship\", \"Program\", sep=\"-\", end=\"-\")\n",
    "print(\"started\", end=\"-\")\n",
    "print(\"By\", \"CampusX\", sep=\"-\")"
   ]
  },
  {
   "cell_type": "code",
   "execution_count": 8,
   "metadata": {},
   "outputs": [
    {
     "name": "stdout",
     "output_type": "stream",
     "text": [
      "Data-Science-Mentorship-Program-started-By-CampusX\n"
     ]
    }
   ],
   "source": [
    "# or\n",
    "\n",
    "print(\"Data\", \"Science\", \"Mentorship\", \"Program\", sep=\"-\", end=\"-started-\")\n",
    "print(\"By\", \"CampusX\", sep=\"-\")"
   ]
  },
  {
   "cell_type": "markdown",
   "metadata": {
    "id": "1KUpN7ZTrC3_"
   },
   "source": [
    "### Q2:- Write a program that will convert celsius value to fahrenheit."
   ]
  },
  {
   "cell_type": "code",
   "execution_count": null,
   "metadata": {
    "colab": {
     "base_uri": "https://localhost:8080/"
    },
    "id": "yxKYhYQiqWfj",
    "outputId": "bb8627ff-9f6f-4cce-dcc5-f73f22e22099"
   },
   "outputs": [
    {
     "name": "stdout",
     "output_type": "stream",
     "text": [
      "Enter the celcius value: 32\n",
      "89.6\n"
     ]
    }
   ],
   "source": [
    "celcius = int(input(\"Enter the celcius value: \"))\n",
    "fahreheit = celcius*(9/5) + 32\n",
    "\n",
    "print(fahreheit)"
   ]
  },
  {
   "cell_type": "markdown",
   "metadata": {
    "id": "RLrOBBJurLB2"
   },
   "source": [
    "### Q3:- Take 2 numbers as input from the user.Write a program to swap the numbers without using any special python syntax."
   ]
  },
  {
   "cell_type": "code",
   "execution_count": null,
   "metadata": {
    "colab": {
     "base_uri": "https://localhost:8080/"
    },
    "id": "yPn7if0TrJ4F",
    "outputId": "44c65059-d70c-4752-f9c0-5cfc9ec5d650"
   },
   "outputs": [
    {
     "name": "stdout",
     "output_type": "stream",
     "text": [
      "---Before swap---\n",
      "Enter a: 4\n",
      "Enter b: 5\n",
      "---Before swap---\n",
      "a:  5\n",
      "b:  4\n"
     ]
    }
   ],
   "source": [
    "print(\"---Before swap---\")\n",
    "a = int(input(\"Enter a: \"))\n",
    "b = int(input(\"Enter b: \"))\n",
    "c = None\n",
    "\n",
    "c = a\n",
    "a = b\n",
    "b = c\n",
    "\n",
    "print(\"---Before swap---\")\n",
    "print(\"a: \", a)\n",
    "print(\"b: \", b)"
   ]
  },
  {
   "cell_type": "markdown",
   "metadata": {
    "id": "waLCP1bjr7ML"
   },
   "source": [
    "### Q4:- Write a program to find the euclidean distance between two coordinates.Take both the coordinates from the user as input."
   ]
  },
  {
   "cell_type": "code",
   "execution_count": 10,
   "metadata": {
    "colab": {
     "base_uri": "https://localhost:8080/"
    },
    "id": "Pl1Sv-xnrxnH",
    "outputId": "cd4c1e73-658d-4fa4-d4da-349fa29bae20"
   },
   "outputs": [
    {
     "name": "stdout",
     "output_type": "stream",
     "text": [
      "Enter first coordinate: \n"
     ]
    },
    {
     "name": "stdin",
     "output_type": "stream",
     "text": [
      "Enter x1:  4\n",
      "Enter y1:  5\n"
     ]
    },
    {
     "name": "stdout",
     "output_type": "stream",
     "text": [
      "(x1, y1):  (4, 5)\n",
      "Enter second coordinate: \n"
     ]
    },
    {
     "name": "stdin",
     "output_type": "stream",
     "text": [
      "Enter x2:  8\n",
      "Enter y2:  9\n"
     ]
    },
    {
     "name": "stdout",
     "output_type": "stream",
     "text": [
      "(x2, y2):  (8, 9)\n",
      "Euclidean distance:  5.66\n"
     ]
    }
   ],
   "source": [
    "print(\"Enter first coordinate: \")\n",
    "x1 = int(input(\"Enter x1: \"))\n",
    "y1 = int(input(\"Enter y1: \"))\n",
    "print(\"(x1, y1): \", (x1, y1))\n",
    "\n",
    "print(\"Enter second coordinate: \")\n",
    "x2 = int(input(\"Enter x2: \"))\n",
    "y2 = int(input(\"Enter y2: \"))\n",
    "print(\"(x2, y2): \", (x2, y2))\n",
    "\n",
    "d = ((x2 - x1)**2 + (y2 - y1)**2)**0.5\n",
    "\n",
    "print(\"Euclidean distance: \", round(d, 2))"
   ]
  },
  {
   "cell_type": "markdown",
   "metadata": {
    "id": "VLrhg-FRsHjR"
   },
   "source": [
    "### Q5:- Write a program to find the simple interest when the value of principle,rate of interest and time period is provided by the user.\n"
   ]
  },
  {
   "cell_type": "code",
   "execution_count": null,
   "metadata": {
    "colab": {
     "base_uri": "https://localhost:8080/"
    },
    "id": "s40DlReZsTmY",
    "outputId": "1d2a4bd9-2b5b-4dc0-8a90-34a5fe256a52"
   },
   "outputs": [
    {
     "name": "stdout",
     "output_type": "stream",
     "text": [
      "Enter P: 2000\n",
      "Enter R: 10\n",
      "Enter T: 2\n",
      "Simple Interest:  400.0\n"
     ]
    }
   ],
   "source": [
    "P = int(input(\"Enter P: \"))\n",
    "R = int(input(\"Enter R: \"))\n",
    "T = int(input(\"Enter T: \"))\n",
    "\n",
    "SI = (P*R*T)/100\n",
    "\n",
    "print(\"Simple Interest: \", SI)"
   ]
  },
  {
   "cell_type": "markdown",
   "metadata": {
    "id": "LMy0BTUktYKa"
   },
   "source": [
    "### Q6:- Write a program that will tell the number of dogs and chicken are there when the user will provide the value of total heads and legs.\n",
    "\n",
    "For example:\n",
    "Input:\n",
    "heads -> 4\n",
    "legs -> 12\n",
    "<br>\n",
    "Output:\n",
    "dogs -> 2\n",
    "chicken -> 2\n",
    "\n",
    "\n",
    "\n"
   ]
  },
  {
   "cell_type": "code",
   "execution_count": 14,
   "metadata": {
    "colab": {
     "base_uri": "https://localhost:8080/"
    },
    "id": "XSBvJoA4tXaG",
    "outputId": "e9cbb4a5-7f9a-4bb4-aa89-36524afc7769"
   },
   "outputs": [
    {
     "name": "stdin",
     "output_type": "stream",
     "text": [
      "Enter total number of heads:  4\n",
      "Enter total number of legs:  12\n"
     ]
    },
    {
     "name": "stdout",
     "output_type": "stream",
     "text": [
      "Number of dogs:  2\n",
      "Number of chicken:  2\n"
     ]
    }
   ],
   "source": [
    "heads = int(input(\"Enter total number of heads: \"))\n",
    "legs = int(input(\"Enter total number of legs: \"))\n",
    "\n",
    "y = (4*heads - legs)/2\n",
    "x = legs/2 - heads\n",
    "\n",
    "print(\"Number of dogs: \", int(x))\n",
    "print(\"Number of chicken: \", int(y))"
   ]
  },
  {
   "cell_type": "markdown",
   "metadata": {
    "id": "gJ7C5kZYt4BP"
   },
   "source": [
    "### Q7:- Write a program to find the sum of squares of first n natural numbers where n will be provided by the user."
   ]
  },
  {
   "cell_type": "code",
   "execution_count": 15,
   "metadata": {
    "colab": {
     "base_uri": "https://localhost:8080/"
    },
    "id": "_tHsmEHzt2nX",
    "outputId": "f3feec8b-892a-49e4-f59b-ead222c802f5"
   },
   "outputs": [
    {
     "name": "stdin",
     "output_type": "stream",
     "text": [
      "Enter n:  10\n"
     ]
    },
    {
     "name": "stdout",
     "output_type": "stream",
     "text": [
      "385\n"
     ]
    }
   ],
   "source": [
    "n = int(input(\"Enter n: \"))\n",
    "sum = (n*(n+1)*(2*n+1))/6\n",
    "\n",
    "print(int(sum))\n",
    "\n",
    "# or\n",
    "\n",
    "# sum = 0\n",
    "# for i in range(1, n+1):\n",
    "#   sum = sum + i**2\n",
    "\n",
    "# print(sum)"
   ]
  },
  {
   "cell_type": "markdown",
   "metadata": {
    "id": "FHrMM7g-yG1h"
   },
   "source": [
    "### Q8:- Given the first 2 terms of an Arithmetic Series.Find the Nth term of the series. Assume all inputs are provided by the user."
   ]
  },
  {
   "cell_type": "code",
   "execution_count": 17,
   "metadata": {
    "colab": {
     "base_uri": "https://localhost:8080/"
    },
    "id": "go4_kmZmyVSx",
    "outputId": "54b6945c-74cc-4bf3-dbe7-91e3164e5c43"
   },
   "outputs": [
    {
     "name": "stdin",
     "output_type": "stream",
     "text": [
      "Enter first term:  5\n",
      "Enter second term:  10\n",
      "Enter n:  5\n"
     ]
    },
    {
     "name": "stdout",
     "output_type": "stream",
     "text": [
      "25\n"
     ]
    }
   ],
   "source": [
    "a0 = int(input(\"Enter first term: \"))\n",
    "a1 = int(input(\"Enter second term: \"))\n",
    "\n",
    "d = a1 - a0\n",
    "\n",
    "n = int(input(\"Enter n: \"))\n",
    "\n",
    "an = a0 + (n-1)*d\n",
    "\n",
    "print(an)"
   ]
  },
  {
   "cell_type": "markdown",
   "metadata": {
    "id": "QgyRX_es1oum"
   },
   "source": [
    "### Q9:- Given 2 fractions, find the sum of those 2 fractions.Take the numerator and denominator values of the fractions from the user."
   ]
  },
  {
   "cell_type": "code",
   "execution_count": 19,
   "metadata": {
    "colab": {
     "base_uri": "https://localhost:8080/"
    },
    "id": "X05xqFS1yW16",
    "outputId": "022982f8-865d-4536-b5e3-7373015d8d53"
   },
   "outputs": [
    {
     "name": "stdin",
     "output_type": "stream",
     "text": [
      "Enter numerator of fraction 1:  4\n",
      "Enter denomerator of fraction 1:  5\n"
     ]
    },
    {
     "name": "stdout",
     "output_type": "stream",
     "text": [
      "n1/d1:  4 / 5\n"
     ]
    },
    {
     "name": "stdin",
     "output_type": "stream",
     "text": [
      "Enter numerator of fraction 2:  8\n",
      "Enter denomerator of fraction 2:  9\n"
     ]
    },
    {
     "name": "stdout",
     "output_type": "stream",
     "text": [
      "n2/d2:  8 / 9\n",
      "Sum:  76 / 45\n"
     ]
    }
   ],
   "source": [
    "n1 = int(input(\"Enter numerator of fraction 1: \"))\n",
    "d1 = int(input(\"Enter denomerator of fraction 1: \"))\n",
    "print(\"n1/d1: \", n1, \"/\", d1)\n",
    "\n",
    "n2 = int(input(\"Enter numerator of fraction 2: \"))\n",
    "d2 = int(input(\"Enter denomerator of fraction 2: \"))\n",
    "print(\"n2/d2: \", n2, \"/\", d2)\n",
    "\n",
    "num = n1*d2 + n2*d1\n",
    "den = d1*d2\n",
    "\n",
    "print(\"Sum: \", num, \"/\", den)"
   ]
  },
  {
   "cell_type": "markdown",
   "metadata": {
    "id": "eaql38ln13u7"
   },
   "source": [
    "### Q10:- Given the height, width and breadth of a milk tank, you have to find out how many glasses of milk can be obtained? Assume all the inputs are provided by the user.\n",
    "\n",
    "\n",
    "\n",
    "Input:<br>\n",
    "Dimensions of the milk tank<br>\n",
    "H = 20cm, L = 20cm, B = 20cm\n",
    "<br><br>\n",
    "Dimensions of the glass<br>\n",
    "h = 3cm, r = 1cm"
   ]
  },
  {
   "cell_type": "code",
   "execution_count": 24,
   "metadata": {
    "colab": {
     "base_uri": "https://localhost:8080/"
    },
    "id": "FePZqno74eWv",
    "outputId": "dd588513-ea45-47d3-db1b-aebe6904a5e6"
   },
   "outputs": [
    {
     "name": "stdout",
     "output_type": "stream",
     "text": [
      "23.0\n"
     ]
    }
   ],
   "source": [
    "H = L = B = 20\n",
    "h, r = 3, 6\n",
    "\n",
    "# number of glasses = volume of milk tank / volume of a glass\n",
    "\n",
    "n = (H*B*L)//(3.14*r*r*h)\n",
    "\n",
    "print(n)"
   ]
  },
  {
   "cell_type": "code",
   "execution_count": null,
   "metadata": {},
   "outputs": [],
   "source": []
  }
 ],
 "metadata": {
  "colab": {
   "provenance": []
  },
  "kernelspec": {
   "display_name": "Python 3 (ipykernel)",
   "language": "python",
   "name": "python3"
  },
  "language_info": {
   "codemirror_mode": {
    "name": "ipython",
    "version": 3
   },
   "file_extension": ".py",
   "mimetype": "text/x-python",
   "name": "python",
   "nbconvert_exporter": "python",
   "pygments_lexer": "ipython3",
   "version": "3.12.1"
  }
 },
 "nbformat": 4,
 "nbformat_minor": 4
}
