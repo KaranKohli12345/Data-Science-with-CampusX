{
 "cells": [
  {
   "cell_type": "markdown",
   "id": "8b255c49-4f61-450b-96b3-99a1485ef943",
   "metadata": {},
   "source": [
    "## 1. Wap to typecast integer to string."
   ]
  },
  {
   "cell_type": "code",
   "execution_count": 8,
   "id": "df728008-da7c-4b63-b277-a5eeadb687a2",
   "metadata": {},
   "outputs": [
    {
     "name": "stdin",
     "output_type": "stream",
     "text": [
      "Enter a number:  475\n"
     ]
    },
    {
     "name": "stdout",
     "output_type": "stream",
     "text": [
      "475\n",
      "<class 'int'>\n",
      "<class 'str'>\n"
     ]
    }
   ],
   "source": [
    "n = int(input(\"Enter a number: \"))\n",
    "\n",
    "digit = \"0123456789\"\n",
    "s = \"\"\n",
    "\n",
    "while n != 0:\n",
    "    a = n % 10\n",
    "    s = digit[a] + s\n",
    "    n //= 10\n",
    "\n",
    "print(s)\n",
    "print(type(n))\n",
    "print(type(s))"
   ]
  },
  {
   "cell_type": "markdown",
   "id": "dafea9e1-6d09-4a66-8bcf-c4ab7de77f88",
   "metadata": {},
   "source": [
    "e.g. n = 475\n",
    "\n",
    "number of loops = 3\n",
    "\n",
    "n = 4750\n",
    "\n",
    "number of loops = 4\n"
   ]
  },
  {
   "cell_type": "markdown",
   "id": "5ed6749e-e4b5-4088-a201-c9aafa719caf",
   "metadata": {},
   "source": [
    "This behaviour is of log\n",
    "### so time complexity = log(n)"
   ]
  },
  {
   "cell_type": "markdown",
   "id": "9c09452a-470a-4e38-a8ee-fe2838c2daec",
   "metadata": {},
   "source": [
    "## 2. Sum and product of all items in a list."
   ]
  },
  {
   "cell_type": "code",
   "execution_count": 12,
   "id": "1f3a6806-8d41-4be3-972e-6107e8fadeda",
   "metadata": {},
   "outputs": [
    {
     "name": "stdout",
     "output_type": "stream",
     "text": [
      "15\n",
      "120\n"
     ]
    }
   ],
   "source": [
    "l = [1,2,3,4,5]\n",
    "\n",
    "sum = 0 \n",
    "\n",
    "for i in l:\n",
    "    sum += i\n",
    "\n",
    "product = 1\n",
    "\n",
    "for i in l:\n",
    "    product *= i\n",
    "\n",
    "print(sum)\n",
    "print(product)"
   ]
  },
  {
   "cell_type": "markdown",
   "id": "b9b5cacc-bd4d-4631-bb24-3bb85d3820fe",
   "metadata": {},
   "source": [
    "for 1st loop\n",
    "time complexity: O(n)\n",
    "\n",
    "for 2nd loop also:\n",
    "time complexity: O(n)\n",
    "\n",
    "Total: O(n) + O(n) = 2 O(n) = O(n)"
   ]
  },
  {
   "cell_type": "code",
   "execution_count": 14,
   "id": "8054838b-93b7-4c5d-9a68-d2cfe0b6fd70",
   "metadata": {},
   "outputs": [
    {
     "name": "stdout",
     "output_type": "stream",
     "text": [
      "1 5\n",
      "1 6\n",
      "1 7\n",
      "1 8\n",
      "2 5\n",
      "2 6\n",
      "2 7\n",
      "2 8\n",
      "3 5\n",
      "3 6\n",
      "3 7\n",
      "3 8\n",
      "4 5\n",
      "4 6\n",
      "4 7\n",
      "4 8\n"
     ]
    }
   ],
   "source": [
    "a = [1,2,3,4]\n",
    "b = [5,6,7,8]\n",
    "\n",
    "for i in a:\n",
    "    for j in b:\n",
    "        print(i,j)"
   ]
  },
  {
   "cell_type": "markdown",
   "id": "efe6cc7b-7302-439e-9628-7913674e1877",
   "metadata": {},
   "source": [
    "O(n) * O(n) = O(n^2)"
   ]
  },
  {
   "cell_type": "code",
   "execution_count": null,
   "id": "90129903-7d02-4228-800a-1d46ea3a7305",
   "metadata": {},
   "outputs": [],
   "source": [
    "a = [1,2,3,4]\n",
    "b = [5,6,7,8]\n",
    "\n",
    "for i in a:\n",
    "    for j in b:\n",
    "        for k in range(1000000):\n",
    "            print(i,j)"
   ]
  },
  {
   "cell_type": "markdown",
   "id": "0e89f0d2-14f7-4d13-acde-c7001b9b9b6f",
   "metadata": {},
   "source": [
    "O(n) * O(n) * O(1000000) = O(1000000*n^2) = O(n^2) "
   ]
  },
  {
   "cell_type": "code",
   "execution_count": 28,
   "id": "216b9aaf-57e6-4e96-9555-52e501a78a4b",
   "metadata": {},
   "outputs": [
    {
     "name": "stdout",
     "output_type": "stream",
     "text": [
      "[5, 4, 3, 2, 1]\n"
     ]
    }
   ],
   "source": [
    "l = [1,2,3,4,5]\n",
    "\n",
    "for i in range(len(l)//2):\n",
    "    temp = l[i]\n",
    "    l[i] = l[len(l) - i - 1]\n",
    "    l[len(l) - i - 1] = temp\n",
    "\n",
    "print(l)"
   ]
  },
  {
   "cell_type": "markdown",
   "id": "63ae0559-61ad-466f-a839-c337f19a5aaa",
   "metadata": {},
   "source": [
    "O(3n/2) = O(1.5n) = O(n)"
   ]
  },
  {
   "cell_type": "code",
   "execution_count": 17,
   "id": "5788640f-f270-4f6b-85fe-ca21ff602c75",
   "metadata": {},
   "outputs": [
    {
     "name": "stdout",
     "output_type": "stream",
     "text": [
      "50.0\n"
     ]
    }
   ],
   "source": [
    "n = 10\n",
    "sum = 0\n",
    "\n",
    "for i in range(n//2, n):\n",
    "    j = 2\n",
    "    \n",
    "    while j < n:\n",
    "        sum = sum + n/2\n",
    "        j += 2**j\n",
    "\n",
    "print(sum)"
   ]
  },
  {
   "cell_type": "markdown",
   "id": "15d4edf8-5577-4521-ab6d-f43567224a0c",
   "metadata": {},
   "source": [
    "here, for outer loop - O(n) - O(n-n/2) = O(n/2) = O(n)\n",
    "\n",
    "for inner loop: j = 2 - it runs 2^2 = 4 times\n",
    "                j = 3 - 2^3 = 8 \n",
    "                j = 4 - 2^4 = 16 \n",
    "                ...\n",
    "\n",
    "    condition : number of loops < n\n",
    "                2^j < n\n",
    "                log(2^j) < log(n)\n",
    "                j < log(n)/log(2)\n",
    "                So,- O(log(n))\n",
    "\n",
    "combined time complexity: O(nlog(n))\n"
   ]
  },
  {
   "cell_type": "code",
   "execution_count": 44,
   "id": "7230e67f-f366-49e7-b7a9-126b420e2d71",
   "metadata": {},
   "outputs": [
    {
     "name": "stdout",
     "output_type": "stream",
     "text": [
      "3.666666666666666\n"
     ]
    }
   ],
   "source": [
    "a = 10\n",
    "b = 3\n",
    "\n",
    "if b <= 0:\n",
    "    print(-1)\n",
    "div = a/b\n",
    "\n",
    "print(a-div-b)"
   ]
  },
  {
   "cell_type": "markdown",
   "id": "3d77441a-c2af-4536-a2fe-0d14b1687308",
   "metadata": {},
   "source": [
    "O(3) = O(1)"
   ]
  },
  {
   "cell_type": "code",
   "execution_count": 45,
   "id": "0cfb4604-0145-42ff-878c-ee278dc41996",
   "metadata": {},
   "outputs": [
    {
     "name": "stdout",
     "output_type": "stream",
     "text": [
      "9\n"
     ]
    }
   ],
   "source": [
    "n = 342\n",
    "\n",
    "sum = 0\n",
    "\n",
    "while n > 0:\n",
    "    sum = sum + n%10\n",
    "    n //= 10\n",
    "\n",
    "print(sum)"
   ]
  },
  {
   "cell_type": "markdown",
   "id": "352f6b66-7c17-4f50-9da7-53f6f602f0d3",
   "metadata": {},
   "source": [
    "O(log(n))"
   ]
  },
  {
   "cell_type": "code",
   "execution_count": 5,
   "id": "672d9e09-c6f3-4ca6-ac0e-39e91734e3c6",
   "metadata": {},
   "outputs": [
    {
     "data": {
      "text/plain": [
       "89"
      ]
     },
     "execution_count": 5,
     "metadata": {},
     "output_type": "execute_result"
    }
   ],
   "source": [
    "def fib(n):\n",
    "    if n == 1 or n == 0:\n",
    "        return 1\n",
    "    else:\n",
    "        return fib(n-1) + fib(n-2)\n",
    "\n",
    "fib(10)"
   ]
  },
  {
   "cell_type": "markdown",
   "id": "f621021f-5021-4483-b6dc-6afc265a8dc6",
   "metadata": {},
   "source": [
    "O(2^n)"
   ]
  },
  {
   "cell_type": "markdown",
   "id": "be81c34a-cff1-4cc7-9848-bd16f7ce5b14",
   "metadata": {},
   "source": [
    "## For a program computing the power set of a set:\n",
    "### time complexity = O(2^n)"
   ]
  },
  {
   "cell_type": "code",
   "execution_count": null,
   "id": "f806e679-b26e-4dd5-913c-2e3a03f921ab",
   "metadata": {},
   "outputs": [],
   "source": [
    "T(n) = { 3T(n-1) if n>0\n",
    "         1       otherwise "
   ]
  },
  {
   "cell_type": "markdown",
   "id": "36f108ab-a993-4ef2-bd0a-79626b8f10c7",
   "metadata": {},
   "source": [
    "T(n) = 3T(n-1)\n",
    "       3*3T(n-2) = 3^2 T(n-2)\n",
    "       3^3 T(n-3)\n",
    "       ...\n",
    "       3^n T(n-n) = 3^n T(0) = 3^n\n",
    "       Number of steps: 3^n\n",
    "\n",
    "       Time complexity = 3^n"
   ]
  },
  {
   "cell_type": "code",
   "execution_count": null,
   "id": "a60d8be8-6267-43ae-be76-c0a306153caf",
   "metadata": {},
   "outputs": [],
   "source": [
    "T(n) = { 2T(n-1) - 1 if n>0\n",
    "         1       otherwise "
   ]
  },
  {
   "cell_type": "markdown",
   "id": "e3664045-717f-46c7-8cd3-489a4ab2202b",
   "metadata": {},
   "source": [
    "T(n) =  2T(n-1) - 1\n",
    "        2*(2*T(n-2) - 1) - 1\n",
    "        2^2 T(n-2) - 2 - 1\n",
    "        2^2 (2 T(n-3) - 1) - 2 - 1\n",
    "        2^3 T(n-3) - 2^2 - 2^1 - 2^0\n",
    "        ...\n",
    "        2^n T(n-n) - 2^(n-1) - 2^(n-2) - 2^(n-3) - ... - 1\n",
    "        2^n T(0) - 2^(n-1) - 2^(n-2) - 2^(n-3) - ... - 1\n",
    "        2^n - 2^(n-1) - 2^(n-2) - 2^(n-3) - ... - 1\n",
    "        2^n - (2^(n-1) + 2^(n-2) + 2^(n-3) + ... + 1)\n",
    "        2^n - (2^(n-1+1) - 1)\n",
    "        2^n - 2^n + 1\n",
    "        1\n",
    "\n",
    "        So, time complexity = O(1)"
   ]
  },
  {
   "attachments": {
    "070c728a-75f2-4858-aa8b-2445821f5d5e.png": {
     "image/png": "[encoded data removed]"
    }
   },
   "cell_type": "markdown",
   "id": "520c650f-f3c4-4053-96bc-a5689fbc7434",
   "metadata": {},
   "source": [
    "![summation 2^n.png](attachment:070c728a-75f2-4858-aa8b-2445821f5d5e.png)"
   ]
  },
  {
   "cell_type": "code",
   "execution_count": null,
   "id": "fef616ea-99a8-4294-85a7-0c52dfe4fe1b",
   "metadata": {},
   "outputs": [],
   "source": []
  }
 ],
 "metadata": {
  "kernelspec": {
   "display_name": "Python 3 (ipykernel)",
   "language": "python",
   "name": "python3"
  },
  "language_info": {
   "codemirror_mode": {
    "name": "ipython",
    "version": 3
   },
   "file_extension": ".py",
   "mimetype": "text/x-python",
   "name": "python",
   "nbconvert_exporter": "python",
   "pygments_lexer": "ipython3",
   "version": "3.12.1"
  }
 },
 "nbformat": 4,
 "nbformat_minor": 5
}
