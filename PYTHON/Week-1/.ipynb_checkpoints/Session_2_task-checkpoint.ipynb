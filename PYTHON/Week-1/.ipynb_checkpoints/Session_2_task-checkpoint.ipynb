{
 "cells": [
  {
   "cell_type": "markdown",
   "metadata": {
    "id": "w6RlOAXV2PWh"
   },
   "source": [
    "### `Problem 1`: Write a program that will give you in hand monthly salary after deduction on CTC - HRA(10%), DA(5%), PF(3%) and taxes deduction as below:\n",
    "\n",
    "> Salary(Lakhs) : Tax(%)\n",
    "\n",
    "*   Below 5 : 0%\n",
    "*   5-10 : 10%\n",
    "*   10-20 : 20%\n",
    "*   aboove 20 : 30%"
   ]
  },
  {
   "cell_type": "code",
   "execution_count": 10,
   "metadata": {
    "colab": {
     "base_uri": "https://localhost:8080/"
    },
    "id": "7tMHvKYO2etI",
    "outputId": "b2aa0803-0910-4716-e22c-54759ed87e29"
   },
   "outputs": [
    {
     "name": "stdin",
     "output_type": "stream",
     "text": [
      "Enter your ctc:  800000\n"
     ]
    },
    {
     "name": "stdout",
     "output_type": "stream",
     "text": [
      "Your in hand salary is:  48000.0\n"
     ]
    }
   ],
   "source": [
    "ctc = int(input(\"Enter your ctc: \"))\n",
    "\n",
    "if ctc <= 500000:\n",
    "  tax = 0\n",
    "elif ctc > 500000 and ctc <= 1000000:\n",
    "  tax = 0.1\n",
    "elif ctc > 1000000 and ctc <= 2000000:\n",
    "  tax = 0.2\n",
    "elif ctc > 2000000:\n",
    "  tax = 0.3\n",
    "\n",
    "inHand = 0.82*ctc - tax*ctc\n",
    "\n",
    "print(\"Your in hand salary is: \", round(inHand/12, 0))"
   ]
  },
  {
   "cell_type": "markdown",
   "metadata": {
    "id": "tYzCGqwl2hfN"
   },
   "source": [
    "### `Problem 2`: Write a program that take a user input of three angles and will find out whether it can form a triangle or not."
   ]
  },
  {
   "cell_type": "code",
   "execution_count": 14,
   "metadata": {
    "colab": {
     "base_uri": "https://localhost:8080/"
    },
    "id": "FYEqln-I2kxV",
    "outputId": "6cf99c4e-68e8-4b1c-da30-933426582af5"
   },
   "outputs": [
    {
     "name": "stdin",
     "output_type": "stream",
     "text": [
      "Enter first angle:  64\n",
      "Enter second angle:  12\n",
      "Enter third angle:  104\n"
     ]
    },
    {
     "name": "stdout",
     "output_type": "stream",
     "text": [
      "It can form a triangle.\n"
     ]
    }
   ],
   "source": [
    "a = int(input(\"Enter first angle: \"))\n",
    "b = int(input(\"Enter second angle: \"))\n",
    "c = int(input(\"Enter third angle: \"))\n",
    "\n",
    "if a+b+c == 180 and a>0 and b>0 and c>0:\n",
    "  print(\"It can form a triangle.\")\n",
    "else:\n",
    "  print(\"It cannot form a triangle.\")"
   ]
  },
  {
   "cell_type": "markdown",
   "metadata": {
    "id": "5vEpPh8C2pE4"
   },
   "source": [
    "### `Problem 3`: Write a program that will take user input of cost price and selling price and determines whether its a loss or a profit."
   ]
  },
  {
   "cell_type": "code",
   "execution_count": 19,
   "metadata": {
    "colab": {
     "base_uri": "https://localhost:8080/"
    },
    "id": "jDwBXlkO2sfl",
    "outputId": "7dc88d68-4c03-4a28-fc3a-169246dc6b6e"
   },
   "outputs": [
    {
     "name": "stdin",
     "output_type": "stream",
     "text": [
      "Enter cost price:  56\n",
      "Enter selling price:  78\n"
     ]
    },
    {
     "name": "stdout",
     "output_type": "stream",
     "text": [
      "Profit\n"
     ]
    }
   ],
   "source": [
    "costPrice = float(input(\"Enter cost price: \"))\n",
    "sellingPrice = float(input(\"Enter selling price: \"))\n",
    "\n",
    "if costPrice<sellingPrice:\n",
    "  print(\"Profit\")\n",
    "elif costPrice>sellingPrice:\n",
    "  print(\"Loss\")\n",
    "else:\n",
    "    print(\"No profit no loss\")"
   ]
  },
  {
   "cell_type": "markdown",
   "metadata": {
    "id": "J_FG_cJW2ugT"
   },
   "source": [
    "### `Problem 4`: Write a menu-driven program -\n",
    "1. cm to ft\n",
    "2. km to miles\n",
    "3. USD to INR\n",
    "4. exit"
   ]
  },
  {
   "cell_type": "code",
   "execution_count": 3,
   "metadata": {
    "colab": {
     "base_uri": "https://localhost:8080/"
    },
    "id": "yBHhaCGQ2zpD",
    "outputId": "f5e578fc-bb66-45c5-94c6-dd3e8de9045f"
   },
   "outputs": [
    {
     "name": "stdin",
     "output_type": "stream",
     "text": [
      "Enter any number between 1 and 4:\n",
      "1. cm to ft\n",
      "2. km to miles\n",
      "3. USD to INR\n",
      "4. exit\n",
      " 4\n"
     ]
    }
   ],
   "source": [
    "n = int(input(\"\"\"Enter any number between 1 and 4:\n",
    "1. cm to ft\n",
    "2. km to miles\n",
    "3. USD to INR\n",
    "4. exit\n",
    "\"\"\"))\n",
    "\n",
    "if n == 1:\n",
    "  cm = float(input(\"Enter value in cm: \"))\n",
    "  ft = cm/30.48\n",
    "  print(cm, \"cm = \", ft, \"ft\")\n",
    "\n",
    "elif n == 2:\n",
    "  km = float(input(\"Enter value in km: \"))\n",
    "  mile = km/1.609\n",
    "  print(km, \"km = \", mile, \"mile\")\n",
    "\n",
    "elif n == 3:\n",
    "  usd = float(input(\"Enter value in usd: \"))\n",
    "  inr = usd*83.55\n",
    "  print(usd, \"usd = \", inr, \"inr\")\n",
    "\n",
    "elif n == 4:\n",
    "  exit()\n",
    "\n",
    "else:\n",
    "  print(\"Invalid\")"
   ]
  },
  {
   "cell_type": "markdown",
   "metadata": {
    "id": "LJJ30_Yw27ZU"
   },
   "source": [
    "### `Problem 5` - Exercise 12: Display Fibonacci series up to 10 terms.\n",
    "\n",
    "*Note: The Fibonacci Sequence is a series of numbers. The next number is found by adding up the two numbers before it. The first two numbers are 0 and 1. For example, 0, 1, 1, 2, 3, 5, 8, 13, 21. The next number in this series above is 13+21 = 34*"
   ]
  },
  {
   "cell_type": "code",
   "execution_count": 3,
   "metadata": {
    "colab": {
     "base_uri": "https://localhost:8080/"
    },
    "id": "ae_1rpe52-5R",
    "outputId": "a648234b-7188-4094-9b90-ffd3ed533649"
   },
   "outputs": [
    {
     "name": "stdout",
     "output_type": "stream",
     "text": [
      "0\n",
      "1\n",
      "1\n",
      "2\n",
      "3\n",
      "5\n",
      "8\n",
      "13\n",
      "21\n",
      "34\n",
      "55\n",
      "89\n"
     ]
    }
   ],
   "source": [
    "a,b = 0,1\n",
    "\n",
    "print(a)\n",
    "print(b)\n",
    "\n",
    "for i in range(10):\n",
    "  c = a + b\n",
    "  a = b\n",
    "  b = c\n",
    "\n",
    "  print(c)"
   ]
  },
  {
   "cell_type": "markdown",
   "metadata": {
    "id": "pk_I_S4m3PT5"
   },
   "source": [
    "### `Problem 6` - Find the factorial of a given number.\n",
    "\n",
    "Write a program to use the loop to find the factorial of a given number.\n",
    "\n",
    "The factorial (symbol: `!`) means to multiply all whole numbers from the chosen number down to 1.\n",
    "\n",
    "For example: calculate the factorial of 5\n",
    "\n",
    "```bash\n",
    "5! = 5 × 4 × 3 × 2 × 1 = 120\n",
    "```\n",
    "\n",
    "Output:\n",
    "\n",
    "```bash\n",
    "120\n",
    "```"
   ]
  },
  {
   "cell_type": "code",
   "execution_count": 1,
   "metadata": {
    "colab": {
     "base_uri": "https://localhost:8080/"
    },
    "id": "lzXxHegx3Rkc",
    "outputId": "1f8f5b50-609f-4960-a60c-6e3a2729880a"
   },
   "outputs": [
    {
     "name": "stdin",
     "output_type": "stream",
     "text": [
      "Enter n:  5\n"
     ]
    },
    {
     "name": "stdout",
     "output_type": "stream",
     "text": [
      "5 ! =  120\n"
     ]
    }
   ],
   "source": [
    "n = int(input(\"Enter n: \"))\n",
    "\n",
    "ans = 1\n",
    "\n",
    "if n>=0:\n",
    "  for i in range(n):\n",
    "    ans = ans*(n-i)\n",
    "\n",
    "  print(n,\"! = \", ans)\n",
    "\n",
    "else:\n",
    "  print(\"Invalid!\")"
   ]
  },
  {
   "cell_type": "markdown",
   "metadata": {
    "id": "-17IOi-g3UpU"
   },
   "source": [
    "### `Problem 7` - Reverse a given integer number.\n",
    "\n",
    "Example:\n",
    "\n",
    "`Input:`\n",
    "\n",
    "```bash\n",
    "76542\n",
    "```\n",
    "\n",
    "`Output:`\n",
    "\n",
    "```bash\n",
    "24567\n",
    "```"
   ]
  },
  {
   "cell_type": "code",
   "execution_count": 6,
   "metadata": {},
   "outputs": [
    {
     "name": "stdin",
     "output_type": "stream",
     "text": [
      "Enter n:  784512\n"
     ]
    },
    {
     "name": "stdout",
     "output_type": "stream",
     "text": [
      "215487"
     ]
    }
   ],
   "source": [
    "# for number of digits = 5\n",
    "\n",
    "n = int(input(\"Enter n: \"))\n",
    "\n",
    "while n!=0:\n",
    "    a = n%10\n",
    "    print(a, end=\"\")\n",
    "    n//=10"
   ]
  },
  {
   "cell_type": "code",
   "execution_count": 14,
   "metadata": {},
   "outputs": [
    {
     "name": "stdin",
     "output_type": "stream",
     "text": [
      "Enter n:  45681\n"
     ]
    },
    {
     "name": "stdout",
     "output_type": "stream",
     "text": [
      "18654\n"
     ]
    }
   ],
   "source": [
    "# or\n",
    "\n",
    "n = int(input(\"Enter n: \"))\n",
    "\n",
    "rev = 0\n",
    "\n",
    "while n!=0:\n",
    "    a = n%10\n",
    "    rev = 10*rev + a\n",
    "    n//=10\n",
    "\n",
    "print(rev)"
   ]
  },
  {
   "cell_type": "markdown",
   "metadata": {
    "id": "-t8PJQaY3sHf"
   },
   "source": [
    "### `Problem 8`: Take a user input as integer N. Find out the sum from 1 to N. If any number if divisible by 5, then skip that number. And if the sum is greater than 300, don't need to calculate the sum further more. Print the final result. And don't use for loop to solve this problem.\n",
    "\n",
    "**Example 1:**\n",
    "\n",
    "`Input:`\n",
    "\n",
    "```bash\n",
    "30\n",
    "```\n",
    "\n",
    "`Output:`\n",
    "\n",
    "```bash\n",
    "276\n",
    "```"
   ]
  },
  {
   "cell_type": "code",
   "execution_count": 18,
   "metadata": {},
   "outputs": [
    {
     "name": "stdin",
     "output_type": "stream",
     "text": [
      "Enter n:  60\n"
     ]
    },
    {
     "name": "stdout",
     "output_type": "stream",
     "text": [
      "276\n",
      "27\n"
     ]
    }
   ],
   "source": [
    "n = int(input(\"Enter n: \"))\n",
    "\n",
    "i = 1\n",
    "sum = 0\n",
    "\n",
    "while i <= n:\n",
    "    if i%5 == 0:\n",
    "        i += 1\n",
    "        continue\n",
    "    sum += i\n",
    "\n",
    "    if sum > 300:\n",
    "        sum -= i\n",
    "        break\n",
    "\n",
    "    i += 1\n",
    "\n",
    "print(sum)\n",
    "print(i)"
   ]
  },
  {
   "cell_type": "markdown",
   "metadata": {
    "id": "Q7ggImeA3xm4"
   },
   "source": [
    "### `Problem 9`: Write a program that keeps on accepting a number from the user until the user enters Zero. Display the sum and average of all the numbers."
   ]
  },
  {
   "cell_type": "code",
   "execution_count": 21,
   "metadata": {
    "colab": {
     "base_uri": "https://localhost:8080/"
    },
    "id": "t_YDSZDe4Kdo",
    "outputId": "7f4d6682-627f-4027-8efe-80971b802fff"
   },
   "outputs": [
    {
     "name": "stdin",
     "output_type": "stream",
     "text": [
      "Enter n:  5\n",
      "Enter n:  4\n",
      "Enter n:  28\n",
      "Enter n:  7\n",
      "Enter n:  5\n",
      "Enter n:  4\n",
      "Enter n:  4\n",
      "Enter n:  4\n",
      "Enter n:  5\n",
      "Enter n:  0\n"
     ]
    },
    {
     "name": "stdout",
     "output_type": "stream",
     "text": [
      "You entered zero!\n",
      "66\n",
      "6.6\n"
     ]
    }
   ],
   "source": [
    "n = int(input(\"Enter n: \"))\n",
    "\n",
    "sum = n\n",
    "count = 1\n",
    "\n",
    "while n != 0:\n",
    "  n = int(input(\"Enter n: \"))\n",
    "  sum += n\n",
    "  count += 1\n",
    "\n",
    "else:\n",
    "  print(\"You entered zero!\")\n",
    "\n",
    "print(sum)\n",
    "print(round(sum/count, 2))"
   ]
  },
  {
   "cell_type": "markdown",
   "metadata": {
    "id": "6EhvEMvm4R7s"
   },
   "source": [
    "### `Problem 9`: Write a program which will find all such numbers which are divisible by 7 but are not a multiple of 5, between 2000 and 3200 (both included). The numbers obtained should be printed in a comma-separated sequence on a single line."
   ]
  },
  {
   "cell_type": "code",
   "execution_count": 5,
   "metadata": {
    "colab": {
     "base_uri": "https://localhost:8080/"
    },
    "id": "d6RgP1B34T6c",
    "outputId": "f52716e4-e720-4aa4-e81c-5c15507696f0"
   },
   "outputs": [
    {
     "name": "stdout",
     "output_type": "stream",
     "text": [
      "2002, 2009, 2016, 2023, 2037, 2044, 2051, 2058, 2072, 2079, 2086, 2093, 2107, 2114, 2121, 2128, 2142, 2149, 2156, 2163, 2177, 2184, 2191, 2198, 2212, 2219, 2226, 2233, 2247, 2254, 2261, 2268, 2282, 2289, 2296, 2303, 2317, 2324, 2331, 2338, 2352, 2359, 2366, 2373, 2387, 2394, 2401, 2408, 2422, 2429, 2436, 2443, 2457, 2464, 2471, 2478, 2492, 2499, 2506, 2513, 2527, 2534, 2541, 2548, 2562, 2569, 2576, 2583, 2597, 2604, 2611, 2618, 2632, 2639, 2646, 2653, 2667, 2674, 2681, 2688, 2702, 2709, 2716, 2723, 2737, 2744, 2751, 2758, 2772, 2779, 2786, 2793, 2807, 2814, 2821, 2828, 2842, 2849, 2856, 2863, 2877, 2884, 2891, 2898, 2912, 2919, 2926, 2933, 2947, 2954, 2961, 2968, 2982, 2989, 2996, 3003, 3017, 3024, 3031, 3038, 3052, 3059, 3066, 3073, 3087, 3094, 3101, 3108, 3122, 3129, 3136, 3143, 3157, 3164, 3171, 3178, 3192, 3199, "
     ]
    }
   ],
   "source": [
    "for i in range(2000, 3201):\n",
    "  if i%7==0 and i%5!=0:\n",
    "    print(i, end=\", \")"
   ]
  },
  {
   "cell_type": "markdown",
   "metadata": {
    "id": "tYvmRR-G4Vp4"
   },
   "source": [
    "### `Problem 10`: Write a program, which will find all such numbers between 1000 and 3000 (both included) such that each digit of the number is an even number. The numbers obtained should be printed in a space-separated sequence on a single line.\n",
    "\n"
   ]
  },
  {
   "cell_type": "code",
   "execution_count": 71,
   "metadata": {},
   "outputs": [
    {
     "name": "stdout",
     "output_type": "stream",
     "text": [
      "2000, 2002, 2004, 2006, 2008, 2020, 2022, 2024, 2026, 2028, 2040, 2042, 2044, 2046, 2048, 2060, 2062, 2064, 2066, 2068, 2080, 2082, 2084, 2086, 2088, 2200, 2202, 2204, 2206, 2208, 2220, 2222, 2224, 2226, 2228, 2240, 2242, 2244, 2246, 2248, 2260, 2262, 2264, 2266, 2268, 2280, 2282, 2284, 2286, 2288, 2400, 2402, 2404, 2406, 2408, 2420, 2422, 2424, 2426, 2428, 2440, 2442, 2444, 2446, 2448, 2460, 2462, 2464, 2466, 2468, 2480, 2482, 2484, 2486, 2488, 2600, 2602, 2604, 2606, 2608, 2620, 2622, 2624, 2626, 2628, 2640, 2642, 2644, 2646, 2648, 2660, 2662, 2664, 2666, 2668, 2680, 2682, 2684, 2686, 2688, 2800, 2802, 2804, 2806, 2808, 2820, 2822, 2824, 2826, 2828, 2840, 2842, 2844, 2846, 2848, 2860, 2862, 2864, 2866, 2868, 2880, 2882, 2884, 2886, 2888, "
     ]
    }
   ],
   "source": [
    "for i in range(1000, 3001):\n",
    "    flag = True\n",
    "    var = i\n",
    "    \n",
    "    while i != 0:\n",
    "        a = i%10\n",
    "        if a%2 != 0:\n",
    "            flag = False\n",
    "            break\n",
    "        i //= 10\n",
    "\n",
    "    if flag:\n",
    "        print(var, end=\", \")"
   ]
  },
  {
   "cell_type": "markdown",
   "metadata": {
    "id": "GV18IINT4mf5"
   },
   "source": [
    "### `Problem 11`: A robot moves in a plane starting from the original point (0,0). The robot can move toward UP, DOWN, LEFT and RIGHT with a given steps.\n",
    "The trace of robot movement is shown as the following:\n",
    "```\n",
    "UP 5\n",
    "DOWN 3\n",
    "LEFT 3\n",
    "RIGHT 2\n",
    "!\n",
    "```\n",
    "> The numbers after the direction are steps.\n",
    "\n",
    "> `!` means robot stop there.\n",
    "\n",
    "**Please write a program to compute the distance from current position after a sequence of movement and original point.**\n",
    "\n",
    "*If the distance is a float, then just print the nearest integer.*\n",
    "\n",
    "Example:\n",
    "\n",
    "`Input`:\n",
    "```\n",
    "UP 5\n",
    "DOWN 3\n",
    "LEFT 3\n",
    "RIGHT 2\n",
    "!\n",
    "```\n",
    "`Output`:\n",
    "```\n",
    "2\n",
    "```"
   ]
  },
  {
   "cell_type": "code",
   "execution_count": 90,
   "metadata": {},
   "outputs": [
    {
     "name": "stdin",
     "output_type": "stream",
     "text": [
      "Enter robot's path:  UP 4\n",
      "Enter robot's path:  DOWN 9\n",
      "Enter robot's path:  LEFT 10\n",
      "Enter robot's path:  RIGHT 2\n",
      "Enter robot's path:  LEFT 2\n",
      "Enter robot's path:  !\n"
     ]
    },
    {
     "name": "stdout",
     "output_type": "stream",
     "text": [
      "[-10, -5]\n",
      "11\n"
     ]
    }
   ],
   "source": [
    "position = [0,0]\n",
    "\n",
    "while True:\n",
    "    s = input(\"Enter robot's path: \")\n",
    "\n",
    "    if s == '!':\n",
    "        break\n",
    "        \n",
    "    direction = (s.split())[0]\n",
    "    magnitude = (s.split())[1]\n",
    "    \n",
    "    if direction == \"UP\":\n",
    "        position[1] = position[1] + int(magnitude)\n",
    "    elif direction == \"DOWN\":\n",
    "        position[1] = position[1] - int(magnitude)    \n",
    "    elif direction == \"LEFT\":\n",
    "        position[0] = position[0] - int(magnitude) \n",
    "    elif direction == \"RIGHT\":\n",
    "        position[0] = position[0] + int(magnitude)\n",
    "    else:\n",
    "        print(\"Invalid\")\n",
    "\n",
    "x = position[0] \n",
    "y = position[1]\n",
    "\n",
    "distance = ((x-0)**2+(y-0)**2)**0.5 \n",
    "\n",
    "print(position)\n",
    "print(int(round(distance, 0)))        "
   ]
  },
  {
   "cell_type": "markdown",
   "metadata": {
    "id": "3fsAIAhK5GYY"
   },
   "source": [
    "### `Problem 12`:Write a program to print whether a given number is a prime number or not"
   ]
  },
  {
   "cell_type": "code",
   "execution_count": 100,
   "metadata": {
    "id": "j6y91lxy5LZs"
   },
   "outputs": [
    {
     "name": "stdin",
     "output_type": "stream",
     "text": [
      "Enter n:  7\n"
     ]
    },
    {
     "name": "stdout",
     "output_type": "stream",
     "text": [
      "Prime\n"
     ]
    }
   ],
   "source": [
    "n = int(input(\"Enter n: \"))\n",
    "\n",
    "for i in range(2, n//2):\n",
    "    if n%i == 0:\n",
    "        print(\"Not prime\")\n",
    "        break\n",
    "else:\n",
    "    print(\"Prime\")          "
   ]
  },
  {
   "cell_type": "markdown",
   "metadata": {
    "id": "asAbmbK-5NHv"
   },
   "source": [
    "### `Problem 13`:Print all the Armstrong numbers in a given range.\n",
    "Range will be provided by the user<br>\n",
    "Armstrong number is a number that is equal to the sum of cubes of its digits. For example 0, 1, 153, 370, 371 and 407 are the Armstrong numbers."
   ]
  },
  {
   "cell_type": "code",
   "execution_count": 1,
   "metadata": {
    "id": "PZuI67pm5jCT"
   },
   "outputs": [
    {
     "name": "stdin",
     "output_type": "stream",
     "text": [
      "Enter n:  488\n"
     ]
    },
    {
     "name": "stdout",
     "output_type": "stream",
     "text": [
      "Not armstrong number.\n"
     ]
    }
   ],
   "source": [
    "# armstrong number\n",
    "\n",
    "num = int(input(\"Enter n: \"))\n",
    "\n",
    "n = num\n",
    "sum = 0\n",
    "\n",
    "while n != 0:\n",
    "    a = n % 10\n",
    "    sum += a*a*a\n",
    "    n //= 10\n",
    "\n",
    "if sum == num:\n",
    "    print(\"Armstrong number.\")\n",
    "else:\n",
    "    print(\"Not armstrong number.\")"
   ]
  },
  {
   "cell_type": "code",
   "execution_count": 5,
   "metadata": {},
   "outputs": [
    {
     "name": "stdin",
     "output_type": "stream",
     "text": [
      "Enter lower range:  1\n",
      "Enter upper range:  1000\n"
     ]
    },
    {
     "name": "stdout",
     "output_type": "stream",
     "text": [
      "1\n",
      "153\n",
      "370\n",
      "371\n",
      "407\n"
     ]
    }
   ],
   "source": [
    "# armstrong number in a given range\n",
    "\n",
    "lower = int(input(\"Enter lower range: \"))\n",
    "upper = int(input(\"Enter upper range: \"))\n",
    "\n",
    "for i in range(lower, upper):\n",
    "    sum = 0\n",
    "    num = i\n",
    "    while num != 0:\n",
    "        a = num % 10\n",
    "        sum += a**3\n",
    "        num //= 10\n",
    "\n",
    "    if sum == i:\n",
    "        print(sum)    "
   ]
  },
  {
   "cell_type": "markdown",
   "metadata": {
    "id": "ClCQZMqT7gK0"
   },
   "source": [
    "### `Problem 14`:Calculate the angle between the hour hand and minute hand.\n",
    "\n",
    "Note: There can be two angles between hands; we need to print a minimum of two. Also, we need to print the floor of the final result angle. For example, if the final angle is 10.61, we need to print 10.\n",
    "\n",
    "Input:<br>\n",
    "H = 9 , M = 0<br>\n",
    "Output:<br>\n",
    "90<br>\n",
    "Explanation:<br>\n",
    "The minimum angle between hour and minute\n",
    "hand when the time is 9 is 90 degress."
   ]
  },
  {
   "cell_type": "code",
   "execution_count": 35,
   "metadata": {
    "id": "tNBTCZML7jy_"
   },
   "outputs": [
    {
     "name": "stdin",
     "output_type": "stream",
     "text": [
      "Enter hour hand:  1\n",
      "Enter minute hand:  20\n"
     ]
    },
    {
     "name": "stdout",
     "output_type": "stream",
     "text": [
      "80.0\n"
     ]
    }
   ],
   "source": [
    "hour = int(input(\"Enter hour hand: \"))\n",
    "minute = int(input(\"Enter minute hand: \"))\n",
    "\n",
    "if not(0<=hour<12) or not(0<=minute<60):\n",
    "    print(\"Invalid input.\")\n",
    "\n",
    "else:\n",
    "    hour_pos = 30*hour + 0.5*minute\n",
    "    minute_pos = 6*minute \n",
    "    \n",
    "    angle_diff = abs(hour_pos - minute_pos)\n",
    "    smaller_angle = min(angle_diff, 360 - angle_diff)\n",
    "    \n",
    "    print(smaller_angle)"
   ]
  },
  {
   "cell_type": "code",
   "execution_count": 15,
   "metadata": {},
   "outputs": [
    {
     "data": {
      "text/plain": [
       "5"
      ]
     },
     "execution_count": 15,
     "metadata": {},
     "output_type": "execute_result"
    }
   ],
   "source": [
    "abs(-5)"
   ]
  },
  {
   "cell_type": "markdown",
   "metadata": {
    "id": "GwacF9Co72Qc"
   },
   "source": [
    "### `Problem 15`:Given two rectangles, find if the given two rectangles overlap or not. A rectangle is denoted by providing the x and y coordinates of two points: the left top corner and the right bottom corner of the rectangle. Two rectangles sharing a side are considered overlapping. (L1 and R1 are the extreme points of the first rectangle and L2 and R2 are the extreme points of the second rectangle).\n",
    "\n",
    "Note: It may be assumed that the rectangles are parallel to the coordinate axis."
   ]
  },
  {
   "attachments": {
    "f861e42c-fa6c-4e34-89b5-b4adf33e65c6.png": {
     "image/png": "[encoded data removed]"
    }
   },
   "cell_type": "markdown",
   "metadata": {},
   "source": [
    "![rectanglesOverlap.png](attachment:f861e42c-fa6c-4e34-89b5-b4adf33e65c6.png)"
   ]
  },
  {
   "cell_type": "code",
   "execution_count": 62,
   "metadata": {},
   "outputs": [
    {
     "name": "stdout",
     "output_type": "stream",
     "text": [
      "Overlap\n"
     ]
    }
   ],
   "source": [
    "L1 = (0, 10)\n",
    "R1 = (5, 0)\n",
    "L2 = (3, 6)\n",
    "R2 = (8, 2)\n",
    "\n",
    "if R1[0] < L2[0] or R2[0] < L1[0]:\n",
    "    print(\"Do not overlap\")\n",
    "elif L1[1] < R2[1] or L2[1] < R1[1]:\n",
    "    print(\"Do not overlap\")\n",
    "else:  \n",
    "    print(\"Overlap\")"
   ]
  },
  {
   "cell_type": "code",
   "execution_count": null,
   "metadata": {},
   "outputs": [],
   "source": []
  }
 ],
 "metadata": {
  "colab": {
   "provenance": []
  },
  "kernelspec": {
   "display_name": "Python 3 (ipykernel)",
   "language": "python",
   "name": "python3"
  },
  "language_info": {
   "codemirror_mode": {
    "name": "ipython",
    "version": 3
   },
   "file_extension": ".py",
   "mimetype": "text/x-python",
   "name": "python",
   "nbconvert_exporter": "python",
   "pygments_lexer": "ipython3",
   "version": "3.12.1"
  }
 },
 "nbformat": 4,
 "nbformat_minor": 4
}
