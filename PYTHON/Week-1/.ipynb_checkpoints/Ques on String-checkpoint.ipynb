{
 "cells": [
  {
   "cell_type": "markdown",
   "id": "21d222d1-0f67-4345-9b5d-7d92e83a6c22",
   "metadata": {},
   "source": [
    "# 1. Find the length of a given string without using the len() function."
   ]
  },
  {
   "cell_type": "code",
   "execution_count": 3,
   "id": "09831d27-d0b1-4ff4-84b5-8c60b791925f",
   "metadata": {},
   "outputs": [
    {
     "name": "stdin",
     "output_type": "stream",
     "text": [
      "Enter string:  hello world!\n"
     ]
    },
    {
     "name": "stdout",
     "output_type": "stream",
     "text": [
      "12\n"
     ]
    }
   ],
   "source": [
    "s = input(\"Enter string: \")\n",
    "\n",
    "count = 0\n",
    "\n",
    "for i in s:\n",
    "    count += 1\n",
    "\n",
    "print(count)"
   ]
  },
  {
   "cell_type": "markdown",
   "id": "f498e630-0c71-4280-99cd-19eec2eb52c0",
   "metadata": {},
   "source": [
    "# 2. Extract username from a given email."
   ]
  },
  {
   "cell_type": "code",
   "execution_count": 6,
   "id": "a752528c-5e98-4575-8e88-e9f528697838",
   "metadata": {},
   "outputs": [
    {
     "name": "stdin",
     "output_type": "stream",
     "text": [
      "Enter email:  hi123@gmail.com\n"
     ]
    },
    {
     "name": "stdout",
     "output_type": "stream",
     "text": [
      "Username:  hi123\n"
     ]
    }
   ],
   "source": [
    "email = input(\"Enter email: \")\n",
    "\n",
    "s = email.split(\"@\")\n",
    "\n",
    "print(\"Username: \", s[0])"
   ]
  },
  {
   "cell_type": "markdown",
   "id": "98de5733-deae-43e4-9e14-2b58eee8c3c0",
   "metadata": {},
   "source": [
    "## or"
   ]
  },
  {
   "cell_type": "code",
   "execution_count": 9,
   "id": "6f9c137b-1b6f-46a2-bcb7-c1fb21957181",
   "metadata": {},
   "outputs": [
    {
     "name": "stdin",
     "output_type": "stream",
     "text": [
      "Enter email:  hi123@gmail.com\n"
     ]
    },
    {
     "name": "stdout",
     "output_type": "stream",
     "text": [
      "Username:  hi123\n"
     ]
    }
   ],
   "source": [
    "email = input(\"Enter email: \")\n",
    "\n",
    "s = email.find(\"@\")\n",
    "\n",
    "print(\"Username: \", email[:s])"
   ]
  },
  {
   "cell_type": "markdown",
   "id": "26bf50c4-f804-4ccb-b78b-62b14c37492b",
   "metadata": {},
   "source": [
    "# 3. Count the frequency of a particular character in a provided string."
   ]
  },
  {
   "cell_type": "code",
   "execution_count": 15,
   "id": "36315b98-90cb-437a-93f8-899bf1ae7f54",
   "metadata": {},
   "outputs": [
    {
     "name": "stdin",
     "output_type": "stream",
     "text": [
      "Enter string:  hi hello\n",
      "Enter character:  h\n"
     ]
    },
    {
     "name": "stdout",
     "output_type": "stream",
     "text": [
      "2\n"
     ]
    }
   ],
   "source": [
    "s = input(\"Enter string: \")\n",
    "c = input(\"Enter character: \")\n",
    "\n",
    "count = 0\n",
    "\n",
    "for i in s:\n",
    "    if i==c:\n",
    "        count += 1\n",
    "\n",
    "print(count)"
   ]
  },
  {
   "cell_type": "markdown",
   "id": "ba8a3d52-bd5f-4e39-a220-b5fcb247c50d",
   "metadata": {},
   "source": [
    "# 4. Wap which can remove a particular character from a string."
   ]
  },
  {
   "cell_type": "code",
   "execution_count": 25,
   "id": "b3d7fdaf-db65-4b49-a4ef-9a162ddee4e1",
   "metadata": {},
   "outputs": [
    {
     "name": "stdin",
     "output_type": "stream",
     "text": [
      "Enter string:  hello\n",
      "Enter character:  l\n"
     ]
    },
    {
     "name": "stdout",
     "output_type": "stream",
     "text": [
      "heo\n"
     ]
    }
   ],
   "source": [
    "s = input(\"Enter string: \")\n",
    "c = input(\"Enter character: \")\n",
    "\n",
    "str = \"\"\n",
    "\n",
    "for i in s:\n",
    "    if i!=c:\n",
    "        str+=i\n",
    "\n",
    "print(str)"
   ]
  },
  {
   "cell_type": "markdown",
   "id": "20cb5534-6306-4d04-8976-15863c20e142",
   "metadata": {},
   "source": [
    "# 5. Wap that can check whether a given string is palindrome or not."
   ]
  },
  {
   "cell_type": "code",
   "execution_count": 25,
   "id": "3b4d0f07-3f6d-410c-97c3-d6a4ecaa5db2",
   "metadata": {},
   "outputs": [
    {
     "name": "stdin",
     "output_type": "stream",
     "text": [
      "Enter string:  racecar\n"
     ]
    },
    {
     "name": "stdout",
     "output_type": "stream",
     "text": [
      "palindrome\n"
     ]
    }
   ],
   "source": [
    "s = input(\"Enter string: \")\n",
    "# s = \"racecar\", malayalam, wow, abba.\n",
    "\n",
    "for i in range(len(s)//2):\n",
    "    if s[i] != s[-(i+1)]:\n",
    "        print(\"Not palindrome\")\n",
    "        break\n",
    "else:\n",
    "    print(\"palindrome\")"
   ]
  },
  {
   "cell_type": "markdown",
   "id": "60a3a972-822e-453e-93d7-310905e93cb8",
   "metadata": {},
   "source": [
    "## or"
   ]
  },
  {
   "cell_type": "code",
   "execution_count": null,
   "id": "1e60feb2-6189-4b81-9a0e-ad40788041cf",
   "metadata": {},
   "outputs": [],
   "source": [
    "s = input(\"Enter string: \")\n",
    "\n",
    "if s == s[::-1]"
   ]
  },
  {
   "cell_type": "markdown",
   "id": "3cec930a-8f37-43bc-89df-4d9148eaf0f1",
   "metadata": {},
   "source": [
    "# 6. Wap to count the number of words in a string without split()."
   ]
  },
  {
   "cell_type": "code",
   "execution_count": 59,
   "id": "10f81111-9572-4c33-be28-ba0c9aceeb3e",
   "metadata": {},
   "outputs": [
    {
     "name": "stdin",
     "output_type": "stream",
     "text": [
      "Enter string:  hi how are you\n"
     ]
    },
    {
     "name": "stdout",
     "output_type": "stream",
     "text": [
      "['hi', 'how', 'are', 'you']\n"
     ]
    }
   ],
   "source": [
    "s = input(\"Enter string: \")\n",
    "\n",
    "temp = \"\"\n",
    "l = []\n",
    "\n",
    "for i in s:\n",
    "    if i != \" \":\n",
    "        temp += i\n",
    "    else:\n",
    "        l.append(temp)\n",
    "        temp = \"\"\n",
    "\n",
    "l.append(temp)\n",
    "\n",
    "print(l)"
   ]
  },
  {
   "cell_type": "markdown",
   "id": "837e6a46-4255-43cc-befc-8dc816cc66ef",
   "metadata": {},
   "source": [
    "# 7. Wap to convert a string to title case without using the title()."
   ]
  },
  {
   "cell_type": "code",
   "execution_count": 49,
   "id": "49af0d20-3d39-4319-8815-7b60fe9c0313",
   "metadata": {},
   "outputs": [
    {
     "name": "stdin",
     "output_type": "stream",
     "text": [
      "Enter string:  hi hOw aRE You\n"
     ]
    },
    {
     "name": "stdout",
     "output_type": "stream",
     "text": [
      "Hi How Are You "
     ]
    }
   ],
   "source": [
    "s = input(\"Enter string: \")\n",
    "\n",
    "for i in s.split():\n",
    "    print(i[0].upper() + i[1:].lower(), end=\" \")"
   ]
  },
  {
   "cell_type": "markdown",
   "id": "55162aa6-caf8-4576-9ec5-b0c43027c226",
   "metadata": {},
   "source": [
    "# 8. Wap that can convert an integer to string."
   ]
  },
  {
   "cell_type": "code",
   "execution_count": 53,
   "id": "62031973-6d63-4e07-b0bc-c5d501b1d420",
   "metadata": {},
   "outputs": [
    {
     "name": "stdin",
     "output_type": "stream",
     "text": [
      "Enter integer:  475\n"
     ]
    },
    {
     "name": "stdout",
     "output_type": "stream",
     "text": [
      "475\n",
      "<class 'str'>\n"
     ]
    }
   ],
   "source": [
    "n = int(input(\"Enter integer: \"))\n",
    "\n",
    "# type(n)\n",
    "digit = \"0123456789\"\n",
    "result = \"\"\n",
    "\n",
    "while n!=0:\n",
    "    result = digit[n%10] + result\n",
    "    n//=10\n",
    "\n",
    "print(result)\n",
    "print(type(result))"
   ]
  },
  {
   "cell_type": "code",
   "execution_count": null,
   "id": "7cdebcc2-7f24-4533-b194-9bd5743914b8",
   "metadata": {},
   "outputs": [],
   "source": []
  }
 ],
 "metadata": {
  "kernelspec": {
   "display_name": "Python 3 (ipykernel)",
   "language": "python",
   "name": "python3"
  },
  "language_info": {
   "codemirror_mode": {
    "name": "ipython",
    "version": 3
   },
   "file_extension": ".py",
   "mimetype": "text/x-python",
   "name": "python",
   "nbconvert_exporter": "python",
   "pygments_lexer": "ipython3",
   "version": "3.12.1"
  }
 },
 "nbformat": 4,
 "nbformat_minor": 5
}
