{
 "cells": [
  {
   "cell_type": "markdown",
   "id": "746ba4fa-2b95-4c4f-bdb6-f5bd7339bc26",
   "metadata": {},
   "source": [
    "## Qs. The current population of a town is 10000. The population of the town is increasing at the rate of 10% per year. You have to wap to find out the population at the end of each of the last 10 years."
   ]
  }
 ],
 "metadata": {
  "kernelspec": {
   "display_name": "Python 3 (ipykernel)",
   "language": "python",
   "name": "python3"
  },
  "language_info": {
   "codemirror_mode": {
    "name": "ipython",
    "version": 3
   },
   "file_extension": ".py",
   "mimetype": "text/x-python",
   "name": "python",
   "nbconvert_exporter": "python",
   "pygments_lexer": "ipython3",
   "version": "3.12.1"
  }
 },
 "nbformat": 4,
 "nbformat_minor": 5
}
