{
 "cells": [
  {
   "cell_type": "markdown",
   "id": "f3aa28ed-5adc-4e38-b25b-ff6db6346596",
   "metadata": {},
   "source": [
    "# Infinite loop"
   ]
  },
  {
   "cell_type": "code",
   "execution_count": null,
   "id": "300928b8-027f-404e-9a3a-b5c0d9f5ff10",
   "metadata": {},
   "outputs": [],
   "source": [
    "while True:\n",
    "\n",
    "#This is used for infinte loop"
   ]
  },
  {
   "cell_type": "code",
   "execution_count": null,
   "id": "fcbbe577-4436-44dc-bc35-54ce61376182",
   "metadata": {},
   "outputs": [],
   "source": [
    "if flag:\n",
    "\n",
    "    and \n",
    "\n",
    "if flag == True:\n",
    "\n",
    "Both are same."
   ]
  },
  {
   "cell_type": "code",
   "execution_count": 2,
   "id": "5cb63c0c-eea8-4957-b93a-1c9e7e578146",
   "metadata": {},
   "outputs": [
    {
     "data": {
      "text/plain": [
       "2.35"
      ]
     },
     "execution_count": 2,
     "metadata": {},
     "output_type": "execute_result"
    }
   ],
   "source": [
    "# for rounding up the float numbers}\n",
    "\n",
    "round(2.34556, 2)"
   ]
  },
  {
   "cell_type": "code",
   "execution_count": 6,
   "id": "87182631-e138-4213-bda5-e17c7c47b543",
   "metadata": {},
   "outputs": [],
   "source": [
    "# 'l'.islower()\n",
    "# 'l'.isupper()\n",
    "# '2'.isdigit()"
   ]
  },
  {
   "cell_type": "code",
   "execution_count": null,
   "id": "546859e8-a818-4cb7-a856-b28716492b88",
   "metadata": {},
   "outputs": [],
   "source": []
  }
 ],
 "metadata": {
  "kernelspec": {
   "display_name": "Python 3 (ipykernel)",
   "language": "python",
   "name": "python3"
  },
  "language_info": {
   "codemirror_mode": {
    "name": "ipython",
    "version": 3
   },
   "file_extension": ".py",
   "mimetype": "text/x-python",
   "name": "python",
   "nbconvert_exporter": "python",
   "pygments_lexer": "ipython3",
   "version": "3.12.1"
  }
 },
 "nbformat": 4,
 "nbformat_minor": 5
}
