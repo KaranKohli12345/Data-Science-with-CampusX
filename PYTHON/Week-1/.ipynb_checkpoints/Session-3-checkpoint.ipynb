{
 "cells": [
  {
   "cell_type": "markdown",
   "id": "9145e717-e6fc-4178-9d81-5dc670fa8ed1",
   "metadata": {},
   "source": [
    "# Nested loop"
   ]
  },
  {
   "cell_type": "markdown",
   "id": "1ac5c0a1-3c14-441b-a059-203424c0628c",
   "metadata": {},
   "source": [
    "## - ek loop ke andar dusra loop."
   ]
  },
  {
   "cell_type": "markdown",
   "id": "8e665d46-9cf8-4315-be4e-3f88db1af5be",
   "metadata": {},
   "source": [
    "## example questions"
   ]
  },
  {
   "cell_type": "markdown",
   "id": "8029a01e-d5fd-4785-bed5-4f5b39dd1e20",
   "metadata": {},
   "source": [
    "## 1. Print every unique pairs for set {1,2,3,4}."
   ]
  },
  {
   "cell_type": "code",
   "execution_count": 5,
   "id": "7b6ff6e9-7a88-4ffc-9a1c-48d2dfc015b8",
   "metadata": {},
   "outputs": [
    {
     "name": "stdout",
     "output_type": "stream",
     "text": [
      "(1, 1) (1, 2) (1, 3) (1, 4) (2, 1) (2, 2) (2, 3) (2, 4) (3, 1) (3, 2) (3, 3) (3, 4) (4, 1) (4, 2) (4, 3) (4, 4) "
     ]
    }
   ],
   "source": [
    "for i in range(1,5):\n",
    "    for j in range(1,5):\n",
    "        print((i,j), end=\" \")"
   ]
  },
  {
   "cell_type": "markdown",
   "id": "df459985-1384-4d77-ab8b-4c511025236b",
   "metadata": {},
   "source": [
    "## 2. Pattern Questions"
   ]
  },
  {
   "cell_type": "markdown",
   "id": "815b33bc-f47d-45a9-90e1-0c6c6d06735b",
   "metadata": {},
   "source": [
    "## *\n",
    "## **\n",
    "## ***"
   ]
  },
  {
   "cell_type": "code",
   "execution_count": 10,
   "id": "479fa568-2f50-4a1c-95e1-76c7c702b932",
   "metadata": {},
   "outputs": [
    {
     "name": "stdin",
     "output_type": "stream",
     "text": [
      "Enter no. of rows:  5\n"
     ]
    },
    {
     "name": "stdout",
     "output_type": "stream",
     "text": [
      "*\n",
      "**\n",
      "***\n",
      "****\n",
      "*****\n"
     ]
    }
   ],
   "source": [
    "n = int(input(\"Enter no. of rows: \"))\n",
    "\n",
    "for i in range(1,n+1):\n",
    "    print(i*\"*\")"
   ]
  },
  {
   "cell_type": "markdown",
   "id": "a1e2289f-f508-46c0-b4ca-92a7a571aeb8",
   "metadata": {},
   "source": [
    "## or"
   ]
  },
  {
   "cell_type": "code",
   "execution_count": 17,
   "id": "4b0b17b4-d069-484e-9f5b-0f3119229d3f",
   "metadata": {},
   "outputs": [
    {
     "name": "stdin",
     "output_type": "stream",
     "text": [
      "Enter no. of rows:  5\n"
     ]
    },
    {
     "name": "stdout",
     "output_type": "stream",
     "text": [
      "*\n",
      "**\n",
      "***\n",
      "****\n",
      "*****\n"
     ]
    }
   ],
   "source": [
    "n = int(input(\"Enter no. of rows: \"))\n",
    "\n",
    "for i in range(1, n+1):\n",
    "    for j in range(1, i+1):\n",
    "        print(\"*\", end=\"\")\n",
    "\n",
    "    print()"
   ]
  },
  {
   "cell_type": "markdown",
   "id": "49c47817-4399-4e8b-a630-74fd657d6dab",
   "metadata": {},
   "source": [
    "## 1\n",
    "## 121\n",
    "## 12321\n",
    "## 1234321"
   ]
  },
  {
   "cell_type": "code",
   "execution_count": 22,
   "id": "075b315c-f22f-4cd9-88b7-7c6dcb1116e8",
   "metadata": {},
   "outputs": [
    {
     "name": "stdin",
     "output_type": "stream",
     "text": [
      "Enter number of rows:  5\n"
     ]
    },
    {
     "name": "stdout",
     "output_type": "stream",
     "text": [
      "1\n",
      "121\n",
      "12321\n",
      "1234321\n",
      "123454321\n"
     ]
    }
   ],
   "source": [
    "row = int(input(\"Enter number of rows: \"))\n",
    "\n",
    "for j in range(1, row+1):\n",
    "    for k in range(1, j+1):\n",
    "        print(k, end=\"\")\n",
    "\n",
    "    for l in range(j-1, 0, -1):\n",
    "        print(l, end=\"\")\n",
    "\n",
    "    print()"
   ]
  },
  {
   "cell_type": "markdown",
   "id": "c35036a5-7fc1-457e-814c-0567b226d562",
   "metadata": {},
   "source": [
    "# Loop control statements"
   ]
  },
  {
   "cell_type": "markdown",
   "id": "441c363c-ecf7-4c37-bdc2-0b5057a3fb2e",
   "metadata": {},
   "source": [
    "## - break, continue, pass"
   ]
  },
  {
   "cell_type": "markdown",
   "id": "0e8b4164-29bf-4f5a-892e-519cfb9759cf",
   "metadata": {},
   "source": [
    "## break"
   ]
  },
  {
   "cell_type": "code",
   "execution_count": 25,
   "id": "4424fb55-5c5f-4241-a708-6e331000fa4d",
   "metadata": {},
   "outputs": [
    {
     "name": "stdout",
     "output_type": "stream",
     "text": [
      "0\n",
      "1\n",
      "2\n",
      "3\n",
      "4\n",
      "5\n"
     ]
    }
   ],
   "source": [
    "for i in range(11):\n",
    "    if i == 6:\n",
    "        break\n",
    "\n",
    "    print(i)"
   ]
  },
  {
   "cell_type": "markdown",
   "id": "8d6ee9b6-f82e-44f5-8d9e-89b3b9f2e623",
   "metadata": {},
   "source": [
    "## break ka real-life example yeh he ki jab ham database mei kisi person ko search kare. Software har entry ko check karega loop me aur agar usko wo person mil gaya toh loop break ho jayega (linear searching)."
   ]
  },
  {
   "cell_type": "markdown",
   "id": "48dd6b82-e80f-44c0-99f7-cad80cf75af6",
   "metadata": {},
   "source": [
    "## prime no. in a given range"
   ]
  },
  {
   "cell_type": "code",
   "execution_count": 24,
   "id": "ca494666-d3f6-465a-bdef-2028b3c3fa49",
   "metadata": {},
   "outputs": [
    {
     "name": "stdin",
     "output_type": "stream",
     "text": [
      "Enter lower limit:  10\n",
      "Enter upper limit:  45\n"
     ]
    },
    {
     "name": "stdout",
     "output_type": "stream",
     "text": [
      "11\n",
      "13\n",
      "17\n",
      "19\n",
      "23\n",
      "29\n",
      "31\n",
      "37\n",
      "41\n",
      "43\n"
     ]
    }
   ],
   "source": [
    "lower = int(input(\"Enter lower limit: \"))\n",
    "upper = int(input(\"Enter upper limit: \"))\n",
    "\n",
    "for i in range(lower, upper+1):\n",
    "    for j in range(2, i):\n",
    "        if i%j==0:\n",
    "            break\n",
    "    else:\n",
    "        print(i)"
   ]
  },
  {
   "cell_type": "markdown",
   "id": "2dd53cec-c4b5-4253-814e-af490d3d21b8",
   "metadata": {},
   "source": [
    "## continue"
   ]
  },
  {
   "cell_type": "code",
   "execution_count": 25,
   "id": "b434270c-48e9-42c7-9bf4-0b1ea97db9f3",
   "metadata": {},
   "outputs": [
    {
     "name": "stdout",
     "output_type": "stream",
     "text": [
      "1\n",
      "2\n",
      "3\n",
      "4\n",
      "6\n",
      "7\n",
      "8\n",
      "9\n"
     ]
    }
   ],
   "source": [
    "for i in range(1,10):\n",
    "    if i==5:\n",
    "        continue\n",
    "    print(i)"
   ]
  },
  {
   "cell_type": "markdown",
   "id": "fca9cc53-f0c6-4ec2-b734-87f6152a6bca",
   "metadata": {},
   "source": [
    "## pass"
   ]
  },
  {
   "cell_type": "code",
   "execution_count": 28,
   "id": "58e70fcb-3d91-4a10-a122-c790e60e8d59",
   "metadata": {},
   "outputs": [],
   "source": [
    "for i in range(1,10):\n",
    "    pass "
   ]
  },
  {
   "cell_type": "markdown",
   "id": "8e02d607-1da3-4dfe-8d5a-58db6e9a64f8",
   "metadata": {},
   "source": [
    "# ----------------------------------------------------"
   ]
  },
  {
   "cell_type": "markdown",
   "id": "54ec657c-71ff-4220-9d36-436b0aae6f4b",
   "metadata": {},
   "source": [
    "# Strings"
   ]
  },
  {
   "cell_type": "markdown",
   "id": "e7a431de-e310-485a-995a-f882db69a12f",
   "metadata": {},
   "source": [
    "## Strings are sequence of characters. It is any kind of text."
   ]
  },
  {
   "cell_type": "markdown",
   "id": "317db60b-9a09-4d1f-80fc-fdcb89f4ca02",
   "metadata": {},
   "source": [
    "## In python specifically, strings are a sequence of unicode characters."
   ]
  },
  {
   "cell_type": "markdown",
   "id": "9c7d1d18-813e-48e2-97d8-0ca9e0693489",
   "metadata": {},
   "source": [
    "### https://docs.python.org/3/howto/unicode.html"
   ]
  },
  {
   "cell_type": "markdown",
   "id": "ec9019eb-ea97-4aa1-a341-a22208a8e7d7",
   "metadata": {},
   "source": [
    "## Creating strings"
   ]
  },
  {
   "cell_type": "code",
   "execution_count": 37,
   "id": "8378e013-2e18-4c23-9f3e-37cc5ede33b5",
   "metadata": {},
   "outputs": [
    {
     "name": "stdout",
     "output_type": "stream",
     "text": [
      "python\n",
      "python\n",
      "python\n",
      "python\n",
      "It's raining outside.\n",
      "Python\n"
     ]
    }
   ],
   "source": [
    "s = 'python'\n",
    "t = \"python\"\n",
    "\n",
    "# for multiline strings\n",
    "r = '''python'''\n",
    "i = \"\"\"python\"\"\"\n",
    "\n",
    "n = \"It's raining outside.\"\n",
    "\n",
    "g = str('Python') \n",
    "\n",
    "print(s)\n",
    "print(t)\n",
    "print(r)\n",
    "print(i)\n",
    "print(n)\n",
    "print(g)"
   ]
  },
  {
   "cell_type": "markdown",
   "id": "209a5b0e-5022-4f49-abcb-43ca0e589889",
   "metadata": {},
   "source": [
    "## Accessing substrings from a string"
   ]
  },
  {
   "cell_type": "markdown",
   "id": "01e2f555-8a5e-4295-b2d6-8e194f9beaa3",
   "metadata": {},
   "source": [
    "## Indexing"
   ]
  },
  {
   "cell_type": "code",
   "execution_count": 42,
   "id": "f09978d0-577a-445c-b7ce-31fd9ead5a5c",
   "metadata": {},
   "outputs": [
    {
     "name": "stdout",
     "output_type": "stream",
     "text": [
      "e\n"
     ]
    }
   ],
   "source": [
    "# positive indexing\n",
    "s = \"Hello world!\"\n",
    "\n",
    "print(s[1])\n",
    "\n",
    "# python assigns index to each character internally in a string."
   ]
  },
  {
   "cell_type": "code",
   "execution_count": 43,
   "id": "53cf37b5-8a78-4bb1-b22f-2a9db45b7d23",
   "metadata": {},
   "outputs": [
    {
     "name": "stdout",
     "output_type": "stream",
     "text": [
      "d\n"
     ]
    }
   ],
   "source": [
    "# negative indexing\n",
    "s = \"Hello world!\"\n",
    "\n",
    "print(s[-2])"
   ]
  },
  {
   "cell_type": "markdown",
   "id": "10865fdb-a3cc-4a08-a14b-4a01f8cc883f",
   "metadata": {},
   "source": [
    "## Slicing"
   ]
  },
  {
   "cell_type": "code",
   "execution_count": 59,
   "id": "6a2efd54-822d-47e8-934c-6c96de18a7bc",
   "metadata": {},
   "outputs": [
    {
     "name": "stdout",
     "output_type": "stream",
     "text": [
      "Hello\n",
      "l\n",
      "llo world!\n",
      "Hel\n",
      "Hello world!\n",
      "Hlo\n",
      "Hl\n",
      "ow olle\n",
      "o le\n"
     ]
    }
   ],
   "source": [
    "s = \"Hello world!\"\n",
    "\n",
    "print(s[0:5])\n",
    "print(s[2:3])\n",
    "print(s[2:])\n",
    "print(s[:3])\n",
    "print(s[:])\n",
    "\n",
    "print(s[0:5:2]) # 2 is step size.\n",
    "print(s[0:5:3]) \n",
    "\n",
    "print(s[7:0:-1]) \n",
    "print(s[7:0:-2]) "
   ]
  },
  {
   "cell_type": "code",
   "execution_count": 60,
   "id": "3a47faa9-267a-49af-80b8-8e53ce36a5ba",
   "metadata": {},
   "outputs": [
    {
     "name": "stdout",
     "output_type": "stream",
     "text": [
      "!dlrow olleH\n"
     ]
    }
   ],
   "source": [
    "# Code to reverse a string\n",
    "\n",
    "s = \"Hello world!\"\n",
    "\n",
    "print(s[::-1])"
   ]
  },
  {
   "cell_type": "code",
   "execution_count": 63,
   "id": "3145e0e7-4317-4209-bf80-ee8e44dd32ba",
   "metadata": {},
   "outputs": [
    {
     "name": "stdout",
     "output_type": "stream",
     "text": [
      "world!\n",
      "!dlrow\n"
     ]
    }
   ],
   "source": [
    "s = \"Hello world!\"\n",
    "\n",
    "print(s[-6:])\n",
    "print(s[-1:-7:-1])"
   ]
  },
  {
   "cell_type": "markdown",
   "id": "5bd9986d-76f9-46be-8664-c758d8846b4b",
   "metadata": {},
   "source": [
    "## Editing and Deleting in strings"
   ]
  },
  {
   "cell_type": "code",
   "execution_count": 64,
   "id": "21716d00-d79a-44e6-8d7c-43f5dcd5ec61",
   "metadata": {},
   "outputs": [
    {
     "ename": "TypeError",
     "evalue": "'str' object does not support item assignment",
     "output_type": "error",
     "traceback": [
      "\u001b[1;31m---------------------------------------------------------------------------\u001b[0m",
      "\u001b[1;31mTypeError\u001b[0m                                 Traceback (most recent call last)",
      "Cell \u001b[1;32mIn[64], line 3\u001b[0m\n\u001b[0;32m      1\u001b[0m s \u001b[38;5;241m=\u001b[39m \u001b[38;5;124m\"\u001b[39m\u001b[38;5;124mHello world!\u001b[39m\u001b[38;5;124m\"\u001b[39m\n\u001b[1;32m----> 3\u001b[0m \u001b[43ms\u001b[49m\u001b[43m[\u001b[49m\u001b[38;5;241;43m6\u001b[39;49m\u001b[43m]\u001b[49m \u001b[38;5;241m=\u001b[39m \u001b[38;5;124m\"\u001b[39m\u001b[38;5;124mh\u001b[39m\u001b[38;5;124m\"\u001b[39m\n",
      "\u001b[1;31mTypeError\u001b[0m: 'str' object does not support item assignment"
     ]
    }
   ],
   "source": [
    "s = \"Hello world!\"\n",
    "\n",
    "s[6] = \"h\""
   ]
  },
  {
   "cell_type": "markdown",
   "id": "4a9ba220-78d2-4acb-80d6-165797a5e367",
   "metadata": {},
   "source": [
    "## Python strings are immutable."
   ]
  },
  {
   "cell_type": "code",
   "execution_count": 66,
   "id": "bab2314b-0db2-4d33-9a08-78d067df242d",
   "metadata": {},
   "outputs": [
    {
     "ename": "NameError",
     "evalue": "name 's' is not defined",
     "output_type": "error",
     "traceback": [
      "\u001b[1;31m---------------------------------------------------------------------------\u001b[0m",
      "\u001b[1;31mNameError\u001b[0m                                 Traceback (most recent call last)",
      "Cell \u001b[1;32mIn[66], line 7\u001b[0m\n\u001b[0;32m      3\u001b[0m s \u001b[38;5;241m=\u001b[39m \u001b[38;5;124m\"\u001b[39m\u001b[38;5;124mHello world!\u001b[39m\u001b[38;5;124m\"\u001b[39m\n\u001b[0;32m      5\u001b[0m \u001b[38;5;28;01mdel\u001b[39;00m s\n\u001b[1;32m----> 7\u001b[0m \u001b[38;5;28mprint\u001b[39m(\u001b[43ms\u001b[49m)\n",
      "\u001b[1;31mNameError\u001b[0m: name 's' is not defined"
     ]
    }
   ],
   "source": [
    "# deleting\n",
    "\n",
    "s = \"Hello world!\"\n",
    "\n",
    "del s\n",
    "\n",
    "print(s)"
   ]
  },
  {
   "cell_type": "code",
   "execution_count": 73,
   "id": "3d902373-855d-4095-9a60-eb6f7058bcc5",
   "metadata": {},
   "outputs": [
    {
     "ename": "TypeError",
     "evalue": "'str' object does not support item deletion",
     "output_type": "error",
     "traceback": [
      "\u001b[1;31m---------------------------------------------------------------------------\u001b[0m",
      "\u001b[1;31mTypeError\u001b[0m                                 Traceback (most recent call last)",
      "Cell \u001b[1;32mIn[73], line 3\u001b[0m\n\u001b[0;32m      1\u001b[0m s \u001b[38;5;241m=\u001b[39m \u001b[38;5;124m\"\u001b[39m\u001b[38;5;124mHello world!\u001b[39m\u001b[38;5;124m\"\u001b[39m\n\u001b[1;32m----> 3\u001b[0m \u001b[38;5;28;01mdel\u001b[39;00m \u001b[43ms\u001b[49m\u001b[43m[\u001b[49m\u001b[38;5;241;43m-\u001b[39;49m\u001b[38;5;241;43m1\u001b[39;49m\u001b[43m:\u001b[49m\u001b[38;5;241;43m-\u001b[39;49m\u001b[38;5;241;43m5\u001b[39;49m\u001b[43m:\u001b[49m\u001b[38;5;241;43m-\u001b[39;49m\u001b[38;5;241;43m2\u001b[39;49m\u001b[43m]\u001b[49m\n\u001b[0;32m      5\u001b[0m \u001b[38;5;28mprint\u001b[39m(s)\n\u001b[0;32m      7\u001b[0m \u001b[38;5;66;03m# error comes because a part of the string cannot be deleted. Instead the whole string can be deleted.\u001b[39;00m\n",
      "\u001b[1;31mTypeError\u001b[0m: 'str' object does not support item deletion"
     ]
    }
   ],
   "source": [
    "s = \"Hello world!\"\n",
    "\n",
    "del s[-1:-5:-2]\n",
    "\n",
    "print(s)\n",
    "\n",
    "# error comes because a part of the string cannot be deleted. Instead the whole string can be deleted."
   ]
  },
  {
   "cell_type": "markdown",
   "id": "98135072-f93d-4a39-9e6a-c4366e29d0f5",
   "metadata": {},
   "source": [
    "## Operators on strings"
   ]
  },
  {
   "cell_type": "markdown",
   "id": "03f07022-caab-4b3f-a774-a9f1a2312b3b",
   "metadata": {},
   "source": [
    "## 1. arithmetic"
   ]
  },
  {
   "cell_type": "code",
   "execution_count": 75,
   "id": "0b6a7404-2f66-4368-ba4f-a7bbfb73a0ff",
   "metadata": {},
   "outputs": [
    {
     "name": "stdout",
     "output_type": "stream",
     "text": [
      "Hello World\n"
     ]
    }
   ],
   "source": [
    "print(\"Hello \" + \"World\")"
   ]
  },
  {
   "cell_type": "code",
   "execution_count": 77,
   "id": "85170ff0-db98-4e16-9187-34cc090a2859",
   "metadata": {},
   "outputs": [
    {
     "name": "stdout",
     "output_type": "stream",
     "text": [
      "Hello Hello Hello Hello Hello \n"
     ]
    }
   ],
   "source": [
    "print(\"Hello \"*5)"
   ]
  },
  {
   "cell_type": "code",
   "execution_count": 78,
   "id": "e399c0d2-1bcf-485f-8c71-440d52d90a78",
   "metadata": {},
   "outputs": [
    {
     "name": "stdout",
     "output_type": "stream",
     "text": [
      "****************************************************************************************************\n"
     ]
    }
   ],
   "source": [
    "print(\"*\"*100)"
   ]
  },
  {
   "cell_type": "markdown",
   "id": "0790bb5a-28e3-4a24-a3ca-f683d2474c10",
   "metadata": {},
   "source": [
    "## 2. relational"
   ]
  },
  {
   "cell_type": "code",
   "execution_count": 79,
   "id": "15050281-c2c0-45c9-b808-9429984d46b4",
   "metadata": {},
   "outputs": [
    {
     "data": {
      "text/plain": [
       "False"
      ]
     },
     "execution_count": 79,
     "metadata": {},
     "output_type": "execute_result"
    }
   ],
   "source": [
    "\"hello\" == \"world\""
   ]
  },
  {
   "cell_type": "code",
   "execution_count": 80,
   "id": "d7f2e1a0-dfcc-4f61-a039-8a0732953b5f",
   "metadata": {},
   "outputs": [
    {
     "data": {
      "text/plain": [
       "True"
      ]
     },
     "execution_count": 80,
     "metadata": {},
     "output_type": "execute_result"
    }
   ],
   "source": [
    "\"hello\" != \"world\""
   ]
  },
  {
   "cell_type": "code",
   "execution_count": 81,
   "id": "fb050c71-11a0-4a1f-848d-1726a1666468",
   "metadata": {},
   "outputs": [
    {
     "data": {
      "text/plain": [
       "True"
      ]
     },
     "execution_count": 81,
     "metadata": {},
     "output_type": "execute_result"
    }
   ],
   "source": [
    "\"hello\" == \"hello\""
   ]
  },
  {
   "cell_type": "code",
   "execution_count": 85,
   "id": "33673140-1069-486c-8f26-5cb1c8ef2f3f",
   "metadata": {},
   "outputs": [
    {
     "data": {
      "text/plain": [
       "False"
      ]
     },
     "execution_count": 85,
     "metadata": {},
     "output_type": "execute_result"
    }
   ],
   "source": [
    "\"hello\" > \"world\"\n",
    "\n",
    "# lexiographically/alphabetically like in dictionary"
   ]
  },
  {
   "cell_type": "code",
   "execution_count": 84,
   "id": "3d1cd770-209d-4806-9679-1cb181b892db",
   "metadata": {},
   "outputs": [
    {
     "data": {
      "text/plain": [
       "False"
      ]
     },
     "execution_count": 84,
     "metadata": {},
     "output_type": "execute_result"
    }
   ],
   "source": [
    "\"hello\" < \"Hello\""
   ]
  },
  {
   "cell_type": "markdown",
   "id": "557b1a76-e63a-4306-b865-cd50e600ef68",
   "metadata": {},
   "source": [
    "### These comparison are according to ascii values."
   ]
  },
  {
   "attachments": {
    "0121fbe3-41a1-4f5c-a527-847c23f37cee.gif": {
     "image/gif": "[encoded data removed]"
    }
   },
   "cell_type": "markdown",
   "id": "dbbd3f4a-76f6-4461-b9d7-bc0fc6849f93",
   "metadata": {},
   "source": [
    "![ASCII Conversion Chart.gif](attachment:0121fbe3-41a1-4f5c-a527-847c23f37cee.gif)"
   ]
  },
  {
   "cell_type": "markdown",
   "id": "58f4184c-10ab-4718-952c-21ba241dd731",
   "metadata": {},
   "source": [
    "## Logical"
   ]
  },
  {
   "cell_type": "code",
   "execution_count": 86,
   "id": "88e8c939-5c0e-4843-a358-c60bebdf394c",
   "metadata": {},
   "outputs": [
    {
     "data": {
      "text/plain": [
       "'world'"
      ]
     },
     "execution_count": 86,
     "metadata": {},
     "output_type": "execute_result"
    }
   ],
   "source": [
    "\"hello\" and \"world\""
   ]
  },
  {
   "cell_type": "code",
   "execution_count": 87,
   "id": "beb1a527-eb8c-4e2e-8730-4bd0945e711e",
   "metadata": {},
   "outputs": [
    {
     "data": {
      "text/plain": [
       "'hello'"
      ]
     },
     "execution_count": 87,
     "metadata": {},
     "output_type": "execute_result"
    }
   ],
   "source": [
    "\"hello\" or \"world\""
   ]
  },
  {
   "cell_type": "code",
   "execution_count": 88,
   "id": "8c5af8d7-1c85-46f6-9f1b-3c80012c177c",
   "metadata": {},
   "outputs": [
    {
     "data": {
      "text/plain": [
       "''"
      ]
     },
     "execution_count": 88,
     "metadata": {},
     "output_type": "execute_result"
    }
   ],
   "source": [
    "\"\" and \"world\""
   ]
  },
  {
   "cell_type": "markdown",
   "id": "f71dfaa0-cbe4-4a92-bf59-2123b448b566",
   "metadata": {},
   "source": [
    "### python me empty string ko false and non-empty ko true."
   ]
  },
  {
   "cell_type": "code",
   "execution_count": 89,
   "id": "f0bd855c-a122-4124-a498-111cdb88e6bc",
   "metadata": {},
   "outputs": [
    {
     "data": {
      "text/plain": [
       "'world'"
      ]
     },
     "execution_count": 89,
     "metadata": {},
     "output_type": "execute_result"
    }
   ],
   "source": [
    "\"\" or \"world\""
   ]
  },
  {
   "cell_type": "code",
   "execution_count": 90,
   "id": "6cf0bb97-3a37-41c3-9d72-f0bd3327289b",
   "metadata": {},
   "outputs": [
    {
     "data": {
      "text/plain": [
       "True"
      ]
     },
     "execution_count": 90,
     "metadata": {},
     "output_type": "execute_result"
    }
   ],
   "source": [
    "not \"\""
   ]
  },
  {
   "cell_type": "code",
   "execution_count": 91,
   "id": "dc049a55-4826-4cd7-8fea-c24f286d4334",
   "metadata": {},
   "outputs": [
    {
     "data": {
      "text/plain": [
       "False"
      ]
     },
     "execution_count": 91,
     "metadata": {},
     "output_type": "execute_result"
    }
   ],
   "source": [
    "not \"hello\""
   ]
  },
  {
   "cell_type": "markdown",
   "id": "2c942457-1c40-4655-a671-cb567038f80f",
   "metadata": {},
   "source": [
    "## Loops on strings"
   ]
  },
  {
   "cell_type": "code",
   "execution_count": 93,
   "id": "ebf9c6a9-6f2a-4774-8360-106ac3a0f3b5",
   "metadata": {},
   "outputs": [
    {
     "name": "stdout",
     "output_type": "stream",
     "text": [
      "hello"
     ]
    }
   ],
   "source": [
    "for i in \"hello\":\n",
    "    print(i, end=\"\")"
   ]
  },
  {
   "cell_type": "code",
   "execution_count": 94,
   "id": "2b5ecc50-5e52-4b06-a2c2-1c63030effca",
   "metadata": {},
   "outputs": [
    {
     "name": "stdout",
     "output_type": "stream",
     "text": [
      "world\n",
      "world\n",
      "world\n",
      "world\n",
      "world\n"
     ]
    }
   ],
   "source": [
    "for i in \"hello\":\n",
    "    print(\"world\")"
   ]
  },
  {
   "cell_type": "markdown",
   "id": "3bc781b5-17b4-49c7-bf25-a382a583e23b",
   "metadata": {},
   "source": [
    "## Membership"
   ]
  },
  {
   "cell_type": "code",
   "execution_count": 95,
   "id": "1dd49bd7-a2c2-4a82-ac18-12b2a7f728ec",
   "metadata": {},
   "outputs": [
    {
     "data": {
      "text/plain": [
       "True"
      ]
     },
     "execution_count": 95,
     "metadata": {},
     "output_type": "execute_result"
    }
   ],
   "source": [
    "\"h\" in \"hello\""
   ]
  },
  {
   "cell_type": "code",
   "execution_count": 96,
   "id": "f281bb52-e158-4856-a818-f7cf2d646a1f",
   "metadata": {},
   "outputs": [
    {
     "data": {
      "text/plain": [
       "False"
      ]
     },
     "execution_count": 96,
     "metadata": {},
     "output_type": "execute_result"
    }
   ],
   "source": [
    "\"h\" not in \"hello\""
   ]
  },
  {
   "cell_type": "code",
   "execution_count": 97,
   "id": "ab2bd75b-8433-4463-bc2d-607624efcd71",
   "metadata": {},
   "outputs": [
    {
     "data": {
      "text/plain": [
       "False"
      ]
     },
     "execution_count": 97,
     "metadata": {},
     "output_type": "execute_result"
    }
   ],
   "source": [
    "\"h\" in \"Hello\""
   ]
  },
  {
   "cell_type": "markdown",
   "id": "0d79cbcb-51e3-4815-8434-83488362294a",
   "metadata": {},
   "source": [
    "## String Functions"
   ]
  },
  {
   "cell_type": "markdown",
   "id": "93756f68-f10c-495e-8c69-5f1082637b67",
   "metadata": {},
   "source": [
    "### Common functions"
   ]
  },
  {
   "cell_type": "markdown",
   "id": "440e7896-3de7-4145-95ea-9b2321a0cdec",
   "metadata": {},
   "source": [
    "### - len, max, min, sorted"
   ]
  },
  {
   "cell_type": "markdown",
   "id": "fc8e4f41-578a-4729-a057-42333cb88cd2",
   "metadata": {},
   "source": [
    "### - sabhi data types ke upar kaam karte hain."
   ]
  },
  {
   "cell_type": "code",
   "execution_count": 1,
   "id": "e44265c9-7e34-42d2-910c-8bf2aa29f34a",
   "metadata": {},
   "outputs": [
    {
     "data": {
      "text/plain": [
       "11"
      ]
     },
     "execution_count": 1,
     "metadata": {},
     "output_type": "execute_result"
    }
   ],
   "source": [
    "len(\"hello world\")"
   ]
  },
  {
   "cell_type": "code",
   "execution_count": 2,
   "id": "d1c7f9eb-bd7d-4f5f-8e15-85e984b882b3",
   "metadata": {},
   "outputs": [
    {
     "data": {
      "text/plain": [
       "'w'"
      ]
     },
     "execution_count": 2,
     "metadata": {},
     "output_type": "execute_result"
    }
   ],
   "source": [
    "max(\"hello world\")"
   ]
  },
  {
   "cell_type": "code",
   "execution_count": 3,
   "id": "dd0f79dc-7c76-4b1e-9621-eb38ce493574",
   "metadata": {},
   "outputs": [
    {
     "data": {
      "text/plain": [
       "' '"
      ]
     },
     "execution_count": 3,
     "metadata": {},
     "output_type": "execute_result"
    }
   ],
   "source": [
    "min(\"hello world\")"
   ]
  },
  {
   "cell_type": "code",
   "execution_count": 4,
   "id": "4ebbdf3a-7c4d-4a3e-bdb7-e380687520ca",
   "metadata": {},
   "outputs": [
    {
     "data": {
      "text/plain": [
       "[' ', 'd', 'e', 'h', 'l', 'l', 'l', 'o', 'o', 'r', 'w']"
      ]
     },
     "execution_count": 4,
     "metadata": {},
     "output_type": "execute_result"
    }
   ],
   "source": [
    "sorted(\"hello world\")"
   ]
  },
  {
   "cell_type": "code",
   "execution_count": 5,
   "id": "9ba3411a-ad1e-4c45-afb5-91ff337a7c77",
   "metadata": {},
   "outputs": [
    {
     "data": {
      "text/plain": [
       "['w', 'r', 'o', 'o', 'l', 'l', 'l', 'h', 'e', 'd', ' ']"
      ]
     },
     "execution_count": 5,
     "metadata": {},
     "output_type": "execute_result"
    }
   ],
   "source": [
    "sorted(\"hello world\", reverse=True)"
   ]
  },
  {
   "cell_type": "markdown",
   "id": "687145d7-aa57-49c1-a67e-c4299c081660",
   "metadata": {},
   "source": [
    "## Specific string functions"
   ]
  },
  {
   "cell_type": "markdown",
   "id": "55826afb-3832-4bf0-80dd-09cfb1c5d1ed",
   "metadata": {},
   "source": [
    "### - works only with strings"
   ]
  },
  {
   "cell_type": "markdown",
   "id": "1cb3627d-4275-4836-b062-25c6fd2480ce",
   "metadata": {},
   "source": [
    "## - capitalize, title, upper, lower, swapcase"
   ]
  },
  {
   "cell_type": "code",
   "execution_count": 33,
   "id": "131ccd3c-c38e-45f0-a148-ee0f12f0e298",
   "metadata": {},
   "outputs": [
    {
     "name": "stdout",
     "output_type": "stream",
     "text": [
      "Hello world!\n",
      "hello world!\n"
     ]
    }
   ],
   "source": [
    "s = \"hello world!\"\n",
    "\n",
    "print(s.capitalize())\n",
    "\n",
    "print(s)"
   ]
  },
  {
   "cell_type": "code",
   "execution_count": 8,
   "id": "3f995e0d-80d8-400c-bf8c-0e3bd662e53c",
   "metadata": {},
   "outputs": [
    {
     "data": {
      "text/plain": [
       "'Hello World!'"
      ]
     },
     "execution_count": 8,
     "metadata": {},
     "output_type": "execute_result"
    }
   ],
   "source": [
    "s.title()"
   ]
  },
  {
   "cell_type": "code",
   "execution_count": 9,
   "id": "b575ad7a-3ccb-4dad-a3ac-526ec94873da",
   "metadata": {},
   "outputs": [
    {
     "data": {
      "text/plain": [
       "'HELLO WORLD!'"
      ]
     },
     "execution_count": 9,
     "metadata": {},
     "output_type": "execute_result"
    }
   ],
   "source": [
    "s.upper()"
   ]
  },
  {
   "cell_type": "code",
   "execution_count": 13,
   "id": "0ecb1a73-f2d1-4140-a03c-da9f1d7d6ffa",
   "metadata": {},
   "outputs": [
    {
     "data": {
      "text/plain": [
       "'hello world'"
      ]
     },
     "execution_count": 13,
     "metadata": {},
     "output_type": "execute_result"
    }
   ],
   "source": [
    "\"HELLO WORLD\".lower()"
   ]
  },
  {
   "cell_type": "code",
   "execution_count": 12,
   "id": "d8dee0e6-ae45-4a4f-b41f-69c3198fc7b2",
   "metadata": {},
   "outputs": [
    {
     "data": {
      "text/plain": [
       "'Hello World'"
      ]
     },
     "execution_count": 12,
     "metadata": {},
     "output_type": "execute_result"
    }
   ],
   "source": [
    "\"hELLO wORLD\".swapcase()"
   ]
  },
  {
   "cell_type": "markdown",
   "id": "02bc6526-17d8-4219-8695-f5fd0ac4d075",
   "metadata": {},
   "source": [
    "## - count, find, index"
   ]
  },
  {
   "cell_type": "code",
   "execution_count": 14,
   "id": "52aba4c1-bf93-495a-8da9-b7ab740f8bf9",
   "metadata": {},
   "outputs": [
    {
     "data": {
      "text/plain": [
       "3"
      ]
     },
     "execution_count": 14,
     "metadata": {},
     "output_type": "execute_result"
    }
   ],
   "source": [
    "\"My name is Karan\".count(\"a\")"
   ]
  },
  {
   "cell_type": "code",
   "execution_count": 20,
   "id": "f276bddb-d049-45fe-9723-7da701aa1c7e",
   "metadata": {},
   "outputs": [
    {
     "data": {
      "text/plain": [
       "4"
      ]
     },
     "execution_count": 20,
     "metadata": {},
     "output_type": "execute_result"
    }
   ],
   "source": [
    "\"My name is Karan\".find(\"a\")"
   ]
  },
  {
   "cell_type": "code",
   "execution_count": 19,
   "id": "7c08ab89-5e2e-45cc-ba8d-17fdbabe9754",
   "metadata": {},
   "outputs": [
    {
     "data": {
      "text/plain": [
       "-1"
      ]
     },
     "execution_count": 19,
     "metadata": {},
     "output_type": "execute_result"
    }
   ],
   "source": [
    "\"My name is Karan\".find(\"x\")"
   ]
  },
  {
   "cell_type": "code",
   "execution_count": 21,
   "id": "f88e61ec-682d-4a3d-9cd3-d041837e2550",
   "metadata": {},
   "outputs": [
    {
     "data": {
      "text/plain": [
       "4"
      ]
     },
     "execution_count": 21,
     "metadata": {},
     "output_type": "execute_result"
    }
   ],
   "source": [
    "\"My name is Karan\".index(\"a\")"
   ]
  },
  {
   "cell_type": "code",
   "execution_count": 22,
   "id": "6b5a7eeb-5d78-4c71-9691-fd26c7c2adde",
   "metadata": {},
   "outputs": [
    {
     "ename": "ValueError",
     "evalue": "substring not found",
     "output_type": "error",
     "traceback": [
      "\u001b[1;31m---------------------------------------------------------------------------\u001b[0m",
      "\u001b[1;31mValueError\u001b[0m                                Traceback (most recent call last)",
      "Cell \u001b[1;32mIn[22], line 1\u001b[0m\n\u001b[1;32m----> 1\u001b[0m \u001b[38;5;124;43m\"\u001b[39;49m\u001b[38;5;124;43mMy name is Karan\u001b[39;49m\u001b[38;5;124;43m\"\u001b[39;49m\u001b[38;5;241;43m.\u001b[39;49m\u001b[43mindex\u001b[49m\u001b[43m(\u001b[49m\u001b[38;5;124;43m\"\u001b[39;49m\u001b[38;5;124;43mx\u001b[39;49m\u001b[38;5;124;43m\"\u001b[39;49m\u001b[43m)\u001b[49m\n",
      "\u001b[1;31mValueError\u001b[0m: substring not found"
     ]
    }
   ],
   "source": [
    "\"My name is Karan\".index(\"x\")"
   ]
  },
  {
   "cell_type": "markdown",
   "id": "c56440dc-3b29-4917-815e-6bc30f2bf618",
   "metadata": {},
   "source": [
    "## - endswith, startwith"
   ]
  },
  {
   "cell_type": "code",
   "execution_count": 25,
   "id": "d84fab07-3db3-4b98-baa5-c32ebc37d3ac",
   "metadata": {},
   "outputs": [
    {
     "data": {
      "text/plain": [
       "True"
      ]
     },
     "execution_count": 25,
     "metadata": {},
     "output_type": "execute_result"
    }
   ],
   "source": [
    "\"My name is Karan\".endswith(\"an\")"
   ]
  },
  {
   "cell_type": "code",
   "execution_count": 26,
   "id": "d566c441-3e2e-4311-a201-595ea74b25ad",
   "metadata": {},
   "outputs": [
    {
     "data": {
      "text/plain": [
       "False"
      ]
     },
     "execution_count": 26,
     "metadata": {},
     "output_type": "execute_result"
    }
   ],
   "source": [
    "\"My name is Karan\".endswith(\"a\")"
   ]
  },
  {
   "cell_type": "code",
   "execution_count": 27,
   "id": "dcbd5b5a-5f4b-403e-b6ee-ddf41cc33d51",
   "metadata": {},
   "outputs": [
    {
     "data": {
      "text/plain": [
       "True"
      ]
     },
     "execution_count": 27,
     "metadata": {},
     "output_type": "execute_result"
    }
   ],
   "source": [
    "\"My name is Karan\".startswith(\"My\")"
   ]
  },
  {
   "cell_type": "code",
   "execution_count": 28,
   "id": "bd445833-54d2-4a17-beb1-2dbbd85d254c",
   "metadata": {},
   "outputs": [
    {
     "data": {
      "text/plain": [
       "False"
      ]
     },
     "execution_count": 28,
     "metadata": {},
     "output_type": "execute_result"
    }
   ],
   "source": [
    "\"My name is Karan\".startswith(\"my\")"
   ]
  },
  {
   "cell_type": "markdown",
   "id": "78a49507-bf5d-4bfa-9a8d-437fab1ce4b8",
   "metadata": {},
   "source": [
    "## - format"
   ]
  },
  {
   "cell_type": "code",
   "execution_count": 29,
   "id": "c8f8035c-fea7-4e3f-b599-1ed14b1adf87",
   "metadata": {},
   "outputs": [
    {
     "data": {
      "text/plain": [
       "'Hi my name is Karan and I am a male.'"
      ]
     },
     "execution_count": 29,
     "metadata": {},
     "output_type": "execute_result"
    }
   ],
   "source": [
    "name = \"Karan\"\n",
    "gender = \"male\" \n",
    "\n",
    "\"Hi my name is {} and I am a {}.\".format(name, gender)"
   ]
  },
  {
   "cell_type": "code",
   "execution_count": 30,
   "id": "9297f734-54fe-4f26-84a2-c4ab8fef9fe9",
   "metadata": {},
   "outputs": [
    {
     "data": {
      "text/plain": [
       "'Hi my name is male and I am a Karan.'"
      ]
     },
     "execution_count": 30,
     "metadata": {},
     "output_type": "execute_result"
    }
   ],
   "source": [
    "name = \"Karan\"\n",
    "gender = \"male\" \n",
    "\n",
    "\"Hi my name is {} and I am a {}.\".format(gender, name)"
   ]
  },
  {
   "cell_type": "code",
   "execution_count": 31,
   "id": "57aec48b-a2c0-4427-b5e3-92274d23eefa",
   "metadata": {},
   "outputs": [
    {
     "data": {
      "text/plain": [
       "'Hi my name is Karan and I am a male.'"
      ]
     },
     "execution_count": 31,
     "metadata": {},
     "output_type": "execute_result"
    }
   ],
   "source": [
    "name = \"Karan\"\n",
    "gender = \"male\" \n",
    "\n",
    "\"Hi my name is {1} and I am a {0}.\".format(gender, name)"
   ]
  },
  {
   "cell_type": "markdown",
   "id": "8d9eb99d-653e-4e65-ab06-1ebc4448593d",
   "metadata": {},
   "source": [
    "## - isalnum, isalpha, isdigit, isidentifier"
   ]
  },
  {
   "cell_type": "code",
   "execution_count": 34,
   "id": "92746655-7616-42fa-b11a-953685864f07",
   "metadata": {},
   "outputs": [
    {
     "data": {
      "text/plain": [
       "True"
      ]
     },
     "execution_count": 34,
     "metadata": {},
     "output_type": "execute_result"
    }
   ],
   "source": [
    "\"karan12345\".isalnum()"
   ]
  },
  {
   "cell_type": "markdown",
   "id": "2a355d37-9617-40c9-8d21-864c8c36a201",
   "metadata": {},
   "source": [
    "### alphanumeric check karta hai - ya alphabet ya number"
   ]
  },
  {
   "cell_type": "code",
   "execution_count": 35,
   "id": "b5a30e2e-eb7e-4112-a384-868024ab965e",
   "metadata": {},
   "outputs": [
    {
     "data": {
      "text/plain": [
       "False"
      ]
     },
     "execution_count": 35,
     "metadata": {},
     "output_type": "execute_result"
    }
   ],
   "source": [
    "\"$%karan12345\".isalnum()"
   ]
  },
  {
   "cell_type": "code",
   "execution_count": 36,
   "id": "106859d9-ddda-4458-8d93-1deb59ce1041",
   "metadata": {},
   "outputs": [
    {
     "data": {
      "text/plain": [
       "False"
      ]
     },
     "execution_count": 36,
     "metadata": {},
     "output_type": "execute_result"
    }
   ],
   "source": [
    "\"karan12345\".isalpha()"
   ]
  },
  {
   "cell_type": "code",
   "execution_count": 37,
   "id": "fe305e5c-142a-48a8-b5eb-4248848ebb18",
   "metadata": {},
   "outputs": [
    {
     "data": {
      "text/plain": [
       "True"
      ]
     },
     "execution_count": 37,
     "metadata": {},
     "output_type": "execute_result"
    }
   ],
   "source": [
    "\"karan\".isalpha()"
   ]
  },
  {
   "cell_type": "code",
   "execution_count": 38,
   "id": "baa40756-df4a-4bfc-a0b4-a10116643b12",
   "metadata": {},
   "outputs": [
    {
     "data": {
      "text/plain": [
       "False"
      ]
     },
     "execution_count": 38,
     "metadata": {},
     "output_type": "execute_result"
    }
   ],
   "source": [
    "\"karan12345\".isdigit()"
   ]
  },
  {
   "cell_type": "code",
   "execution_count": 39,
   "id": "4a25b5b9-d895-45dc-bd3e-9b54f5ce523b",
   "metadata": {},
   "outputs": [
    {
     "data": {
      "text/plain": [
       "True"
      ]
     },
     "execution_count": 39,
     "metadata": {},
     "output_type": "execute_result"
    }
   ],
   "source": [
    "\"12345\".isdigit()"
   ]
  },
  {
   "cell_type": "code",
   "execution_count": 41,
   "id": "4d958dda-2e55-4308-a006-f46103dcf65d",
   "metadata": {},
   "outputs": [
    {
     "data": {
      "text/plain": [
       "False"
      ]
     },
     "execution_count": 41,
     "metadata": {},
     "output_type": "execute_result"
    }
   ],
   "source": [
    "\"1name\".isidentifier()"
   ]
  },
  {
   "cell_type": "code",
   "execution_count": 42,
   "id": "f392778b-832a-459a-8d3f-71191665ebd5",
   "metadata": {},
   "outputs": [
    {
     "data": {
      "text/plain": [
       "True"
      ]
     },
     "execution_count": 42,
     "metadata": {},
     "output_type": "execute_result"
    }
   ],
   "source": [
    "\"name1\".isidentifier()"
   ]
  },
  {
   "cell_type": "code",
   "execution_count": 43,
   "id": "decc5cb4-90db-4dc2-b159-d3d27e8bfdf1",
   "metadata": {},
   "outputs": [
    {
     "data": {
      "text/plain": [
       "True"
      ]
     },
     "execution_count": 43,
     "metadata": {},
     "output_type": "execute_result"
    }
   ],
   "source": [
    "\"f_name\".isidentifier()"
   ]
  },
  {
   "cell_type": "code",
   "execution_count": 44,
   "id": "4d9b931d-2dad-4bce-a30f-a85ead37e20c",
   "metadata": {},
   "outputs": [
    {
     "data": {
      "text/plain": [
       "False"
      ]
     },
     "execution_count": 44,
     "metadata": {},
     "output_type": "execute_result"
    }
   ],
   "source": [
    "\"f-name\".isidentifier()"
   ]
  },
  {
   "cell_type": "markdown",
   "id": "4583b1c0-ff20-4180-b076-22ef684fd401",
   "metadata": {},
   "source": [
    "## - split, join"
   ]
  },
  {
   "cell_type": "code",
   "execution_count": 45,
   "id": "8d5aed72-8c8d-4f24-93af-5095c6496d84",
   "metadata": {},
   "outputs": [
    {
     "data": {
      "text/plain": [
       "['hi', 'my', 'name', 'is', 'python']"
      ]
     },
     "execution_count": 45,
     "metadata": {},
     "output_type": "execute_result"
    }
   ],
   "source": [
    "\"hi my name is python\".split()"
   ]
  },
  {
   "cell_type": "code",
   "execution_count": 46,
   "id": "4d933fd7-14de-4d02-a39c-6a708216ca6a",
   "metadata": {},
   "outputs": [
    {
     "data": {
      "text/plain": [
       "['hi my n', 'me is python']"
      ]
     },
     "execution_count": 46,
     "metadata": {},
     "output_type": "execute_result"
    }
   ],
   "source": [
    "\"hi my name is python\".split(\"a\")"
   ]
  },
  {
   "cell_type": "code",
   "execution_count": 47,
   "id": "a5fcb303-ea1e-42c0-b3b7-bc55b9ee6829",
   "metadata": {},
   "outputs": [
    {
     "data": {
      "text/plain": [
       "['hi my name ', ' python']"
      ]
     },
     "execution_count": 47,
     "metadata": {},
     "output_type": "execute_result"
    }
   ],
   "source": [
    "\"hi my name is python\".split(\"is\")"
   ]
  },
  {
   "cell_type": "code",
   "execution_count": 48,
   "id": "065b32e7-4713-4116-a513-5bc2e7f1ccdb",
   "metadata": {},
   "outputs": [
    {
     "data": {
      "text/plain": [
       "'hi my name is python'"
      ]
     },
     "execution_count": 48,
     "metadata": {},
     "output_type": "execute_result"
    }
   ],
   "source": [
    "\" \".join(['hi', 'my', 'name', 'is', 'python'])"
   ]
  },
  {
   "cell_type": "code",
   "execution_count": 49,
   "id": "97a134b0-9dbf-4261-af5e-495df52df639",
   "metadata": {},
   "outputs": [
    {
     "data": {
      "text/plain": [
       "'hi-my-name-is-python'"
      ]
     },
     "execution_count": 49,
     "metadata": {},
     "output_type": "execute_result"
    }
   ],
   "source": [
    "\"-\".join(['hi', 'my', 'name', 'is', 'python'])"
   ]
  },
  {
   "cell_type": "markdown",
   "id": "b94d98dc-76fa-43ca-932e-5ff823742af3",
   "metadata": {},
   "source": [
    "## - replace"
   ]
  },
  {
   "cell_type": "code",
   "execution_count": 52,
   "id": "909d41a5-2aed-4ebc-afad-046ab8445392",
   "metadata": {},
   "outputs": [
    {
     "data": {
      "text/plain": [
       "'hi my name is Karan'"
      ]
     },
     "execution_count": 52,
     "metadata": {},
     "output_type": "execute_result"
    }
   ],
   "source": [
    "\"hi my name is Python\".replace(\"Python\",\"Karan\")"
   ]
  },
  {
   "cell_type": "code",
   "execution_count": 53,
   "id": "fd96524a-7042-493b-93d8-f44c902d843c",
   "metadata": {},
   "outputs": [
    {
     "data": {
      "text/plain": [
       "'hi my name is Python'"
      ]
     },
     "execution_count": 53,
     "metadata": {},
     "output_type": "execute_result"
    }
   ],
   "source": [
    "\"hi my name is Python\".replace(\"python\",\"Karan\")"
   ]
  },
  {
   "cell_type": "code",
   "execution_count": 2,
   "id": "bcd0233e-18b2-4b32-b07c-b21ac06480b3",
   "metadata": {},
   "outputs": [
    {
     "data": {
      "text/plain": [
       "'hi my name is python'"
      ]
     },
     "execution_count": 2,
     "metadata": {},
     "output_type": "execute_result"
    }
   ],
   "source": [
    "\"hi my name is Python\".replace(\"P\",\"p\")"
   ]
  },
  {
   "cell_type": "markdown",
   "id": "54478bc1-564d-4d86-b3c2-227c14247e82",
   "metadata": {},
   "source": [
    "## - strip"
   ]
  },
  {
   "cell_type": "code",
   "execution_count": 57,
   "id": "0a72784d-740b-48b8-91fe-f6baf918f184",
   "metadata": {},
   "outputs": [
    {
     "data": {
      "text/plain": [
       "'hello'"
      ]
     },
     "execution_count": 57,
     "metadata": {},
     "output_type": "execute_result"
    }
   ],
   "source": [
    "\"               hello                        \".strip()"
   ]
  },
  {
   "cell_type": "code",
   "execution_count": null,
   "id": "700043e5-6619-4018-850f-e772ab5ee21c",
   "metadata": {},
   "outputs": [],
   "source": []
  }
 ],
 "metadata": {
  "kernelspec": {
   "display_name": "Python 3 (ipykernel)",
   "language": "python",
   "name": "python3"
  },
  "language_info": {
   "codemirror_mode": {
    "name": "ipython",
    "version": 3
   },
   "file_extension": ".py",
   "mimetype": "text/x-python",
   "name": "python",
   "nbconvert_exporter": "python",
   "pygments_lexer": "ipython3",
   "version": "3.12.1"
  }
 },
 "nbformat": 4,
 "nbformat_minor": 5
}
