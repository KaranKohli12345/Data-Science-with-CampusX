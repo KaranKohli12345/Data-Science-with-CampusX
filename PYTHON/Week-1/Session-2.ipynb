{
 "cells": [
  {
   "cell_type": "markdown",
   "id": "37298b5a-82de-4206-9bb2-94e85167d30c",
   "metadata": {},
   "source": [
    "# Operators"
   ]
  },
  {
   "cell_type": "markdown",
   "id": "4794b4b0-87fd-4bf9-b267-3eeab1bc1643",
   "metadata": {},
   "source": [
    "### 1. Arithmetic operators\n",
    "### 2. Relational operators\n",
    "### 3. Logical operators\n",
    "### 4. Bitwise operators\n",
    "### 5. Assignment operators\n",
    "### 6. Membership operators"
   ]
  },
  {
   "cell_type": "markdown",
   "id": "c81a1768-ac0f-42f7-a268-4d9ae5b1a46b",
   "metadata": {},
   "source": [
    "## 1. Arithmetic operators"
   ]
  },
  {
   "cell_type": "code",
   "execution_count": 3,
   "id": "ded0d89a-e7e7-4997-8e2e-0c85a9913311",
   "metadata": {},
   "outputs": [
    {
     "name": "stdout",
     "output_type": "stream",
     "text": [
      "5\n",
      "-1\n",
      "6\n",
      "0.6666666666666666\n",
      "6\n",
      "2\n",
      "8\n"
     ]
    }
   ],
   "source": [
    "print(2+3)\n",
    "print(2-3)\n",
    "print(2*3)\n",
    "print(2/3)\n",
    "print(20//3) # integer division\n",
    "print(2%3)\n",
    "print(2**3) # power of"
   ]
  },
  {
   "cell_type": "markdown",
   "id": "0f6bd995-6261-49d9-8ae4-c78e7c79f7a7",
   "metadata": {},
   "source": [
    "## 2. Relational operators"
   ]
  },
  {
   "cell_type": "markdown",
   "id": "290eed66-6fd3-4dbd-8672-3f4a9f797523",
   "metadata": {},
   "source": [
    "### To compare two or more operand"
   ]
  },
  {
   "cell_type": "code",
   "execution_count": 4,
   "id": "d3a13021-fbe2-411b-957c-2f7120bb25d2",
   "metadata": {},
   "outputs": [
    {
     "name": "stdout",
     "output_type": "stream",
     "text": [
      "False\n",
      "True\n",
      "False\n",
      "True\n",
      "False\n",
      "True\n"
     ]
    }
   ],
   "source": [
    "print(3>5)\n",
    "print(3<5)\n",
    "print(3>=5)\n",
    "print(3<=5)\n",
    "print(3==5)\n",
    "print(3!=5)"
   ]
  },
  {
   "cell_type": "markdown",
   "id": "46e3e88c-ffcd-4093-abde-59636bc8a28f",
   "metadata": {},
   "source": [
    "## 3. Logical operators"
   ]
  },
  {
   "cell_type": "markdown",
   "id": "eae42fbb-8984-46d0-ab2e-1d669cf125fe",
   "metadata": {},
   "source": [
    "### - and, or, not"
   ]
  },
  {
   "cell_type": "code",
   "execution_count": 11,
   "id": "9458378e-0eba-42a2-97bf-bbad22cf0002",
   "metadata": {},
   "outputs": [
    {
     "name": "stdout",
     "output_type": "stream",
     "text": [
      "0\n",
      "1\n",
      "False\n"
     ]
    }
   ],
   "source": [
    "print(1 and 0)\n",
    "print(1 or 0)\n",
    "print(not 1)"
   ]
  },
  {
   "cell_type": "markdown",
   "id": "7c47cdb9-1110-44c9-b3ec-1da2a6613722",
   "metadata": {},
   "source": [
    "## 4. Bitwise operators\n",
    "### Special type of operators that work on binary values."
   ]
  },
  {
   "cell_type": "markdown",
   "id": "5a32e778-271e-4869-a1e5-dd22bb2c5094",
   "metadata": {},
   "source": [
    "## bitwise and"
   ]
  },
  {
   "cell_type": "code",
   "execution_count": 13,
   "id": "5583d82e-7c88-4ba0-92c7-bcf9ac2a575e",
   "metadata": {},
   "outputs": [
    {
     "name": "stdout",
     "output_type": "stream",
     "text": [
      "2\n"
     ]
    }
   ],
   "source": [
    "print(2 & 3) "
   ]
  },
  {
   "cell_type": "markdown",
   "id": "23e8f140-43b4-4bb5-921f-6d0e758a6075",
   "metadata": {},
   "source": [
    "### 2 --> 10\n",
    "### 3 --> 11\n",
    "### ---------\n",
    "### 2 <-- 10 (After performing and)"
   ]
  },
  {
   "cell_type": "markdown",
   "id": "e6d75d99-5f5c-4452-a486-4f340729800d",
   "metadata": {},
   "source": [
    "## bitwise or"
   ]
  },
  {
   "cell_type": "code",
   "execution_count": 14,
   "id": "de79766c-32c8-43a4-aef4-99999423c465",
   "metadata": {},
   "outputs": [
    {
     "name": "stdout",
     "output_type": "stream",
     "text": [
      "3\n"
     ]
    }
   ],
   "source": [
    "print(2 | 3)"
   ]
  },
  {
   "cell_type": "markdown",
   "id": "8431b271-07a5-4f5f-9371-4bad4dd3561c",
   "metadata": {},
   "source": [
    "### 2 --> 10\n",
    "### 3 --> 11\n",
    "### ---------\n",
    "### 3 --> 11 (After performing or)"
   ]
  },
  {
   "cell_type": "markdown",
   "id": "de08f1e6-686b-4326-9462-384c4c5ca6c7",
   "metadata": {},
   "source": [
    "## bitwise xor"
   ]
  },
  {
   "cell_type": "code",
   "execution_count": 15,
   "id": "c89f5308-a55d-4d8e-97d5-705e800e6e99",
   "metadata": {},
   "outputs": [
    {
     "name": "stdout",
     "output_type": "stream",
     "text": [
      "1\n"
     ]
    }
   ],
   "source": [
    "print(2 ^ 3)"
   ]
  },
  {
   "cell_type": "markdown",
   "id": "781dea79-a6f5-49b9-bb26-49bcae6b363d",
   "metadata": {},
   "source": [
    "### 2 --> 10\n",
    "### 3 --> 11\n",
    "### ---------\n",
    "### 1 --> 01 (After performing xor)"
   ]
  },
  {
   "cell_type": "markdown",
   "id": "bdfc80e9-cfe9-4666-8b96-2ef773a092bd",
   "metadata": {},
   "source": [
    "### xor --> dono same toh 0, dono alag toh 1"
   ]
  },
  {
   "cell_type": "markdown",
   "id": "bbd5fb5c-f35f-48c0-a1dc-56dcd1fa9205",
   "metadata": {},
   "source": [
    "## bitwise not"
   ]
  },
  {
   "cell_type": "code",
   "execution_count": 18,
   "id": "924b65b4-9f71-43e0-be5d-a98c78bd197c",
   "metadata": {},
   "outputs": [
    {
     "name": "stdout",
     "output_type": "stream",
     "text": [
      "-4\n"
     ]
    }
   ],
   "source": [
    "print(~3)"
   ]
  },
  {
   "cell_type": "markdown",
   "id": "04227aa8-6037-48ba-ad6f-4e70304e6431",
   "metadata": {},
   "source": [
    "## bitwise leftshift"
   ]
  },
  {
   "cell_type": "code",
   "execution_count": 19,
   "id": "1f348608-07c1-419f-aada-7cf9ff022d35",
   "metadata": {},
   "outputs": [
    {
     "name": "stdout",
     "output_type": "stream",
     "text": [
      "0\n"
     ]
    }
   ],
   "source": [
    "print(3 >> 2)"
   ]
  },
  {
   "cell_type": "markdown",
   "id": "30733bf2-8d3c-4500-9a75-37776c9cac6e",
   "metadata": {},
   "source": [
    "## bitwise rightshift"
   ]
  },
  {
   "cell_type": "code",
   "execution_count": 20,
   "id": "0428e043-7353-4cab-b7a7-1206c926d748",
   "metadata": {},
   "outputs": [
    {
     "name": "stdout",
     "output_type": "stream",
     "text": [
      "12\n"
     ]
    }
   ],
   "source": [
    "print(3 << 2)"
   ]
  },
  {
   "cell_type": "markdown",
   "id": "5dd1924e-5d43-4ae9-806e-7782517b52dd",
   "metadata": {},
   "source": [
    "## 5. Assignment operators"
   ]
  },
  {
   "cell_type": "markdown",
   "id": "8595f523-0efe-4827-80cb-d7401d920608",
   "metadata": {},
   "source": [
    "### a (variable) = (assignment operator) 2 (literal)"
   ]
  },
  {
   "cell_type": "code",
   "execution_count": 31,
   "id": "5cf5fe2a-ae15-4588-8a4c-d61ae2ed3f70",
   "metadata": {},
   "outputs": [
    {
     "name": "stdout",
     "output_type": "stream",
     "text": [
      "4\n"
     ]
    }
   ],
   "source": [
    "a = 2\n",
    "\n",
    "a += 2 # a = a + 2\n",
    "\n",
    "# also works for: \n",
    "# a -= 2\n",
    "# a *= 2\n",
    "# a /= 2\n",
    "# a %= 2\n",
    "print(a)"
   ]
  },
  {
   "cell_type": "markdown",
   "id": "65fc3902-885b-493e-998b-90e1f191ce7b",
   "metadata": {},
   "source": [
    "### a++ ++a a-- --a --> These are not allowed"
   ]
  },
  {
   "cell_type": "markdown",
   "id": "2ed7d9f8-989f-4b3a-9b27-bff420325e09",
   "metadata": {},
   "source": [
    "## 6. Membership operators"
   ]
  },
  {
   "cell_type": "markdown",
   "id": "3be1ff13-9de0-4d10-b2f2-efa58c40f92a",
   "metadata": {},
   "source": [
    "### in, not in"
   ]
  },
  {
   "cell_type": "markdown",
   "id": "b9c2876c-a5fe-4840-8cec-607bb4d1a9f9",
   "metadata": {},
   "source": [
    "### ek given cheez mei dusri cheez hai ya nahi"
   ]
  },
  {
   "cell_type": "code",
   "execution_count": 25,
   "id": "d944d900-b595-42b0-817d-346746d07e04",
   "metadata": {},
   "outputs": [
    {
     "name": "stdout",
     "output_type": "stream",
     "text": [
      "True\n"
     ]
    }
   ],
   "source": [
    "print('y' in 'Python')"
   ]
  },
  {
   "cell_type": "code",
   "execution_count": 26,
   "id": "35675ac9-e5f7-472e-a5ae-6870847cb98b",
   "metadata": {},
   "outputs": [
    {
     "name": "stdout",
     "output_type": "stream",
     "text": [
      "False\n"
     ]
    }
   ],
   "source": [
    "print('y' not in 'Python')"
   ]
  },
  {
   "cell_type": "code",
   "execution_count": 27,
   "id": "0c530078-96a2-4536-9daa-24cd3a4fbb0c",
   "metadata": {},
   "outputs": [
    {
     "name": "stdout",
     "output_type": "stream",
     "text": [
      "True\n"
     ]
    }
   ],
   "source": [
    "print(1 in [1,2,3,4,5])"
   ]
  },
  {
   "cell_type": "code",
   "execution_count": 29,
   "id": "25aebc07-d479-45e3-bd65-8213304a0d89",
   "metadata": {},
   "outputs": [
    {
     "name": "stdout",
     "output_type": "stream",
     "text": [
      "False\n"
     ]
    }
   ],
   "source": [
    "print(1 in [2,3,4,5])"
   ]
  },
  {
   "cell_type": "markdown",
   "id": "4973d92d-08bd-4e20-9fac-87cd0e955681",
   "metadata": {},
   "source": [
    "### works for strings, list, tuple, dictionary, sets."
   ]
  },
  {
   "cell_type": "markdown",
   "id": "93706d93-ff6e-4e2b-804b-0ce3da6d1d3d",
   "metadata": {},
   "source": [
    "# ------------------------------------------------"
   ]
  },
  {
   "cell_type": "markdown",
   "id": "60617063-d584-4043-b0dc-d94be66eac84",
   "metadata": {},
   "source": [
    "## Question Program: Find the sum of a 3 digit number entered by the user. "
   ]
  },
  {
   "cell_type": "code",
   "execution_count": 43,
   "id": "3da9fa8c-01d6-4c87-8ef4-aad017c7b8c2",
   "metadata": {},
   "outputs": [
    {
     "name": "stdin",
     "output_type": "stream",
     "text": [
      "Enter a three digit number:  475\n"
     ]
    },
    {
     "name": "stdout",
     "output_type": "stream",
     "text": [
      "Sum:  16\n"
     ]
    }
   ],
   "source": [
    "n = int(input(\"Enter a three digit number: \"))\n",
    "# n = 123\n",
    "sum = 0\n",
    "sum += n%10 # sum = 0 + 3 = 3\n",
    "sum += (n//10)%10 # sum = 3 + 2 = 5\n",
    "sum += n//100\n",
    "\n",
    "print(\"Sum: \", sum)"
   ]
  },
  {
   "cell_type": "markdown",
   "id": "7b2e7eb2-dce0-4b61-925c-1cc5e15b9156",
   "metadata": {},
   "source": [
    "# ------------------------------"
   ]
  },
  {
   "cell_type": "markdown",
   "id": "a47724f5-6e44-4425-8d5a-790209b9ee11",
   "metadata": {},
   "source": [
    "# If-else"
   ]
  },
  {
   "cell_type": "markdown",
   "id": "d21fddbd-a717-43f1-8a78-dd3ef4ba3dde",
   "metadata": {},
   "source": [
    "## syntax:\n",
    "\n",
    "### if condition:\n",
    "### &nbsp;&nbsp;&nbsp;&nbsp; code\n",
    "### else:\n",
    "### &nbsp;&nbsp;&nbsp;&nbsp; code"
   ]
  },
  {
   "cell_type": "code",
   "execution_count": 48,
   "id": "715d8dae-0f8b-447a-be22-2ab4c69e99b9",
   "metadata": {},
   "outputs": [
    {
     "name": "stdin",
     "output_type": "stream",
     "text": [
      "Enter your e-mail:  kohlikay879@gmail.com\n",
      "Enter your password:  12345\n"
     ]
    },
    {
     "name": "stdout",
     "output_type": "stream",
     "text": [
      "Welcome!\n"
     ]
    }
   ],
   "source": [
    "# login id and password\n",
    "# email --> kohlikay879@gmail.com\n",
    "# password --> 12345\n",
    "\n",
    "email = input(\"Enter your e-mail: \") \n",
    "password = input(\"Enter your password: \")\n",
    "\n",
    "if email == \"kohlikay879@gmail.com\" and password == \"12345\":\n",
    "    print(\"Welcome!\")\n",
    "else:\n",
    "    print(\"Invalid!\")"
   ]
  },
  {
   "cell_type": "code",
   "execution_count": 53,
   "id": "eeb86668-efab-42c4-8070-aa931e5cc73e",
   "metadata": {},
   "outputs": [
    {
     "name": "stdin",
     "output_type": "stream",
     "text": [
      "Enter your e-mail:  kohlikay879@gmail.com\n",
      "Enter your password:  123\n"
     ]
    },
    {
     "name": "stdout",
     "output_type": "stream",
     "text": [
      "Invalid password!\n"
     ]
    },
    {
     "name": "stdin",
     "output_type": "stream",
     "text": [
      "Enter your password again:  12345\n"
     ]
    },
    {
     "name": "stdout",
     "output_type": "stream",
     "text": [
      "Welcome!\n"
     ]
    }
   ],
   "source": [
    "# login id and password\n",
    "# email --> kohlikay879@gmail.com\n",
    "# password --> 12345\n",
    "\n",
    "email = input(\"Enter your e-mail: \") \n",
    "password = input(\"Enter your password: \")\n",
    "\n",
    "if email == \"kohlikay879@gmail.com\" and password == \"12345\":\n",
    "    print(\"Welcome!\")\n",
    "elif email == \"kohlikay879@gmail.com\" and password != \"12345\":\n",
    "    print(\"Invalid password!\")\n",
    "    password = input(\"Enter your password again: \")\n",
    "    if password == \"12345\":\n",
    "        print(\"Welcome!\")\n",
    "    else:\n",
    "        print(\"Invalid!\")\n",
    "else:\n",
    "    print(\"Invalid!\")"
   ]
  },
  {
   "cell_type": "markdown",
   "id": "33984b2d-62a0-4f93-88e2-49200cbe185e",
   "metadata": {},
   "source": [
    "## Qs. Print the min. of three numbers."
   ]
  },
  {
   "cell_type": "code",
   "execution_count": 3,
   "id": "673ae3d3-1945-4054-a66f-2fd125c5b65b",
   "metadata": {},
   "outputs": [
    {
     "name": "stdin",
     "output_type": "stream",
     "text": [
      "Enter a:  2\n",
      "Enter b:  3\n",
      "Enter c:  1\n"
     ]
    },
    {
     "name": "stdout",
     "output_type": "stream",
     "text": [
      "1 is smallest.\n"
     ]
    }
   ],
   "source": [
    "a = int(input(\"Enter a: \"))\n",
    "b = int(input(\"Enter b: \"))\n",
    "c = int(input(\"Enter c: \"))\n",
    "\n",
    "if a<b and a<c:\n",
    "    print(a, \"is smallest.\")\n",
    "elif b<c:\n",
    "    print(b, \"is smallest.\")\n",
    "else:\n",
    "    print(c, \"is smallest.\")"
   ]
  },
  {
   "cell_type": "markdown",
   "id": "e838430f-d27a-4225-94d7-ae1f8b651f60",
   "metadata": {},
   "source": [
    "## Qs. Menu driven calculator"
   ]
  },
  {
   "cell_type": "code",
   "execution_count": 65,
   "id": "5fa36e68-7541-420e-bb83-372ec8b21aa6",
   "metadata": {},
   "outputs": [
    {
     "name": "stdin",
     "output_type": "stream",
     "text": [
      "Enter a:  4\n",
      "Enter b:  7\n",
      "Enter operantion (+,-,*,/):  -\n"
     ]
    },
    {
     "name": "stdout",
     "output_type": "stream",
     "text": [
      "Difference:  -3\n"
     ]
    }
   ],
   "source": [
    "a = int(input(\"Enter a: \"))\n",
    "b = int(input(\"Enter b: \"))\n",
    "\n",
    "op = input(\"Enter operantion (+,-,*,/): \")\n",
    "\n",
    "if op == \"+\":\n",
    "    print(\"Sum: \", a+b)\n",
    "elif op == \"-\":\n",
    "    print(\"Difference: \", a-b)\n",
    "elif op == \"*\":\n",
    "    print(\"Multiplication: \", a*b)\n",
    "elif op == \"/\":\n",
    "    if b != 0:\n",
    "        print(\"Division: \", a/b)\n",
    "    else:\n",
    "        print(\"Invalid division\")\n",
    "else:\n",
    "    print(\"Invalid\")"
   ]
  },
  {
   "cell_type": "markdown",
   "id": "727b3862-1e43-4794-ac07-c4e8b3fe6c64",
   "metadata": {},
   "source": [
    "## Menu driven bank atm"
   ]
  },
  {
   "cell_type": "code",
   "execution_count": 66,
   "id": "9fd79bfb-0ddb-4c62-8bf6-8f23ce484bc0",
   "metadata": {},
   "outputs": [
    {
     "name": "stdin",
     "output_type": "stream",
     "text": [
      "\n",
      "Hi! How can I help you!\n",
      "1. Enter \"1\" for pin change.\n",
      "2. Enter \"2\" for balance check.\n",
      "3. Enter \"3\" for withdrawl.\n",
      "4. Enter \"4\" for exit.\n",
      " 1\n"
     ]
    },
    {
     "name": "stdout",
     "output_type": "stream",
     "text": [
      "Pin change.\n"
     ]
    }
   ],
   "source": [
    "menu = int(input('''\n",
    "Hi! How can I help you!\n",
    "1. Enter \"1\" for pin change.\n",
    "2. Enter \"2\" for balance check.\n",
    "3. Enter \"3\" for withdrawl.\n",
    "4. Enter \"4\" for exit.\n",
    "'''))\n",
    "\n",
    "if menu == 1:\n",
    "    print(\"Pin change.\")\n",
    "elif menu == 2:\n",
    "    print(\"Balance check.\")\n",
    "elif menu == 3:\n",
    "    print(\"Withdrawl.\")\n",
    "elif menu == 4:\n",
    "    print(\"Exit.\")\n",
    "else:\n",
    "    print(\"Invalid\")"
   ]
  },
  {
   "cell_type": "markdown",
   "id": "a1d324b3-6b02-4964-b08f-dd68a29801c5",
   "metadata": {},
   "source": [
    "# -------------------------------------"
   ]
  },
  {
   "cell_type": "markdown",
   "id": "9696ae4c-4551-430c-856c-abbf438cc255",
   "metadata": {},
   "source": [
    "# Modules in Python"
   ]
  },
  {
   "cell_type": "markdown",
   "id": "2b24b7ea-98de-47b7-9204-f8db3b04de2c",
   "metadata": {},
   "source": [
    "## Whatever is the library in c, c++, java is called module in python."
   ]
  },
  {
   "cell_type": "markdown",
   "id": "532bfadb-3d46-406c-bf78-c86299ef055e",
   "metadata": {},
   "source": [
    "## A module is a file in which some particular functions are written and we can import that file in our program and use it.\n",
    "## It promotes code reusability in a way that we don't have to write some particular logic from scratch. "
   ]
  },
  {
   "cell_type": "markdown",
   "id": "b2941c13-ea61-4d6d-99b9-36498bf87439",
   "metadata": {},
   "source": [
    "## Examples are: "
   ]
  },
  {
   "cell_type": "markdown",
   "id": "d1f21b1f-d8cd-42b6-9519-56f79c3a03df",
   "metadata": {},
   "source": [
    "## Math\n",
    "## keywords\n",
    "## random\n",
    "## datetime"
   ]
  },
  {
   "cell_type": "code",
   "execution_count": 4,
   "id": "d3648679-3b24-41a5-a980-aab716e9475f",
   "metadata": {},
   "outputs": [
    {
     "data": {
      "text/plain": [
       "['__doc__',\n",
       " '__loader__',\n",
       " '__name__',\n",
       " '__package__',\n",
       " '__spec__',\n",
       " 'acos',\n",
       " 'acosh',\n",
       " 'asin',\n",
       " 'asinh',\n",
       " 'atan',\n",
       " 'atan2',\n",
       " 'atanh',\n",
       " 'cbrt',\n",
       " 'ceil',\n",
       " 'comb',\n",
       " 'copysign',\n",
       " 'cos',\n",
       " 'cosh',\n",
       " 'degrees',\n",
       " 'dist',\n",
       " 'e',\n",
       " 'erf',\n",
       " 'erfc',\n",
       " 'exp',\n",
       " 'exp2',\n",
       " 'expm1',\n",
       " 'fabs',\n",
       " 'factorial',\n",
       " 'floor',\n",
       " 'fmod',\n",
       " 'frexp',\n",
       " 'fsum',\n",
       " 'gamma',\n",
       " 'gcd',\n",
       " 'hypot',\n",
       " 'inf',\n",
       " 'isclose',\n",
       " 'isfinite',\n",
       " 'isinf',\n",
       " 'isnan',\n",
       " 'isqrt',\n",
       " 'lcm',\n",
       " 'ldexp',\n",
       " 'lgamma',\n",
       " 'log',\n",
       " 'log10',\n",
       " 'log1p',\n",
       " 'log2',\n",
       " 'modf',\n",
       " 'nan',\n",
       " 'nextafter',\n",
       " 'perm',\n",
       " 'pi',\n",
       " 'pow',\n",
       " 'prod',\n",
       " 'radians',\n",
       " 'remainder',\n",
       " 'sin',\n",
       " 'sinh',\n",
       " 'sqrt',\n",
       " 'sumprod',\n",
       " 'tan',\n",
       " 'tanh',\n",
       " 'tau',\n",
       " 'trunc',\n",
       " 'ulp']"
      ]
     },
     "execution_count": 4,
     "metadata": {},
     "output_type": "execute_result"
    }
   ],
   "source": [
    "# math\n",
    "\n",
    "import math\n",
    "dir(math) # shows all the functions in math module.\n",
    "\n",
    "# math.factorial(5)\n",
    "# math.floor(2.3)"
   ]
  },
  {
   "cell_type": "code",
   "execution_count": 8,
   "id": "c8a3c8c8-ff2b-4572-9559-bccf03cf4650",
   "metadata": {},
   "outputs": [
    {
     "name": "stdout",
     "output_type": "stream",
     "text": [
      "['False', 'None', 'True', 'and', 'as', 'assert', 'async', 'await', 'break', 'class', 'continue', 'def', 'del', 'elif', 'else', 'except', 'finally', 'for', 'from', 'global', 'if', 'import', 'in', 'is', 'lambda', 'nonlocal', 'not', 'or', 'pass', 'raise', 'return', 'try', 'while', 'with', 'yield']\n"
     ]
    }
   ],
   "source": [
    "# keyword\n",
    "\n",
    "import keyword\n",
    "dir(keyword)\n",
    "\n",
    "print(keyword.kwlist) # lists all the keywords in python."
   ]
  },
  {
   "cell_type": "code",
   "execution_count": 13,
   "id": "4fdb723a-84dc-4e62-84e3-66939e3c14fa",
   "metadata": {},
   "outputs": [
    {
     "name": "stdout",
     "output_type": "stream",
     "text": [
      "21\n"
     ]
    }
   ],
   "source": [
    "# random\n",
    "\n",
    "import random\n",
    "dir(random)\n",
    "\n",
    "print(random.randint(1,100))"
   ]
  },
  {
   "cell_type": "code",
   "execution_count": 15,
   "id": "4698644f-47db-4c11-820b-86447f7acae0",
   "metadata": {},
   "outputs": [
    {
     "name": "stdout",
     "output_type": "stream",
     "text": [
      "2024-06-17 11:01:08.805495\n"
     ]
    }
   ],
   "source": [
    "# datetime\n",
    "\n",
    "import datetime\n",
    "dir(datetime)\n",
    "\n",
    "print(datetime.datetime.now())"
   ]
  },
  {
   "cell_type": "markdown",
   "id": "e519140d-f9df-445c-818c-f6531155595e",
   "metadata": {},
   "source": [
    "## List of all the installed modules in Python"
   ]
  },
  {
   "cell_type": "code",
   "execution_count": 17,
   "id": "36054fc4-6d9e-4410-ab79-6654a17062c6",
   "metadata": {},
   "outputs": [
    {
     "name": "stdout",
     "output_type": "stream",
     "text": [
      "\n",
      "Please wait a moment while I gather a list of all available modules...\n",
      "\n",
      "629853fdff261ed89b74__mypyc calendar            math                sre_constants\n",
      "IPython             certifi             mathparse           sre_parse\n",
      "PIL                 cffi                matplotlib          srt\n",
      "__future__          cgi                 matplotlib_inline   srt_tools\n",
      "__hello__           cgitb               mdurl               ssl\n",
      "__phello__          charset_normalizer  midiutil            sspi\n",
      "_abc                chatterbot          mimetypes           sspicon\n",
      "_aix_support        chatterbot_corpus   mistune             stack_data\n",
      "_argon2_cffi_bindings chunk               mmap                start_pythonwin\n",
      "_ast                click               mmapfile            stat\n",
      "_asyncio            click_default_group mmsystem            statistics\n",
      "_bisect             cloup               moderngl            string\n",
      "_black_version      cmake               moderngl_window     stringprep\n",
      "_blake2             cmath               modulefinder        struct\n",
      "_bz2                cmd                 mpl_toolkits        subprocess\n",
      "_cffi_backend       code                msilib              sunau\n",
      "_codecs             codecs              msvcrt              svgelements\n",
      "_codecs_cn          codeop              multipledispatch    symtable\n",
      "_codecs_hk          collections         multiprocessing     sys\n",
      "_codecs_iso2022     colorama            mypy_extensions     sysconfig\n",
      "_codecs_jp          colorsys            nbclient            tabnanny\n",
      "_codecs_kr          comm                nbconvert           tarfile\n",
      "_codecs_tw          commctrl            nbformat            telnetlib\n",
      "_collections        compileall          nest_asyncio        tempfile\n",
      "_collections_abc    concurrent          netbios             terminado\n",
      "_compat_pickle      configparser        netrc               test\n",
      "_compression        contextlib          networkx            textwrap\n",
      "_contextvars        contextvars         nltk                this\n",
      "_csv                contourpy           nntplib             threading\n",
      "_ctypes             copy                notebook            threadpoolctl\n",
      "_ctypes_test        copyreg             notebook_shim       time\n",
      "_datetime           crypt               nt                  timeit\n",
      "_decimal            csv                 ntpath              timer\n",
      "_distutils_hack     ctypes              ntsecuritycon       tinycss2\n",
      "_elementtree        curses              nturl2path          tkinter\n",
      "_functools          cv2                 numbers             token\n",
      "_hashlib            cycler              numpy               tokenize\n",
      "_heapq              dataclasses         odbc                tomllib\n",
      "_imp                datetime            opcode              tornado\n",
      "_io                 dateutil            operator            tqdm\n",
      "_json               dbi                 optparse            trace\n",
      "_locale             dbm                 os                  traceback\n",
      "_lsprof             dde                 overrides           tracemalloc\n",
      "_lzma               debugpy             packaging           traitlets\n",
      "_markupbase         decimal             pandas              tty\n",
      "_md5                decorator           pandocfilters       turtle\n",
      "_moderngl           defusedxml          parso               turtledemo\n",
      "_msi                difflib             pathlib             types\n",
      "_multibytecodec     dis                 pathops             typing\n",
      "_multiprocessing    distlib             pathspec            typing_extensions\n",
      "_opcode             doctest             pdb                 tzdata\n",
      "_operator           email               perfmon             unicodedata\n",
      "_osx_support        encodings           pickle              unittest\n",
      "_overlapped         ensurepip           pickletools         uri_template\n",
      "_pickle             enum                pint                urllib\n",
      "_py_abc             errno               pip                 urllib3\n",
      "_pydatetime         executing           pipes               uu\n",
      "_pydecimal          fastjsonschema      pkg_resources       uuid\n",
      "_pyio               faulthandler        pkgutil             venv\n",
      "_pylong             filecmp             platform            virtualenv\n",
      "_queue              fileinput           platformdirs        warnings\n",
      "_random             filelock            plistlib            watchdog\n",
      "_sha1               fnmatch             poplib              wave\n",
      "_sha2               fontTools           posixpath           wcwidth\n",
      "_sha3               fqdn                pprint              weakref\n",
      "_signal             fractions           profile             webbrowser\n",
      "_sitebuiltins       ftplib              prometheus_client   webcolors\n",
      "_socket             functools           prompt_toolkit      webencodings\n",
      "_sqlite3            gc                  pstats              websocket\n",
      "_sre                genericpath         psutil              widgetsnbextension\n",
      "_ssl                getopt              pty                 win2kras\n",
      "_stat               getpass             pure_eval           win32api\n",
      "_statistics         gettext             py_compile          win32clipboard\n",
      "_string             glcontext           pyclbr              win32com\n",
      "_strptime           glob                pycparser           win32con\n",
      "_struct             graphlib            pydoc               win32console\n",
      "_symtable           gridfs              pydoc_data          win32cred\n",
      "_testbuffer         gzip                pydub               win32crypt\n",
      "_testcapi           h11                 pyexpat             win32cryptcon\n",
      "_testclinic         hashlib             pyglet              win32event\n",
      "_testconsole        heapq               pygments            win32evtlog\n",
      "_testimportmultiple hmac                pylab               win32evtlogutil\n",
      "_testinternalcapi   html                pymongo             win32file\n",
      "_testmultiphase     http                pyparsing           win32gui\n",
      "_testsinglephase    httpcore            pyrr                win32gui_struct\n",
      "_thread             httpx               pythoncom           win32help\n",
      "_threading_local    idlelib             pythonjsonlogger    win32inet\n",
      "_tkinter            idna                pytz                win32inetcon\n",
      "_tokenize           imaplib             pywin               win32job\n",
      "_tracemalloc        imghdr              pywin32_bootstrap   win32lz\n",
      "_typing             importlib           pywin32_testutil    win32net\n",
      "_uuid               inspect             pywintypes          win32netcon\n",
      "_warnings           io                  qtconsole           win32pdh\n",
      "_weakref            ipaddress           qtpy                win32pdhquery\n",
      "_weakrefset         ipykernel           queue               win32pdhutil\n",
      "_win32sysloader     ipykernel_launcher  quopri              win32pipe\n",
      "_winapi             ipywidgets          random              win32print\n",
      "_winxptheme         isapi               rasutil             win32process\n",
      "_wmi                isoduration         re                  win32profile\n",
      "_xxinterpchannels   isosurfaces         referencing         win32ras\n",
      "_xxsubinterpreters  itertools           regcheck            win32rcparser\n",
      "_yaml               jedi                regex               win32security\n",
      "_zoneinfo           jinja2              regutil             win32service\n",
      "abc                 joblib              reprlib             win32serviceutil\n",
      "adodbapi            json                requests            win32timezone\n",
      "afxres              json5               rfc3339_validator   win32trace\n",
      "aifc                jsonpointer         rfc3986_validator   win32traceutil\n",
      "antigravity         jsonschema          rich                win32transaction\n",
      "anyio               jsonschema_specifications rlcompleter         win32ts\n",
      "argon2              jupyter             rpds                win32ui\n",
      "argparse            jupyter_client      runpy               win32uiole\n",
      "array               jupyter_console     sched               win32verstamp\n",
      "arrow               jupyter_core        scipy               win32wnet\n",
      "ast                 jupyter_events      screeninfo          winerror\n",
      "asttokens           jupyter_lsp         secrets             winioctlcon\n",
      "async_lru           jupyter_server      select              winnt\n",
      "asyncio             jupyter_server_terminals selectors           winperf\n",
      "atexit              jupyterlab          send2trash          winpty\n",
      "attr                jupyterlab_pygments servicemanager      winreg\n",
      "attrs               jupyterlab_server   setuptools          winsound\n",
      "audioop             jupyterlab_widgets  shelve              winxpgui\n",
      "babel               keyword             shlex               winxptheme\n",
      "base64              kiwisolver          shutil              wsgiref\n",
      "bdb                 lib2to3             signal              xdrlib\n",
      "binascii            linecache           site                xml\n",
      "bisect              locale              six                 xmlrpc\n",
      "black               logging             sklearn             xxsubtype\n",
      "blackd              lzma                smtplib             yaml\n",
      "bleach              mailbox             sndhdr              zipapp\n",
      "blib2to3            mailcap             sniffio             zipfile\n",
      "bs4                 manim               socket              zipimport\n",
      "bson                manimpango          socketserver        zlib\n",
      "builtins            mapbox_earcut       soupsieve           zmq\n",
      "bz2                 markdown_it         sqlalchemy          zoneinfo\n",
      "cProfile            markupsafe          sqlite3             \n",
      "cairo               marshal             sre_compile         \n",
      "\n",
      "Enter any module name to get more help.  Or, type \"modules spam\" to search\n",
      "for modules whose name or summary contain the string \"spam\".\n",
      "\n"
     ]
    }
   ],
   "source": [
    "help(\"modules\")"
   ]
  },
  {
   "cell_type": "markdown",
   "id": "f4833162-3971-4a35-83aa-3202e893fd6e",
   "metadata": {},
   "source": [
    "# --------------------------------------------------------"
   ]
  },
  {
   "cell_type": "markdown",
   "id": "9463a80e-09e1-4e17-8430-29d761af9e8e",
   "metadata": {},
   "source": [
    "# Loops"
   ]
  },
  {
   "cell_type": "markdown",
   "id": "2c32c85b-a98e-42f6-9344-3a8e5c35dec7",
   "metadata": {},
   "source": [
    "## - while loop\n",
    "## - for loop"
   ]
  },
  {
   "cell_type": "markdown",
   "id": "6a2f0c68-cad0-46e8-b746-a72892cb3bb3",
   "metadata": {},
   "source": [
    "## while loop"
   ]
  },
  {
   "cell_type": "code",
   "execution_count": 18,
   "id": "7f2e84fa-4c3f-4592-a1f0-f871c8545f81",
   "metadata": {},
   "outputs": [
    {
     "name": "stdin",
     "output_type": "stream",
     "text": [
      "Enter n:  5\n"
     ]
    },
    {
     "name": "stdout",
     "output_type": "stream",
     "text": [
      "5\n",
      "10\n",
      "15\n",
      "20\n",
      "25\n",
      "30\n",
      "35\n",
      "40\n",
      "45\n",
      "50\n"
     ]
    }
   ],
   "source": [
    "# while\n",
    "\n",
    "n = int(input(\"Enter n: \"))\n",
    "\n",
    "i = 1\n",
    "\n",
    "while i<=10:\n",
    "    print(n*i)\n",
    "    i+=1"
   ]
  },
  {
   "cell_type": "markdown",
   "id": "382ef88a-6744-4101-b454-642937564fa0",
   "metadata": {},
   "source": [
    "### https://pythontutor.com/render.html#mode=display"
   ]
  },
  {
   "cell_type": "markdown",
   "id": "19eea2df-4b86-49ec-bda3-bb242cd6c1f6",
   "metadata": {},
   "source": [
    "## while loop with else"
   ]
  },
  {
   "cell_type": "code",
   "execution_count": 19,
   "id": "52e71ac5-6a0e-47e8-af46-7ea9e13b5828",
   "metadata": {},
   "outputs": [
    {
     "name": "stdout",
     "output_type": "stream",
     "text": [
      "1\n",
      "2\n",
      "Limit reached.\n"
     ]
    }
   ],
   "source": [
    "# while loop with else\n",
    "\n",
    "x = 1\n",
    "\n",
    "while x<3:\n",
    "    print(x)\n",
    "    x+=1\n",
    "\n",
    "else:\n",
    "    print(\"Limit reached.\")"
   ]
  },
  {
   "cell_type": "markdown",
   "id": "c5a963e8-2bfc-4364-9e79-d08e046f9987",
   "metadata": {},
   "source": [
    "# Number guessing game"
   ]
  },
  {
   "cell_type": "code",
   "execution_count": 19,
   "id": "c850d892-bcaf-4f20-9268-4b73f3943a13",
   "metadata": {},
   "outputs": [
    {
     "name": "stdin",
     "output_type": "stream",
     "text": [
      "Guess the number (1-100):  50\n"
     ]
    },
    {
     "name": "stdout",
     "output_type": "stream",
     "text": [
      "Wrong. Guess lower.\n"
     ]
    },
    {
     "name": "stdin",
     "output_type": "stream",
     "text": [
      "Guess the number:  20\n"
     ]
    },
    {
     "name": "stdout",
     "output_type": "stream",
     "text": [
      "Wrong. Guess lower.\n"
     ]
    },
    {
     "name": "stdin",
     "output_type": "stream",
     "text": [
      "Guess the number:  15\n"
     ]
    },
    {
     "name": "stdout",
     "output_type": "stream",
     "text": [
      "Wrong. Guess higher.\n"
     ]
    },
    {
     "name": "stdin",
     "output_type": "stream",
     "text": [
      "Guess the number:  16\n"
     ]
    },
    {
     "name": "stdout",
     "output_type": "stream",
     "text": [
      "Wrong. Guess higher.\n"
     ]
    },
    {
     "name": "stdin",
     "output_type": "stream",
     "text": [
      "Guess the number:  18\n"
     ]
    },
    {
     "name": "stdout",
     "output_type": "stream",
     "text": [
      "Wrong. Guess higher.\n"
     ]
    },
    {
     "name": "stdin",
     "output_type": "stream",
     "text": [
      "Guess the number:  19\n"
     ]
    },
    {
     "name": "stdout",
     "output_type": "stream",
     "text": [
      "Right guess in 6 counts.\n"
     ]
    }
   ],
   "source": [
    "import random\n",
    "\n",
    "jackpot = random.randint(1,100)\n",
    "# print(jackpot)\n",
    "\n",
    "number = int(input(\"Guess the number (1-100): \"))\n",
    "\n",
    "count = 1\n",
    "\n",
    "if number>=1 and number<=100:\n",
    "    while number != jackpot:\n",
    "        \n",
    "        if number > jackpot:\n",
    "            print(\"Wrong. Guess lower.\")\n",
    "            \n",
    "        elif number < jackpot:\n",
    "            print(\"Wrong. Guess higher.\")\n",
    "    \n",
    "        number = int(input(\"Guess the number: \"))\n",
    "    \n",
    "        count += 1\n",
    "            \n",
    "    else:\n",
    "        print(\"Right guess in\", count, \"counts.\")\n",
    "\n",
    "else:\n",
    "    print(\"Invalid number.\")"
   ]
  },
  {
   "cell_type": "markdown",
   "id": "b06e9fdd-08f7-4b75-8032-ac95c3220efd",
   "metadata": {},
   "source": [
    "# For loop "
   ]
  },
  {
   "cell_type": "code",
   "execution_count": 20,
   "id": "a8b72da3-82e3-4026-a6d0-0b1f7fb4b982",
   "metadata": {},
   "outputs": [
    {
     "name": "stdout",
     "output_type": "stream",
     "text": [
      "1\n",
      "2\n",
      "3\n",
      "4\n",
      "5\n",
      "6\n",
      "7\n",
      "8\n",
      "9\n",
      "10\n"
     ]
    }
   ],
   "source": [
    "for i in range(1,11):\n",
    "    print(i)"
   ]
  },
  {
   "cell_type": "code",
   "execution_count": 25,
   "id": "976d887a-21d9-4a29-a30d-dae62661a5c9",
   "metadata": {},
   "outputs": [
    {
     "name": "stdout",
     "output_type": "stream",
     "text": [
      "1\n",
      "2\n",
      "3\n",
      "4\n",
      "5\n",
      "6\n",
      "7\n",
      "8\n",
      "9\n",
      "10\n"
     ]
    }
   ],
   "source": [
    "# range(1,11) can be written as:\n",
    "\n",
    "for i in 1,2,3,4,5,6,7,8,9,10:\n",
    "    print(i)"
   ]
  },
  {
   "cell_type": "code",
   "execution_count": 23,
   "id": "a956543f-4573-4bd5-a58f-bebb5fd4094f",
   "metadata": {},
   "outputs": [
    {
     "data": {
      "text/plain": [
       "\u001b[1;31mInit signature:\u001b[0m \u001b[0mrange\u001b[0m\u001b[1;33m(\u001b[0m\u001b[0mself\u001b[0m\u001b[1;33m,\u001b[0m \u001b[1;33m/\u001b[0m\u001b[1;33m,\u001b[0m \u001b[1;33m*\u001b[0m\u001b[0margs\u001b[0m\u001b[1;33m,\u001b[0m \u001b[1;33m**\u001b[0m\u001b[0mkwargs\u001b[0m\u001b[1;33m)\u001b[0m\u001b[1;33m\u001b[0m\u001b[1;33m\u001b[0m\u001b[0m\n",
       "\u001b[1;31mDocstring:\u001b[0m     \n",
       "range(stop) -> range object\n",
       "range(start, stop[, step]) -> range object\n",
       "\n",
       "Return an object that produces a sequence of integers from start (inclusive)\n",
       "to stop (exclusive) by step.  range(i, j) produces i, i+1, i+2, ..., j-1.\n",
       "start defaults to 0, and stop is omitted!  range(4) produces 0, 1, 2, 3.\n",
       "These are exactly the valid indices for a list of 4 elements.\n",
       "When step is given, it specifies the increment (or decrement).\n",
       "\u001b[1;31mType:\u001b[0m           type\n",
       "\u001b[1;31mSubclasses:\u001b[0m     "
      ]
     },
     "metadata": {},
     "output_type": "display_data"
    }
   ],
   "source": [
    "?range"
   ]
  },
  {
   "cell_type": "code",
   "execution_count": 27,
   "id": "c7a1845b-25a0-4236-be30-eb623c10cc93",
   "metadata": {},
   "outputs": [
    {
     "name": "stdout",
     "output_type": "stream",
     "text": [
      "1\n",
      "3\n",
      "5\n",
      "7\n",
      "9\n"
     ]
    }
   ],
   "source": [
    "for i in range(1,11,2):  # 2 is step size.\n",
    "    print(i)"
   ]
  },
  {
   "cell_type": "code",
   "execution_count": 28,
   "id": "718bc404-84d2-4e07-886a-03d468fde32f",
   "metadata": {},
   "outputs": [
    {
     "name": "stdout",
     "output_type": "stream",
     "text": [
      "10\n",
      "9\n",
      "8\n",
      "7\n",
      "6\n",
      "5\n",
      "4\n",
      "3\n",
      "2\n",
      "1\n"
     ]
    }
   ],
   "source": [
    "# reverse\n",
    "\n",
    "for i in range(10,0,-1):\n",
    "    print(i)"
   ]
  },
  {
   "cell_type": "code",
   "execution_count": 29,
   "id": "07674b84-bd0b-4733-9162-092d1c091fc6",
   "metadata": {},
   "outputs": [
    {
     "name": "stdout",
     "output_type": "stream",
     "text": [
      "P\n",
      "y\n",
      "t\n",
      "h\n",
      "o\n",
      "n\n"
     ]
    }
   ],
   "source": [
    "# also works for other data types:\n",
    "\n",
    "for i in \"Python\":\n",
    "    print(i)"
   ]
  },
  {
   "cell_type": "code",
   "execution_count": 30,
   "id": "6a345724-f390-434d-bf92-8ab3d39e75ea",
   "metadata": {},
   "outputs": [
    {
     "name": "stdout",
     "output_type": "stream",
     "text": [
      "1\n",
      "2\n",
      "3\n",
      "4\n",
      "5\n"
     ]
    }
   ],
   "source": [
    "for i in [1,2,3,4,5]:\n",
    "    print(i)"
   ]
  },
  {
   "cell_type": "code",
   "execution_count": 31,
   "id": "727fffb2-9dbc-494b-b4f4-6ca6d6243194",
   "metadata": {},
   "outputs": [
    {
     "name": "stdout",
     "output_type": "stream",
     "text": [
      "1\n",
      "2\n",
      "3\n",
      "4\n",
      "5\n"
     ]
    }
   ],
   "source": [
    "for i in (1,2,3,4,5):\n",
    "    print(i)"
   ]
  },
  {
   "cell_type": "code",
   "execution_count": 32,
   "id": "aa00eca4-9d25-4073-8c86-be1c34df6b0a",
   "metadata": {},
   "outputs": [
    {
     "name": "stdout",
     "output_type": "stream",
     "text": [
      "1\n",
      "2\n",
      "3\n",
      "4\n",
      "5\n"
     ]
    }
   ],
   "source": [
    "for i in {1,2,3,4,5}:\n",
    "    print(i)"
   ]
  },
  {
   "cell_type": "code",
   "execution_count": 33,
   "id": "d629ecda-6bff-479b-91f7-257870f5ec92",
   "metadata": {},
   "outputs": [
    {
     "name": "stdout",
     "output_type": "stream",
     "text": [
      "1\n",
      "2\n",
      "3\n"
     ]
    }
   ],
   "source": [
    "for i in {1: \"ABC\", 2: \"DEF\", 3: \"GHI\"}:\n",
    "    print(i)"
   ]
  },
  {
   "cell_type": "markdown",
   "id": "384197a9-b9b4-475c-b023-bbce7c99cbdb",
   "metadata": {},
   "source": [
    "# For loop Examples:"
   ]
  },
  {
   "cell_type": "markdown",
   "id": "53dd4d84-3be4-4832-985b-468863ddef13",
   "metadata": {},
   "source": [
    "## Qs. The current population of a town is 10000. The population of the town is increasing at the rate of 10% per year. You have to wap to find out the population at the end of each of the last 10 years."
   ]
  },
  {
   "cell_type": "code",
   "execution_count": 41,
   "id": "2ae0d7f3-6e11-4dcd-80c3-175ef25fd5c2",
   "metadata": {},
   "outputs": [
    {
     "name": "stdout",
     "output_type": "stream",
     "text": [
      "9000.0\n",
      "8100.0\n",
      "7290.0\n",
      "6561.0\n",
      "5904.9\n",
      "5314.41\n",
      "4782.969\n",
      "4304.6721\n",
      "3874.20489\n",
      "3486.784401\n"
     ]
    }
   ],
   "source": [
    "population = 10000\n",
    "\n",
    "for i in range(1,11):\n",
    "    population -= population*0.1\n",
    "    print(population)"
   ]
  },
  {
   "cell_type": "code",
   "execution_count": 43,
   "id": "2a073db1-8a1c-4fd4-b00e-2f5ab528489e",
   "metadata": {},
   "outputs": [
    {
     "name": "stdout",
     "output_type": "stream",
     "text": [
      "10 10000\n",
      "9 9000.0\n",
      "8 8100.0\n",
      "7 7290.0\n",
      "6 6561.0\n",
      "5 5904.9\n",
      "4 5314.41\n",
      "3 4782.969\n",
      "2 4304.6721\n",
      "1 3874.20489\n"
     ]
    }
   ],
   "source": [
    "# or \n",
    "\n",
    "population = 10000\n",
    "\n",
    "for i in range(10,0,-1):\n",
    "    print(i, population)\n",
    "\n",
    "    population = population - population*0.1"
   ]
  },
  {
   "cell_type": "markdown",
   "id": "5efb1207-4d2e-4e95-9719-9da484bb8158",
   "metadata": {},
   "source": [
    "## The above approach is wrong. Correct approach is given below:"
   ]
  },
  {
   "cell_type": "code",
   "execution_count": 50,
   "id": "5c852da0-37f7-411f-b903-882060b7f53d",
   "metadata": {},
   "outputs": [
    {
     "name": "stdout",
     "output_type": "stream",
     "text": [
      "10 9090.90909090909\n",
      "9 8264.462809917353\n",
      "8 7513.148009015775\n",
      "7 6830.134553650703\n",
      "6 6209.213230591548\n",
      "5 5644.739300537771\n",
      "4 5131.5811823070635\n",
      "3 4665.07380209733\n",
      "2 4240.976183724845\n",
      "1 3855.4328942953134\n"
     ]
    }
   ],
   "source": [
    "population = 10000\n",
    "\n",
    "for i in range(10, 0, -1):\n",
    "    population = population/1.1\n",
    "\n",
    "    print(i, population)"
   ]
  },
  {
   "cell_type": "markdown",
   "id": "a6baceaa-3281-4319-87d8-36f4601cfe2e",
   "metadata": {},
   "source": [
    "## Let population at end of last year = x\n",
    "## current population = 10000\n",
    "\n",
    "## x + 10% of x = 10000\n",
    "## x + 0.1x = 10000\n",
    "## 1.1x = 10000\n",
    "## x = 10000/1.1\n",
    "## --------------------\n",
    "## Let population at end of second last year = x\n",
    "## y + 0.1y = 10000/1.1\n",
    "## y = (10000/1.1)/1.1\n",
    "## --------------------\n",
    "## And so on..."
   ]
  },
  {
   "cell_type": "markdown",
   "id": "6c7ea67e-089d-4d69-a7ce-14552d346f7a",
   "metadata": {},
   "source": [
    "# Qs. Sequence sum\n",
    "## 1/1! + 2/2! + 3/3! + ..."
   ]
  },
  {
   "cell_type": "code",
   "execution_count": 63,
   "id": "52dfa794-f88c-418c-b10f-30e38ed82aed",
   "metadata": {},
   "outputs": [
    {
     "name": "stdin",
     "output_type": "stream",
     "text": [
      "Enter n:  5\n"
     ]
    },
    {
     "name": "stdout",
     "output_type": "stream",
     "text": [
      "Sum : 2.708333333333333\n"
     ]
    }
   ],
   "source": [
    "import math\n",
    "\n",
    "n = int(input(\"Enter n: \"))\n",
    "sum = 0 \n",
    "\n",
    "for i in range(n):\n",
    "    sum = sum + (i+1)/(math.factorial(i+1))\n",
    "\n",
    "print(\"Sum :\", sum)"
   ]
  },
  {
   "cell_type": "markdown",
   "id": "b697d271-2fa2-4a96-93d2-9aeedf3fa7c6",
   "metadata": {},
   "source": [
    "## or"
   ]
  },
  {
   "cell_type": "code",
   "execution_count": 67,
   "id": "6390a09c-a596-4ae1-81dc-14b83d347b48",
   "metadata": {},
   "outputs": [
    {
     "name": "stdin",
     "output_type": "stream",
     "text": [
      "Enter n:  5\n"
     ]
    },
    {
     "name": "stdout",
     "output_type": "stream",
     "text": [
      "Sum : 2.708333333333333\n"
     ]
    }
   ],
   "source": [
    "n = int(input(\"Enter n: \"))\n",
    "\n",
    "sum = 0\n",
    "factorial = 1\n",
    "\n",
    "for i in range(n):\n",
    "    factorial = factorial * (i+1)\n",
    "    sum = sum + (i+1)/factorial \n",
    "\n",
    "print(\"Sum :\", sum)"
   ]
  },
  {
   "cell_type": "markdown",
   "id": "04e6e656-27fd-4312-abe3-0c4c40e937bd",
   "metadata": {},
   "source": [
    "# Tip:\n",
    "# Jab bhi koi complex problem aaye, toh use chote chote sub-problems me tod do aur unhe ek ek karke solve karo."
   ]
  },
  {
   "cell_type": "code",
   "execution_count": null,
   "id": "b6e34f49-c2e9-45b6-a8d4-e3b480721e55",
   "metadata": {},
   "outputs": [],
   "source": []
  }
 ],
 "metadata": {
  "kernelspec": {
   "display_name": "Python 3 (ipykernel)",
   "language": "python",
   "name": "python3"
  },
  "language_info": {
   "codemirror_mode": {
    "name": "ipython",
    "version": 3
   },
   "file_extension": ".py",
   "mimetype": "text/x-python",
   "name": "python",
   "nbconvert_exporter": "python",
   "pygments_lexer": "ipython3",
   "version": "3.12.1"
  }
 },
 "nbformat": 4,
 "nbformat_minor": 5
}
