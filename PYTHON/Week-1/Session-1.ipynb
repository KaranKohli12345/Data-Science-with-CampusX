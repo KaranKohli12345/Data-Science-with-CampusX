{
 "cells": [
  {
   "cell_type": "markdown",
   "id": "ffe1c9f7-e9ad-4a8c-b5e8-513ad6f3482e",
   "metadata": {},
   "source": [
    "# 1. Output (print)"
   ]
  },
  {
   "cell_type": "code",
   "execution_count": 1,
   "id": "2d18ce58-9e40-4074-9834-7ac41d981779",
   "metadata": {},
   "outputs": [
    {
     "name": "stdout",
     "output_type": "stream",
     "text": [
      "Hello World!\n"
     ]
    }
   ],
   "source": [
    "print(\"Hello World!\")"
   ]
  },
  {
   "cell_type": "code",
   "execution_count": 2,
   "id": "91dba5da-755d-4a13-b023-84c3ce07ffc9",
   "metadata": {},
   "outputs": [
    {
     "name": "stdout",
     "output_type": "stream",
     "text": [
      "5\n"
     ]
    }
   ],
   "source": [
    "print(5)"
   ]
  },
  {
   "cell_type": "code",
   "execution_count": 3,
   "id": "4780ea91-a4a0-43d3-b29f-44353bfd4e9b",
   "metadata": {},
   "outputs": [
    {
     "name": "stdout",
     "output_type": "stream",
     "text": [
      "1.2\n"
     ]
    }
   ],
   "source": [
    "print(1.2)"
   ]
  },
  {
   "cell_type": "code",
   "execution_count": 4,
   "id": "f0cce100-b839-4b56-8442-02e05f85b15b",
   "metadata": {},
   "outputs": [
    {
     "name": "stdout",
     "output_type": "stream",
     "text": [
      "True\n"
     ]
    }
   ],
   "source": [
    "print(True)"
   ]
  },
  {
   "cell_type": "code",
   "execution_count": 5,
   "id": "235f7c52-b847-4214-af31-749ab59de29a",
   "metadata": {},
   "outputs": [
    {
     "name": "stdout",
     "output_type": "stream",
     "text": [
      "Hello 2 4.6 True\n"
     ]
    }
   ],
   "source": [
    "print(\"Hello\", 2, 4.6, True)"
   ]
  },
  {
   "cell_type": "code",
   "execution_count": 4,
   "id": "6e3ff64d-580e-4c2e-b7e5-eb2a164a5a94",
   "metadata": {},
   "outputs": [
    {
     "name": "stdout",
     "output_type": "stream",
     "text": [
      "Hello ji\n"
     ]
    }
   ],
   "source": [
    "print(\"Hello\" + \" ji\")"
   ]
  },
  {
   "cell_type": "code",
   "execution_count": 9,
   "id": "a7b301ac-9db5-4c25-a47e-b479a25d0775",
   "metadata": {},
   "outputs": [
    {
     "data": {
      "text/plain": [
       "\u001b[1;31mSignature:\u001b[0m \u001b[0mprint\u001b[0m\u001b[1;33m(\u001b[0m\u001b[1;33m*\u001b[0m\u001b[0margs\u001b[0m\u001b[1;33m,\u001b[0m \u001b[0msep\u001b[0m\u001b[1;33m=\u001b[0m\u001b[1;34m' '\u001b[0m\u001b[1;33m,\u001b[0m \u001b[0mend\u001b[0m\u001b[1;33m=\u001b[0m\u001b[1;34m'\\n'\u001b[0m\u001b[1;33m,\u001b[0m \u001b[0mfile\u001b[0m\u001b[1;33m=\u001b[0m\u001b[1;32mNone\u001b[0m\u001b[1;33m,\u001b[0m \u001b[0mflush\u001b[0m\u001b[1;33m=\u001b[0m\u001b[1;32mFalse\u001b[0m\u001b[1;33m)\u001b[0m\u001b[1;33m\u001b[0m\u001b[1;33m\u001b[0m\u001b[0m\n",
       "\u001b[1;31mDocstring:\u001b[0m\n",
       "Prints the values to a stream, or to sys.stdout by default.\n",
       "\n",
       "sep\n",
       "  string inserted between values, default a space.\n",
       "end\n",
       "  string appended after the last value, default a newline.\n",
       "file\n",
       "  a file-like object (stream); defaults to the current sys.stdout.\n",
       "flush\n",
       "  whether to forcibly flush the stream.\n",
       "\u001b[1;31mType:\u001b[0m      builtin_function_or_method"
      ]
     },
     "metadata": {},
     "output_type": "display_data"
    }
   ],
   "source": [
    "?print"
   ]
  },
  {
   "cell_type": "code",
   "execution_count": 10,
   "id": "d34b5bbb-d838-4599-9d81-14bd890fd899",
   "metadata": {},
   "outputs": [
    {
     "name": "stdout",
     "output_type": "stream",
     "text": [
      "Hello?2?4.6?True\n"
     ]
    }
   ],
   "source": [
    "print(\"Hello\", 2, 4.6, True, sep=\"?\")"
   ]
  },
  {
   "cell_type": "code",
   "execution_count": 7,
   "id": "ec008868-0fcf-4e03-aa91-16378249359c",
   "metadata": {},
   "outputs": [
    {
     "name": "stdout",
     "output_type": "stream",
     "text": [
      "Hello\n",
      "World\n"
     ]
    }
   ],
   "source": [
    "print(\"Hello\") \n",
    "print(\"World\")"
   ]
  },
  {
   "cell_type": "code",
   "execution_count": 13,
   "id": "fe4fdb17-0cf3-44ae-a011-8dde2b86e6e9",
   "metadata": {},
   "outputs": [
    {
     "name": "stdout",
     "output_type": "stream",
     "text": [
      "Hello_World\n"
     ]
    }
   ],
   "source": [
    "print(\"Hello\", end=\"_\")\n",
    "print(\"World\")"
   ]
  },
  {
   "cell_type": "code",
   "execution_count": 15,
   "id": "6c46ad94-0f24-4fd2-a070-2a6ba69947b8",
   "metadata": {},
   "outputs": [
    {
     "name": "stdout",
     "output_type": "stream",
     "text": [
      "\n"
     ]
    },
    {
     "data": {
      "text/plain": [
       "NoneType"
      ]
     },
     "execution_count": 15,
     "metadata": {},
     "output_type": "execute_result"
    }
   ],
   "source": [
    "type(print())"
   ]
  },
  {
   "cell_type": "markdown",
   "id": "e4823d02-3dd8-4b36-83c4-f4427cac8cfa",
   "metadata": {},
   "source": [
    "# 2. Data Types"
   ]
  },
  {
   "cell_type": "markdown",
   "id": "9b62252b-3ed1-4681-9520-b12b38374ff7",
   "metadata": {},
   "source": [
    "## integer"
   ]
  },
  {
   "cell_type": "code",
   "execution_count": 22,
   "id": "cdd29c09-9ff9-4f9d-bcaf-85d5ced08e8a",
   "metadata": {},
   "outputs": [
    {
     "name": "stdout",
     "output_type": "stream",
     "text": [
      "10\n",
      "0\n",
      "-10\n"
     ]
    }
   ],
   "source": [
    "print(10)\n",
    "print(0)\n",
    "print(-10)"
   ]
  },
  {
   "cell_type": "code",
   "execution_count": 21,
   "id": "e1ef447d-d811-4012-a3c2-6a189a56cb88",
   "metadata": {},
   "outputs": [
    {
     "name": "stdout",
     "output_type": "stream",
     "text": [
      "1e+308\n",
      "inf\n"
     ]
    }
   ],
   "source": [
    "print(1e308)\n",
    "print(1e309)"
   ]
  },
  {
   "cell_type": "markdown",
   "id": "79a3add0-9435-421e-a2fc-4c2ab7c94dee",
   "metadata": {},
   "source": [
    "### python can handle 10^308 numbers."
   ]
  },
  {
   "cell_type": "markdown",
   "id": "4f58c9c3-6b63-4535-8160-518ad5c20627",
   "metadata": {},
   "source": [
    "## float"
   ]
  },
  {
   "cell_type": "code",
   "execution_count": 23,
   "id": "9702bd04-9c46-4fea-8c88-0cb8adfbd4c3",
   "metadata": {},
   "outputs": [
    {
     "name": "stdout",
     "output_type": "stream",
     "text": [
      "6.77\n"
     ]
    }
   ],
   "source": [
    "print(6.77)"
   ]
  },
  {
   "cell_type": "code",
   "execution_count": 25,
   "id": "578f1116-1907-4560-9971-bc1e6c7ab979",
   "metadata": {},
   "outputs": [
    {
     "name": "stdout",
     "output_type": "stream",
     "text": [
      "1.7e+308\n",
      "inf\n"
     ]
    }
   ],
   "source": [
    "print(1.7e308)\n",
    "print(1.7e309)"
   ]
  },
  {
   "cell_type": "markdown",
   "id": "beee60f9-24df-41e8-ad70-9bc512697899",
   "metadata": {},
   "source": [
    "## boolean"
   ]
  },
  {
   "cell_type": "code",
   "execution_count": 26,
   "id": "84a5d7ad-7581-4257-9c28-b72fe69a0841",
   "metadata": {},
   "outputs": [
    {
     "name": "stdout",
     "output_type": "stream",
     "text": [
      "True\n",
      "False\n"
     ]
    }
   ],
   "source": [
    "print(True)\n",
    "print(False)"
   ]
  },
  {
   "cell_type": "markdown",
   "id": "e312d3eb-6b59-4639-b79a-de2cde1d8217",
   "metadata": {},
   "source": [
    "## text/string"
   ]
  },
  {
   "cell_type": "code",
   "execution_count": 27,
   "id": "e580fb53-296c-4f9e-8f83-2b3627579a2d",
   "metadata": {},
   "outputs": [
    {
     "name": "stdout",
     "output_type": "stream",
     "text": [
      "python\n"
     ]
    }
   ],
   "source": [
    "print(\"python\")"
   ]
  },
  {
   "cell_type": "markdown",
   "id": "6e58af1f-9ae4-46f9-870c-eec4c7dfedfc",
   "metadata": {},
   "source": [
    "## complex number"
   ]
  },
  {
   "cell_type": "code",
   "execution_count": 28,
   "id": "d798f257-8feb-4ad5-a0c6-b41944dea383",
   "metadata": {},
   "outputs": [
    {
     "name": "stdout",
     "output_type": "stream",
     "text": [
      "(2+3j)\n"
     ]
    }
   ],
   "source": [
    "print(2+3j)"
   ]
  },
  {
   "cell_type": "markdown",
   "id": "0869a524-2c93-4b1a-b4f7-19dd5a3fa0ba",
   "metadata": {},
   "source": [
    "## list"
   ]
  },
  {
   "cell_type": "code",
   "execution_count": 29,
   "id": "acc83865-c681-4414-bc15-8a4fb487b50e",
   "metadata": {},
   "outputs": [
    {
     "name": "stdout",
     "output_type": "stream",
     "text": [
      "[1, 2, 3, 4, 5]\n"
     ]
    }
   ],
   "source": [
    "print([1,2,3,4,5])"
   ]
  },
  {
   "cell_type": "markdown",
   "id": "ec978bb9-c7cf-4546-9aa5-9797c9201a0f",
   "metadata": {},
   "source": [
    "### just like array in C."
   ]
  },
  {
   "cell_type": "markdown",
   "id": "07ccf898-e522-4029-b66a-1befb5ce493f",
   "metadata": {},
   "source": [
    "## tuple"
   ]
  },
  {
   "cell_type": "code",
   "execution_count": 30,
   "id": "45f17fc3-7814-4ed1-b89b-a8cfcf84a98e",
   "metadata": {},
   "outputs": [
    {
     "name": "stdout",
     "output_type": "stream",
     "text": [
      "(1, 2, 3, 4, 5)\n"
     ]
    }
   ],
   "source": [
    "print((1,2,3,4,5))"
   ]
  },
  {
   "cell_type": "markdown",
   "id": "4c55d727-a1cf-47a4-b659-36a6d5b402ad",
   "metadata": {},
   "source": [
    "## sets"
   ]
  },
  {
   "cell_type": "code",
   "execution_count": 31,
   "id": "4e72e9f3-312a-4da3-9013-e93bc82d3f84",
   "metadata": {},
   "outputs": [
    {
     "name": "stdout",
     "output_type": "stream",
     "text": [
      "{1, 2, 3, 4, 5}\n"
     ]
    }
   ],
   "source": [
    "print({1,2,3,4,5})"
   ]
  },
  {
   "cell_type": "markdown",
   "id": "f7e0d5c5-defa-4b61-a502-ad994e46010b",
   "metadata": {},
   "source": [
    "## dictionary"
   ]
  },
  {
   "cell_type": "code",
   "execution_count": 32,
   "id": "2b6158c1-9258-459c-ac13-a66eafe77f37",
   "metadata": {},
   "outputs": [
    {
     "name": "stdout",
     "output_type": "stream",
     "text": [
      "{'name1': 'python', 'name2': 'c++', 'name3': 'java'}\n"
     ]
    }
   ],
   "source": [
    "print({\"name1\": \"python\", \"name2\": \"c++\", \"name3\": \"java\"})"
   ]
  },
  {
   "cell_type": "markdown",
   "id": "d6a543c0-581e-471f-9781-2bd210772573",
   "metadata": {},
   "source": [
    "## type( )"
   ]
  },
  {
   "cell_type": "code",
   "execution_count": 38,
   "id": "54255064-43f0-41ce-a5c0-00ddf6093efc",
   "metadata": {},
   "outputs": [
    {
     "data": {
      "text/plain": [
       "int"
      ]
     },
     "execution_count": 38,
     "metadata": {},
     "output_type": "execute_result"
    }
   ],
   "source": [
    "type(3)"
   ]
  },
  {
   "cell_type": "code",
   "execution_count": 39,
   "id": "accff047-bad2-4a27-b864-90580750ef2f",
   "metadata": {},
   "outputs": [
    {
     "data": {
      "text/plain": [
       "float"
      ]
     },
     "execution_count": 39,
     "metadata": {},
     "output_type": "execute_result"
    }
   ],
   "source": [
    "type(32.2)"
   ]
  },
  {
   "cell_type": "code",
   "execution_count": 40,
   "id": "575270b8-3083-4875-8a76-b60ad16d2d51",
   "metadata": {},
   "outputs": [
    {
     "data": {
      "text/plain": [
       "complex"
      ]
     },
     "execution_count": 40,
     "metadata": {},
     "output_type": "execute_result"
    }
   ],
   "source": [
    "type(1+2j)"
   ]
  },
  {
   "cell_type": "code",
   "execution_count": 41,
   "id": "a2f67f65-f9f1-4163-99ba-233ea8c47e68",
   "metadata": {},
   "outputs": [
    {
     "data": {
      "text/plain": [
       "str"
      ]
     },
     "execution_count": 41,
     "metadata": {},
     "output_type": "execute_result"
    }
   ],
   "source": [
    "type(\"Hello\")"
   ]
  },
  {
   "cell_type": "code",
   "execution_count": 42,
   "id": "becd8a7b-4599-4398-8360-119004a2dc43",
   "metadata": {},
   "outputs": [
    {
     "data": {
      "text/plain": [
       "bool"
      ]
     },
     "execution_count": 42,
     "metadata": {},
     "output_type": "execute_result"
    }
   ],
   "source": [
    "type(True)"
   ]
  },
  {
   "cell_type": "code",
   "execution_count": 43,
   "id": "62e3ea65-3de8-42ff-ba37-688121ffb37b",
   "metadata": {},
   "outputs": [
    {
     "data": {
      "text/plain": [
       "list"
      ]
     },
     "execution_count": 43,
     "metadata": {},
     "output_type": "execute_result"
    }
   ],
   "source": [
    "type([1,2,3])"
   ]
  },
  {
   "cell_type": "code",
   "execution_count": 44,
   "id": "d1fbedc3-39cc-4847-a926-f96437d1c0be",
   "metadata": {},
   "outputs": [
    {
     "data": {
      "text/plain": [
       "tuple"
      ]
     },
     "execution_count": 44,
     "metadata": {},
     "output_type": "execute_result"
    }
   ],
   "source": [
    "type((1,2,3))"
   ]
  },
  {
   "cell_type": "code",
   "execution_count": 45,
   "id": "ddd73039-41ea-4bb1-b12e-f03c9d42a14e",
   "metadata": {},
   "outputs": [
    {
     "data": {
      "text/plain": [
       "set"
      ]
     },
     "execution_count": 45,
     "metadata": {},
     "output_type": "execute_result"
    }
   ],
   "source": [
    "type({1,2,3})"
   ]
  },
  {
   "cell_type": "markdown",
   "id": "63db9040-0f94-4f32-8834-dbac0de68f02",
   "metadata": {},
   "source": [
    "# 3. Variables"
   ]
  },
  {
   "cell_type": "code",
   "execution_count": 10,
   "id": "dac0d8f8-1c97-4b63-8e80-e6425fb802cc",
   "metadata": {},
   "outputs": [
    {
     "name": "stdout",
     "output_type": "stream",
     "text": [
      "Python\n"
     ]
    }
   ],
   "source": [
    "name = \"Python\"\n",
    "\n",
    "print(name)"
   ]
  },
  {
   "cell_type": "code",
   "execution_count": 51,
   "id": "bed7677c-c87f-4818-a05c-4fe39b851655",
   "metadata": {},
   "outputs": [
    {
     "name": "stdout",
     "output_type": "stream",
     "text": [
      "10\n"
     ]
    }
   ],
   "source": [
    "a = 2\n",
    "b = 8\n",
    "\n",
    "print(a+b)"
   ]
  },
  {
   "cell_type": "markdown",
   "id": "83493117-b4ca-44b8-a182-dac695002e32",
   "metadata": {},
   "source": [
    "# Static vs dynamic typing"
   ]
  },
  {
   "cell_type": "markdown",
   "id": "46a69647-939b-4b38-a9d3-c9c697bb6739",
   "metadata": {},
   "source": [
    "## Dynamic typing: where we do not have to explicity tell the data type of the variable.\n",
    "## Python supports dynamic typing."
   ]
  },
  {
   "cell_type": "markdown",
   "id": "b8a6d2c3-af13-4705-9e4d-cbb2f1c7c78e",
   "metadata": {},
   "source": [
    "## a = 5"
   ]
  },
  {
   "cell_type": "markdown",
   "id": "ef426a48-0b4f-4914-9b09-c1471ef4c98b",
   "metadata": {},
   "source": [
    "## Static typing: where we have to explicity tell the data type of the variable.\n",
    "## example: c"
   ]
  },
  {
   "cell_type": "markdown",
   "id": "43c7fa29-1dd9-4eb5-8793-3e870045c266",
   "metadata": {},
   "source": [
    "## int a = 5;"
   ]
  },
  {
   "cell_type": "markdown",
   "id": "9edf1cdc-b5bf-44b9-92f3-44b5cea435dc",
   "metadata": {},
   "source": [
    "# Dynamic binding"
   ]
  },
  {
   "cell_type": "markdown",
   "id": "308e5f0f-5e6f-4b56-89d2-be3332d765a9",
   "metadata": {},
   "source": [
    "### once data type is mentioned, it can be changed."
   ]
  },
  {
   "cell_type": "code",
   "execution_count": 11,
   "id": "746a5d9a-4635-4824-ad04-7c4536140d6d",
   "metadata": {},
   "outputs": [
    {
     "name": "stdout",
     "output_type": "stream",
     "text": [
      "5\n",
      "Karan\n"
     ]
    }
   ],
   "source": [
    "a = 5\n",
    "print(a)\n",
    "\n",
    "a = \"Karan\"\n",
    "print(a)"
   ]
  },
  {
   "cell_type": "markdown",
   "id": "63997291-7c12-4f4c-88ca-0528ce8f8e28",
   "metadata": {},
   "source": [
    "# Static binding"
   ]
  },
  {
   "cell_type": "markdown",
   "id": "d2eacec0-ff86-451c-89ae-2caa885de0f5",
   "metadata": {},
   "source": [
    "### once data type is mentioned, it can't be changed."
   ]
  },
  {
   "cell_type": "markdown",
   "id": "5c3656a7-cd22-4c9a-b3f7-3599949d2172",
   "metadata": {},
   "source": [
    "### Example, C, C++, Java"
   ]
  },
  {
   "cell_type": "markdown",
   "id": "eeee2934-28e2-4afe-88a9-2252067275df",
   "metadata": {},
   "source": [
    "### int a = 3;"
   ]
  },
  {
   "cell_type": "code",
   "execution_count": 12,
   "id": "fc3c563a-b9f7-4227-bb5b-b206af491272",
   "metadata": {},
   "outputs": [
    {
     "name": "stdout",
     "output_type": "stream",
     "text": [
      "1 2 3\n"
     ]
    }
   ],
   "source": [
    "a = 1\n",
    "b = 2\n",
    "c = 3\n",
    "\n",
    "print(a,b,c)"
   ]
  },
  {
   "cell_type": "markdown",
   "id": "078b7c47-4cf1-4143-a69a-da44fa5cb992",
   "metadata": {},
   "source": [
    "## or"
   ]
  },
  {
   "cell_type": "code",
   "execution_count": 13,
   "id": "5a9b9d82-b969-4979-923d-cdcc4a33b565",
   "metadata": {},
   "outputs": [
    {
     "name": "stdout",
     "output_type": "stream",
     "text": [
      "1 2 3\n"
     ]
    }
   ],
   "source": [
    "a,b,c = 1,2,3\n",
    "\n",
    "print(a,b,c)"
   ]
  },
  {
   "cell_type": "code",
   "execution_count": 14,
   "id": "8f54ecac-2964-4d96-9efe-d984afb217e8",
   "metadata": {},
   "outputs": [
    {
     "name": "stdout",
     "output_type": "stream",
     "text": [
      "4 4 4\n"
     ]
    }
   ],
   "source": [
    "a = b = c = 4\n",
    "\n",
    "print(a,b,c)"
   ]
  },
  {
   "cell_type": "markdown",
   "id": "595b8636-643a-474b-930f-1404324d5b83",
   "metadata": {},
   "source": [
    "# Comments"
   ]
  },
  {
   "cell_type": "code",
   "execution_count": 9,
   "id": "b1bfff5c-ef19-46b2-bf91-63bb526b2c39",
   "metadata": {},
   "outputs": [
    {
     "name": "stdout",
     "output_type": "stream",
     "text": [
      "78.5\n"
     ]
    }
   ],
   "source": [
    "r = 5 # radius of the circle \n",
    "a = 3.14*r*r # area of the circle \n",
    "print(a)"
   ]
  },
  {
   "cell_type": "markdown",
   "id": "384c2647-27a9-4238-9146-9c4764ca03ea",
   "metadata": {},
   "source": [
    "### Always use comments in your complex code."
   ]
  },
  {
   "cell_type": "markdown",
   "id": "23a0aaba-9bcc-4cd9-bda6-d126c804e6f4",
   "metadata": {},
   "source": [
    "# 4. Keywords and Identifiers"
   ]
  },
  {
   "cell_type": "markdown",
   "id": "ba4a7720-7569-45c7-8b19-cc80fd68bdd5",
   "metadata": {},
   "source": [
    "## In python there are 32 keywords."
   ]
  },
  {
   "cell_type": "markdown",
   "id": "2e75b70f-a5dd-4de9-b324-89363cb984d1",
   "metadata": {},
   "source": [
    "## The name given to any variable, function, class, etc. is called identifier.\n",
    "## Rules for naming identifier is:"
   ]
  },
  {
   "cell_type": "markdown",
   "id": "a6fb404e-f350-49d0-b271-bfb7555291cc",
   "metadata": {},
   "source": [
    "### 1. We cannot start with a digit."
   ]
  },
  {
   "cell_type": "code",
   "execution_count": 1,
   "id": "118727e4-aaeb-4b2b-940f-e6c53387fa47",
   "metadata": {},
   "outputs": [
    {
     "ename": "SyntaxError",
     "evalue": "invalid decimal literal (4088778735.py, line 1)",
     "output_type": "error",
     "traceback": [
      "\u001b[1;36m  Cell \u001b[1;32mIn[1], line 1\u001b[1;36m\u001b[0m\n\u001b[1;33m    1name = \"Python\"\u001b[0m\n\u001b[1;37m    ^\u001b[0m\n\u001b[1;31mSyntaxError\u001b[0m\u001b[1;31m:\u001b[0m invalid decimal literal\n"
     ]
    }
   ],
   "source": [
    "1name = \"Python\"\n",
    "print(1name)"
   ]
  },
  {
   "cell_type": "code",
   "execution_count": 2,
   "id": "9f489a0b-1e72-4a8e-8524-3750340ec1f9",
   "metadata": {},
   "outputs": [
    {
     "name": "stdout",
     "output_type": "stream",
     "text": [
      "Python\n"
     ]
    }
   ],
   "source": [
    "name1 = \"Python\"\n",
    "print(name1)"
   ]
  },
  {
   "cell_type": "markdown",
   "id": "74561f10-2237-415d-9b35-9027ecb96311",
   "metadata": {},
   "source": [
    "### 2. We can use upper/lowercase but in special characters, only _ can be used."
   ]
  },
  {
   "cell_type": "code",
   "execution_count": 3,
   "id": "c3ae616c-e014-4dc1-87b7-d8807be90def",
   "metadata": {},
   "outputs": [
    {
     "ename": "SyntaxError",
     "evalue": "cannot assign to expression here. Maybe you meant '==' instead of '='? (2941897306.py, line 1)",
     "output_type": "error",
     "traceback": [
      "\u001b[1;36m  Cell \u001b[1;32mIn[3], line 1\u001b[1;36m\u001b[0m\n\u001b[1;33m    first-name = \"Python\"\u001b[0m\n\u001b[1;37m    ^\u001b[0m\n\u001b[1;31mSyntaxError\u001b[0m\u001b[1;31m:\u001b[0m cannot assign to expression here. Maybe you meant '==' instead of '='?\n"
     ]
    }
   ],
   "source": [
    "first-name = \"Python\"\n",
    "pribt(first-name)"
   ]
  },
  {
   "cell_type": "code",
   "execution_count": 4,
   "id": "0cdc51c0-4bf0-419d-9074-d0038ff33967",
   "metadata": {},
   "outputs": [
    {
     "name": "stdout",
     "output_type": "stream",
     "text": [
      "Python\n"
     ]
    }
   ],
   "source": [
    "first_name = \"Python\"\n",
    "print(first_name)"
   ]
  },
  {
   "cell_type": "code",
   "execution_count": 7,
   "id": "72a9dbe1-9f50-4d0b-a0ce-5b8b9b4d4d3b",
   "metadata": {},
   "outputs": [
    {
     "name": "stdout",
     "output_type": "stream",
     "text": [
      "Python\n"
     ]
    }
   ],
   "source": [
    "_ = \"Python\" # only _ could also be used.\n",
    "print(_)"
   ]
  },
  {
   "cell_type": "markdown",
   "id": "b0a2e604-37c0-4f00-a143-463c14731d3e",
   "metadata": {},
   "source": [
    "### 3. Identifiers cannot be keywords."
   ]
  },
  {
   "cell_type": "markdown",
   "id": "644b4c67-beb8-4700-a729-c3271edd8f47",
   "metadata": {},
   "source": [
    "# 5. User Input"
   ]
  },
  {
   "cell_type": "code",
   "execution_count": 10,
   "id": "ff7e9f16-7d8a-42ff-ac96-33503592d712",
   "metadata": {},
   "outputs": [
    {
     "name": "stdin",
     "output_type": "stream",
     "text": [
      " 2\n"
     ]
    },
    {
     "data": {
      "text/plain": [
       "'2'"
      ]
     },
     "execution_count": 10,
     "metadata": {},
     "output_type": "execute_result"
    }
   ],
   "source": [
    "input()"
   ]
  },
  {
   "cell_type": "code",
   "execution_count": 10,
   "id": "ec8a617f-bb96-4639-a626-90e19a74ad99",
   "metadata": {},
   "outputs": [
    {
     "name": "stdin",
     "output_type": "stream",
     "text": [
      "Enter name:  python\n"
     ]
    },
    {
     "data": {
      "text/plain": [
       "'python'"
      ]
     },
     "execution_count": 10,
     "metadata": {},
     "output_type": "execute_result"
    }
   ],
   "source": [
    "input(\"Enter name: \")"
   ]
  },
  {
   "cell_type": "markdown",
   "id": "c19b2f92-df52-409b-bf5b-8502fd6a2022",
   "metadata": {},
   "source": [
    "## Program to add two numbers input by user"
   ]
  },
  {
   "cell_type": "code",
   "execution_count": 38,
   "id": "9810fd0b-636c-47cf-a3f6-8e6924a52197",
   "metadata": {},
   "outputs": [
    {
     "name": "stdin",
     "output_type": "stream",
     "text": [
      "Enter first number:  2\n",
      "Enter second number:  3\n"
     ]
    },
    {
     "name": "stdout",
     "output_type": "stream",
     "text": [
      "5\n",
      "<class 'str'>\n",
      "<class 'str'>\n",
      "<class 'int'>\n"
     ]
    }
   ],
   "source": [
    "# Steps:\n",
    "# Take two numbers as input from the user.\n",
    "a = input(\"Enter first number: \")\n",
    "b = input(\"Enter second number: \")\n",
    "\n",
    "# Add them.\n",
    "sum = int(a) + int(b)\n",
    "\n",
    "# Print the result.\n",
    "print(sum)\n",
    "\n",
    "print(type(a))\n",
    "print(type(b))\n",
    "print(type(sum))"
   ]
  },
  {
   "cell_type": "markdown",
   "id": "df9da891-8bf6-4784-9a03-e887583e1bcd",
   "metadata": {},
   "source": [
    "# 6. Type conversion"
   ]
  },
  {
   "cell_type": "code",
   "execution_count": 15,
   "id": "eeccb1b9-9415-45f9-9690-592b3209d503",
   "metadata": {},
   "outputs": [
    {
     "name": "stdin",
     "output_type": "stream",
     "text": [
      "Enter first number:  2\n"
     ]
    },
    {
     "name": "stdout",
     "output_type": "stream",
     "text": [
      "<class 'str'>\n"
     ]
    }
   ],
   "source": [
    "a = input(\"Enter first number: \")\n",
    "print(type(a))"
   ]
  },
  {
   "cell_type": "code",
   "execution_count": 16,
   "id": "989f5a5c-3f3f-4a8c-87a8-4ad67f93f447",
   "metadata": {},
   "outputs": [
    {
     "name": "stdin",
     "output_type": "stream",
     "text": [
      "Enter first number:  2\n"
     ]
    },
    {
     "name": "stdout",
     "output_type": "stream",
     "text": [
      "<class 'int'>\n"
     ]
    }
   ],
   "source": [
    "a = int(input(\"Enter first number: \"))\n",
    "print(type(a))"
   ]
  },
  {
   "cell_type": "markdown",
   "id": "9ca243a4-7340-4f93-a376-19684c06fb38",
   "metadata": {},
   "source": [
    "### When we input anything in Python, it stores it as a string. Why?\n",
    "### It is because String is a universal data type. Jab python developer input function bana rahe the toh unne socha ki user toh kisi bhi tarah ka data input kar sakta hai. Error na aa jaye tabhi unhone string ke format me store kara diya input. \n",
    "### int, complex number, etc. sabhi string ki form me store ho jate hain."
   ]
  },
  {
   "cell_type": "markdown",
   "id": "be93ebe8-7dee-4e85-ba93-565c6688e6a2",
   "metadata": {},
   "source": [
    "## Two types of type conversion: "
   ]
  },
  {
   "cell_type": "markdown",
   "id": "2fac9446-1a30-4b35-a6c2-163eb97d343f",
   "metadata": {},
   "source": [
    "## Implicit:\n",
    "## Automatically type conversion ho jata hai."
   ]
  },
  {
   "cell_type": "code",
   "execution_count": 20,
   "id": "e30a31c3-de14-419a-977d-c395a8e122e9",
   "metadata": {},
   "outputs": [
    {
     "name": "stdout",
     "output_type": "stream",
     "text": [
      "8.5\n",
      "<class 'int'> <class 'float'>\n"
     ]
    }
   ],
   "source": [
    "# Example: \n",
    "print(4 + 4.5)\n",
    "\n",
    "print(type(4), type(4.5))"
   ]
  },
  {
   "cell_type": "markdown",
   "id": "9b3ecb77-50d0-433a-bceb-8f2762b933e0",
   "metadata": {},
   "source": [
    "### Par hamesha implicit kaam nahi karta hai.\n",
    "### Tabhi explicit aaya."
   ]
  },
  {
   "cell_type": "markdown",
   "id": "8bcdce96-5385-45cc-8f79-1c0f909abe74",
   "metadata": {},
   "source": [
    "## Explicit"
   ]
  },
  {
   "cell_type": "code",
   "execution_count": 22,
   "id": "c1f17f87-8477-4f6d-b2be-83537a37f8ea",
   "metadata": {},
   "outputs": [
    {
     "ename": "TypeError",
     "evalue": "unsupported operand type(s) for +: 'int' and 'str'",
     "output_type": "error",
     "traceback": [
      "\u001b[1;31m---------------------------------------------------------------------------\u001b[0m",
      "\u001b[1;31mTypeError\u001b[0m                                 Traceback (most recent call last)",
      "Cell \u001b[1;32mIn[22], line 1\u001b[0m\n\u001b[1;32m----> 1\u001b[0m \u001b[38;5;28mprint\u001b[39m(\u001b[38;5;241;43m4\u001b[39;49m\u001b[43m \u001b[49m\u001b[38;5;241;43m+\u001b[39;49m\u001b[43m \u001b[49m\u001b[38;5;124;43m\"\u001b[39;49m\u001b[38;5;124;43m4\u001b[39;49m\u001b[38;5;124;43m\"\u001b[39;49m)\n",
      "\u001b[1;31mTypeError\u001b[0m: unsupported operand type(s) for +: 'int' and 'str'"
     ]
    }
   ],
   "source": [
    "print(4 + \"4\")"
   ]
  },
  {
   "cell_type": "markdown",
   "id": "33e33c05-606f-4432-b5ed-ff97115da145",
   "metadata": {},
   "source": [
    "## str -> int"
   ]
  },
  {
   "cell_type": "code",
   "execution_count": 11,
   "id": "231efdc3-c224-49b2-bb1a-d1c9309c121f",
   "metadata": {},
   "outputs": [
    {
     "data": {
      "text/plain": [
       "int"
      ]
     },
     "execution_count": 11,
     "metadata": {},
     "output_type": "execute_result"
    }
   ],
   "source": [
    "# type(4)\n",
    "# type(\"4\")\n",
    "type(int(\"4\"))"
   ]
  },
  {
   "cell_type": "markdown",
   "id": "599176ca-496c-45cc-9df0-74f35e15d639",
   "metadata": {},
   "source": [
    "## complex -> int (error)"
   ]
  },
  {
   "cell_type": "code",
   "execution_count": 29,
   "id": "7526d2ad-02e6-4437-abad-2062ea3660cd",
   "metadata": {},
   "outputs": [
    {
     "ename": "TypeError",
     "evalue": "int() argument must be a string, a bytes-like object or a real number, not 'complex'",
     "output_type": "error",
     "traceback": [
      "\u001b[1;31m---------------------------------------------------------------------------\u001b[0m",
      "\u001b[1;31mTypeError\u001b[0m                                 Traceback (most recent call last)",
      "Cell \u001b[1;32mIn[29], line 1\u001b[0m\n\u001b[1;32m----> 1\u001b[0m \u001b[38;5;28;43mint\u001b[39;49m\u001b[43m(\u001b[49m\u001b[38;5;241;43m3\u001b[39;49m\u001b[43m \u001b[49m\u001b[38;5;241;43m+\u001b[39;49m\u001b[43m \u001b[49m\u001b[38;5;241;43m4\u001b[39;49m\u001b[43mj\u001b[49m\u001b[43m)\u001b[49m\n",
      "\u001b[1;31mTypeError\u001b[0m: int() argument must be a string, a bytes-like object or a real number, not 'complex'"
     ]
    }
   ],
   "source": [
    "int(3 + 4j)"
   ]
  },
  {
   "cell_type": "markdown",
   "id": "07828e90-e006-4ec5-8725-9d4c54d9dd88",
   "metadata": {},
   "source": [
    "## int -> str"
   ]
  },
  {
   "cell_type": "code",
   "execution_count": 30,
   "id": "52dc4e3d-9b20-4cbe-bf33-1ac24b4cf986",
   "metadata": {},
   "outputs": [
    {
     "data": {
      "text/plain": [
       "'4'"
      ]
     },
     "execution_count": 30,
     "metadata": {},
     "output_type": "execute_result"
    }
   ],
   "source": [
    "str(4)"
   ]
  },
  {
   "cell_type": "code",
   "execution_count": 31,
   "id": "f16ae607-84f2-44bf-840e-88a8bc068b6a",
   "metadata": {},
   "outputs": [
    {
     "data": {
      "text/plain": [
       "str"
      ]
     },
     "execution_count": 31,
     "metadata": {},
     "output_type": "execute_result"
    }
   ],
   "source": [
    "type(str(4))"
   ]
  },
  {
   "cell_type": "markdown",
   "id": "78983025-f0eb-4f4c-b13b-0f92ad250bf6",
   "metadata": {},
   "source": [
    "## int -> float"
   ]
  },
  {
   "cell_type": "code",
   "execution_count": 32,
   "id": "3a1835b6-2990-4373-84e1-879071e4d9b1",
   "metadata": {},
   "outputs": [
    {
     "data": {
      "text/plain": [
       "4.0"
      ]
     },
     "execution_count": 32,
     "metadata": {},
     "output_type": "execute_result"
    }
   ],
   "source": [
    "float(4)"
   ]
  },
  {
   "cell_type": "markdown",
   "id": "ddc84ecf-3a6e-4579-bc63-51adbe8bf402",
   "metadata": {},
   "source": [
    "### Type conversion doesn't change the data type of original variable, rather it cretes a new variable of same value but different data type."
   ]
  },
  {
   "cell_type": "code",
   "execution_count": 12,
   "id": "8cc0f37c-1802-4eee-9f69-84157d9cabc0",
   "metadata": {},
   "outputs": [
    {
     "data": {
      "text/plain": [
       "str"
      ]
     },
     "execution_count": 12,
     "metadata": {},
     "output_type": "execute_result"
    }
   ],
   "source": [
    "a = 4\n",
    "\n",
    "b = str(a)\n",
    "type(a)\n",
    "type(b)"
   ]
  },
  {
   "cell_type": "markdown",
   "id": "9e5e4b3d-4a61-4856-9c1c-72a647d4c011",
   "metadata": {},
   "source": [
    "# 7. Literals"
   ]
  },
  {
   "cell_type": "markdown",
   "id": "232848a1-db5a-43ab-80a4-a2f4bc850257",
   "metadata": {},
   "source": [
    "### Jo bhi value hum variable ke andar raw value store karte hain use hum literal kehte hain."
   ]
  },
  {
   "cell_type": "code",
   "execution_count": 40,
   "id": "93f2f29a-bc2c-4922-bdb4-6f2113e26483",
   "metadata": {},
   "outputs": [],
   "source": [
    "a = 2\n",
    "\n",
    "# 2 is literal."
   ]
  },
  {
   "cell_type": "markdown",
   "id": "181aa8c0-25b5-4f31-acc0-852c78a0beda",
   "metadata": {},
   "source": [
    "# Types of literals:"
   ]
  },
  {
   "cell_type": "markdown",
   "id": "15aacc27-0bd4-4921-94d8-78ec90fe116a",
   "metadata": {},
   "source": [
    "## Binary"
   ]
  },
  {
   "cell_type": "code",
   "execution_count": 13,
   "id": "5508d34d-4a65-4d09-8883-91cb1ef29742",
   "metadata": {},
   "outputs": [
    {
     "name": "stdout",
     "output_type": "stream",
     "text": [
      "10\n"
     ]
    }
   ],
   "source": [
    "a = 0b1010\n",
    "\n",
    "print(a)"
   ]
  },
  {
   "cell_type": "markdown",
   "id": "9d5f3ed1-6419-42f1-9f9b-edb0080c91a4",
   "metadata": {},
   "source": [
    "### Used in raspberry pi for coding in robotics."
   ]
  },
  {
   "cell_type": "markdown",
   "id": "1bf135c8-d154-41c4-889e-434a2248db0a",
   "metadata": {},
   "source": [
    "## Decimal"
   ]
  },
  {
   "cell_type": "code",
   "execution_count": 43,
   "id": "78a27227-b8cd-4333-bf7e-4182dffeb012",
   "metadata": {},
   "outputs": [],
   "source": [
    "b = 10"
   ]
  },
  {
   "cell_type": "markdown",
   "id": "a1f8a090-90da-476b-a200-cddd18b1e660",
   "metadata": {},
   "source": [
    "## Octal"
   ]
  },
  {
   "cell_type": "code",
   "execution_count": 14,
   "id": "6c8b0e83-9ff1-468a-82cc-c992779999dd",
   "metadata": {},
   "outputs": [
    {
     "name": "stdout",
     "output_type": "stream",
     "text": [
      "200\n"
     ]
    }
   ],
   "source": [
    "c = 0o310\n",
    "\n",
    "print(c)"
   ]
  },
  {
   "cell_type": "markdown",
   "id": "4edd2274-8fb0-470e-bf77-896abb32f16c",
   "metadata": {},
   "source": [
    "## Hexadecimal"
   ]
  },
  {
   "cell_type": "code",
   "execution_count": 15,
   "id": "31778f7b-9c7a-4f68-a590-12f9f5715ee2",
   "metadata": {},
   "outputs": [
    {
     "name": "stdout",
     "output_type": "stream",
     "text": [
      "300\n"
     ]
    }
   ],
   "source": [
    "d = 0x12c\n",
    "\n",
    "print(d)"
   ]
  },
  {
   "cell_type": "markdown",
   "id": "ac1df5fb-4254-452c-8943-7312a5f512a2",
   "metadata": {},
   "source": [
    "## Float"
   ]
  },
  {
   "cell_type": "code",
   "execution_count": 51,
   "id": "063f08aa-0f1e-4407-8611-192a302f1630",
   "metadata": {},
   "outputs": [
    {
     "name": "stdout",
     "output_type": "stream",
     "text": [
      "10.5\n",
      "150.0\n",
      "0.0015\n"
     ]
    }
   ],
   "source": [
    "float_1 = 10.5\n",
    "print(float_1)\n",
    "\n",
    "float_2 = 1.5e2 # 1.5 * 10^2\n",
    "print(float_2)\n",
    "\n",
    "float_3 = 1.5e-3 # 1.5 * 10^-3\n",
    "print(float_3)"
   ]
  },
  {
   "cell_type": "markdown",
   "id": "853bba5b-d66f-469e-b135-05fb3ee6b6c7",
   "metadata": {},
   "source": [
    "## Complex"
   ]
  },
  {
   "cell_type": "code",
   "execution_count": 52,
   "id": "50272e0d-12f2-45cb-896d-2fcc312a6dc5",
   "metadata": {},
   "outputs": [
    {
     "name": "stdout",
     "output_type": "stream",
     "text": [
      "(1+3j)\n",
      "3.0\n",
      "1.0\n"
     ]
    }
   ],
   "source": [
    "x = 1 + 3j\n",
    "\n",
    "print(x)\n",
    "print(x.imag)\n",
    "print(x.real)"
   ]
  },
  {
   "cell_type": "markdown",
   "id": "bca97264-ce43-42f9-a94b-45702e4196f8",
   "metadata": {},
   "source": [
    "## String"
   ]
  },
  {
   "cell_type": "code",
   "execution_count": 16,
   "id": "52d3a4ae-246f-4e7d-8128-a88e3167013a",
   "metadata": {},
   "outputs": [
    {
     "name": "stdout",
     "output_type": "stream",
     "text": [
      "This is a string.\n",
      "This is a string.\n",
      "C\n",
      "Hi\n",
      "my\n",
      "name \n",
      "is \n",
      "Python. \n",
      "\n",
      "Hi\n",
      "my\n",
      "name \n",
      "is \n",
      "Python. \n",
      "\n",
      "😀😆🤣\n",
      "\n",
      "raw \\n string\n"
     ]
    }
   ],
   "source": [
    "string_1 = 'This is a string.'\n",
    "\n",
    "string_2 = \"This is a string.\"\n",
    "\n",
    "char = \"C\"\n",
    "\n",
    "multiline_str_1 = '''Hi\n",
    "my\n",
    "name \n",
    "is \n",
    "Python. '''\n",
    "\n",
    "multiline_str_2 = \"\"\"Hi\n",
    "my\n",
    "name \n",
    "is \n",
    "Python. \"\"\"\n",
    "\n",
    "unicode = u\"\\U0001f600\\U0001F606\\U0001F923\"\n",
    "\n",
    "raw_str = r\"raw \\n string\"\n",
    "\n",
    "print(string_1)\n",
    "print(string_2)\n",
    "print(char)\n",
    "print(multiline_str_1)\n",
    "print()\n",
    "print(multiline_str_2)\n",
    "print()\n",
    "print(unicode)\n",
    "print()\n",
    "print(raw_str)"
   ]
  },
  {
   "cell_type": "markdown",
   "id": "69afa025-c57c-4121-abb4-ff41c4224cc2",
   "metadata": {},
   "source": [
    "## Boolean"
   ]
  },
  {
   "cell_type": "code",
   "execution_count": 68,
   "id": "0ccfb358-9934-4331-8d03-2738377be80b",
   "metadata": {},
   "outputs": [
    {
     "name": "stdout",
     "output_type": "stream",
     "text": [
      "a:  5\n",
      "b:  10\n"
     ]
    }
   ],
   "source": [
    "a = True + 4 # True - 1\n",
    "b = False + 10 # False - 0\n",
    "\n",
    "print(\"a: \", a)\n",
    "print(\"b: \", b)"
   ]
  },
  {
   "cell_type": "markdown",
   "id": "57a975c7-545f-48a6-9410-8e2e3869c060",
   "metadata": {},
   "source": [
    "### Python boolean ko ek expression ke andar number ki tarah treat karta hai."
   ]
  },
  {
   "cell_type": "markdown",
   "id": "90998960-3ae0-4f3a-bcf0-db19967ba9ca",
   "metadata": {},
   "source": [
    "## None"
   ]
  },
  {
   "cell_type": "code",
   "execution_count": 70,
   "id": "5d572475-4aea-44bb-874c-c75a667e9922",
   "metadata": {},
   "outputs": [
    {
     "name": "stdout",
     "output_type": "stream",
     "text": [
      "None\n"
     ]
    }
   ],
   "source": [
    "a = None\n",
    "print(a)"
   ]
  },
  {
   "cell_type": "markdown",
   "id": "dfca8de0-ad55-4668-80a9-8ba308849a3a",
   "metadata": {},
   "source": [
    "### In python we can't declare a variable, like in other languages. If we try to do so, it will throw an error."
   ]
  },
  {
   "cell_type": "code",
   "execution_count": 17,
   "id": "e7dd18bd-261b-46d6-aaf1-5ad9567fa98e",
   "metadata": {},
   "outputs": [
    {
     "ename": "NameError",
     "evalue": "name 'k' is not defined",
     "output_type": "error",
     "traceback": [
      "\u001b[1;31m---------------------------------------------------------------------------\u001b[0m",
      "\u001b[1;31mNameError\u001b[0m                                 Traceback (most recent call last)",
      "Cell \u001b[1;32mIn[17], line 1\u001b[0m\n\u001b[1;32m----> 1\u001b[0m \u001b[43mk\u001b[49m \n\u001b[0;32m      3\u001b[0m a \u001b[38;5;241m=\u001b[39m \u001b[38;5;241m1\u001b[39m\n\u001b[0;32m      4\u001b[0m b \u001b[38;5;241m=\u001b[39m \u001b[38;5;241m2\u001b[39m\n",
      "\u001b[1;31mNameError\u001b[0m: name 'k' is not defined"
     ]
    }
   ],
   "source": [
    "k \n",
    "\n",
    "a = 1\n",
    "b = 2\n",
    "print(a + b)"
   ]
  },
  {
   "cell_type": "markdown",
   "id": "33909c86-03e8-4995-aea5-69736a512367",
   "metadata": {},
   "source": [
    "### To solve this problem we use None."
   ]
  },
  {
   "cell_type": "code",
   "execution_count": 18,
   "id": "19ab587d-db34-4875-b730-9f021b818489",
   "metadata": {},
   "outputs": [
    {
     "name": "stdout",
     "output_type": "stream",
     "text": [
      "3\n"
     ]
    }
   ],
   "source": [
    "k = None\n",
    "\n",
    "a = 1\n",
    "b = 2\n",
    "print(a + b)"
   ]
  },
  {
   "cell_type": "markdown",
   "id": "afc2c0c0-891f-46e7-9666-10cbacac0a6c",
   "metadata": {},
   "source": [
    "## Type casting -> original data mei change\n",
    "## Type conversion -> original data mei change nahi"
   ]
  },
  {
   "cell_type": "code",
   "execution_count": null,
   "id": "a17a8494-6df1-46f6-a51e-deaa985d82e8",
   "metadata": {},
   "outputs": [],
   "source": []
  }
 ],
 "metadata": {
  "kernelspec": {
   "display_name": "Python 3 (ipykernel)",
   "language": "python",
   "name": "python3"
  },
  "language_info": {
   "codemirror_mode": {
    "name": "ipython",
    "version": 3
   },
   "file_extension": ".py",
   "mimetype": "text/x-python",
   "name": "python",
   "nbconvert_exporter": "python",
   "pygments_lexer": "ipython3",
   "version": "3.12.1"
  }
 },
 "nbformat": 4,
 "nbformat_minor": 5
}
