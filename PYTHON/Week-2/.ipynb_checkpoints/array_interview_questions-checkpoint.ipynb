{
 "cells": [
  {
   "cell_type": "markdown",
   "id": "6be61098-fc86-424d-849b-d40ef50a825e",
   "metadata": {},
   "source": [
    "For more practice:\n",
    "https://www.geeksforgeeks.org/explore?page=1&category=Arrays&sortBy=submissions"
   ]
  },
  {
   "cell_type": "markdown",
   "id": "e8af46a2-6238-401c-bef7-4d3e06b78619",
   "metadata": {},
   "source": [
    "### Points to remember\n",
    "\n",
    "- Codes asked are relatively easier in comparison to SDE roles\n",
    "- Pythonic syntax is preferred in most companies\n",
    "- Focus is on optimized code\n",
    "- Start with the simplest solution and then improve\n",
    "- A lot of questions are repeated so mugging up the approaches help\n",
    "- Build intuition using Python Tutor"
   ]
  },
  {
   "cell_type": "markdown",
   "id": "505b9564-e6c4-4002-889e-47eafe83e4e3",
   "metadata": {},
   "source": [
    "### 100% inhi me se ek ques aayega interview me array ka"
   ]
  },
  {
   "cell_type": "markdown",
   "id": "ac7ef261-b7ee-4601-9dad-66674b0ca26f",
   "metadata": {},
   "source": [
    "### 10 to 1 ques --> hard to easy level"
   ]
  },
  {
   "cell_type": "markdown",
   "id": "0f640a14-b487-42c3-8710-76f1deacd6c5",
   "metadata": {},
   "source": [
    "### 10. Maximum sum subarray --> bahut important \n",
    "\n",
    "- sub array should be continuous"
   ]
  },
  {
   "cell_type": "markdown",
   "id": "1cafafa6-7a82-49f6-9052-fc3c569b4acd",
   "metadata": {},
   "source": [
    "#### simplest solution"
   ]
  },
  {
   "cell_type": "code",
   "execution_count": 160,
   "id": "6a7a237e-6eba-42e2-8a00-28179dabe343",
   "metadata": {},
   "outputs": [
    {
     "name": "stdout",
     "output_type": "stream",
     "text": [
      "[4, 7, -1, 6, -11, 14, 3]\n"
     ]
    }
   ],
   "source": [
    "L = [-2,4,7,-1,6,-11,14,3,-1,-6]\n",
    "dict1 = {}\n",
    "\n",
    "for i in range(len(L)):\n",
    "    subarray = []\n",
    "    \n",
    "    for j in range(i,len(L)):\n",
    "        subarray.append(L[j])\n",
    "        # print(subarray, sum(subarray))\n",
    "        # dict1[sum(subarray)] = subarray\n",
    "        dict1[sum(subarray)] = subarray.copy()\n",
    "        # or\n",
    "        # dict1[sum(subarray)] = subarray[:]\n",
    "\n",
    "print(dict1[max(list(dict1.keys()))])\n",
    "# print(dict1)"
   ]
  },
  {
   "cell_type": "markdown",
   "id": "8ebbf780-acfb-4159-b6ab-d5c961eaf330",
   "metadata": {},
   "source": [
    "Jab bhi do nested loops hote hai toh time complexity O(n^2) ban jati hai"
   ]
  },
  {
   "cell_type": "markdown",
   "id": "bf27b7af-1ae8-4099-8605-c383d6a62f2f",
   "metadata": {},
   "source": [
    "#### Better solution (Kadane's algorithm)"
   ]
  },
  {
   "cell_type": "markdown",
   "id": "1b28f12e-beea-4df9-9aa0-b7bc740b6759",
   "metadata": {},
   "source": [
    "```\n",
    "L = [-2,4,7,-1,6,-11,14,3,-1,-6]\n",
    "\n",
    "we start from first element and move forward\n",
    "\n",
    "we have following four variables:\n",
    "\n",
    "current_sum       | Best_sum\n",
    "current_subarray  | Best_subarray\n",
    "\n",
    "current_sum = -2         |  Best_sum = -2\n",
    "current_subarray = [-2]  |  Best_subarray = [-2]\n",
    "\n",
    "4 ya toh -2 se jud skta hai ya toh akela reh skta hai\n",
    "ye decision liya jayega : current_sum sabse jyada hona chahiye\n",
    "\n",
    "current_sum = 4         |  Best_sum = 4\n",
    "current_subarray = [4]  |  Best_subarray = [4]\n",
    "\n",
    "current_sum = 11          |  Best_sum = 11\n",
    "current_subarray = [4,7]  |  Best_subarray = [4,7]\n",
    "\n",
    "current_sum = 10             |  no changes as 11>10\n",
    "current_subarray = [4,7,-1]  |  \n",
    "\n",
    "current_sum = 16               |  Best_sum = 16\n",
    "current_subarray = [4,7,-1,6]  |  Best_subarray = [4,7,-1,6]\n",
    "\n",
    "current_sum = 5                    |  \n",
    "current_subarray = [4,7,-1,6,-11]  |  \n",
    "\n",
    "current_sum = 19                      |  Best_sum = 19\n",
    "current_subarray = [4,7,-1,6,-11,14]  |  Best_subarray = [4,7,-1,6,-11,14]\n",
    "\n",
    "current_sum = 22                        |  Best_sum = 22\n",
    "current_subarray = [4,7,-1,6,-11,14,3]  |  Best_subarray = [4,7,-1,6,-11,14,3]\n",
    "\n",
    "current_sum = 21                           |  \n",
    "current_subarray = [4,7,-1,6,-11,14,3,-1]  |  \n",
    "\n",
    "current_sum = 15                              |  \n",
    "current_subarray = [4,7,-1,6,-11,14,3,-1,-6]  |  \n",
    "\n",
    "So our final answer is: sum = 22 and subarray = [4,7,-1,6,-11,14,3]\n",
    "```"
   ]
  },
  {
   "cell_type": "markdown",
   "id": "bdc4c934-3f8a-478c-ae0a-983b37c0eb22",
   "metadata": {},
   "source": [
    "```\n",
    "another example:\n",
    "\n",
    "example_list = [-5, 2, 3, -1, 2, -2, 4, -3, 5, -6]\n",
    "\n",
    "current_sum = -5         |  Best_sum = -5\n",
    "current_subarray = [-5]  |  Best_subarray = [-5]\n",
    "\n",
    "current_sum = 2         |  Best_sum = 2\n",
    "current_subarray = [2]  |  Best_subarray = [2]\n",
    "\n",
    "current_sum = 5           |  Best_sum = 5\n",
    "current_subarray = [2,3]  |  Best_subarray = [2,3]\n",
    "\n",
    "current_sum = 4              |  Best_sum = 5\n",
    "current_subarray = [2,3,-1]  |  Best_subarray = [2,3]\n",
    "\n",
    "current_sum = 6                |  Best_sum = 6\n",
    "current_subarray = [2,3,-1,2]  |  Best_subarray = [2,3,-1,2] \n",
    "\n",
    "current_sum = 4                   |  Best_sum = 6\n",
    "current_subarray = [2,3,-1,2,-2]  |  Best_subarray = [2,3,-1,2] \n",
    "\n",
    "current_sum = 8                     |  Best_sum = 8\n",
    "current_subarray = [2,3,-1,2,-2,4]  |  Best_subarray = [2,3,-1,2,-2,4]\n",
    "\n",
    "current_sum = 5                        |  Best_sum = 8\n",
    "current_subarray = [2,3,-1,2,-2,4,-3]  |  Best_subarray = [2,3,-1,2,-2,4] \n",
    "\n",
    "current_sum = 10                         |  Best_sum = 10\n",
    "current_subarray = [2,3,-1,2,-2,4,-3,5]  |  Best_subarray = [2,3,-1,2,-2,4,-3,5] \n",
    "\n",
    "current_sum = 4                            |  Best_sum = 10\n",
    "current_subarray = [2,3,-1,2,-2,4,-3,5,4]  |  Best_subarray = [2,3,-1,2,-2,4,-3,5] \n",
    "\n",
    "Final ans:\n",
    "Best_sum = 10\n",
    "Best_subarray = [2,3,-1,2,-2,4,-3,5] \n",
    "```"
   ]
  },
  {
   "cell_type": "code",
   "execution_count": 6,
   "id": "cab6a42e-62a3-48fc-985a-f550f96c18f8",
   "metadata": {},
   "outputs": [
    {
     "name": "stdout",
     "output_type": "stream",
     "text": [
      "22 [4, 7, -1, 6, -11, 14, 3]\n"
     ]
    }
   ],
   "source": [
    "L = [-2,4,7,-1,6,-11,14,3,-1,-6]\n",
    "# L = [-20,-12,-3,-5,-6]\n",
    "# L = [-5, 2, 3, -1, 2, -2, 4, -3, 5, -6]\n",
    "# L = [1, -2, 3, 4, -1, 2, 1, -5, 4]\n",
    "# L = [-2, -3, 4, -1, -2, 1, 5, -3]\n",
    "# L = [5, 4, -1, 7, 8]\n",
    "# L = [10, -3, 4, 5, 6, -2, -1, 8, -6, 3, 7, -9, 10, 2, -5, 4, 6, -2, 1, -4, 8, -7, 6, 2, -3, 4, -1, 5, -2, 3]\n",
    "# L = [-10, 15, -20, 25, -30, 35, -5, 40, -50, 45, -60, 55, -70, 60, -80, 65, -90, 70, -100, 75, -110, 80, -120, 85, -130, 90, -140, 95, -150, 100]\n",
    "\n",
    "current_sum = 0\n",
    "current_subarray = []\n",
    "best_sum = L[0]\n",
    "best_subarray = [L[0]]\n",
    "\n",
    "for i in L:\n",
    "    if i+current_sum > i:\n",
    "        current_sum = current_sum + i\n",
    "        current_subarray.append(i)\n",
    "        \n",
    "    else:\n",
    "        current_sum = i\n",
    "        current_subarray = [i]\n",
    "\n",
    "    if best_sum < current_sum:\n",
    "        best_sum = current_sum\n",
    "        best_subarray = current_subarray.copy()\n",
    "\n",
    "    # print('i: ', i)\n",
    "    # print('current_sum: ',current_sum, 'best_sum: ', best_sum)\n",
    "    # print('current_sum_id: ',id(current_sum), 'best_sum_id: ',id(best_sum))\n",
    "    # print('current_subarray: ',current_subarray, 'best_subarray: ',best_subarray)\n",
    "    # print('current_subarray_id: ',id(current_subarray), 'best_subarray_id: ',id(best_subarray))\n",
    "\n",
    "print(best_sum, best_subarray)"
   ]
  },
  {
   "cell_type": "markdown",
   "id": "e863b22f-654e-40ef-9c2b-066980420530",
   "metadata": {},
   "source": [
    "#### It has only one loop so time complexity: O(n)"
   ]
  },
  {
   "cell_type": "code",
   "execution_count": 16,
   "id": "a4fd4601-c268-44c7-83ea-62962e3f0fa1",
   "metadata": {},
   "outputs": [
    {
     "data": {
      "text/plain": [
       "-9223372036854775808"
      ]
     },
     "execution_count": 16,
     "metadata": {},
     "output_type": "execute_result"
    }
   ],
   "source": [
    "# NOTE: \n",
    "\n",
    "import sys\n",
    "    # Biggest positive int\n",
    "sys.maxsize\n",
    "\n",
    "# Smallest negative int\n",
    "-sys.maxsize-1"
   ]
  },
  {
   "cell_type": "markdown",
   "id": "139428a0-8303-4a9d-afa6-e68b7a5cf097",
   "metadata": {},
   "source": [
    "## 9. Find element with left side smaller/right side greater in an array\n"
   ]
  },
  {
   "cell_type": "code",
   "execution_count": 46,
   "id": "84b10edc-cfc6-4f13-b07b-350042ca4adb",
   "metadata": {},
   "outputs": [
    {
     "name": "stdout",
     "output_type": "stream",
     "text": [
      "3\n",
      "5\n"
     ]
    }
   ],
   "source": [
    "# simpler solution\n",
    "\n",
    "# L = [3,1,2,5,8,7,9]\n",
    "L = [2,1,3,5,8,7,9]\n",
    "\n",
    "for i in range(1, len(L)-1):\n",
    "    flag = True\n",
    "    \n",
    "    for j in range(i-1,-1, -1):\n",
    "        if L[i] < L[j]:\n",
    "            flag = False\n",
    "            break\n",
    "            \n",
    "    if flag:\n",
    "        for k in range(i+1, len(L)):\n",
    "            if L[i] > L[k]:\n",
    "                flag = False\n",
    "                break\n",
    "\n",
    "    if flag:\n",
    "        print(L[i])"
   ]
  },
  {
   "cell_type": "markdown",
   "id": "a3cc0553-6adb-4fc6-b61e-a1a3e2259bcb",
   "metadata": {},
   "source": [
    "O(n^2)"
   ]
  },
  {
   "cell_type": "code",
   "execution_count": 68,
   "id": "0376a09e-dafb-4bdb-b20f-774d71b6da67",
   "metadata": {},
   "outputs": [
    {
     "name": "stdout",
     "output_type": "stream",
     "text": [
      "3\n",
      "5\n"
     ]
    }
   ],
   "source": [
    "# better solution in terms of pythonic syntax\n",
    "\n",
    "# L = [3,1,2,5,8,7,9]\n",
    "L = [2,1,3,5,8,7,9]\n",
    "\n",
    "for i in range(1, len(L)-1):\n",
    "    if max(L[:i]) < L[i] and L[i] < min(L[i+1:]):\n",
    "        print(L[i])"
   ]
  },
  {
   "cell_type": "markdown",
   "id": "50b74f07-078c-4633-abaf-d81a1a21b117",
   "metadata": {},
   "source": [
    "O(n^2)"
   ]
  },
  {
   "cell_type": "code",
   "execution_count": null,
   "id": "38ea391d-5b05-42ce-813d-9f5826af913a",
   "metadata": {},
   "outputs": [],
   "source": [
    "# best solution"
   ]
  },
  {
   "attachments": {
    "6b3ec48a-dd7c-4cb9-8ef3-6802e899d873.jpg": {
     "image/jpeg": "[encoded data removed]"
    }
   },
   "cell_type": "markdown",
   "id": "5baaebe4-0d9b-442e-9488-5c1268284af8",
   "metadata": {},
   "source": [
    "![max_min_interview_ques.jpg](attachment:6b3ec48a-dd7c-4cb9-8ef3-6802e899d873.jpg)"
   ]
  },
  {
   "cell_type": "code",
   "execution_count": 125,
   "id": "170f9fbc-a807-4f93-a620-a06d15116ce3",
   "metadata": {},
   "outputs": [
    {
     "name": "stdout",
     "output_type": "stream",
     "text": [
      "___List:  [3, 1, 2, 5, 8, 7, 9]\n",
      "maximum:  [3, 3, 3, 5, 8, 8, 9]\n",
      "minimum:  [1, 1, 2, 5, 7, 7, 9]\n",
      "5\n"
     ]
    }
   ],
   "source": [
    "L = [3, 1, 2, 5, 8, 7, 9]\n",
    "# L = [2, 1, 3, 5, 8, 7, 9, 10]\n",
    "\n",
    "print('___List: ', L)\n",
    "\n",
    "maximum = [L[0]]\n",
    "minimum = [None]*len(L)\n",
    "minimum[-1] = L[-1]\n",
    "\n",
    "# for i in range(1, len(L)):\n",
    "#     if L[i] > maximum[i-1]:\n",
    "#         maximum.append(L[i])\n",
    "#     else:\n",
    "#         maximum.append(maximum[i-1])\n",
    "\n",
    "# print(maximum)\n",
    "\n",
    "for i in range(1, len(L)):\n",
    "    maximum.append(max(L[i], maximum[i-1]))\n",
    "\n",
    "print('maximum: ', maximum)\n",
    "\n",
    "for i in range(len(L)-2, -1, -1):\n",
    "    minimum[i] = min(minimum[i+1], L[i])\n",
    "\n",
    "print('minimum: ', minimum)\n",
    "\n",
    "for i in range(1,len(L)-1):\n",
    "    if L[i] > maximum[i-1] and L[i] < minimum[i+1]:\n",
    "        print(L[i])"
   ]
  },
  {
   "cell_type": "markdown",
   "id": "265409bc-80a6-4142-811f-c7190269274e",
   "metadata": {},
   "source": [
    "O(n+n+n) = O(3n) = O(n)"
   ]
  },
  {
   "cell_type": "code",
   "execution_count": 134,
   "id": "a6aa614c-7534-4977-9c50-1f7cd6436d91",
   "metadata": {},
   "outputs": [
    {
     "name": "stdout",
     "output_type": "stream",
     "text": [
      "[3, 3, 3, 5, 8, 8, 9]\n",
      "[1, 1, 2, 5, 7, 7, 9]\n",
      "5\n"
     ]
    }
   ],
   "source": [
    "# or\n",
    "\n",
    "L = [3, 1, 2, 5, 8, 7, 9]\n",
    "\n",
    "maximum = []\n",
    "minimum = []\n",
    "\n",
    "max_value = L[0]\n",
    "min_value = L[-1]\n",
    "\n",
    "for i in L:\n",
    "    if i > max_value:\n",
    "        max_value = i\n",
    "    maximum.append(max_value)\n",
    "\n",
    "print(maximum)\n",
    "\n",
    "for i in range(len(L)-1, -1, -1):\n",
    "    if L[i] < min_value:\n",
    "        min_value = L[i]\n",
    "    minimum.insert(0,min_value)\n",
    "\n",
    "print(minimum)\n",
    "\n",
    "for i in range(1,len(L)-1):\n",
    "    if L[i] > maximum[i-1] and L[i] < minimum[i+1]:\n",
    "        print(L[i])    "
   ]
  },
  {
   "cell_type": "markdown",
   "id": "0eff39a2-ed08-4b11-ad23-53b70c8d0e54",
   "metadata": {},
   "source": [
    "## 8. Find continous subarray with a given sum(given non-negative numbers)\n",
    "### return the starting and ending index of the subarray\n",
    "### return 1st subarray in case of multiple"
   ]
  },
  {
   "cell_type": "code",
   "execution_count": 149,
   "id": "137802c7-4ead-4e82-a7c9-eafb10649eed",
   "metadata": {},
   "outputs": [
    {
     "name": "stdout",
     "output_type": "stream",
     "text": [
      "[13, 7]\n",
      "[9, 11]\n"
     ]
    }
   ],
   "source": [
    "L = [1,22,13,7,9,11,10]\n",
    "S = 16\n",
    "S = 20\n",
    "\n",
    "for i in range(len(L)):\n",
    "    subarray = []\n",
    "    \n",
    "    for j in range(i,len(L)):\n",
    "        subarray.append(L[j])\n",
    "        # print(subarray, sum(subarray))\n",
    "        if sum(subarray) == S:\n",
    "            print(subarray)"
   ]
  },
  {
   "cell_type": "markdown",
   "id": "4c6f7ac9-0b0d-47f1-98f4-af12aaadab9c",
   "metadata": {},
   "source": [
    "O(n^2)"
   ]
  },
  {
   "cell_type": "code",
   "execution_count": null,
   "id": "cf0509d2-1842-4754-a8ee-7f8a65e21342",
   "metadata": {},
   "outputs": [],
   "source": [
    "# better soln"
   ]
  },
  {
   "cell_type": "code",
   "execution_count": 161,
   "id": "85ea0160-69d8-4a4b-8ea8-2bf791a0167e",
   "metadata": {},
   "outputs": [
    {
     "name": "stdout",
     "output_type": "stream",
     "text": [
      "3 4\n"
     ]
    }
   ],
   "source": [
    "L = [1,22,13,7,9,11,10]\n",
    "S = 16\n",
    "\n",
    "d = {}\n",
    "curr_sum = 0\n",
    "\n",
    "for i in range(len(L)):\n",
    "  curr_sum = curr_sum + L[i]\n",
    "\n",
    "  if (curr_sum - S) in d:\n",
    "    print(d[curr_sum - S]+1,i)\n",
    "    break\n",
    "\n",
    "  d[curr_sum] = i"
   ]
  },
  {
   "cell_type": "markdown",
   "id": "0909f69c-c336-4943-b507-c85b97ddb0d1",
   "metadata": {},
   "source": [
    "- membership op set ya dict me O(1) pe kaam karta hai\n",
    "- membership op string ya list me O(n) pe kaam karta hai"
   ]
  },
  {
   "cell_type": "markdown",
   "id": "6a5cad34-a9c2-4dce-b2f6-52cda5753ad0",
   "metadata": {},
   "source": [
    "### 7. Find intersection of two sorted arrays"
   ]
  },
  {
   "cell_type": "code",
   "execution_count": 6,
   "id": "4f5a1111-6e09-425c-b196-d16abe59ba61",
   "metadata": {},
   "outputs": [
    {
     "data": {
      "text/plain": [
       "[8, 3]"
      ]
     },
     "execution_count": 6,
     "metadata": {},
     "output_type": "execute_result"
    }
   ],
   "source": [
    "A = [1,2,3,4,5,8]\n",
    "B = [3,6,7,8]\n",
    "\n",
    "list(set(A) & set(B))"
   ]
  },
  {
   "cell_type": "markdown",
   "id": "41be1fd9-7056-40a5-860f-fbd46fad8f3a",
   "metadata": {},
   "source": [
    "O(n) for nearly same size arrays"
   ]
  },
  {
   "cell_type": "code",
   "execution_count": 7,
   "id": "a0c4b53c-673d-4bb9-aa66-1f173eaf182a",
   "metadata": {},
   "outputs": [
    {
     "name": "stdout",
     "output_type": "stream",
     "text": [
      "[3, 8]\n"
     ]
    }
   ],
   "source": [
    "C = []\n",
    "\n",
    "for i in A:\n",
    "    if i in B:\n",
    "        C.append(i)\n",
    "\n",
    "print(C)"
   ]
  },
  {
   "cell_type": "markdown",
   "id": "d9004b28-4ce8-40ba-aeac-9742cfef393b",
   "metadata": {},
   "source": [
    "O(n^2)"
   ]
  },
  {
   "cell_type": "code",
   "execution_count": 119,
   "id": "cc738c05-089a-45be-aa91-536c8ef45322",
   "metadata": {},
   "outputs": [
    {
     "name": "stdout",
     "output_type": "stream",
     "text": [
      "3\n",
      "8\n"
     ]
    }
   ],
   "source": [
    "# Only works for sorted arrays\n",
    "\n",
    "A = [1,2,3,4,5,8]\n",
    "B = [3,6,7,8]\n",
    "\n",
    "i = j = 0\n",
    "\n",
    "while i < len(A) and j < len(B):\n",
    "    if A[i] == B[j]:\n",
    "        print(A[i])\n",
    "        i += 1\n",
    "        j += 1\n",
    "    elif B[j] > A[i]:\n",
    "        i += 1\n",
    "    else:\n",
    "        j += 1        "
   ]
  },
  {
   "cell_type": "markdown",
   "id": "bbabbe8d-7c33-4b42-a54f-4061485e0c7b",
   "metadata": {},
   "source": [
    "### 6. Rotate array to left d items"
   ]
  },
  {
   "cell_type": "code",
   "execution_count": 34,
   "id": "68a9ee16-bdf6-4996-9e74-2e89392fa4b1",
   "metadata": {},
   "outputs": [
    {
     "name": "stdout",
     "output_type": "stream",
     "text": [
      "[3, 4, 5, 1, 2]\n"
     ]
    }
   ],
   "source": [
    "L = [1,2,3,4,5]\n",
    "\n",
    "rotate = 2\n",
    "\n",
    "# [2,3,4,5,1]\n",
    "# [3,4,5,1,2]\n",
    "\n",
    "for j in range(rotate):\n",
    "    temp = L[0]\n",
    "    for i in range(len(L)):\n",
    "        if i==len(L)-1:\n",
    "            L[i] = temp\n",
    "        else:\n",
    "            L[i] = L[i+1]\n",
    "\n",
    "print(L)"
   ]
  },
  {
   "cell_type": "markdown",
   "id": "43d231c9-0687-408e-9fdc-cd618df1be48",
   "metadata": {},
   "source": [
    "O(n)"
   ]
  },
  {
   "cell_type": "markdown",
   "id": "43100e1c-251c-48c6-a4eb-4f2e0b3a2817",
   "metadata": {},
   "source": [
    "### 5. Find duplicates in an array"
   ]
  },
  {
   "cell_type": "code",
   "execution_count": 10,
   "id": "b04ee4e9-ac4e-46d0-8652-8a5d10ce7709",
   "metadata": {},
   "outputs": [
    {
     "name": "stdout",
     "output_type": "stream",
     "text": [
      "[1, 2, 4, 5]\n"
     ]
    }
   ],
   "source": [
    "L = [1, 1, 2, 2, 3, 4, 4, 4, 5, 5]\n",
    "\n",
    "d = {}\n",
    "\n",
    "for i in L:\n",
    "    if i not in d:\n",
    "        d[i] = 1\n",
    "    else:\n",
    "        d[i] += 1\n",
    "\n",
    "# print(d)\n",
    "\n",
    "duplicates_list = []\n",
    "\n",
    "for i in d:\n",
    "    if d[i] > 1:\n",
    "        duplicates_list.append(i)\n",
    "        \n",
    "print(duplicates_list)"
   ]
  },
  {
   "cell_type": "markdown",
   "id": "1a2d7703-9419-4ef8-b0e2-cfe8eab05622",
   "metadata": {},
   "source": [
    "### 4. Find the first element to occur k times in an array"
   ]
  },
  {
   "cell_type": "code",
   "execution_count": 23,
   "id": "6264e5c2-4e09-434d-994a-e1cd93150b1f",
   "metadata": {},
   "outputs": [
    {
     "name": "stdout",
     "output_type": "stream",
     "text": [
      "1\n"
     ]
    }
   ],
   "source": [
    "L = [1, 2, 1, 2, 3, 4, 3, 4, 5, 1, 5, 5]\n",
    "k = 3\n",
    "\n",
    "d = {}\n",
    "\n",
    "for i in L:\n",
    "    if i not in d:\n",
    "        d[i] = 1\n",
    "    else:\n",
    "        d[i] += 1\n",
    "    if d[i] == k:\n",
    "        print(i)\n",
    "        break"
   ]
  },
  {
   "cell_type": "markdown",
   "id": "1bbb139b-37b2-4e7f-82b0-5be6604e6ff7",
   "metadata": {},
   "source": [
    "### 3. Find min/max in a given array"
   ]
  },
  {
   "cell_type": "code",
   "execution_count": 26,
   "id": "2cbd7ffd-6dd3-46f0-8b06-149767b8151e",
   "metadata": {},
   "outputs": [
    {
     "data": {
      "text/plain": [
       "100"
      ]
     },
     "execution_count": 26,
     "metadata": {},
     "output_type": "execute_result"
    }
   ],
   "source": [
    "L = [2,67,23,4,-5,0,100]\n",
    "\n",
    "min(L)\n",
    "max(L)"
   ]
  },
  {
   "cell_type": "code",
   "execution_count": 29,
   "id": "5accf42e-ccc2-4c25-a93d-7e676c87da85",
   "metadata": {},
   "outputs": [
    {
     "data": {
      "text/plain": [
       "-5"
      ]
     },
     "execution_count": 29,
     "metadata": {},
     "output_type": "execute_result"
    }
   ],
   "source": [
    "(sorted(L))[-1]\n",
    "(sorted(L))[0]"
   ]
  },
  {
   "cell_type": "code",
   "execution_count": 30,
   "id": "7be22907-5aab-4b50-bc5c-d6ef5d0750de",
   "metadata": {},
   "outputs": [
    {
     "name": "stdout",
     "output_type": "stream",
     "text": [
      "100\n"
     ]
    }
   ],
   "source": [
    "max_value = L[0]\n",
    "\n",
    "for i in L:\n",
    "    if i > max_value:\n",
    "        max_value = i\n",
    "\n",
    "print(max_value)"
   ]
  },
  {
   "cell_type": "code",
   "execution_count": 31,
   "id": "b8e320a3-487d-4d66-97b8-2f11847e61f7",
   "metadata": {},
   "outputs": [
    {
     "name": "stdout",
     "output_type": "stream",
     "text": [
      "-5\n"
     ]
    }
   ],
   "source": [
    "min_value = L[0]\n",
    "\n",
    "for i in L:\n",
    "    if i < max_value:\n",
    "        max_value = i\n",
    "\n",
    "print(max_value)"
   ]
  },
  {
   "cell_type": "markdown",
   "id": "00350170-dc55-4b69-993e-720a4bc6bb0c",
   "metadata": {},
   "source": [
    "### 2. Check if an array is sorted"
   ]
  },
  {
   "cell_type": "code",
   "execution_count": 36,
   "id": "6fb04de5-a876-4b49-a0d0-b40238a8232c",
   "metadata": {},
   "outputs": [
    {
     "name": "stdout",
     "output_type": "stream",
     "text": [
      "unsorted\n"
     ]
    }
   ],
   "source": [
    "L = [10,2,4,4,5]\n",
    "\n",
    "flag = True\n",
    "\n",
    "for i in range(len(L)-1):\n",
    "    if L[i+1] < L[i]:\n",
    "        flag = False\n",
    "        break\n",
    "\n",
    "if flag:\n",
    "    print('sorted')\n",
    "else:\n",
    "    print('unsorted')"
   ]
  },
  {
   "cell_type": "markdown",
   "id": "53c4de3a-6a1a-4286-b403-7114db5c8be2",
   "metadata": {},
   "source": [
    "### 1. Find the kth largest/smallest item from a list"
   ]
  },
  {
   "cell_type": "code",
   "execution_count": 44,
   "id": "fbcc1d54-51e3-4ef0-ab6e-97e4bbec5274",
   "metadata": {},
   "outputs": [
    {
     "name": "stdout",
     "output_type": "stream",
     "text": [
      "3 th largest:  23\n",
      "3 th smallest:  4\n"
     ]
    }
   ],
   "source": [
    "L = [12,23,1,4,56,34,22,3]\n",
    "k = 3\n",
    "# non-repeating\n",
    "L.sort()\n",
    "\n",
    "print(k, 'th largest: ', L[-k])\n",
    "print(k, 'th smallest: ', L[k-1])"
   ]
  },
  {
   "cell_type": "markdown",
   "id": "bd9d58c4-2335-4a78-a4d2-75ae2ebdd75f",
   "metadata": {},
   "source": [
    "```\n",
    "python uses some variant of merge sort.\n",
    "O(nlogn)\n",
    "```"
   ]
  },
  {
   "cell_type": "markdown",
   "id": "9df2928d-1f35-49e0-a2f9-90355c23c45d",
   "metadata": {},
   "source": [
    "### 11. Sort arrays with items 1 and 0"
   ]
  },
  {
   "cell_type": "code",
   "execution_count": 98,
   "id": "7eae4a8e-8790-478d-bf81-3fd9678521ed",
   "metadata": {},
   "outputs": [
    {
     "name": "stdout",
     "output_type": "stream",
     "text": [
      "[0, 0, 0, 1, 1, 1, 1]\n"
     ]
    }
   ],
   "source": [
    "l = [0,1,0,1,1,1,0]\n",
    "\n",
    "l1 = []\n",
    "\n",
    "for i in l:\n",
    "    if i==0:\n",
    "        l1.append(i)\n",
    "\n",
    "for i in l:\n",
    "    if i==1:\n",
    "        l1.append(i)\n",
    "\n",
    "print(l1)"
   ]
  },
  {
   "cell_type": "code",
   "execution_count": 109,
   "id": "6d4d11dd-8308-4025-80f1-370381072540",
   "metadata": {},
   "outputs": [
    {
     "data": {
      "text/plain": [
       "[0, 0, 0, 1, 1, 1, 1]"
      ]
     },
     "execution_count": 109,
     "metadata": {},
     "output_type": "execute_result"
    }
   ],
   "source": [
    "# or\n",
    "\n",
    "l = [0, 1, 0, 1, 1, 1, 0]\n",
    "\n",
    "[i for i in l if i==0] + [i for i in l if i==1]"
   ]
  },
  {
   "cell_type": "markdown",
   "id": "592775b9-7c28-4645-be4a-47b79efc4d21",
   "metadata": {},
   "source": [
    "### 12. Move all -ve numbers to the end"
   ]
  },
  {
   "cell_type": "code",
   "execution_count": 102,
   "id": "cada145f-7a06-4071-9524-2b2e69c822ad",
   "metadata": {},
   "outputs": [
    {
     "name": "stdout",
     "output_type": "stream",
     "text": [
      "[2, 0, 3, 2, -5, -1]\n"
     ]
    }
   ],
   "source": [
    "l = [-5, 2, 0, 3, -1, 2]\n",
    "l1 = []\n",
    "\n",
    "for i in l:\n",
    "    if i>=0:\n",
    "        l1.append(i)\n",
    "        \n",
    "for i in l:\n",
    "    if i<0:\n",
    "        l1.append(i)\n",
    "\n",
    "print(l1)"
   ]
  },
  {
   "cell_type": "code",
   "execution_count": 112,
   "id": "e85fb7b2-b066-49b1-a25d-a45e8ccd71ad",
   "metadata": {},
   "outputs": [
    {
     "data": {
      "text/plain": [
       "[2, 0, 3, 2, -5, -1]"
      ]
     },
     "execution_count": 112,
     "metadata": {},
     "output_type": "execute_result"
    }
   ],
   "source": [
    "# or\n",
    "\n",
    "l = [-5, 2, 0, 3, -1, 2]\n",
    "\n",
    "[i for i in l if i>=0] + [i for i in l if i<0]"
   ]
  },
  {
   "cell_type": "markdown",
   "id": "e5cdc19f-c48e-4141-83fd-69af4bb54c6d",
   "metadata": {},
   "source": [
    "### 13. Maximum Product Subarray"
   ]
  },
  {
   "cell_type": "markdown",
   "id": "c270d5b5-fb4b-48a4-bc8f-b9c9a25646d7",
   "metadata": {},
   "source": [
    "```\n",
    "L = [-5, 2, 3, -1, 2]\n",
    "\n",
    "curr_prod = -5  | best_prod = -5\n",
    "curr_seq = [-5]  | best_seq = [-5]\n",
    "\n",
    "curr_prod = 2  | best_prod = 2\n",
    "curr_seq = [2]  | best_seq = [2]\n",
    "\n",
    "curr_prod = 6  | best_prod = 6\n",
    "curr_seq = [2,3]  | best_seq = [2,3]\n",
    "\n",
    "curr_prod = -1  | \n",
    "curr_seq = [-1] |\n",
    "\n",
    "curr_prod = 2  | \n",
    "curr_seq = [2] |\n",
    "```"
   ]
  },
  {
   "cell_type": "code",
   "execution_count": 113,
   "id": "d6991413-3eaf-42c3-8e10-5aa56b2bc77b",
   "metadata": {},
   "outputs": [
    {
     "name": "stdout",
     "output_type": "stream",
     "text": [
      "maximum product:  6\n",
      "Maximum Product Subarray:  [2, 3]\n"
     ]
    }
   ],
   "source": [
    "L = [-5, 2, 3, -1, 2]\n",
    "\n",
    "curr_prod = 1\n",
    "curr_seq = []\n",
    "best_prod = L[0]\n",
    "best_seq = []\n",
    "\n",
    "for i in L:\n",
    "    if i*curr_prod > i:\n",
    "        curr_prod *= i\n",
    "        curr_seq.append(i)\n",
    "    else:\n",
    "        curr_prod = i\n",
    "        curr_seq = [i]\n",
    "\n",
    "    if best_prod < curr_prod:\n",
    "        best_prod = curr_prod\n",
    "        best_seq = curr_seq.copy()\n",
    "        \n",
    "    # print('curr_prod', curr_prod) \n",
    "    # print('curr_seq', curr_seq) \n",
    "    # print()\n",
    "    # print('best_prod', best_prod) \n",
    "    # print('best_seq', best_seq) \n",
    "    # print()\n",
    "\n",
    "print('maximum product: ', best_prod) \n",
    "print('Maximum Product Subarray: ', best_seq)    "
   ]
  },
  {
   "cell_type": "markdown",
   "id": "8c9528db-c5f0-4a01-98fd-4050f69d3f5d",
   "metadata": {},
   "source": [
    "### 14. Find union of 2 arrays"
   ]
  },
  {
   "cell_type": "code",
   "execution_count": 75,
   "id": "60af37bf-119f-4ffd-88d6-cf10f94c0f96",
   "metadata": {},
   "outputs": [
    {
     "name": "stdout",
     "output_type": "stream",
     "text": [
      "[1, 2, 3, 4, 5, 6]\n"
     ]
    }
   ],
   "source": [
    "l1 = [1,2,3,4]\n",
    "l2 = [4,5,6]\n",
    "\n",
    "l = []\n",
    "\n",
    "for i in l1:\n",
    "    l.append(i)\n",
    "\n",
    "for i in l2:\n",
    "    if i not in l:\n",
    "        l.append(i)\n",
    "\n",
    "print(l)"
   ]
  },
  {
   "cell_type": "code",
   "execution_count": 116,
   "id": "a8d3620e-09d4-4cbc-86fc-c9a7a0fc85ed",
   "metadata": {},
   "outputs": [
    {
     "data": {
      "text/plain": [
       "[1, 2, 3, 4, 5, 6]"
      ]
     },
     "execution_count": 116,
     "metadata": {},
     "output_type": "execute_result"
    }
   ],
   "source": [
    "# or\n",
    "\n",
    "l1 = [1,2,3,4]\n",
    "l2 = [4,5,6]\n",
    "\n",
    "l1 + [i for i in l2 if i not in l1]"
   ]
  },
  {
   "cell_type": "markdown",
   "id": "0d80f983-01bf-4956-ba51-f4b71cc468a8",
   "metadata": {},
   "source": [
    "### 15. Find Pythagorean triplets in an array"
   ]
  },
  {
   "cell_type": "code",
   "execution_count": 71,
   "id": "d5e906ed-3d23-4ac1-9044-53373b3ddd7e",
   "metadata": {},
   "outputs": [
    {
     "name": "stdout",
     "output_type": "stream",
     "text": [
      "[[3, 4, 5], [5, 12, 13]]\n"
     ]
    }
   ],
   "source": [
    "L = [3, 5, 12, 5, 13, 4]\n",
    "# L = [10, 6, 8, 15, 17, 2]\n",
    "# L = [9, 12, 15, 7, 24, 25]\n",
    "# L = [5, 20, 25, 3, 4, 6, 8]\n",
    "# L = [7, 24, 25, 1, 2, 3, 5, 6, 8]\n",
    "\n",
    "Pythagorean_triplets = []\n",
    "\n",
    "for i in L:\n",
    "    for j in L:\n",
    "        for k in L:\n",
    "            if (i**2 + j**2 == k**2) or (i**2 + k**2 == j**2) or (k**2 + j**2 == i**2):\n",
    "                if sorted([i,j,k]) not in Pythagorean_triplets:\n",
    "                    Pythagorean_triplets.extend([sorted([i,j,k])])\n",
    "                \n",
    "\n",
    "print(Pythagorean_triplets)"
   ]
  },
  {
   "cell_type": "markdown",
   "id": "a4e82992-75db-40cf-a133-5b8fb95078c5",
   "metadata": {},
   "source": [
    "#### O(n^3)"
   ]
  },
  {
   "cell_type": "code",
   "execution_count": null,
   "id": "c6c3de0c-2911-4b5b-855a-87abe0f9d824",
   "metadata": {},
   "outputs": [],
   "source": []
  }
 ],
 "metadata": {
  "kernelspec": {
   "display_name": "Python 3 (ipykernel)",
   "language": "python",
   "name": "python3"
  },
  "language_info": {
   "codemirror_mode": {
    "name": "ipython",
    "version": 3
   },
   "file_extension": ".py",
   "mimetype": "text/x-python",
   "name": "python",
   "nbconvert_exporter": "python",
   "pygments_lexer": "ipython3",
   "version": "3.12.1"
  }
 },
 "nbformat": 4,
 "nbformat_minor": 5
}
