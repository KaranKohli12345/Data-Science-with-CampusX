{
 "cells": [
  {
   "cell_type": "markdown",
   "metadata": {
    "id": "h6dDSW5XGZFi"
   },
   "source": [
    "### **`Problem-1:`** Write a Python function that takes a list and returns a new list with unique elements of the first list.\n",
    "\n",
    "**Exercise 1:**\n",
    "\n",
    "Input:\n",
    "\n",
    "```bash\n",
    "[1,2,3,3,3,3,4,5]\n",
    "```\n",
    "\n",
    "Output:\n",
    "\n",
    "```bash\n",
    "[1, 2, 3, 4, 5]\n",
    "```"
   ]
  },
  {
   "cell_type": "code",
   "execution_count": 1,
   "metadata": {
    "id": "R5pq1C9LGe1y"
   },
   "outputs": [
    {
     "data": {
      "text/plain": [
       "[1, 2, 3, 4, 5]"
      ]
     },
     "execution_count": 1,
     "metadata": {},
     "output_type": "execute_result"
    }
   ],
   "source": [
    "def unique_ele(L):\n",
    "    newL = []\n",
    "    for i in L:\n",
    "        if i not in newL:\n",
    "            newL.append(i)\n",
    "    return newL\n",
    "\n",
    "L = [1,2,2,1,3,4,5,4]\n",
    "\n",
    "unique_ele(L)"
   ]
  },
  {
   "cell_type": "markdown",
   "metadata": {
    "id": "UxQ_VoyJGwHj"
   },
   "source": [
    "### **`Problem-2:`** Write a Python function that accepts a hyphen-separated sequence of words as parameter and returns the words in a hyphen-separated sequence after sorting them alphabetically.\n",
    "\n",
    "**Example 1:**\n",
    "\n",
    "Input:\n",
    "```bash\n",
    "green-red-yellow-black-white\n",
    "```\n",
    "\n",
    "Output:\n",
    "```bash\n",
    "black-green-red-white-yellow\n",
    "```"
   ]
  },
  {
   "cell_type": "code",
   "execution_count": 8,
   "metadata": {
    "id": "AAts2m5zGwiQ"
   },
   "outputs": [
    {
     "data": {
      "text/plain": [
       "'black-green-red-white-yellow'"
      ]
     },
     "execution_count": 8,
     "metadata": {},
     "output_type": "execute_result"
    }
   ],
   "source": [
    "def sorting(s):\n",
    "    return '-'.join(sorted(s.split('-')))\n",
    "    \n",
    "s = 'green-red-yellow-black-white'\n",
    "\n",
    "sorting(s)"
   ]
  },
  {
   "cell_type": "markdown",
   "metadata": {
    "id": "IRGH62S7Gx_n"
   },
   "source": [
    "### **`Problem 3:`** Write a Python function that accepts a string and calculate the number of upper case letters and lower case letters.\n",
    "\n",
    "```\n",
    "Sample String : 'CampusX is an Online Mentorship Program fOr EnginEering studentS.'\n",
    "Expected Output :\n",
    "No. of Upper case characters :  9\n",
    "No. of Lower case Characters :  47\n",
    "```"
   ]
  },
  {
   "cell_type": "code",
   "execution_count": 10,
   "metadata": {
    "id": "OaUrD8vVG5o8"
   },
   "outputs": [
    {
     "name": "stdout",
     "output_type": "stream",
     "text": [
      "No. of Upper case characters :  9\n",
      "No. of Lower case Characters :  47\n"
     ]
    }
   ],
   "source": [
    "def upper_lower(s):\n",
    "    count_upper = 0\n",
    "    count_lower = 0\n",
    "    for i in s:\n",
    "        if i.isupper():\n",
    "            count_upper += 1\n",
    "        elif i.islower():\n",
    "            count_lower += 1\n",
    "    print('No. of Upper case characters : ', count_upper)\n",
    "    print('No. of Lower case Characters : ', count_lower)\n",
    "\n",
    "s = 'CampusX is an Online Mentorship Program fOr EnginEering studentS.'\n",
    "\n",
    "upper_lower(s)"
   ]
  },
  {
   "cell_type": "markdown",
   "metadata": {
    "id": "V1BFFdYQG7Sn"
   },
   "source": [
    "### **`Problem 4:`** Write a Python program to print the even numbers from a given list.\n",
    "```\n",
    "Sample List : [1, 2, 3, 4, 5, 6, 7, 8, 9]\n",
    "Expected Result : [2, 4, 6, 8]\n",
    "```"
   ]
  },
  {
   "cell_type": "code",
   "execution_count": 11,
   "metadata": {
    "id": "VvAReLoDG_Z3"
   },
   "outputs": [
    {
     "data": {
      "text/plain": [
       "[2, 4, 6, 8]"
      ]
     },
     "execution_count": 11,
     "metadata": {},
     "output_type": "execute_result"
    }
   ],
   "source": [
    "L = [1, 2, 3, 4, 5, 6, 7, 8, 9]\n",
    "\n",
    "list(filter(lambda x:x%2==0,L))"
   ]
  },
  {
   "cell_type": "code",
   "execution_count": 13,
   "metadata": {},
   "outputs": [
    {
     "data": {
      "text/plain": [
       "[2, 4, 6, 8]"
      ]
     },
     "execution_count": 13,
     "metadata": {},
     "output_type": "execute_result"
    }
   ],
   "source": [
    "# or\n",
    "\n",
    "def is_even(L):\n",
    "    for i in L:\n",
    "        if i%2!=0:\n",
    "            L.remove(i)\n",
    "    return L\n",
    "\n",
    "L = [1, 2, 3, 4, 5, 6, 7, 8, 9]\n",
    "\n",
    "is_even(L)   "
   ]
  },
  {
   "cell_type": "markdown",
   "metadata": {
    "id": "qrK39Gn-HHb4"
   },
   "source": [
    "### **`Problem 5:`** Write a Python function to check whether a number is perfect or not.\n",
    "\n",
    "A Perfect number is a number that is half the sum of all of its positive divisors (including itself).\n",
    "\n",
    "Example :\n",
    "\n",
    "```\n",
    "The first perfect number is 6, because 1, 2, and 3 are its proper positive divisors, and 1 + 2 + 3 = 6.\n",
    "Equivalently, the number 6 is equal to half the sum of all its positive divisors: ( 1 + 2 + 3 + 6 ) / 2 = 6.\n",
    "\n",
    "The next perfect number is 28 = 1 + 2 + 4 + 7 + 14. This is followed by the perfect numbers 496 and 8128.\n",
    "```\n"
   ]
  },
  {
   "cell_type": "code",
   "execution_count": 11,
   "metadata": {
    "id": "P-OI7H78HICs"
   },
   "outputs": [
    {
     "name": "stdin",
     "output_type": "stream",
     "text": [
      "Enter a number:  496\n"
     ]
    },
    {
     "name": "stdout",
     "output_type": "stream",
     "text": [
      "Yes\n"
     ]
    }
   ],
   "source": [
    "def is_perfect_no(x):\n",
    "    sum = 0\n",
    "    for i in range(1, (x//2)+1):\n",
    "        if x%i==0:\n",
    "            sum += i\n",
    "    if sum == x:\n",
    "        print('Yes')\n",
    "    else:\n",
    "        print('No')\n",
    "\n",
    "num = int(input('Enter a number: ', ))\n",
    "\n",
    "is_perfect_no(num)"
   ]
  },
  {
   "cell_type": "markdown",
   "metadata": {
    "id": "oZdpcG77HO-6"
   },
   "source": [
    "### **`Problem-6:`** Write a Python function to concatenate any no of dictionaries to create a new one.\n",
    "\n",
    "```\n",
    "Sample Dictionary :\n",
    "dic1={1:10, 2:20}\n",
    "dic2={3:30, 4:40}\n",
    "dic3={5:50,6:60}\n",
    "Expected Result : {1: 10, 2: 20, 3: 30, 4: 40, 5: 50, 6: 60}\n",
    "```"
   ]
  },
  {
   "cell_type": "code",
   "execution_count": null,
   "metadata": {},
   "outputs": [],
   "source": [
    "# The .update() method can be used for both sets and dictionaries in Python."
   ]
  },
  {
   "cell_type": "code",
   "execution_count": 9,
   "metadata": {},
   "outputs": [
    {
     "name": "stdout",
     "output_type": "stream",
     "text": [
      "{1: 10, 2: 20, 3: 30, 4: 80, 5: 50, 6: 60}\n"
     ]
    }
   ],
   "source": [
    "dic1 = {1:10, 2:20}\n",
    "dic2 = {3:30, 4:40}\n",
    "dic3 = {5:50, 6:60, 4:80}\n",
    "\n",
    "def add_dict(*hi):\n",
    "    d = {}\n",
    "\n",
    "    for i in hi:\n",
    "        d.update(i)\n",
    "\n",
    "    return d\n",
    "\n",
    "result = add_dict(dic1, dic2, dic3)\n",
    "\n",
    "print(result)"
   ]
  },
  {
   "cell_type": "markdown",
   "metadata": {
    "id": "jQ6SzbCkHRd0"
   },
   "source": [
    "`Problem-7` Write a python function that accepts a string as input and returns the word with most occurence.\n",
    "\n",
    "```\n",
    "Input:\n",
    "hello how are you i am fine thank you\n",
    "```\n",
    "\n",
    "```\n",
    "Output\n",
    "you -> 2\n",
    "```"
   ]
  },
  {
   "cell_type": "code",
   "execution_count": 34,
   "metadata": {},
   "outputs": [
    {
     "name": "stdout",
     "output_type": "stream",
     "text": [
      "you -> 3\n"
     ]
    }
   ],
   "source": [
    "Input = 'hello how are you i you i am fine thank you'\n",
    "\n",
    "def most_occur_word(Input):\n",
    "    d = {}\n",
    "    for i in Input.split():\n",
    "        if i in d:\n",
    "            d[i] = d[i] + 1\n",
    "        else:\n",
    "            d[i] = 1\n",
    "    return d  \n",
    "\n",
    "for i in most_occur_word(Input):\n",
    "    if (most_occur_word(Input))[i] == max(most_occur_word(Input).values()):\n",
    "        print(i, '->', (most_occur_word(Input))[i])"
   ]
  },
  {
   "cell_type": "markdown",
   "metadata": {
    "id": "1r8SpVntI-IW"
   },
   "source": [
    "`Problem-8` Write a python function that receives a list of integers and prints out a histogram of bin size 10\n",
    "\n",
    "```\n",
    "Input:\n",
    "[13,42,15,37,22,39,41,50]\n",
    "```\n",
    "\n",
    "```\n",
    "Output:\n",
    "{11-20:2,21-30:1,31-40:2,41-50:3}\n",
    "```"
   ]
  },
  {
   "cell_type": "code",
   "execution_count": 121,
   "metadata": {
    "id": "7W0J8rUjJovg"
   },
   "outputs": [
    {
     "name": "stdout",
     "output_type": "stream",
     "text": [
      "Lower range of hist:  10\n",
      "Upper range of hist:  50\n"
     ]
    },
    {
     "data": {
      "text/plain": [
       "{(11, 20): 2, (21, 30): 1, (31, 40): 2, (41, 50): 3}"
      ]
     },
     "execution_count": 121,
     "metadata": {},
     "output_type": "execute_result"
    }
   ],
   "source": [
    "Input = [13,42,15,37,22,39,41,50]\n",
    "\n",
    "def hist(Input):\n",
    "    Output = {}\n",
    "    \n",
    "    minimum = min(Input)\n",
    "    a = minimum%10\n",
    "    lower_range = minimum - a\n",
    "    # print(minimum)\n",
    "    print('Lower range of hist: ', lower_range)\n",
    "    \n",
    "    maximum = max(Input)\n",
    "    b = maximum%10\n",
    "    if maximum%10 != 0:\n",
    "        upper_range = maximum + (10-b)\n",
    "    else:\n",
    "        upper_range = maximum\n",
    "    # print(maximum)\n",
    "    print('Upper range of hist: ', upper_range)\n",
    "\n",
    "    for i in range(lower_range+1, upper_range, 10):\n",
    "        count = 0\n",
    "        for k in range(len(Input)):\n",
    "            if i <= Input[k] <= i+9:\n",
    "               count += 1\n",
    "        # print(count)\n",
    "        Output[i, i+9] = count\n",
    "        \n",
    "    return Output\n",
    "    \n",
    "hist(Input)"
   ]
  },
  {
   "cell_type": "markdown",
   "metadata": {
    "id": "1P2-rbgXKE53"
   },
   "source": [
    "`Problem-9` Write a python function that accepts a list of 2D co-ordinates and a query point, and then finds the the co-ordinate which is closest in terms of distance from the query point.\n",
    "\n",
    "```\n",
    "List of Coordinates\n",
    "[(1,1),(2,2),(3,3),(4,4)]\n",
    "Query Point\n",
    "(0,0)\n",
    "```\n",
    "\n",
    "```\n",
    "Output\n",
    "Nearest to (0,0) is (1,1)\n",
    "```"
   ]
  },
  {
   "cell_type": "code",
   "execution_count": 73,
   "metadata": {
    "id": "zjn7vSTIJ81G"
   },
   "outputs": [
    {
     "name": "stdout",
     "output_type": "stream",
     "text": [
      "[84.29116205154607, 84.72307831990054, 55.0, 63.0317380372777]\n",
      "(3, 30)\n"
     ]
    }
   ],
   "source": [
    "def least_distance(List_of_Coordinates, Query_Point):\n",
    "    list_of_distances = []\n",
    "    for i in List_of_Coordinates:\n",
    "        x = i[0]\n",
    "        y = i[1]\n",
    "        # print(x,y)\n",
    "        distance = ((x-Query_Point[0])**2+(y-Query_Point[1])**2)**0.5\n",
    "        # print(distance)\n",
    "        list_of_distances.append(distance)\n",
    "        \n",
    "    print(list_of_distances)\n",
    "    l = [(i,j) for i,j in zip(list_of_distances, List_of_Coordinates)]\n",
    "    l.sort()\n",
    "    # print(l)\n",
    "    print(l[0][1])\n",
    "\n",
    "List_of_Coordinates = [(10,1),(20,2),(3,30),(50,43)]\n",
    "Query_Point = (3,85)\n",
    "\n",
    "least_distance(List_of_Coordinates, Query_Point)"
   ]
  },
  {
   "cell_type": "markdown",
   "metadata": {
    "id": "i-B6igmyK9hB"
   },
   "source": [
    "`Problem-10`:Write a python program that receives a list of strings and performs bag of word operation on those strings\n",
    "\n",
    "https://en.wikipedia.org/wiki/Bag-of-words_model"
   ]
  },
  {
   "cell_type": "code",
   "execution_count": 62,
   "metadata": {},
   "outputs": [
    {
     "name": "stdout",
     "output_type": "stream",
     "text": [
      "Vocabulary:  ['and', 'big', 'data', 'fascinating', 'is', 'learning', 'machine', 'science']\n",
      "s1:  Data science is fascinating\n",
      "s2:  Big data and machine learning\n",
      "s3:  Science and data\n",
      "[0, 0, 1, 1, 1, 0, 0, 1]\n",
      "[1, 1, 1, 0, 0, 1, 1, 0]\n",
      "[1, 0, 1, 0, 0, 0, 0, 1]\n"
     ]
    }
   ],
   "source": [
    "s1 = \"Data science is fascinating\"\n",
    "s2 = \"Big data and machine learning\"\n",
    "s3 = \"Science and data\"\n",
    "\n",
    "def bow(*args):\n",
    "    l = []\n",
    "    for i in args:\n",
    "        for j in i.split():\n",
    "            if j.lower() not in l:\n",
    "                l.append(j.lower())\n",
    "    L = sorted(l)\n",
    "    print('Vocabulary: ', L)\n",
    "    print('s1: ', s1)\n",
    "    print('s2: ', s2)\n",
    "    print('s3: ', s3)\n",
    "\n",
    "    for i in args:\n",
    "        output = []\n",
    "        for j in L:\n",
    "            if j in str(i.split()).lower():\n",
    "                output.append(1)\n",
    "            else:\n",
    "                output.append(0)\n",
    "        print(output)\n",
    "\n",
    "bow(s1,s2,s3)"
   ]
  },
  {
   "cell_type": "markdown",
   "metadata": {
    "id": "dHTRKb-DqMLw"
   },
   "source": [
    "### `Problem 11:` \n",
    "Write a Python program to add three given lists using Python map and lambda."
   ]
  },
  {
   "cell_type": "code",
   "execution_count": 15,
   "metadata": {
    "id": "NfJdzyNZqNW-"
   },
   "outputs": [
    {
     "data": {
      "text/plain": [
       "[3, 6, 9, 12, 15]"
      ]
     },
     "execution_count": 15,
     "metadata": {},
     "output_type": "execute_result"
    }
   ],
   "source": [
    "l1 = [1,2,3,4,5]\n",
    "l2 = [1,2,3,4,5]\n",
    "l3 = [1,2,3,4,5]\n",
    "\n",
    "list(map(lambda x,y,z:x+y+z, l1,l2,l3))"
   ]
  },
  {
   "cell_type": "markdown",
   "metadata": {
    "id": "MgHP7mbUqO8l"
   },
   "source": [
    "### `Problem-12:` \n",
    "Write a Python program to create a list containing the power of said number in bases raised to the corresponding number in the index using Python map.\n",
    "\n",
    "`Input:`\n",
    "```\n",
    "list1 = [1,2,3,4,5,6]\n",
    "```\n",
    "`Output:`\n",
    "```\n",
    "[1,2,9,64,625,-]\n",
    "```\n"
   ]
  },
  {
   "cell_type": "code",
   "execution_count": 71,
   "metadata": {
    "id": "gG3Dc6N3qbvN"
   },
   "outputs": [
    {
     "data": {
      "text/plain": [
       "[1, 2, 9, 64, 625, 7776]"
      ]
     },
     "execution_count": 71,
     "metadata": {},
     "output_type": "execute_result"
    }
   ],
   "source": [
    "list1 = [1, 2, 3, 4, 5, 6]\n",
    "\n",
    "# output = [1^0, 2^1, 3^2, 4^3, 5^4, 6^5]\n",
    "# output = [1, 2, 9, 64, 625, 7776]\n",
    "\n",
    "list(map(lambda x,i:x**i, list1, range(len(L))))"
   ]
  },
  {
   "cell_type": "markdown",
   "metadata": {
    "id": "G26SYq6vqdLN"
   },
   "source": [
    "### `Problem-13` Using filter() and list() functions and .lower() method filter all the vowels in a given string.\n",
    "\n"
   ]
  },
  {
   "cell_type": "code",
   "execution_count": 22,
   "metadata": {
    "id": "zurga3DIqmEx"
   },
   "outputs": [
    {
     "data": {
      "text/plain": [
       "'Ieo'"
      ]
     },
     "execution_count": 22,
     "metadata": {},
     "output_type": "execute_result"
    }
   ],
   "source": [
    "s = 'HI hello'\n",
    "\n",
    "l = []\n",
    "\n",
    "\n",
    "for i in list(filter(lambda x:x.lower() in ['a','e','i','o','u'], s)):\n",
    "    if i not in l:\n",
    "        l.append(i)\n",
    "\n",
    "''.join(l)"
   ]
  },
  {
   "cell_type": "markdown",
   "metadata": {
    "id": "uQrsunZSqoYu"
   },
   "source": [
    "`Problem-14`: Use reduce to convert a 2D list to 1D"
   ]
  },
  {
   "cell_type": "code",
   "execution_count": 44,
   "metadata": {},
   "outputs": [
    {
     "data": {
      "text/plain": [
       "\u001b[1;31mDocstring:\u001b[0m\n",
       "reduce(function, iterable[, initial]) -> value\n",
       "\n",
       "Apply a function of two arguments cumulatively to the items of a sequence\n",
       "or iterable, from left to right, so as to reduce the iterable to a single\n",
       "value.  For example, reduce(lambda x, y: x+y, [1, 2, 3, 4, 5]) calculates\n",
       "((((1+2)+3)+4)+5).  If initial is present, it is placed before the items\n",
       "of the iterable in the calculation, and serves as a default when the\n",
       "iterable is empty.\n",
       "\u001b[1;31mType:\u001b[0m      builtin_function_or_method"
      ]
     },
     "metadata": {},
     "output_type": "display_data"
    }
   ],
   "source": [
    "functools.reduce?"
   ]
  },
  {
   "cell_type": "code",
   "execution_count": 75,
   "metadata": {},
   "outputs": [
    {
     "data": {
      "text/plain": [
       "[1, 2, 3, 4, 5, 6, 7, 8, 9]"
      ]
     },
     "execution_count": 75,
     "metadata": {},
     "output_type": "execute_result"
    }
   ],
   "source": [
    "import functools\n",
    "\n",
    "l2d = [[1,2,3],[4,5,6],[7,8,9]]\n",
    "\n",
    "functools.reduce(lambda x,y:x+y, l2d)\n",
    "\n",
    "# [[1,2,3]+[4,5,6],[7,8,9]]\n",
    "# [[1,2,3,4,5,6],[7,8,9]]\n",
    "# [[1,2,3,4,5,6]+[7,8,9]]\n",
    "# [1,2,3,4,5,6,7,8,9]"
   ]
  },
  {
   "cell_type": "markdown",
   "metadata": {
    "id": "8-DLQEawt-_t"
   },
   "source": [
    "`Problem 15`- A dictionary contains following information about 5 employees:\n",
    "- First name\n",
    "- Last name\n",
    "- Age\n",
    "- Grade(Skilled,Semi-skilled,Highly skilled)<br>\n",
    "Write a program using map/filter/reduce to a list of employees(first name + last name) who are highly skilled"
   ]
  },
  {
   "cell_type": "code",
   "execution_count": 76,
   "metadata": {
    "id": "OLvptttLs6OU"
   },
   "outputs": [],
   "source": [
    "# Write code here\n",
    "employees = [\n",
    "    {\n",
    "        'fname':'Nitish',\n",
    "        'lname':'Singh',\n",
    "        'age' : 33,\n",
    "        'grade':'skilled'\n",
    "    },\n",
    "    {\n",
    "        'fname':'Ankit',\n",
    "        'lname':'Verma',\n",
    "        'age' : 34,\n",
    "        'grade':'semi-skilled'\n",
    "    },\n",
    "    {\n",
    "        'fname':'Neha',\n",
    "        'lname':'Singh',\n",
    "        'age' : 35,\n",
    "        'grade':'highly-skilled'\n",
    "    },\n",
    "    {\n",
    "        'fname':'Anurag',\n",
    "        'lname':'Kumar',\n",
    "        'age' : 30,\n",
    "        'grade':'skilled'\n",
    "    },\n",
    "    {\n",
    "        'fname':'Abhinav',\n",
    "        'lname':'Sharma',\n",
    "        'age' : 37,\n",
    "        'grade':'highly-skilled'\n",
    "    }\n",
    "]"
   ]
  },
  {
   "cell_type": "code",
   "execution_count": 96,
   "metadata": {},
   "outputs": [
    {
     "name": "stdout",
     "output_type": "stream",
     "text": [
      "[{'fname': 'Neha', 'lname': 'Singh', 'age': 35, 'grade': 'highly-skilled'}, {'fname': 'Abhinav', 'lname': 'Sharma', 'age': 37, 'grade': 'highly-skilled'}]\n"
     ]
    }
   ],
   "source": [
    "highly_skilled_employees_list = list(filter(lambda x:x['grade']=='highly-skilled', employees))\n",
    "\n",
    "print(highly_skilled_employees_list)"
   ]
  },
  {
   "cell_type": "code",
   "execution_count": 97,
   "metadata": {},
   "outputs": [
    {
     "data": {
      "text/plain": [
       "['Neha Singh', 'Abhinav Sharma']"
      ]
     },
     "execution_count": 97,
     "metadata": {},
     "output_type": "execute_result"
    }
   ],
   "source": [
    "list(map(lambda x:x['fname']+' '+x['lname'], highly_skilled_employees_list))"
   ]
  },
  {
   "cell_type": "code",
   "execution_count": null,
   "metadata": {},
   "outputs": [],
   "source": []
  }
 ],
 "metadata": {
  "colab": {
   "provenance": []
  },
  "kernelspec": {
   "display_name": "Python 3 (ipykernel)",
   "language": "python",
   "name": "python3"
  },
  "language_info": {
   "codemirror_mode": {
    "name": "ipython",
    "version": 3
   },
   "file_extension": ".py",
   "mimetype": "text/x-python",
   "name": "python",
   "nbconvert_exporter": "python",
   "pygments_lexer": "ipython3",
   "version": "3.12.1"
  }
 },
 "nbformat": 4,
 "nbformat_minor": 4
}
