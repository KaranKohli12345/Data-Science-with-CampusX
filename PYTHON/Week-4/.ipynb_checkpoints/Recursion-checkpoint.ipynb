{
 "cells": [
  {
   "cell_type": "markdown",
   "id": "7c10eb52-d78d-4c4b-8620-e4ef776e5ee8",
   "metadata": {},
   "source": [
    "## Recursion"
   ]
  },
  {
   "cell_type": "markdown",
   "id": "72741fa8-37d6-4def-9a52-dd5c73beaeea",
   "metadata": {},
   "source": [
    "```\n",
    "- a function calls itself\n",
    "- advantage: problem can be solved without using loop\n",
    "- but in companies loop is preferred"
   ]
  },
  {
   "cell_type": "code",
   "execution_count": null,
   "id": "76b94695-f9cf-4a2a-802d-e37652c77cae",
   "metadata": {},
   "outputs": [],
   "source": []
  }
 ],
 "metadata": {
  "kernelspec": {
   "display_name": "Python 3 (ipykernel)",
   "language": "python",
   "name": "python3"
  },
  "language_info": {
   "codemirror_mode": {
    "name": "ipython",
    "version": 3
   },
   "file_extension": ".py",
   "mimetype": "text/x-python",
   "name": "python",
   "nbconvert_exporter": "python",
   "pygments_lexer": "ipython3",
   "version": "3.12.1"
  }
 },
 "nbformat": 4,
 "nbformat_minor": 5
}
