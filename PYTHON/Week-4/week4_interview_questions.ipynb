{
 "cells": [
  {
   "cell_type": "code",
   "execution_count": null,
   "metadata": {
    "id": "HCn2UsMwMgrJ"
   },
   "outputs": [],
   "source": [
    "# 1. What do you mean by __name__ == '__main__'"
   ]
  },
  {
   "cell_type": "markdown",
   "metadata": {
    "id": "XymVT19OMyRK"
   },
   "source": [
    "### What is a module?\n",
    "\n",
    "Any file with an extention of .py is called a module in python.\n",
    "\n",
    "Whenever we execute a program it's module name is `__main__` and this name is stored in `__name__` variable"
   ]
  },
  {
   "cell_type": "code",
   "execution_count": 1,
   "metadata": {
    "colab": {
     "base_uri": "https://localhost:8080/"
    },
    "id": "Arh7jMSuNLAd",
    "outputId": "94344bd4-58db-4879-a4c3-0736e3fac287"
   },
   "outputs": [
    {
     "name": "stdout",
     "output_type": "stream",
     "text": [
      "hello\n",
      "__main__\n"
     ]
    }
   ],
   "source": [
    "def display():\n",
    "  print('hello')\n",
    "\n",
    "display()\n",
    "print(__name__)"
   ]
  },
  {
   "cell_type": "markdown",
   "metadata": {
    "id": "s7XQDHr2OVb1"
   },
   "source": [
    "### Importing a module"
   ]
  },
  {
   "cell_type": "markdown",
   "metadata": {},
   "source": [
    "```\n",
    "- But what is the need to import a module?\n",
    "    - Code modularity - easy amnagement of large and complex code - code alag alag file me                          rahega toh use manage karna aasan rahega.\n",
    "    - Code reusability\n",
    "```"
   ]
  },
  {
   "cell_type": "markdown",
   "metadata": {},
   "source": [
    "- How to import a module"
   ]
  },
  {
   "cell_type": "code",
   "execution_count": 1,
   "metadata": {
    "colab": {
     "base_uri": "https://localhost:8080/"
    },
    "id": "3ZIP03upNbvX",
    "outputId": "7bdce38f-2ce7-4ef5-c5b3-0a53207c4146"
   },
   "outputs": [
    {
     "name": "stdout",
     "output_type": "stream",
     "text": [
      "Hello Karan\n"
     ]
    }
   ],
   "source": [
    "# import a module\n",
    "\n",
    "import test\n",
    "\n",
    "test.hello('Karan')"
   ]
  },
  {
   "cell_type": "code",
   "execution_count": 4,
   "metadata": {
    "colab": {
     "base_uri": "https://localhost:8080/"
    },
    "id": "t1AlPWXzOz2U",
    "outputId": "1d5113f8-b746-49b9-b171-d43c76630ae1"
   },
   "outputs": [
    {
     "name": "stdout",
     "output_type": "stream",
     "text": [
      "Hello Karan\n",
      "4\n"
     ]
    }
   ],
   "source": [
    "# import multiple module -> user defined + built-in\n",
    "\n",
    "import math\n",
    "import test\n",
    "\n",
    "test.hello('Karan')\n",
    "print(math.floor(4.5))"
   ]
  },
  {
   "cell_type": "code",
   "execution_count": null,
   "metadata": {
    "id": "jjIQisWRR32M"
   },
   "outputs": [],
   "source": [
    "# show builtin modules"
   ]
  },
  {
   "cell_type": "markdown",
   "metadata": {
    "id": "zZqAvC2OR-ls"
   },
   "source": [
    "### Variations of import statement"
   ]
  },
  {
   "cell_type": "code",
   "execution_count": 5,
   "metadata": {
    "id": "w39pRArFR51i"
   },
   "outputs": [],
   "source": [
    "# Normal\n",
    "\n",
    "import math\n",
    "import random"
   ]
  },
  {
   "cell_type": "code",
   "execution_count": 6,
   "metadata": {
    "id": "B8nroR_dSE_K"
   },
   "outputs": [],
   "source": [
    "# clubbing together\n",
    "\n",
    "import math, random, test"
   ]
  },
  {
   "cell_type": "code",
   "execution_count": 9,
   "metadata": {
    "colab": {
     "base_uri": "https://localhost:8080/",
     "height": 223
    },
    "id": "lsTNKjyMSLAB",
    "outputId": "26a76ae5-789a-4144-9bc3-842907300080"
   },
   "outputs": [
    {
     "name": "stdout",
     "output_type": "stream",
     "text": [
      "120\n",
      "Hello Karan\n"
     ]
    },
    {
     "ename": "NameError",
     "evalue": "name 'ceil' is not defined",
     "output_type": "error",
     "traceback": [
      "\u001b[1;31m---------------------------------------------------------------------------\u001b[0m",
      "\u001b[1;31mNameError\u001b[0m                                 Traceback (most recent call last)",
      "Cell \u001b[1;32mIn[9], line 8\u001b[0m\n\u001b[0;32m      6\u001b[0m \u001b[38;5;28mprint\u001b[39m(factorial(\u001b[38;5;241m5\u001b[39m))\n\u001b[0;32m      7\u001b[0m hello(\u001b[38;5;124m'\u001b[39m\u001b[38;5;124mKaran\u001b[39m\u001b[38;5;124m'\u001b[39m)\n\u001b[1;32m----> 8\u001b[0m \u001b[43mceil\u001b[49m(\u001b[38;5;241m4.8\u001b[39m)\n",
      "\u001b[1;31mNameError\u001b[0m: name 'ceil' is not defined"
     ]
    }
   ],
   "source": [
    "# importing specific names from module\n",
    "\n",
    "from math import factorial, floor\n",
    "from test import hello\n",
    "\n",
    "print(factorial(5))\n",
    "hello('Karan')\n",
    "ceil(4.8)"
   ]
  },
  {
   "cell_type": "code",
   "execution_count": null,
   "metadata": {
    "colab": {
     "base_uri": "https://localhost:8080/"
    },
    "id": "6NVJQwHQSX4P",
    "outputId": "ac136cf9-4e0b-4039-fc8c-ad4563fd045b"
   },
   "outputs": [
    {
     "data": {
      "text/plain": [
       "120"
      ]
     },
     "execution_count": 7,
     "metadata": {},
     "output_type": "execute_result"
    }
   ],
   "source": [
    "# renaming modules\n",
    "\n",
    "import math as m\n",
    "import numpy as np\n",
    "import pandas as pd\n",
    "import matplotlib.pyplot as plt\n",
    "\n",
    "m.factorial(5)"
   ]
  },
  {
   "cell_type": "code",
   "execution_count": 13,
   "metadata": {
    "colab": {
     "base_uri": "https://localhost:8080/"
    },
    "id": "BFPwon_SSbz_",
    "outputId": "8f5f9b9a-fdaa-428e-a84a-fbc0782b2a30"
   },
   "outputs": [
    {
     "data": {
      "text/plain": [
       "120"
      ]
     },
     "execution_count": 13,
     "metadata": {},
     "output_type": "execute_result"
    }
   ],
   "source": [
    "# renaming modules' functions\n",
    "\n",
    "from math import factorial as f\n",
    "\n",
    "f(5)"
   ]
  },
  {
   "cell_type": "markdown",
   "metadata": {
    "id": "Wtoy82ePS8Yh"
   },
   "source": [
    "### Order of execution of a module"
   ]
  },
  {
   "cell_type": "code",
   "execution_count": 12,
   "metadata": {
    "colab": {
     "base_uri": "https://localhost:8080/"
    },
    "id": "YEG0zgRCStde",
    "outputId": "d559a13a-2f79-403d-ea5e-17709a51dc0f"
   },
   "outputs": [
    {
     "name": "stdout",
     "output_type": "stream",
     "text": [
      "E:\\DATA SCIENCE Folder\\DATA SCIENCE CAMPUSX\\PYTHON\\Week-4\n",
      "C:\\Users\\DELL\\AppData\\Local\\Programs\\Python\\Python312\\python312.zip\n",
      "C:\\Users\\DELL\\AppData\\Local\\Programs\\Python\\Python312\\DLLs\n",
      "C:\\Users\\DELL\\AppData\\Local\\Programs\\Python\\Python312\\Lib\n",
      "C:\\Users\\DELL\\AppData\\Local\\Programs\\Python\\Python312\n",
      "\n",
      "C:\\Users\\DELL\\AppData\\Roaming\\Python\\Python312\\site-packages\n",
      "C:\\Users\\DELL\\AppData\\Local\\Programs\\Python\\Python312\\Lib\\site-packages\n",
      "C:\\Users\\DELL\\AppData\\Local\\Programs\\Python\\Python312\\Lib\\site-packages\\win32\n",
      "C:\\Users\\DELL\\AppData\\Local\\Programs\\Python\\Python312\\Lib\\site-packages\\win32\\lib\n",
      "C:\\Users\\DELL\\AppData\\Local\\Programs\\Python\\Python312\\Lib\\site-packages\\Pythonwin\n"
     ]
    }
   ],
   "source": [
    "import sys\n",
    "\n",
    "for p in sys.path:\n",
    "  print(p)"
   ]
  },
  {
   "cell_type": "markdown",
   "metadata": {
    "id": "QBj3yM3ySWGE"
   },
   "source": [
    "### if `__name__` == `__main__`"
   ]
  },
  {
   "cell_type": "code",
   "execution_count": null,
   "metadata": {},
   "outputs": [],
   "source": [
    "# done"
   ]
  },
  {
   "cell_type": "markdown",
   "metadata": {
    "id": "S81yyQIpVFZI"
   },
   "source": [
    "### What are packages in Python\n",
    "\n",
    "A package in python is a directory containing similar sub packages and modules.\n",
    "\n",
    "- A particular directory is treated as package if it has `__init__.py` file in it.\n",
    "- The `__init__.py` file may be empty or contain some initialization code related to the package"
   ]
  },
  {
   "cell_type": "code",
   "execution_count": null,
   "metadata": {
    "id": "0TPGU8kHVgV-"
   },
   "outputs": [],
   "source": []
  },
  {
   "cell_type": "markdown",
   "metadata": {
    "id": "8zaWkj4wV2mK"
   },
   "source": [
    "### What are 3rd party packages?\n",
    "\n",
    "- The python community creates packages and make it available for other programmers\n",
    "- PyPI -> Python Package Index\n",
    "- You can upload your own package\n",
    "- You can also install packages from PyPI and install using pip\n",
    "- pip is a package manager utility\n",
    "- it is automatically installed with python\n",
    "\n"
   ]
  },
  {
   "cell_type": "code",
   "execution_count": null,
   "metadata": {
    "id": "b-Cm7BNVV42v"
   },
   "outputs": [],
   "source": []
  }
 ],
 "metadata": {
  "colab": {
   "provenance": []
  },
  "kernelspec": {
   "display_name": "Python 3 (ipykernel)",
   "language": "python",
   "name": "python3"
  },
  "language_info": {
   "codemirror_mode": {
    "name": "ipython",
    "version": 3
   },
   "file_extension": ".py",
   "mimetype": "text/x-python",
   "name": "python",
   "nbconvert_exporter": "python",
   "pygments_lexer": "ipython3",
   "version": "3.12.1"
  }
 },
 "nbformat": 4,
 "nbformat_minor": 4
}
