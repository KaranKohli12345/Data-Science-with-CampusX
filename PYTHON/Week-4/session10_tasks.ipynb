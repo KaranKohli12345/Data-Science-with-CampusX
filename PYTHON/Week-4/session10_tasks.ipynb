{
 "cells": [
  {
   "cell_type": "markdown",
   "metadata": {
    "id": "MbeMdx5d5qRj"
   },
   "source": [
    "#### `Q-1:` Write a function `get_final_line(filename)`, which takes filename as input and return final line of the file.\n",
    "\n",
    "Note: You can choose any file of your choice."
   ]
  },
  {
   "cell_type": "code",
   "execution_count": 1,
   "metadata": {},
   "outputs": [],
   "source": [
    "L = ['Hi\\n', 'Hello\\n', 'How are you?\\n', 'Im fine\\n', 'Thank You']\n",
    "\n",
    "filename = 'ques1.txt'\n",
    "\n",
    "with open(filename, 'w') as f:\n",
    "    f.writelines(L)"
   ]
  },
  {
   "cell_type": "code",
   "execution_count": 76,
   "metadata": {},
   "outputs": [
    {
     "name": "stdout",
     "output_type": "stream",
     "text": [
      "Thank You\n"
     ]
    }
   ],
   "source": [
    "with open(filename, 'r') as f:\n",
    "    line = f.readlines()\n",
    "    print(line[-1])"
   ]
  },
  {
   "cell_type": "code",
   "execution_count": null,
   "metadata": {},
   "outputs": [],
   "source": [
    "# isme puri file memory me aa jayegi ek sath jo ki badi file ke liye problematic hai.\n",
    "# kyunki agar hamari file 10 gb ki hai aur ram 8 gb toh problem hogi. "
   ]
  },
  {
   "cell_type": "code",
   "execution_count": 78,
   "metadata": {},
   "outputs": [
    {
     "name": "stdout",
     "output_type": "stream",
     "text": [
      "Thank You\n"
     ]
    }
   ],
   "source": [
    "# or\n",
    "\n",
    "def get_final_line(filename):\n",
    "    final_line = ''\n",
    "    for current_line in open(filename, 'r'): # open('ques.txt', 'r') works as an iterator when used with loops, which provides a line each time in iteration.\n",
    "        final_line = current_line\n",
    "    return final_line\n",
    "\n",
    "print(get_final_line('ques1.txt'))"
   ]
  },
  {
   "cell_type": "code",
   "execution_count": 80,
   "metadata": {},
   "outputs": [
    {
     "name": "stdout",
     "output_type": "stream",
     "text": [
      "3\n"
     ]
    }
   ],
   "source": [
    "# it is same as above\n",
    "\n",
    "def hi():\n",
    "    for i in [1,2,3]:\n",
    "        a = i\n",
    "    return a\n",
    "\n",
    "print(hi())"
   ]
  },
  {
   "cell_type": "markdown",
   "metadata": {
    "id": "B87Z6-yQ5wVO"
   },
   "source": [
    "#### `Q-2:` Read through a text file, line by line. Use a dict to keep track of how many times each vowel (a, e, i, o, and u) appears in the file. Print the resulting tabulation -- dictionary."
   ]
  },
  {
   "cell_type": "code",
   "execution_count": 85,
   "metadata": {},
   "outputs": [],
   "source": [
    "with open('ques2.txt', 'w') as f:\n",
    "    f.write('''Artificial Intelligence (AI) \n",
    "has revolutionized various industries by \n",
    "enabling machines to perform tasks that \n",
    "traditionally required human intelligence.\n",
    "    ''')"
   ]
  },
  {
   "cell_type": "code",
   "execution_count": 89,
   "metadata": {},
   "outputs": [
    {
     "name": "stdout",
     "output_type": "stream",
     "text": [
      "{'a': 12, 'e': 14, 'i': 18, 'o': 6, 'u': 5}\n"
     ]
    }
   ],
   "source": [
    "def vowel_count(filename):\n",
    "    vowels = 'aeiou'\n",
    "    vowel_count = {i:0 for i in vowels}\n",
    "    for line in open(filename, 'r'):\n",
    "        for character in line:\n",
    "            if character.lower() in vowels:\n",
    "                vowel_count[character.lower()] += 1\n",
    "    return vowel_count\n",
    "\n",
    "print(vowel_count('ques2.txt'))"
   ]
  },
  {
   "cell_type": "code",
   "execution_count": 90,
   "metadata": {
    "id": "XeXnOL7X50Sa"
   },
   "outputs": [
    {
     "name": "stdout",
     "output_type": "stream",
     "text": [
      "{'a': 12, 'i': 18, 'e': 14, 'o': 6, 'u': 5}\n"
     ]
    }
   ],
   "source": [
    "# or\n",
    "\n",
    "with open('ques2.txt', 'r') as f:\n",
    "    d = {}\n",
    "    line = f.readline()\n",
    "    while line != '':\n",
    "        for i in line:\n",
    "            if i.lower() not in d:\n",
    "                d[i.lower()] = 1\n",
    "            else:\n",
    "                d[i.lower()] += 1\n",
    "        line = f.readline()\n",
    "\n",
    "# print(d)\n",
    "\n",
    "d1 = {}\n",
    "\n",
    "for i in d:\n",
    "    if i in ['a', 'e', 'i', 'o', 'u']:\n",
    "        d1[i] = d[i]\n",
    "\n",
    "print(d1)"
   ]
  },
  {
   "cell_type": "markdown",
   "metadata": {
    "id": "lRqQ2Y295-Gg"
   },
   "source": [
    "#### `Q-3:` Create a text file (using an editor, not necessarily Python) containing two tab separated columns, with each column containing a number. Then use Python to read through the file you’ve created. For each line, multiply each first number by the second and include it in the file in third column. In last add a line Total, by summing the value of third column\n",
    "\n"
   ]
  },
  {
   "cell_type": "markdown",
   "metadata": {
    "id": "GtFfahZc6Bvg"
   },
   "source": [
    "Input File example: That you need to create\n",
    "```\n",
    "1   2\n",
    "3   4\n",
    "5   6\n",
    "7   8\n",
    "9   10\n",
    "\n",
    "```\n",
    "\n",
    "Output File Example:\n",
    "```\n",
    "1   2   2\n",
    "3   4   12\n",
    "5   6   30\n",
    "7   8   56\n",
    "9   10  90\n",
    "Total   190\n",
    "```\n"
   ]
  },
  {
   "cell_type": "markdown",
   "metadata": {},
   "source": [
    "### readline( ) vs readlines( )"
   ]
  },
  {
   "cell_type": "markdown",
   "metadata": {},
   "source": [
    "**readline( )**\n",
    "```\n",
    "- Purpose: Reads one line from the file at a time.\n",
    "- Usage: Useful when you want to process the file line by line, especially for large files where reading the entire file at once would be inefficient.\n",
    "- Returns: A single line from the file as a string, including the newline character at the end (unless it’s the last line which may not end with a newline).\n",
    "```"
   ]
  },
  {
   "cell_type": "markdown",
   "metadata": {},
   "source": [
    "**readlines( )**\n",
    "```\n",
    "- Purpose: Reads all the lines from the file and returns them as a list of strings.\n",
    "- Usage: Useful when you want to read the entire file at once and process the lines in memory.\n",
    "- Returns: A list of strings, where each string is a line from the file, including the newline characters at the end of each line.\n",
    "```"
   ]
  },
  {
   "cell_type": "markdown",
   "metadata": {},
   "source": [
    "```\n",
    "Choose readline() when dealing with large files or when you want to process each line individually as you read it. Choose readlines() when the file size is small enough to fit into memory and you need to work with all the lines at once.\n",
    "```"
   ]
  },
  {
   "cell_type": "code",
   "execution_count": 155,
   "metadata": {
    "id": "GiKvqHnr5-j2"
   },
   "outputs": [],
   "source": [
    "with open('ques3InputFile.txt', 'w') as f:\n",
    "    for i in range(1,11,2):\n",
    "        f.write('{}\\t{}\\n'.format(i,i+1))"
   ]
  },
  {
   "cell_type": "code",
   "execution_count": 156,
   "metadata": {},
   "outputs": [
    {
     "name": "stdout",
     "output_type": "stream",
     "text": [
      "['1\\t2', '3\\t4', '5\\t6', '7\\t8', '9\\t10']\n"
     ]
    }
   ],
   "source": [
    "with open('ques3InputFile.txt', 'r') as f:\n",
    "    lists = f.read().splitlines()\n",
    "\n",
    "print(lists)"
   ]
  },
  {
   "cell_type": "code",
   "execution_count": 157,
   "metadata": {},
   "outputs": [],
   "source": [
    "with open('ques3InputFile.txt', 'w') as file:\n",
    "    sum_ = 0\n",
    "    for line in lists:\n",
    "        numbers = line.strip().split('\\t')\n",
    "        num1 = numbers[0]\n",
    "        num2 = numbers[1]\n",
    "        product = int(num1) * int(num2)\n",
    "        sum_ += product\n",
    "\n",
    "        file.write('{}\\t{}\\t{}\\n'.format(num1, num2, product))\n",
    "    file.write('Total\\t{}'.format(sum_))"
   ]
  },
  {
   "cell_type": "markdown",
   "metadata": {},
   "source": [
    "# -------------------------------------------------"
   ]
  },
  {
   "cell_type": "markdown",
   "metadata": {},
   "source": [
    "```\n",
    "A file object in Python is iterable, and you can iterate over it line by line, just like you would with a list. Each iteration yields one line from the file, including the newline character at the end of each line (unless you strip it off).\n",
    "In this example, file is the file object. When you iterate over file, each line is a string representing one line from the file.\n",
    "```"
   ]
  },
  {
   "cell_type": "code",
   "execution_count": 120,
   "metadata": {},
   "outputs": [
    {
     "name": "stdout",
     "output_type": "stream",
     "text": [
      "line 1\n",
      "line 2\n",
      "line 3\n"
     ]
    }
   ],
   "source": [
    "with open('test.txt', 'r') as file:\n",
    "    for line in file:\n",
    "        print(line.strip())"
   ]
  },
  {
   "cell_type": "markdown",
   "metadata": {},
   "source": [
    "# -------------------------------------------------"
   ]
  },
  {
   "cell_type": "markdown",
   "metadata": {},
   "source": [
    "### Strip( )"
   ]
  },
  {
   "cell_type": "markdown",
   "metadata": {},
   "source": [
    "```\n",
    "- strip() is a string method in Python. \n",
    "- It is used to remove leading and trailing whitespace (spaces, tabs, and newline\n",
    "characters) from a string.\n",
    "- lstrip(): Removes leading whitespace or specified characters.\n",
    "- rstrip(): Removes trailing whitespace or specified characters.\n",
    "```"
   ]
  },
  {
   "cell_type": "code",
   "execution_count": 118,
   "metadata": {},
   "outputs": [
    {
     "name": "stdout",
     "output_type": "stream",
     "text": [
      "Hello, World!\n"
     ]
    }
   ],
   "source": [
    "# Removing Whitespace\n",
    "text = \"   Hello, World! \\t  \\n\"\n",
    "stripped_text = text.strip()\n",
    "print(stripped_text)"
   ]
  },
  {
   "cell_type": "code",
   "execution_count": 115,
   "metadata": {},
   "outputs": [
    {
     "name": "stdout",
     "output_type": "stream",
     "text": [
      "Hello, World!\n"
     ]
    }
   ],
   "source": [
    "# Removing Specific Characters\n",
    "text = \"###Hello, World!###\"\n",
    "stripped_text = text.strip('#')\n",
    "print(stripped_text)"
   ]
  },
  {
   "cell_type": "code",
   "execution_count": 116,
   "metadata": {},
   "outputs": [
    {
     "name": "stdout",
     "output_type": "stream",
     "text": [
      "Hello, World!   \n",
      "   Hello, World!\n"
     ]
    }
   ],
   "source": [
    "text = \"   Hello, World!   \"\n",
    "\n",
    "# Removing leading whitespace\n",
    "left_stripped_text = text.lstrip()\n",
    "print(left_stripped_text) \n",
    "\n",
    "# Removing trailing whitespace\n",
    "right_stripped_text = text.rstrip()\n",
    "print(right_stripped_text)"
   ]
  },
  {
   "cell_type": "markdown",
   "metadata": {},
   "source": [
    "# -------------------------------------------------"
   ]
  },
  {
   "cell_type": "markdown",
   "metadata": {},
   "source": [
    "### splitlines( ) Method"
   ]
  },
  {
   "cell_type": "markdown",
   "metadata": {},
   "source": [
    "```\n",
    "- The splitlines() method is a string method in Python that splits a string into a list at line breaks.\n",
    "```"
   ]
  },
  {
   "cell_type": "code",
   "execution_count": 158,
   "metadata": {},
   "outputs": [
    {
     "data": {
      "text/plain": [
       "['Hello', 'How are you', 'Bye']"
      ]
     },
     "execution_count": 158,
     "metadata": {},
     "output_type": "execute_result"
    }
   ],
   "source": [
    "s = 'Hello\\nHow are you\\nBye'\n",
    "\n",
    "s.splitlines()"
   ]
  },
  {
   "cell_type": "markdown",
   "metadata": {},
   "source": [
    "# -------------------------------------------------"
   ]
  },
  {
   "cell_type": "markdown",
   "metadata": {
    "id": "DunQepHC6J9r"
   },
   "source": [
    "#### `Q-4:` Create line wise reverse of a file\n",
    "Write a function which takes two arguments: the names of the input file (to be read from) and the output file (which will be created)."
   ]
  },
  {
   "cell_type": "markdown",
   "metadata": {
    "id": "QxWEtFle6Nmu"
   },
   "source": [
    "For example, if a file looks like\n",
    " ```\n",
    "abc def\n",
    "ghi jkl\n",
    "```\n",
    "then the output file will be\n",
    "```\n",
    "fed cba\n",
    "lkj ihg\n",
    "```\n",
    "**Notice**: The newline remains at the end of the string, while the rest of the characters are all reversed."
   ]
  },
  {
   "cell_type": "code",
   "execution_count": 169,
   "metadata": {
    "id": "aIJTJNAq6LD7"
   },
   "outputs": [],
   "source": [
    "s = '''The sun dipped below the horizon,      \n",
    "casting a golden hue across the tranquil sea. \n",
    "Waves gently lapped against the shore,  ?   \n",
    "their rhythmic sound a soothing melody to those who listened. \n",
    "'''\n",
    "\n",
    "with open('ques4InputFile.txt', 'w') as f:\n",
    "    f.write(s)\n",
    "\n",
    "with open('ques4InputFile.txt', 'r') as infile, open('ques4OutputFile.txt', 'w') as outfile:\n",
    "    for line in infile:\n",
    "        outfile.write(line.strip()[::-1] + '\\n')     "
   ]
  },
  {
   "cell_type": "markdown",
   "metadata": {
    "id": "wqvx3sMY6bou"
   },
   "source": [
    "#### `Q-5:` Create a Serialized dict of frequency of words in the file. And from given list of words, using serialized dict show word count.\n",
    "\n",
    "* List of word will be given"
   ]
  },
  {
   "cell_type": "markdown",
   "metadata": {
    "id": "uc5MSUWg6cZG"
   },
   "source": [
    "Given String\n",
    "\n",
    "```\n",
    "strings = \"\"\"Alice was beginning to get very tired of sitting by her sister\n",
    "            on the bank, and of having nothing to do:  once or twice she had\n",
    "            peeped into the book her sister was reading, but it had no\n",
    "            pictures or conversations in it, `and what is the use of a book,'\n",
    "            thought Alice `without pictures or conversation?'\n",
    "\n",
    "            So she was considering in her own mind (as well as she could,\n",
    "            for the hot day made her feel very sleepy and stupid), whether\n",
    "            the pleasure of making a daisy-chain would be worth the trouble\n",
    "            of getting up and picking the daisies, when suddenly a White\n",
    "            Rabbit with pink eyes ran close by her.\n",
    "\n",
    "            There was nothing so VERY remarkable in that; nor did Alice\n",
    "            think it so VERY much out of the way to hear the Rabbit say to\n",
    "            itself, `Oh dear!  Oh dear!  I shall be late!'  (when she thought\n",
    "            it over afterwards, it occurred to her that she ought to have\n",
    "            wondered at this, but at the time it all seemed quite natural);\n",
    "            but when the Rabbit actually TOOK A WATCH OUT OF ITS WAISTCOAT-\n",
    "            POCKET, and looked at it, and then hurried on, Alice started to\n",
    "            her feet, for it flashed across her mind that she had never\n",
    "            before seen a rabbit with either a waistcoat-pocket, or a watch to\n",
    "            take out of it, and burning with curiosity, she ran across the\n",
    "            field after it, and fortunately was just in time to see it pop\n",
    "            down a large rabbit-hole under the hedge.\"\"\"\n",
    "\n",
    "word_list = ['alice', 'wonder', 'natural']\n",
    "```"
   ]
  },
  {
   "cell_type": "code",
   "execution_count": 53,
   "metadata": {
    "id": "-SmtFFUq6a70"
   },
   "outputs": [
    {
     "name": "stdout",
     "output_type": "stream",
     "text": [
      "{'alice': 4, 'was': 5, 'beginning': 1, 'to': 9, 'get': 1, 'very': 4, 'tired': 1, 'of': 8, 'sitting': 1, 'by': 2, 'her': 8, 'sister': 2, 'on': 2, 'the': 13, 'bank': 1, 'and': 8, 'having': 1, 'nothing': 2, 'do': 1, 'once': 1, 'or': 4, 'twice': 1, 'she': 7, 'had': 3, 'peeped': 1, 'into': 1, 'book': 2, 'reading': 1, 'but': 3, 'it': 11, 'no': 1, 'pictures': 2, 'conversations': 1, 'in': 4, 'what': 1, 'is': 1, 'use': 1, 'a': 8, 'thought': 2, 'without': 1, 'conversation': 1, 'so': 3, 'considering': 1, 'own': 1, 'mind': 2, 'as': 2, 'well': 1, 'could': 1, 'for': 2, 'hot': 1, 'day': 1, 'made': 1, 'feel': 1, 'sleepy': 1, 'stupid': 1, 'whether': 1, 'pleasure': 1, 'making': 1, 'daisychain': 1, 'would': 1, 'be': 2, 'worth': 1, 'trouble': 1, 'getting': 1, 'up': 1, 'picking': 1, 'daisies': 1, 'when': 3, 'suddenly': 1, 'white': 1, 'rabbit': 4, 'with': 3, 'pink': 1, 'eyes': 1, 'ran': 2, 'close': 1, 'there': 1, 'remarkable': 1, 'that': 3, 'nor': 1, 'did': 1, 'think': 1, 'much': 1, 'out': 3, 'way': 1, 'hear': 1, 'say': 1, 'itself': 1, 'oh': 2, 'dear': 2, 'i': 1, 'shall': 1, 'late': 1, 'over': 1, 'afterwards': 1, 'occurred': 1, 'ought': 1, 'have': 1, 'wondered': 1, 'at': 3, 'this': 1, 'time': 2, 'all': 1, 'seemed': 1, 'quite': 1, 'natural': 1, 'actually': 1, 'took': 1, 'watch': 2, 'its': 1, 'waistcoat': 1, 'pocket': 1, 'looked': 1, 'then': 1, 'hurried': 1, 'started': 1, 'feet': 1, 'flashed': 1, 'across': 2, 'never': 1, 'before': 1, 'seen': 1, 'either': 1, 'waistcoatpocket': 1, 'take': 1, 'burning': 1, 'curiosity': 1, 'field': 1, 'after': 1, 'fortunately': 1, 'just': 1, 'see': 1, 'pop': 1, 'down': 1, 'large': 1, 'rabbithole': 1, 'under': 1, 'hedge': 1}\n"
     ]
    }
   ],
   "source": [
    "strings = \"\"\"Alice was beginning to get very tired of sitting by her sister\n",
    "            on the bank, and of having nothing to do:  once or twice she had\n",
    "            peeped into the book her sister was reading, but it had no\n",
    "            pictures or conversations in it, `and what is the use of a book,'\n",
    "            thought Alice `without pictures or conversation?'\n",
    "\n",
    "            So she was considering in her own mind (as well as she could,\n",
    "            for the hot day made her feel very sleepy and stupid), whether\n",
    "            the pleasure of making a daisy-chain would be worth the trouble\n",
    "            of getting up and picking the daisies, when suddenly a White\n",
    "            Rabbit with pink eyes ran close by her.\n",
    "\n",
    "            There was nothing so VERY remarkable in that; nor did Alice\n",
    "            think it so VERY much out of the way to hear the Rabbit say to\n",
    "            itself, `Oh dear!  Oh dear!  I shall be late!'  (when she thought\n",
    "            it over afterwards, it occurred to her that she ought to have\n",
    "            wondered at this, but at the time it all seemed quite natural);\n",
    "            but when the Rabbit actually TOOK A WATCH OUT OF ITS WAISTCOAT-\n",
    "            POCKET, and looked at it, and then hurried on, Alice started to\n",
    "            her feet, for it flashed across her mind that she had never\n",
    "            before seen a rabbit with either a waistcoat-pocket, or a watch to\n",
    "            take out of it, and burning with curiosity, she ran across the\n",
    "            field after it, and fortunately was just in time to see it pop\n",
    "            down a large rabbit-hole under the hedge.\"\"\"\n",
    "\n",
    "# Normalize the text: Convert to lowercase\n",
    "strings = strings.lower()\n",
    "# print(strings)\n",
    "\n",
    "# Remove punctuation manually\n",
    "punctuation = \"`~!@#$%^&*()_-+={}[]|\\\\:;\\\"'<>,.?/\"\n",
    "\n",
    "for i in punctuation:\n",
    "    strings = strings.replace(i, '')\n",
    "# print(strings)\n",
    "\n",
    "list_of_words = strings.split()\n",
    "word_count = {}\n",
    "\n",
    "for word in list_of_words:\n",
    "    if word not in word_count:\n",
    "        word_count[word] = 1\n",
    "    else:\n",
    "        word_count[word] += 1\n",
    "\n",
    "print(word_count)"
   ]
  },
  {
   "cell_type": "code",
   "execution_count": 54,
   "metadata": {},
   "outputs": [],
   "source": [
    "import json\n",
    "\n",
    "with open('ques5.txt', 'w') as f:\n",
    "    json.dump(d, f, indent = 4)"
   ]
  },
  {
   "cell_type": "code",
   "execution_count": 55,
   "metadata": {
    "scrolled": true
   },
   "outputs": [
    {
     "name": "stdout",
     "output_type": "stream",
     "text": [
      "alice :  4\n",
      "wonder :  0\n",
      "natural :  1\n"
     ]
    }
   ],
   "source": [
    "word_list = ['alice', 'wonder', 'natural']\n",
    "\n",
    "with open('ques5.txt', 'r') as f:\n",
    "    d1 = json.load(f)\n",
    "    # print(type(d1))\n",
    "    \n",
    "# print(d1)\n",
    "\n",
    "for i in word_list:\n",
    "    if i in d1:\n",
    "        print(i, ': ', d1[i])\n",
    "    else:\n",
    "        print(i, ': ', 0)"
   ]
  },
  {
   "cell_type": "markdown",
   "metadata": {},
   "source": [
    "# -------------------------------------------------"
   ]
  },
  {
   "cell_type": "markdown",
   "metadata": {},
   "source": [
    "## Recursion"
   ]
  },
  {
   "cell_type": "markdown",
   "metadata": {
    "id": "Und2HuFW6kAw"
   },
   "source": [
    "### **`Q-6:`** Given a string calculate length of the string using recursion.\n",
    "\n",
    "**Example 1:**\n",
    "\n",
    "Input:\n",
    "```bash\n",
    "\"abcd\"\n",
    "```\n",
    "\n",
    "Output:\n",
    "\n",
    "```bash\n",
    "4\n",
    "```\n",
    "\n",
    "**Example 2:**\n",
    "\n",
    "Input:\n",
    "```bash\n",
    "DataScience\n",
    "```\n",
    "\n",
    "Output:\n",
    "\n",
    "```bash\n",
    "11\n",
    "```\n"
   ]
  },
  {
   "cell_type": "code",
   "execution_count": null,
   "metadata": {
    "id": "9HE7lB5W61gT"
   },
   "outputs": [],
   "source": [
    "# Write code here"
   ]
  },
  {
   "cell_type": "markdown",
   "metadata": {
    "id": "iUDvc-jl6759"
   },
   "source": [
    "### **`Q-7:`** Write a function that accepts two numbers and returns their greatest common divisior. Without using any loop\n",
    "\n",
    "def gcd(int, int) => int\n",
    "\n",
    "```\n",
    "gcd(16,24) will give 8\n",
    "```"
   ]
  },
  {
   "cell_type": "code",
   "execution_count": null,
   "metadata": {
    "id": "uMQnojHR7O2S"
   },
   "outputs": [],
   "source": [
    "# Write code here"
   ]
  },
  {
   "cell_type": "markdown",
   "metadata": {
    "id": "wFD35fva7Q_B"
   },
   "source": [
    " ### `Q-8:` String Edit Distance\n",
    "\n",
    " Use your recursive function to write a program that reads two strings from the\n",
    "user and displays the edit distance between them.\n",
    "\n",
    "*The edit distance between two strings is a measure of their similarity—the smaller the edit distance, the more similar the strings are with regard to the minimum number of insert, delete and substitute operations needed to transform one string into the other.*\n",
    "\n",
    "Consider the strings `kitten` and `sitting`. The first string can be transformed\n",
    "into the second string with the following operations:\n",
    "* Substitute the `k` with an `s`,\n",
    "* substitute the `e` with an `i`,\n",
    "* and insert a `g` at the end of the string.\n",
    "\n",
    "This is the smallest number of operations that can be performed to transform kitten into sitting. As a result, the edit distance is `3`.\n",
    "\n",
    "\n",
    "Write a recursive function that computes the edit distance between two strings.\n",
    "\n",
    "Use the following algorithm:\n",
    "\n",
    "```\n",
    "Let s and t be the strings\n",
    "    If the length of s is 0 then\n",
    "        Return the length of t\n",
    "    Else if the length of t is 0 then\n",
    "        Return the length of s\n",
    "    Else\n",
    "        Set cost to 0\n",
    "        If the last character in s does not equal the last character in t then\n",
    "            Set cost to 1\n",
    "        Set d1 equal to the edit distance between all characters except the last one in s, and all characters in t, plus 1\n",
    "        Set d2 equal to the edit distance between all characters in s, and all characters except the last one in t, plus 1\n",
    "\n",
    "        Set d3 equal to the edit distance between all characters except the last one in s, and all characters except the last one in t, plus cost\n",
    "        Return the minimum of d1, d2 and d3\n",
    "```\n",
    "\n",
    "\n",
    "\n"
   ]
  },
  {
   "cell_type": "code",
   "execution_count": null,
   "metadata": {
    "id": "zlNy_Q987QOX"
   },
   "outputs": [],
   "source": [
    "# write code here"
   ]
  },
  {
   "cell_type": "markdown",
   "metadata": {
    "id": "Hc9e-qES7iAK"
   },
   "source": [
    "###`Q-9:` Run-Length Encoding\n",
    "\n",
    "Run-length encoding is a simple data compression technique that can be effective when repeated values occur at adjacent positions within a list. Compression is achieved by replacing groups of repeated values with one copy of the value, followed by the number of times that the value should be repeated. For example, the list\n",
    "```\n",
    "[\"A\", \"A\", \"A\", \"A\", \"A\", \"A\", \"A\", \"A\", \"A\", \"A\", \"A\", \"A\", \"B\", \"B\", \"B\", \"B\", \"A\", \"A\", \"A\", \"A\", \"A\", \"A\", \"B\"]\n",
    "```\n",
    "would be compressed as `[\"A\", 12, \"B\", 4, \"A\", 6, \"B\", 1]`.\n",
    "\n",
    "Write a recursive function that implements the run-length compression technique\n",
    "described above. Your function will take a list or a string as its only parameter. It should return the run-length compressed list as its only result. Include a main program that reads a string from the user, compresses it, and displays the run-length encoded result."
   ]
  },
  {
   "cell_type": "code",
   "execution_count": null,
   "metadata": {
    "id": "W2Wb_WzP7qM1"
   },
   "outputs": [],
   "source": [
    "# Write code here"
   ]
  },
  {
   "cell_type": "markdown",
   "metadata": {
    "id": "x6A-4vGC8SLs"
   },
   "source": [
    "###`Q-10:` Write a recursive function to convert a decimal to binary"
   ]
  },
  {
   "cell_type": "code",
   "execution_count": null,
   "metadata": {
    "id": "izOr6D9V8aME"
   },
   "outputs": [],
   "source": [
    "# Write code here"
   ]
  }
 ],
 "metadata": {
  "colab": {
   "provenance": []
  },
  "kernelspec": {
   "display_name": "Python 3 (ipykernel)",
   "language": "python",
   "name": "python3"
  },
  "language_info": {
   "codemirror_mode": {
    "name": "ipython",
    "version": 3
   },
   "file_extension": ".py",
   "mimetype": "text/x-python",
   "name": "python",
   "nbconvert_exporter": "python",
   "pygments_lexer": "ipython3",
   "version": "3.12.1"
  }
 },
 "nbformat": 4,
 "nbformat_minor": 4
}
