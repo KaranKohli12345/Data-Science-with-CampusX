{
 "cells": [
  {
   "cell_type": "markdown",
   "id": "1d85d3d2-1d7e-4d12-be07-74c3619402d7",
   "metadata": {},
   "source": [
    "### What is Pandas\n",
    "\n",
    "Pandas is a fast, powerful, flexible and easy to use open source data analysis and manipulation tool,\n",
    "built on top of the Python programming language.\n",
    "\n",
    "https://pandas.pydata.org/about/index.html"
   ]
  },
  {
   "cell_type": "markdown",
   "id": "efab92b1-148e-4bd6-920c-7172abf656f0",
   "metadata": {},
   "source": [
    "### Pandas Series\n",
    "\n",
    "A Pandas Series is like a column in a table. It is a 1-D array holding data of any type."
   ]
  },
  {
   "cell_type": "markdown",
   "id": "c6a72b1e-138d-4646-837c-ab965487c970",
   "metadata": {},
   "source": [
    "### Importing Pandas"
   ]
  },
  {
   "cell_type": "code",
   "execution_count": 3,
   "id": "b6319354-f4aa-424e-9080-23a14fac64b7",
   "metadata": {},
   "outputs": [],
   "source": [
    "import numpy as np\n",
    "import pandas as pd"
   ]
  },
  {
   "cell_type": "markdown",
   "id": "854d8b01-1940-4e05-abc6-1ab011aaac08",
   "metadata": {},
   "source": [
    "### Creating Series from lists"
   ]
  },
  {
   "cell_type": "code",
   "execution_count": 5,
   "id": "beb2c175-8bf8-4d67-b0be-72786d0ea5a0",
   "metadata": {},
   "outputs": [
    {
     "data": {
      "text/plain": [
       "0       India\n",
       "1    Pakistan\n",
       "2         USA\n",
       "3    SriLanka\n",
       "4       Nepal\n",
       "dtype: object"
      ]
     },
     "execution_count": 5,
     "metadata": {},
     "output_type": "execute_result"
    }
   ],
   "source": [
    "# string\n",
    "\n",
    "country = ['India', 'Pakistan', 'USA', 'SriLanka', 'Nepal']\n",
    "\n",
    "pd.Series(country)"
   ]
  },
  {
   "cell_type": "code",
   "execution_count": null,
   "id": "cd7b3a32-8111-4d39-ac2a-cabfb9eb2228",
   "metadata": {},
   "outputs": [],
   "source": [
    "# object refers to string here"
   ]
  },
  {
   "cell_type": "code",
   "execution_count": 28,
   "id": "b8af382d-51d1-4129-925b-5fb20af4f008",
   "metadata": {},
   "outputs": [
    {
     "data": {
      "text/plain": [
       "0     54\n",
       "1     67\n",
       "2     89\n",
       "3    100\n",
       "4     23\n",
       "5     45\n",
       "6     67\n",
       "dtype: int64"
      ]
     },
     "execution_count": 28,
     "metadata": {},
     "output_type": "execute_result"
    }
   ],
   "source": [
    "# int\n",
    "\n",
    "runs = [54, 67, 89, 100, 23, 45, 67]\n",
    "\n",
    "runs_series = pd.Series(runs)\n",
    "runs_series"
   ]
  },
  {
   "cell_type": "markdown",
   "id": "b2629502-52a6-425e-86cf-a614f53fcb66",
   "metadata": {},
   "source": [
    "#### custom index"
   ]
  },
  {
   "cell_type": "code",
   "execution_count": 10,
   "id": "6ad945e6-e1a1-4895-9350-8198d0561a04",
   "metadata": {},
   "outputs": [
    {
     "data": {
      "text/plain": [
       "hindi      56\n",
       "science    67\n",
       "sst        45\n",
       "maths      89\n",
       "dtype: int64"
      ]
     },
     "execution_count": 10,
     "metadata": {},
     "output_type": "execute_result"
    }
   ],
   "source": [
    "marks = [56, 67, 45, 89] # value\n",
    "subjects = ['hindi', 'science', 'sst', 'maths'] # index\n",
    "\n",
    "pd.Series(marks, index=subjects)"
   ]
  },
  {
   "cell_type": "code",
   "execution_count": 13,
   "id": "3f050a7f-6c12-4dfc-957b-9adc16045696",
   "metadata": {},
   "outputs": [
    {
     "data": {
      "text/plain": [
       "hindi      56\n",
       "science    67\n",
       "sst        45\n",
       "maths      89\n",
       "Name: Karan's marks, dtype: int64"
      ]
     },
     "execution_count": 13,
     "metadata": {},
     "output_type": "execute_result"
    }
   ],
   "source": [
    "# setting a name\n",
    "\n",
    "marks = pd.Series(marks, index=subjects, name=\"Karan's marks\")\n",
    "marks"
   ]
  },
  {
   "cell_type": "markdown",
   "id": "7ec767ef-e848-486b-b0d1-337fb9e92056",
   "metadata": {},
   "source": [
    "### Creating series from dict"
   ]
  },
  {
   "cell_type": "code",
   "execution_count": 15,
   "id": "1f08b604-fb91-4fad-b838-f00f9252f9ee",
   "metadata": {},
   "outputs": [
    {
     "data": {
      "text/plain": [
       "hindi      56\n",
       "science    67\n",
       "sst        45\n",
       "maths      89\n",
       "Name: Karan's marks, dtype: int64"
      ]
     },
     "execution_count": 15,
     "metadata": {},
     "output_type": "execute_result"
    }
   ],
   "source": [
    "marks = {\n",
    "    'hindi': 56,\n",
    "    'science': 67,\n",
    "    'sst': 45,\n",
    "    'maths': 89\n",
    "    }\n",
    "\n",
    "marks_series = pd.Series(marks, name=\"Karan's marks\")\n",
    "\n",
    "marks_series"
   ]
  },
  {
   "cell_type": "markdown",
   "id": "7c0e5ec6-a798-4527-b72c-52f525ce27e9",
   "metadata": {},
   "source": [
    "### Series Attributes"
   ]
  },
  {
   "cell_type": "code",
   "execution_count": 18,
   "id": "9db5cc2d-1305-4132-a6e7-90c4bfa66ab7",
   "metadata": {},
   "outputs": [
    {
     "data": {
      "text/plain": [
       "4"
      ]
     },
     "execution_count": 18,
     "metadata": {},
     "output_type": "execute_result"
    }
   ],
   "source": [
    "# size\n",
    "\n",
    "marks_series.size"
   ]
  },
  {
   "cell_type": "code",
   "execution_count": 19,
   "id": "acdd924e-83d4-49bf-9734-e71a9067378a",
   "metadata": {},
   "outputs": [
    {
     "data": {
      "text/plain": [
       "dtype('int64')"
      ]
     },
     "execution_count": 19,
     "metadata": {},
     "output_type": "execute_result"
    }
   ],
   "source": [
    "# dtype\n",
    "\n",
    "marks_series.dtype"
   ]
  },
  {
   "cell_type": "code",
   "execution_count": 21,
   "id": "a53286e1-2fc8-4486-94c4-600441dfa736",
   "metadata": {},
   "outputs": [
    {
     "data": {
      "text/plain": [
       "\"Karan's marks\""
      ]
     },
     "execution_count": 21,
     "metadata": {},
     "output_type": "execute_result"
    }
   ],
   "source": [
    "# name\n",
    "\n",
    "marks_series.name"
   ]
  },
  {
   "cell_type": "code",
   "execution_count": 24,
   "id": "376f1480-32e9-472e-9468-774fee1cfc16",
   "metadata": {},
   "outputs": [
    {
     "data": {
      "text/plain": [
       "False"
      ]
     },
     "execution_count": 24,
     "metadata": {},
     "output_type": "execute_result"
    }
   ],
   "source": [
    "# is_unique\n",
    "\n",
    "marks_series.is_unique\n",
    "\n",
    "pd.Series([1,1,2,1,3,4,5]).is_unique"
   ]
  },
  {
   "cell_type": "code",
   "execution_count": 32,
   "id": "80e0502d-1f45-4fbb-993e-aea3d95a082a",
   "metadata": {},
   "outputs": [
    {
     "data": {
      "text/plain": [
       "RangeIndex(start=0, stop=7, step=1)"
      ]
     },
     "execution_count": 32,
     "metadata": {},
     "output_type": "execute_result"
    }
   ],
   "source": [
    "# index\n",
    "\n",
    "marks_series.index\n",
    "runs_series.index\n",
    "# type(runs_series.index)"
   ]
  },
  {
   "cell_type": "code",
   "execution_count": 34,
   "id": "8db6b76f-655e-41c9-87c8-24143ec0a49f",
   "metadata": {},
   "outputs": [
    {
     "data": {
      "text/plain": [
       "array([ 54,  67,  89, 100,  23,  45,  67], dtype=int64)"
      ]
     },
     "execution_count": 34,
     "metadata": {},
     "output_type": "execute_result"
    }
   ],
   "source": [
    "# values\n",
    "\n",
    "marks_series.values\n",
    "runs_series.values\n",
    "# type(runs_series.values)"
   ]
  },
  {
   "cell_type": "markdown",
   "id": "ea9a444e-bb26-458a-b317-8f9a2356f05a",
   "metadata": {},
   "source": [
    "### Series using read_csv"
   ]
  },
  {
   "cell_type": "code",
   "execution_count": 44,
   "id": "c7128c92-279a-4a12-8230-01762de51f96",
   "metadata": {},
   "outputs": [
    {
     "data": {
      "text/html": [
       "<div>\n",
       "<style scoped>\n",
       "    .dataframe tbody tr th:only-of-type {\n",
       "        vertical-align: middle;\n",
       "    }\n",
       "\n",
       "    .dataframe tbody tr th {\n",
       "        vertical-align: top;\n",
       "    }\n",
       "\n",
       "    .dataframe thead th {\n",
       "        text-align: right;\n",
       "    }\n",
       "</style>\n",
       "<table border=\"1\" class=\"dataframe\">\n",
       "  <thead>\n",
       "    <tr style=\"text-align: right;\">\n",
       "      <th></th>\n",
       "      <th>Subscribers gained</th>\n",
       "    </tr>\n",
       "  </thead>\n",
       "  <tbody>\n",
       "    <tr>\n",
       "      <th>0</th>\n",
       "      <td>48</td>\n",
       "    </tr>\n",
       "    <tr>\n",
       "      <th>1</th>\n",
       "      <td>57</td>\n",
       "    </tr>\n",
       "    <tr>\n",
       "      <th>2</th>\n",
       "      <td>40</td>\n",
       "    </tr>\n",
       "    <tr>\n",
       "      <th>3</th>\n",
       "      <td>43</td>\n",
       "    </tr>\n",
       "    <tr>\n",
       "      <th>4</th>\n",
       "      <td>44</td>\n",
       "    </tr>\n",
       "    <tr>\n",
       "      <th>...</th>\n",
       "      <td>...</td>\n",
       "    </tr>\n",
       "    <tr>\n",
       "      <th>360</th>\n",
       "      <td>231</td>\n",
       "    </tr>\n",
       "    <tr>\n",
       "      <th>361</th>\n",
       "      <td>226</td>\n",
       "    </tr>\n",
       "    <tr>\n",
       "      <th>362</th>\n",
       "      <td>155</td>\n",
       "    </tr>\n",
       "    <tr>\n",
       "      <th>363</th>\n",
       "      <td>144</td>\n",
       "    </tr>\n",
       "    <tr>\n",
       "      <th>364</th>\n",
       "      <td>172</td>\n",
       "    </tr>\n",
       "  </tbody>\n",
       "</table>\n",
       "<p>365 rows × 1 columns</p>\n",
       "</div>"
      ],
      "text/plain": [
       "     Subscribers gained\n",
       "0                    48\n",
       "1                    57\n",
       "2                    40\n",
       "3                    43\n",
       "4                    44\n",
       "..                  ...\n",
       "360                 231\n",
       "361                 226\n",
       "362                 155\n",
       "363                 144\n",
       "364                 172\n",
       "\n",
       "[365 rows x 1 columns]"
      ]
     },
     "execution_count": 44,
     "metadata": {},
     "output_type": "execute_result"
    }
   ],
   "source": [
    "# with one column\n",
    "\n",
    "pd.read_csv(r'CSV Files\\subs.csv')"
   ]
  },
  {
   "cell_type": "code",
   "execution_count": 45,
   "id": "098a94ce-dfbb-4a24-a29c-5f23ecc7bf40",
   "metadata": {},
   "outputs": [
    {
     "data": {
      "text/plain": [
       "pandas.core.frame.DataFrame"
      ]
     },
     "execution_count": 45,
     "metadata": {},
     "output_type": "execute_result"
    }
   ],
   "source": [
    "type(pd.read_csv(r'CSV Files\\subs.csv'))"
   ]
  },
  {
   "cell_type": "code",
   "execution_count": null,
   "id": "f475075b-5830-43b4-be0c-e97af7574577",
   "metadata": {},
   "outputs": [],
   "source": [
    "# It is a DataFrame because read_csv loads as a DataFrame by deafult."
   ]
  },
  {
   "cell_type": "code",
   "execution_count": 50,
   "id": "62d21a8c-1bed-4f11-8eef-880b9d69e0e9",
   "metadata": {},
   "outputs": [
    {
     "data": {
      "text/plain": [
       "pandas.core.series.Series"
      ]
     },
     "execution_count": 50,
     "metadata": {},
     "output_type": "execute_result"
    }
   ],
   "source": [
    "type(pd.read_csv(r'CSV Files\\subs.csv').squeeze(\"columns\"))"
   ]
  },
  {
   "cell_type": "code",
   "execution_count": 12,
   "id": "f3d5429c-44f5-485d-9649-06793ef15887",
   "metadata": {},
   "outputs": [
    {
     "data": {
      "text/plain": [
       "0       48\n",
       "1       57\n",
       "2       40\n",
       "3       43\n",
       "4       44\n",
       "      ... \n",
       "360    231\n",
       "361    226\n",
       "362    155\n",
       "363    144\n",
       "364    172\n",
       "Name: Subscribers gained, Length: 365, dtype: int64"
      ]
     },
     "execution_count": 12,
     "metadata": {},
     "output_type": "execute_result"
    }
   ],
   "source": [
    "subs = pd.read_csv(r'CSV Files\\subs.csv').squeeze(\"columns\")\n",
    "subs"
   ]
  },
  {
   "cell_type": "code",
   "execution_count": 56,
   "id": "49f6df80-fe24-4cce-af16-9edb122932a4",
   "metadata": {},
   "outputs": [
    {
     "data": {
      "text/plain": [
       "pandas.core.series.Series"
      ]
     },
     "execution_count": 56,
     "metadata": {},
     "output_type": "execute_result"
    }
   ],
   "source": [
    "# with two cols\n",
    "\n",
    "type(pd.read_csv(r'CSV Files/kohli_ipl.csv', index_col='match_no').squeeze(\"columns\"))"
   ]
  },
  {
   "cell_type": "code",
   "execution_count": 13,
   "id": "099c898e-ebb9-4b33-b374-af4012f4eeec",
   "metadata": {},
   "outputs": [
    {
     "data": {
      "text/plain": [
       "match_no\n",
       "1       1\n",
       "2      23\n",
       "3      13\n",
       "4      12\n",
       "5       1\n",
       "       ..\n",
       "211     0\n",
       "212    20\n",
       "213    73\n",
       "214    25\n",
       "215     7\n",
       "Name: runs, Length: 215, dtype: int64"
      ]
     },
     "execution_count": 13,
     "metadata": {},
     "output_type": "execute_result"
    }
   ],
   "source": [
    "vk = pd.read_csv(r'CSV Files/kohli_ipl.csv', index_col='match_no').squeeze(\"columns\")\n",
    "vk"
   ]
  },
  {
   "cell_type": "code",
   "execution_count": 14,
   "id": "2d37a8b0-1ef5-4f53-a74e-9c6642adb34c",
   "metadata": {},
   "outputs": [
    {
     "data": {
      "text/plain": [
       "movie\n",
       "Uri: The Surgical Strike                   Vicky Kaushal\n",
       "Battalion 609                                Vicky Ahuja\n",
       "The Accidental Prime Minister (film)         Anupam Kher\n",
       "Why Cheat India                            Emraan Hashmi\n",
       "Evening Shadows                         Mona Ambegaonkar\n",
       "                                              ...       \n",
       "Hum Tumhare Hain Sanam                    Shah Rukh Khan\n",
       "Aankhen (2002 film)                     Amitabh Bachchan\n",
       "Saathiya (film)                             Vivek Oberoi\n",
       "Company (film)                                Ajay Devgn\n",
       "Awara Paagal Deewana                        Akshay Kumar\n",
       "Name: lead, Length: 1500, dtype: object"
      ]
     },
     "execution_count": 14,
     "metadata": {},
     "output_type": "execute_result"
    }
   ],
   "source": [
    "movies = pd.read_csv(r'CSV Files/bollywood.csv', index_col='movie').squeeze('columns')\n",
    "movies"
   ]
  },
  {
   "cell_type": "code",
   "execution_count": 61,
   "id": "e4ab9cca-cc90-4113-8b86-ea8d66eaa07f",
   "metadata": {},
   "outputs": [
    {
     "data": {
      "text/plain": [
       "pandas.core.series.Series"
      ]
     },
     "execution_count": 61,
     "metadata": {},
     "output_type": "execute_result"
    }
   ],
   "source": [
    "type(pd.read_csv(r'CSV Files/bollywood.csv', index_col='movie').squeeze('columns'))"
   ]
  },
  {
   "cell_type": "markdown",
   "id": "2dd32de3-c9da-48fc-8bb2-2f1f0386d096",
   "metadata": {},
   "source": [
    "### Series methods"
   ]
  },
  {
   "cell_type": "code",
   "execution_count": 64,
   "id": "a5c0e08b-26c5-4c9c-b222-50aa33bc4002",
   "metadata": {},
   "outputs": [
    {
     "data": {
      "text/plain": [
       "0    48\n",
       "1    57\n",
       "2    40\n",
       "3    43\n",
       "4    44\n",
       "Name: Subscribers gained, dtype: int64"
      ]
     },
     "execution_count": 64,
     "metadata": {},
     "output_type": "execute_result"
    }
   ],
   "source": [
    "# head and tail\n",
    "\n",
    "subs.head()"
   ]
  },
  {
   "cell_type": "code",
   "execution_count": 66,
   "id": "69c21b7f-91a3-4962-aa69-bbf43ec6ee11",
   "metadata": {},
   "outputs": [
    {
     "data": {
      "text/plain": [
       "match_no\n",
       "1     1\n",
       "2    23\n",
       "3    13\n",
       "Name: runs, dtype: int64"
      ]
     },
     "execution_count": 66,
     "metadata": {},
     "output_type": "execute_result"
    }
   ],
   "source": [
    "vk.head(3)"
   ]
  },
  {
   "cell_type": "code",
   "execution_count": 67,
   "id": "dd9dbcd2-a3b8-4eb7-bb05-61675bb51f72",
   "metadata": {},
   "outputs": [
    {
     "data": {
      "text/plain": [
       "match_no\n",
       "211     0\n",
       "212    20\n",
       "213    73\n",
       "214    25\n",
       "215     7\n",
       "Name: runs, dtype: int64"
      ]
     },
     "execution_count": 67,
     "metadata": {},
     "output_type": "execute_result"
    }
   ],
   "source": [
    "vk.tail()"
   ]
  },
  {
   "cell_type": "code",
   "execution_count": 69,
   "id": "3b7f95b0-5c8a-45a5-9a2d-4859f01d3cc4",
   "metadata": {},
   "outputs": [
    {
     "data": {
      "text/plain": [
       "match_no\n",
       "209    58\n",
       "210    30\n",
       "211     0\n",
       "212    20\n",
       "213    73\n",
       "214    25\n",
       "215     7\n",
       "Name: runs, dtype: int64"
      ]
     },
     "execution_count": 69,
     "metadata": {},
     "output_type": "execute_result"
    }
   ],
   "source": [
    "vk.tail(7)"
   ]
  },
  {
   "cell_type": "code",
   "execution_count": 77,
   "id": "a055a61f-8222-4bb6-ba8a-ed471226c7b9",
   "metadata": {},
   "outputs": [
    {
     "data": {
      "text/plain": [
       "movie\n",
       "Yaaram (2019 film)    Siddhanth Kapoor\n",
       "Name: lead, dtype: object"
      ]
     },
     "execution_count": 77,
     "metadata": {},
     "output_type": "execute_result"
    }
   ],
   "source": [
    "# sample\n",
    "\n",
    "# randomly 1 row\n",
    "movies.sample()"
   ]
  },
  {
   "cell_type": "code",
   "execution_count": 76,
   "id": "86bcfa7c-7af2-4612-bc36-66502d3e05bf",
   "metadata": {},
   "outputs": [
    {
     "data": {
      "text/plain": [
       "movie\n",
       "Ek Second... Jo Zindagi Badal De?    Bhushan Agarwal\n",
       "Super Model (film)                      Ashmit Patel\n",
       "Koi... Mil Gaya                                Rekha\n",
       "Elaan (2005 film)                       Arjun Rampal\n",
       "Aiyyaa                                  Rani Mukerji\n",
       "Name: lead, dtype: object"
      ]
     },
     "execution_count": 76,
     "metadata": {},
     "output_type": "execute_result"
    }
   ],
   "source": [
    "movies.sample(5) # random"
   ]
  },
  {
   "cell_type": "code",
   "execution_count": 79,
   "id": "fca39350-3788-48d0-a092-92a03e6258dd",
   "metadata": {},
   "outputs": [
    {
     "data": {
      "text/plain": [
       "lead\n",
       "Akshay Kumar        48\n",
       "Amitabh Bachchan    45\n",
       "Ajay Devgn          38\n",
       "Salman Khan         31\n",
       "Sanjay Dutt         26\n",
       "                    ..\n",
       "Diganth              1\n",
       "Parveen Kaur         1\n",
       "Seema Azmi           1\n",
       "Akanksha Puri        1\n",
       "Edwin Fernandes      1\n",
       "Name: count, Length: 566, dtype: int64"
      ]
     },
     "execution_count": 79,
     "metadata": {},
     "output_type": "execute_result"
    }
   ],
   "source": [
    "# value_counts - frequency of values\n",
    "\n",
    "movies.value_counts()"
   ]
  },
  {
   "cell_type": "code",
   "execution_count": 80,
   "id": "69bd525e-c187-487a-b0e3-9118cbe3ed6a",
   "metadata": {},
   "outputs": [
    {
     "data": {
      "text/plain": [
       "match_no\n",
       "87       0\n",
       "211      0\n",
       "207      0\n",
       "206      0\n",
       "91       0\n",
       "      ... \n",
       "164    100\n",
       "120    100\n",
       "123    108\n",
       "126    109\n",
       "128    113\n",
       "Name: runs, Length: 215, dtype: int64"
      ]
     },
     "execution_count": 80,
     "metadata": {},
     "output_type": "execute_result"
    }
   ],
   "source": [
    "# sort_values\n",
    "\n",
    "vk.sort_values()"
   ]
  },
  {
   "cell_type": "code",
   "execution_count": 81,
   "id": "993f476f-f0a6-42ca-8d1c-128e1684279d",
   "metadata": {},
   "outputs": [
    {
     "data": {
      "text/plain": [
       "match_no\n",
       "128    113\n",
       "126    109\n",
       "123    108\n",
       "164    100\n",
       "120    100\n",
       "      ... \n",
       "93       0\n",
       "211      0\n",
       "130      0\n",
       "8        0\n",
       "135      0\n",
       "Name: runs, Length: 215, dtype: int64"
      ]
     },
     "execution_count": 81,
     "metadata": {},
     "output_type": "execute_result"
    }
   ],
   "source": [
    "vk.sort_values(ascending=False)"
   ]
  },
  {
   "cell_type": "code",
   "execution_count": 87,
   "id": "a4014668-30c9-409d-bf1e-30e9ca447001",
   "metadata": {},
   "outputs": [
    {
     "data": {
      "text/plain": [
       "113"
      ]
     },
     "execution_count": 87,
     "metadata": {},
     "output_type": "execute_result"
    }
   ],
   "source": [
    "# highest run in ipl by vk\n",
    "\n",
    "vk.sort_values(ascending=False).head(1).values[0]"
   ]
  },
  {
   "cell_type": "code",
   "execution_count": null,
   "id": "f2b51106-c5c0-4971-a9c8-0ee63bc5e70d",
   "metadata": {},
   "outputs": [],
   "source": [
    "# Above is called method chaining."
   ]
  },
  {
   "cell_type": "code",
   "execution_count": 88,
   "id": "09710024-2353-4c89-aeb9-9c09bea82e35",
   "metadata": {},
   "outputs": [
    {
     "data": {
      "text/plain": [
       "match_no\n",
       "128    113\n",
       "126    109\n",
       "123    108\n",
       "164    100\n",
       "120    100\n",
       "      ... \n",
       "93       0\n",
       "211      0\n",
       "130      0\n",
       "8        0\n",
       "135      0\n",
       "Name: runs, Length: 215, dtype: int64"
      ]
     },
     "execution_count": 88,
     "metadata": {},
     "output_type": "execute_result"
    }
   ],
   "source": [
    "vk.sort_values(ascending=False)"
   ]
  },
  {
   "cell_type": "code",
   "execution_count": 89,
   "id": "c2310e45-901e-4a48-ae0e-1f001a4b2c83",
   "metadata": {},
   "outputs": [
    {
     "data": {
      "text/plain": [
       "match_no\n",
       "1       1\n",
       "2      23\n",
       "3      13\n",
       "4      12\n",
       "5       1\n",
       "       ..\n",
       "211     0\n",
       "212    20\n",
       "213    73\n",
       "214    25\n",
       "215     7\n",
       "Name: runs, Length: 215, dtype: int64"
      ]
     },
     "execution_count": 89,
     "metadata": {},
     "output_type": "execute_result"
    }
   ],
   "source": [
    "vk"
   ]
  },
  {
   "cell_type": "code",
   "execution_count": null,
   "id": "e0f48a4f-57be-4be8-9c60-c639fc097aae",
   "metadata": {},
   "outputs": [],
   "source": [
    "# sort_values does temporary changes but we can do permanent changes too"
   ]
  },
  {
   "cell_type": "code",
   "execution_count": 91,
   "id": "19eeb6ac-b750-4c0e-9733-a953a94aa687",
   "metadata": {},
   "outputs": [
    {
     "ename": "ValueError",
     "evalue": "This Series is a view of some other array, to sort in-place you must create a copy",
     "output_type": "error",
     "traceback": [
      "\u001b[1;31m---------------------------------------------------------------------------\u001b[0m",
      "\u001b[1;31mValueError\u001b[0m                                Traceback (most recent call last)",
      "Cell \u001b[1;32mIn[91], line 1\u001b[0m\n\u001b[1;32m----> 1\u001b[0m \u001b[43mvk\u001b[49m\u001b[38;5;241;43m.\u001b[39;49m\u001b[43msort_values\u001b[49m\u001b[43m(\u001b[49m\u001b[43minplace\u001b[49m\u001b[38;5;241;43m=\u001b[39;49m\u001b[38;5;28;43;01mTrue\u001b[39;49;00m\u001b[43m)\u001b[49m\n",
      "File \u001b[1;32m~\\AppData\\Local\\Programs\\Python\\Python312\\Lib\\site-packages\\pandas\\core\\series.py:3708\u001b[0m, in \u001b[0;36mSeries.sort_values\u001b[1;34m(self, axis, ascending, inplace, kind, na_position, ignore_index, key)\u001b[0m\n\u001b[0;32m   3706\u001b[0m \u001b[38;5;66;03m# GH 5856/5853\u001b[39;00m\n\u001b[0;32m   3707\u001b[0m \u001b[38;5;28;01mif\u001b[39;00m inplace \u001b[38;5;129;01mand\u001b[39;00m \u001b[38;5;28mself\u001b[39m\u001b[38;5;241m.\u001b[39m_is_cached:\n\u001b[1;32m-> 3708\u001b[0m     \u001b[38;5;28;01mraise\u001b[39;00m \u001b[38;5;167;01mValueError\u001b[39;00m(\n\u001b[0;32m   3709\u001b[0m         \u001b[38;5;124m\"\u001b[39m\u001b[38;5;124mThis Series is a view of some other array, to \u001b[39m\u001b[38;5;124m\"\u001b[39m\n\u001b[0;32m   3710\u001b[0m         \u001b[38;5;124m\"\u001b[39m\u001b[38;5;124msort in-place you must create a copy\u001b[39m\u001b[38;5;124m\"\u001b[39m\n\u001b[0;32m   3711\u001b[0m     )\n\u001b[0;32m   3713\u001b[0m \u001b[38;5;28;01mif\u001b[39;00m is_list_like(ascending):\n\u001b[0;32m   3714\u001b[0m     ascending \u001b[38;5;241m=\u001b[39m cast(Sequence[\u001b[38;5;28mbool\u001b[39m], ascending)\n",
      "\u001b[1;31mValueError\u001b[0m: This Series is a view of some other array, to sort in-place you must create a copy"
     ]
    }
   ],
   "source": [
    "vk.sort_values(inplace=True)"
   ]
  },
  {
   "cell_type": "code",
   "execution_count": 97,
   "id": "253ca0d7-aa40-4b35-b2e7-fa8ed0d38d43",
   "metadata": {},
   "outputs": [],
   "source": [
    "vkCopy = vk.copy()"
   ]
  },
  {
   "cell_type": "code",
   "execution_count": 98,
   "id": "9830ace8-d2c5-4462-93a1-ac88880952cd",
   "metadata": {},
   "outputs": [],
   "source": [
    "vkCopy.sort_values(inplace=True)"
   ]
  },
  {
   "cell_type": "code",
   "execution_count": 99,
   "id": "7e56927c-b605-437e-86b4-f7c58e248cff",
   "metadata": {},
   "outputs": [
    {
     "data": {
      "text/plain": [
       "match_no\n",
       "87       0\n",
       "211      0\n",
       "207      0\n",
       "206      0\n",
       "91       0\n",
       "      ... \n",
       "164    100\n",
       "120    100\n",
       "123    108\n",
       "126    109\n",
       "128    113\n",
       "Name: runs, Length: 215, dtype: int64"
      ]
     },
     "execution_count": 99,
     "metadata": {},
     "output_type": "execute_result"
    }
   ],
   "source": [
    "vkCopy"
   ]
  },
  {
   "cell_type": "code",
   "execution_count": 100,
   "id": "ced39b36-d66d-44a9-80f1-9bb248b739ab",
   "metadata": {},
   "outputs": [
    {
     "data": {
      "text/plain": [
       "movie\n",
       "Uri: The Surgical Strike                   Vicky Kaushal\n",
       "Battalion 609                                Vicky Ahuja\n",
       "The Accidental Prime Minister (film)         Anupam Kher\n",
       "Why Cheat India                            Emraan Hashmi\n",
       "Evening Shadows                         Mona Ambegaonkar\n",
       "                                              ...       \n",
       "Hum Tumhare Hain Sanam                    Shah Rukh Khan\n",
       "Aankhen (2002 film)                     Amitabh Bachchan\n",
       "Saathiya (film)                             Vivek Oberoi\n",
       "Company (film)                                Ajay Devgn\n",
       "Awara Paagal Deewana                        Akshay Kumar\n",
       "Name: lead, Length: 1500, dtype: object"
      ]
     },
     "execution_count": 100,
     "metadata": {},
     "output_type": "execute_result"
    }
   ],
   "source": [
    "# sort_index\n",
    "\n",
    "movies"
   ]
  },
  {
   "cell_type": "code",
   "execution_count": 101,
   "id": "93e2e7a4-d086-45b5-8b0f-ac60938082fd",
   "metadata": {},
   "outputs": [
    {
     "data": {
      "text/plain": [
       "movie\n",
       "1920 (film)                   Rajniesh Duggall\n",
       "1920: London                     Sharman Joshi\n",
       "1920: The Evil Returns             Vicky Ahuja\n",
       "1971 (2007 film)                Manoj Bajpayee\n",
       "2 States (2014 film)              Arjun Kapoor\n",
       "                                   ...        \n",
       "Zindagi 50-50                      Veena Malik\n",
       "Zindagi Na Milegi Dobara        Hrithik Roshan\n",
       "Zindagi Tere Naam           Mithun Chakraborty\n",
       "Zokkomon                       Darsheel Safary\n",
       "Zor Lagaa Ke...Haiya!            Meghan Jadhav\n",
       "Name: lead, Length: 1500, dtype: object"
      ]
     },
     "execution_count": 101,
     "metadata": {},
     "output_type": "execute_result"
    }
   ],
   "source": [
    "movies.sort_index()"
   ]
  },
  {
   "cell_type": "code",
   "execution_count": 102,
   "id": "87cc803b-b1fd-4cef-95ed-a3abe3f6190c",
   "metadata": {},
   "outputs": [],
   "source": [
    "movies.sort_index(inplace=True)"
   ]
  },
  {
   "cell_type": "code",
   "execution_count": 103,
   "id": "52fcd9b8-8c5f-4f42-a3e6-856f3320c214",
   "metadata": {},
   "outputs": [
    {
     "data": {
      "text/plain": [
       "movie\n",
       "1920 (film)                   Rajniesh Duggall\n",
       "1920: London                     Sharman Joshi\n",
       "1920: The Evil Returns             Vicky Ahuja\n",
       "1971 (2007 film)                Manoj Bajpayee\n",
       "2 States (2014 film)              Arjun Kapoor\n",
       "                                   ...        \n",
       "Zindagi 50-50                      Veena Malik\n",
       "Zindagi Na Milegi Dobara        Hrithik Roshan\n",
       "Zindagi Tere Naam           Mithun Chakraborty\n",
       "Zokkomon                       Darsheel Safary\n",
       "Zor Lagaa Ke...Haiya!            Meghan Jadhav\n",
       "Name: lead, Length: 1500, dtype: object"
      ]
     },
     "execution_count": 103,
     "metadata": {},
     "output_type": "execute_result"
    }
   ],
   "source": [
    "movies"
   ]
  },
  {
   "cell_type": "code",
   "execution_count": null,
   "id": "1f600c57-fe9f-44fa-9e6d-b53641e8ea75",
   "metadata": {},
   "outputs": [],
   "source": [
    "# Be careful with inplace"
   ]
  },
  {
   "cell_type": "code",
   "execution_count": 105,
   "id": "64a5e7a7-498e-428d-bbd0-1c014b7a8e3d",
   "metadata": {},
   "outputs": [
    {
     "data": {
      "text/plain": [
       "movie\n",
       "Taj Mahal: An Eternal Love Story     Zulfi Sayed\n",
       "Strings of Passion                   Zeenat Aman\n",
       "Sallu Ki Shaadi                      Zeenat Aman\n",
       "Dil Toh Deewana Hai                  Zeenat Aman\n",
       "Dunno Y... Na Jaane Kyon             Zeenat Aman\n",
       "                                        ...     \n",
       "Talaash: The Answer Lies Within       Aamir Khan\n",
       "Raat Gayi Baat Gayi?                Aamir Bashir\n",
       "Lipstick Under My Burkha            Aahana Kumra\n",
       "Roar: Tigers of the Sundarbans      Aadil Chahal\n",
       "Qaidi Band                            Aadar Jain\n",
       "Name: lead, Length: 1500, dtype: object"
      ]
     },
     "execution_count": 105,
     "metadata": {},
     "output_type": "execute_result"
    }
   ],
   "source": [
    "movies.sort_values(ascending=False)"
   ]
  },
  {
   "cell_type": "markdown",
   "id": "a074f4fe-e5cf-455f-9146-3ad65d57893a",
   "metadata": {},
   "source": [
    "### Series Math Methods"
   ]
  },
  {
   "cell_type": "code",
   "execution_count": 106,
   "id": "fbb38a6e-2e69-4735-8962-37f7be938778",
   "metadata": {},
   "outputs": [
    {
     "data": {
      "text/plain": [
       "215"
      ]
     },
     "execution_count": 106,
     "metadata": {},
     "output_type": "execute_result"
    }
   ],
   "source": [
    "# count\n",
    "\n",
    "# size missing values ko count karta hai \n",
    "# count missing values ko count nhi karta hai \n",
    "\n",
    "vk.count()"
   ]
  },
  {
   "cell_type": "code",
   "execution_count": 107,
   "id": "fa1d4880-5465-4bcd-8870-c59e3b6a844a",
   "metadata": {},
   "outputs": [
    {
     "data": {
      "text/plain": [
       "49510"
      ]
     },
     "execution_count": 107,
     "metadata": {},
     "output_type": "execute_result"
    }
   ],
   "source": [
    "# sum/product\n",
    "\n",
    "subs.sum()"
   ]
  },
  {
   "cell_type": "code",
   "execution_count": 108,
   "id": "c19effaa-2558-43f9-a390-0ee5ff845a65",
   "metadata": {},
   "outputs": [
    {
     "data": {
      "text/plain": [
       "0"
      ]
     },
     "execution_count": 108,
     "metadata": {},
     "output_type": "execute_result"
    }
   ],
   "source": [
    "subs.product()"
   ]
  },
  {
   "cell_type": "code",
   "execution_count": 117,
   "id": "fe21cd10-de5c-43a9-8439-c109a3408034",
   "metadata": {},
   "outputs": [
    {
     "data": {
      "text/plain": [
       "135.64383561643837"
      ]
     },
     "execution_count": 117,
     "metadata": {},
     "output_type": "execute_result"
    }
   ],
   "source": [
    "# mean/median/mode/standard deviation/variance\n",
    "\n",
    "subs.mean()"
   ]
  },
  {
   "cell_type": "code",
   "execution_count": 111,
   "id": "6686e7b1-4b94-48b4-ab1e-a9c616d62b74",
   "metadata": {},
   "outputs": [
    {
     "data": {
      "text/plain": [
       "24.0"
      ]
     },
     "execution_count": 111,
     "metadata": {},
     "output_type": "execute_result"
    }
   ],
   "source": [
    "vk.median()"
   ]
  },
  {
   "cell_type": "code",
   "execution_count": 112,
   "id": "251ebafd-6f4a-49da-9080-f5a587110453",
   "metadata": {},
   "outputs": [
    {
     "data": {
      "text/plain": [
       "0    Akshay Kumar\n",
       "Name: lead, dtype: object"
      ]
     },
     "execution_count": 112,
     "metadata": {},
     "output_type": "execute_result"
    }
   ],
   "source": [
    "movies.mode()"
   ]
  },
  {
   "cell_type": "code",
   "execution_count": 113,
   "id": "a7966379-7fcb-42dc-a178-ff117ab784ea",
   "metadata": {},
   "outputs": [
    {
     "data": {
      "text/plain": [
       "62.6750230372527"
      ]
     },
     "execution_count": 113,
     "metadata": {},
     "output_type": "execute_result"
    }
   ],
   "source": [
    "subs.std()"
   ]
  },
  {
   "cell_type": "code",
   "execution_count": 114,
   "id": "20cf7c2f-1dfc-4dfb-a1dd-31bc9a9d1990",
   "metadata": {},
   "outputs": [
    {
     "data": {
      "text/plain": [
       "688.0024777222343"
      ]
     },
     "execution_count": 114,
     "metadata": {},
     "output_type": "execute_result"
    }
   ],
   "source": [
    "vk.var()"
   ]
  },
  {
   "cell_type": "code",
   "execution_count": 115,
   "id": "dbee0587-4430-4186-bafd-225e25428f92",
   "metadata": {},
   "outputs": [
    {
     "data": {
      "text/plain": [
       "33"
      ]
     },
     "execution_count": 115,
     "metadata": {},
     "output_type": "execute_result"
    }
   ],
   "source": [
    "# min/max\n",
    "\n",
    "subs.min()"
   ]
  },
  {
   "cell_type": "code",
   "execution_count": 116,
   "id": "5f301c84-f79c-45d9-9516-14b78d19b119",
   "metadata": {},
   "outputs": [
    {
     "data": {
      "text/plain": [
       "396"
      ]
     },
     "execution_count": 116,
     "metadata": {},
     "output_type": "execute_result"
    }
   ],
   "source": [
    "subs.max()"
   ]
  },
  {
   "cell_type": "code",
   "execution_count": 119,
   "id": "c22d1796-1591-4758-a3f7-f5ce22a2ff9f",
   "metadata": {},
   "outputs": [
    {
     "data": {
      "text/plain": [
       "count    215.000000\n",
       "mean      30.855814\n",
       "std       26.229801\n",
       "min        0.000000\n",
       "25%        9.000000\n",
       "50%       24.000000\n",
       "75%       48.000000\n",
       "max      113.000000\n",
       "Name: runs, dtype: float64"
      ]
     },
     "execution_count": 119,
     "metadata": {},
     "output_type": "execute_result"
    }
   ],
   "source": [
    "# describe - gives summary\n",
    "\n",
    "vk.describe()"
   ]
  },
  {
   "cell_type": "code",
   "execution_count": 120,
   "id": "58f28d46-9b01-4b65-8498-9f4aae237ff3",
   "metadata": {},
   "outputs": [
    {
     "data": {
      "text/plain": [
       "count    365.000000\n",
       "mean     135.643836\n",
       "std       62.675023\n",
       "min       33.000000\n",
       "25%       88.000000\n",
       "50%      123.000000\n",
       "75%      177.000000\n",
       "max      396.000000\n",
       "Name: Subscribers gained, dtype: float64"
      ]
     },
     "execution_count": 120,
     "metadata": {},
     "output_type": "execute_result"
    }
   ],
   "source": [
    "subs.describe()"
   ]
  },
  {
   "cell_type": "markdown",
   "id": "3b2733a3-840e-4114-843b-45f29aee80fd",
   "metadata": {},
   "source": [
    "### Series Indexing"
   ]
  },
  {
   "cell_type": "code",
   "execution_count": 122,
   "id": "637c4b3e-3261-4ab0-980f-a626f7b56338",
   "metadata": {},
   "outputs": [
    {
     "data": {
      "text/plain": [
       "12"
      ]
     },
     "execution_count": 122,
     "metadata": {},
     "output_type": "execute_result"
    }
   ],
   "source": [
    "# integer indexing\n",
    "\n",
    "x = pd.Series([12,13,14,35,46,57,58,79,9])\n",
    "\n",
    "x[0]"
   ]
  },
  {
   "cell_type": "code",
   "execution_count": 123,
   "id": "c0b0c195-fc77-4e15-919f-d24d0542ed18",
   "metadata": {},
   "outputs": [
    {
     "data": {
      "text/plain": [
       "13"
      ]
     },
     "execution_count": 123,
     "metadata": {},
     "output_type": "execute_result"
    }
   ],
   "source": [
    "x[1]"
   ]
  },
  {
   "cell_type": "code",
   "execution_count": 124,
   "id": "41380703-aacc-46d7-adcf-55eb6a91130b",
   "metadata": {},
   "outputs": [
    {
     "ename": "KeyError",
     "evalue": "-1",
     "output_type": "error",
     "traceback": [
      "\u001b[1;31m---------------------------------------------------------------------------\u001b[0m",
      "\u001b[1;31mValueError\u001b[0m                                Traceback (most recent call last)",
      "File \u001b[1;32m~\\AppData\\Local\\Programs\\Python\\Python312\\Lib\\site-packages\\pandas\\core\\indexes\\range.py:414\u001b[0m, in \u001b[0;36mRangeIndex.get_loc\u001b[1;34m(self, key)\u001b[0m\n\u001b[0;32m    413\u001b[0m \u001b[38;5;28;01mtry\u001b[39;00m:\n\u001b[1;32m--> 414\u001b[0m     \u001b[38;5;28;01mreturn\u001b[39;00m \u001b[38;5;28;43mself\u001b[39;49m\u001b[38;5;241;43m.\u001b[39;49m\u001b[43m_range\u001b[49m\u001b[38;5;241;43m.\u001b[39;49m\u001b[43mindex\u001b[49m\u001b[43m(\u001b[49m\u001b[43mnew_key\u001b[49m\u001b[43m)\u001b[49m\n\u001b[0;32m    415\u001b[0m \u001b[38;5;28;01mexcept\u001b[39;00m \u001b[38;5;167;01mValueError\u001b[39;00m \u001b[38;5;28;01mas\u001b[39;00m err:\n",
      "\u001b[1;31mValueError\u001b[0m: -1 is not in range",
      "\nThe above exception was the direct cause of the following exception:\n",
      "\u001b[1;31mKeyError\u001b[0m                                  Traceback (most recent call last)",
      "Cell \u001b[1;32mIn[124], line 3\u001b[0m\n\u001b[0;32m      1\u001b[0m \u001b[38;5;66;03m# negative indexing\u001b[39;00m\n\u001b[1;32m----> 3\u001b[0m \u001b[43mx\u001b[49m\u001b[43m[\u001b[49m\u001b[38;5;241;43m-\u001b[39;49m\u001b[38;5;241;43m1\u001b[39;49m\u001b[43m]\u001b[49m\n",
      "File \u001b[1;32m~\\AppData\\Local\\Programs\\Python\\Python312\\Lib\\site-packages\\pandas\\core\\series.py:1040\u001b[0m, in \u001b[0;36mSeries.__getitem__\u001b[1;34m(self, key)\u001b[0m\n\u001b[0;32m   1037\u001b[0m     \u001b[38;5;28;01mreturn\u001b[39;00m \u001b[38;5;28mself\u001b[39m\u001b[38;5;241m.\u001b[39m_values[key]\n\u001b[0;32m   1039\u001b[0m \u001b[38;5;28;01melif\u001b[39;00m key_is_scalar:\n\u001b[1;32m-> 1040\u001b[0m     \u001b[38;5;28;01mreturn\u001b[39;00m \u001b[38;5;28;43mself\u001b[39;49m\u001b[38;5;241;43m.\u001b[39;49m\u001b[43m_get_value\u001b[49m\u001b[43m(\u001b[49m\u001b[43mkey\u001b[49m\u001b[43m)\u001b[49m\n\u001b[0;32m   1042\u001b[0m \u001b[38;5;66;03m# Convert generator to list before going through hashable part\u001b[39;00m\n\u001b[0;32m   1043\u001b[0m \u001b[38;5;66;03m# (We will iterate through the generator there to check for slices)\u001b[39;00m\n\u001b[0;32m   1044\u001b[0m \u001b[38;5;28;01mif\u001b[39;00m is_iterator(key):\n",
      "File \u001b[1;32m~\\AppData\\Local\\Programs\\Python\\Python312\\Lib\\site-packages\\pandas\\core\\series.py:1156\u001b[0m, in \u001b[0;36mSeries._get_value\u001b[1;34m(self, label, takeable)\u001b[0m\n\u001b[0;32m   1153\u001b[0m     \u001b[38;5;28;01mreturn\u001b[39;00m \u001b[38;5;28mself\u001b[39m\u001b[38;5;241m.\u001b[39m_values[label]\n\u001b[0;32m   1155\u001b[0m \u001b[38;5;66;03m# Similar to Index.get_value, but we do not fall back to positional\u001b[39;00m\n\u001b[1;32m-> 1156\u001b[0m loc \u001b[38;5;241m=\u001b[39m \u001b[38;5;28;43mself\u001b[39;49m\u001b[38;5;241;43m.\u001b[39;49m\u001b[43mindex\u001b[49m\u001b[38;5;241;43m.\u001b[39;49m\u001b[43mget_loc\u001b[49m\u001b[43m(\u001b[49m\u001b[43mlabel\u001b[49m\u001b[43m)\u001b[49m\n\u001b[0;32m   1158\u001b[0m \u001b[38;5;28;01mif\u001b[39;00m is_integer(loc):\n\u001b[0;32m   1159\u001b[0m     \u001b[38;5;28;01mreturn\u001b[39;00m \u001b[38;5;28mself\u001b[39m\u001b[38;5;241m.\u001b[39m_values[loc]\n",
      "File \u001b[1;32m~\\AppData\\Local\\Programs\\Python\\Python312\\Lib\\site-packages\\pandas\\core\\indexes\\range.py:416\u001b[0m, in \u001b[0;36mRangeIndex.get_loc\u001b[1;34m(self, key)\u001b[0m\n\u001b[0;32m    414\u001b[0m         \u001b[38;5;28;01mreturn\u001b[39;00m \u001b[38;5;28mself\u001b[39m\u001b[38;5;241m.\u001b[39m_range\u001b[38;5;241m.\u001b[39mindex(new_key)\n\u001b[0;32m    415\u001b[0m     \u001b[38;5;28;01mexcept\u001b[39;00m \u001b[38;5;167;01mValueError\u001b[39;00m \u001b[38;5;28;01mas\u001b[39;00m err:\n\u001b[1;32m--> 416\u001b[0m         \u001b[38;5;28;01mraise\u001b[39;00m \u001b[38;5;167;01mKeyError\u001b[39;00m(key) \u001b[38;5;28;01mfrom\u001b[39;00m \u001b[38;5;21;01merr\u001b[39;00m\n\u001b[0;32m    417\u001b[0m \u001b[38;5;28;01mif\u001b[39;00m \u001b[38;5;28misinstance\u001b[39m(key, Hashable):\n\u001b[0;32m    418\u001b[0m     \u001b[38;5;28;01mraise\u001b[39;00m \u001b[38;5;167;01mKeyError\u001b[39;00m(key)\n",
      "\u001b[1;31mKeyError\u001b[0m: -1"
     ]
    }
   ],
   "source": [
    "# negative indexing\n",
    "\n",
    "x[-1]"
   ]
  },
  {
   "cell_type": "code",
   "execution_count": 125,
   "id": "47212747-7334-4017-a86c-c7ea911c0964",
   "metadata": {},
   "outputs": [
    {
     "data": {
      "text/plain": [
       "movie\n",
       "1920 (film)                   Rajniesh Duggall\n",
       "1920: London                     Sharman Joshi\n",
       "1920: The Evil Returns             Vicky Ahuja\n",
       "1971 (2007 film)                Manoj Bajpayee\n",
       "2 States (2014 film)              Arjun Kapoor\n",
       "                                   ...        \n",
       "Zindagi 50-50                      Veena Malik\n",
       "Zindagi Na Milegi Dobara        Hrithik Roshan\n",
       "Zindagi Tere Naam           Mithun Chakraborty\n",
       "Zokkomon                       Darsheel Safary\n",
       "Zor Lagaa Ke...Haiya!            Meghan Jadhav\n",
       "Name: lead, Length: 1500, dtype: object"
      ]
     },
     "execution_count": 125,
     "metadata": {},
     "output_type": "execute_result"
    }
   ],
   "source": [
    "movies"
   ]
  },
  {
   "cell_type": "code",
   "execution_count": 129,
   "id": "0c89e561-a111-43ef-b179-1d79f5afe395",
   "metadata": {},
   "outputs": [
    {
     "name": "stderr",
     "output_type": "stream",
     "text": [
      "C:\\Users\\DELL\\AppData\\Local\\Temp\\ipykernel_17172\\3901301928.py:1: FutureWarning: Series.__getitem__ treating keys as positions is deprecated. In a future version, integer keys will always be treated as labels (consistent with DataFrame behavior). To access a value by position, use `ser.iloc[pos]`\n",
      "  movies[0]\n"
     ]
    },
    {
     "data": {
      "text/plain": [
       "'Rajniesh Duggall'"
      ]
     },
     "execution_count": 129,
     "metadata": {},
     "output_type": "execute_result"
    }
   ],
   "source": [
    "movies[0]"
   ]
  },
  {
   "cell_type": "code",
   "execution_count": 128,
   "id": "6c3a0662-2819-441f-8253-2e11419b9740",
   "metadata": {},
   "outputs": [
    {
     "data": {
      "text/plain": [
       "'Rajniesh Duggall'"
      ]
     },
     "execution_count": 128,
     "metadata": {},
     "output_type": "execute_result"
    }
   ],
   "source": [
    "movies['1920 (film)']"
   ]
  },
  {
   "cell_type": "code",
   "execution_count": 127,
   "id": "8c4d2541-4a9a-4999-a0bd-aca2406c4950",
   "metadata": {},
   "outputs": [
    {
     "name": "stderr",
     "output_type": "stream",
     "text": [
      "C:\\Users\\DELL\\AppData\\Local\\Temp\\ipykernel_17172\\2731571422.py:1: FutureWarning: Series.__getitem__ treating keys as positions is deprecated. In a future version, integer keys will always be treated as labels (consistent with DataFrame behavior). To access a value by position, use `ser.iloc[pos]`\n",
      "  movies[-1]\n"
     ]
    },
    {
     "data": {
      "text/plain": [
       "'Meghan Jadhav'"
      ]
     },
     "execution_count": 127,
     "metadata": {},
     "output_type": "execute_result"
    }
   ],
   "source": [
    "movies[-1]"
   ]
  },
  {
   "cell_type": "code",
   "execution_count": 130,
   "id": "63121611-542e-45b0-8fa8-bf2475e74cda",
   "metadata": {},
   "outputs": [
    {
     "data": {
      "text/plain": [
       "match_no\n",
       "1       1\n",
       "2      23\n",
       "3      13\n",
       "4      12\n",
       "5       1\n",
       "       ..\n",
       "211     0\n",
       "212    20\n",
       "213    73\n",
       "214    25\n",
       "215     7\n",
       "Name: runs, Length: 215, dtype: int64"
      ]
     },
     "execution_count": 130,
     "metadata": {},
     "output_type": "execute_result"
    }
   ],
   "source": [
    "vk"
   ]
  },
  {
   "cell_type": "code",
   "execution_count": 131,
   "id": "90108f68-c0e7-4a80-95a8-26c6260283d2",
   "metadata": {},
   "outputs": [
    {
     "ename": "KeyError",
     "evalue": "-1",
     "output_type": "error",
     "traceback": [
      "\u001b[1;31m---------------------------------------------------------------------------\u001b[0m",
      "\u001b[1;31mKeyError\u001b[0m                                  Traceback (most recent call last)",
      "File \u001b[1;32m~\\AppData\\Local\\Programs\\Python\\Python312\\Lib\\site-packages\\pandas\\core\\indexes\\base.py:3791\u001b[0m, in \u001b[0;36mIndex.get_loc\u001b[1;34m(self, key)\u001b[0m\n\u001b[0;32m   3790\u001b[0m \u001b[38;5;28;01mtry\u001b[39;00m:\n\u001b[1;32m-> 3791\u001b[0m     \u001b[38;5;28;01mreturn\u001b[39;00m \u001b[38;5;28;43mself\u001b[39;49m\u001b[38;5;241;43m.\u001b[39;49m\u001b[43m_engine\u001b[49m\u001b[38;5;241;43m.\u001b[39;49m\u001b[43mget_loc\u001b[49m\u001b[43m(\u001b[49m\u001b[43mcasted_key\u001b[49m\u001b[43m)\u001b[49m\n\u001b[0;32m   3792\u001b[0m \u001b[38;5;28;01mexcept\u001b[39;00m \u001b[38;5;167;01mKeyError\u001b[39;00m \u001b[38;5;28;01mas\u001b[39;00m err:\n",
      "File \u001b[1;32mindex.pyx:152\u001b[0m, in \u001b[0;36mpandas._libs.index.IndexEngine.get_loc\u001b[1;34m()\u001b[0m\n",
      "File \u001b[1;32mindex.pyx:181\u001b[0m, in \u001b[0;36mpandas._libs.index.IndexEngine.get_loc\u001b[1;34m()\u001b[0m\n",
      "File \u001b[1;32mpandas\\_libs\\hashtable_class_helper.pxi:2606\u001b[0m, in \u001b[0;36mpandas._libs.hashtable.Int64HashTable.get_item\u001b[1;34m()\u001b[0m\n",
      "File \u001b[1;32mpandas\\_libs\\hashtable_class_helper.pxi:2630\u001b[0m, in \u001b[0;36mpandas._libs.hashtable.Int64HashTable.get_item\u001b[1;34m()\u001b[0m\n",
      "\u001b[1;31mKeyError\u001b[0m: -1",
      "\nThe above exception was the direct cause of the following exception:\n",
      "\u001b[1;31mKeyError\u001b[0m                                  Traceback (most recent call last)",
      "Cell \u001b[1;32mIn[131], line 1\u001b[0m\n\u001b[1;32m----> 1\u001b[0m \u001b[43mvk\u001b[49m\u001b[43m[\u001b[49m\u001b[38;5;241;43m-\u001b[39;49m\u001b[38;5;241;43m1\u001b[39;49m\u001b[43m]\u001b[49m\n",
      "File \u001b[1;32m~\\AppData\\Local\\Programs\\Python\\Python312\\Lib\\site-packages\\pandas\\core\\series.py:1040\u001b[0m, in \u001b[0;36mSeries.__getitem__\u001b[1;34m(self, key)\u001b[0m\n\u001b[0;32m   1037\u001b[0m     \u001b[38;5;28;01mreturn\u001b[39;00m \u001b[38;5;28mself\u001b[39m\u001b[38;5;241m.\u001b[39m_values[key]\n\u001b[0;32m   1039\u001b[0m \u001b[38;5;28;01melif\u001b[39;00m key_is_scalar:\n\u001b[1;32m-> 1040\u001b[0m     \u001b[38;5;28;01mreturn\u001b[39;00m \u001b[38;5;28;43mself\u001b[39;49m\u001b[38;5;241;43m.\u001b[39;49m\u001b[43m_get_value\u001b[49m\u001b[43m(\u001b[49m\u001b[43mkey\u001b[49m\u001b[43m)\u001b[49m\n\u001b[0;32m   1042\u001b[0m \u001b[38;5;66;03m# Convert generator to list before going through hashable part\u001b[39;00m\n\u001b[0;32m   1043\u001b[0m \u001b[38;5;66;03m# (We will iterate through the generator there to check for slices)\u001b[39;00m\n\u001b[0;32m   1044\u001b[0m \u001b[38;5;28;01mif\u001b[39;00m is_iterator(key):\n",
      "File \u001b[1;32m~\\AppData\\Local\\Programs\\Python\\Python312\\Lib\\site-packages\\pandas\\core\\series.py:1156\u001b[0m, in \u001b[0;36mSeries._get_value\u001b[1;34m(self, label, takeable)\u001b[0m\n\u001b[0;32m   1153\u001b[0m     \u001b[38;5;28;01mreturn\u001b[39;00m \u001b[38;5;28mself\u001b[39m\u001b[38;5;241m.\u001b[39m_values[label]\n\u001b[0;32m   1155\u001b[0m \u001b[38;5;66;03m# Similar to Index.get_value, but we do not fall back to positional\u001b[39;00m\n\u001b[1;32m-> 1156\u001b[0m loc \u001b[38;5;241m=\u001b[39m \u001b[38;5;28;43mself\u001b[39;49m\u001b[38;5;241;43m.\u001b[39;49m\u001b[43mindex\u001b[49m\u001b[38;5;241;43m.\u001b[39;49m\u001b[43mget_loc\u001b[49m\u001b[43m(\u001b[49m\u001b[43mlabel\u001b[49m\u001b[43m)\u001b[49m\n\u001b[0;32m   1158\u001b[0m \u001b[38;5;28;01mif\u001b[39;00m is_integer(loc):\n\u001b[0;32m   1159\u001b[0m     \u001b[38;5;28;01mreturn\u001b[39;00m \u001b[38;5;28mself\u001b[39m\u001b[38;5;241m.\u001b[39m_values[loc]\n",
      "File \u001b[1;32m~\\AppData\\Local\\Programs\\Python\\Python312\\Lib\\site-packages\\pandas\\core\\indexes\\base.py:3798\u001b[0m, in \u001b[0;36mIndex.get_loc\u001b[1;34m(self, key)\u001b[0m\n\u001b[0;32m   3793\u001b[0m     \u001b[38;5;28;01mif\u001b[39;00m \u001b[38;5;28misinstance\u001b[39m(casted_key, \u001b[38;5;28mslice\u001b[39m) \u001b[38;5;129;01mor\u001b[39;00m (\n\u001b[0;32m   3794\u001b[0m         \u001b[38;5;28misinstance\u001b[39m(casted_key, abc\u001b[38;5;241m.\u001b[39mIterable)\n\u001b[0;32m   3795\u001b[0m         \u001b[38;5;129;01mand\u001b[39;00m \u001b[38;5;28many\u001b[39m(\u001b[38;5;28misinstance\u001b[39m(x, \u001b[38;5;28mslice\u001b[39m) \u001b[38;5;28;01mfor\u001b[39;00m x \u001b[38;5;129;01min\u001b[39;00m casted_key)\n\u001b[0;32m   3796\u001b[0m     ):\n\u001b[0;32m   3797\u001b[0m         \u001b[38;5;28;01mraise\u001b[39;00m InvalidIndexError(key)\n\u001b[1;32m-> 3798\u001b[0m     \u001b[38;5;28;01mraise\u001b[39;00m \u001b[38;5;167;01mKeyError\u001b[39;00m(key) \u001b[38;5;28;01mfrom\u001b[39;00m \u001b[38;5;21;01merr\u001b[39;00m\n\u001b[0;32m   3799\u001b[0m \u001b[38;5;28;01mexcept\u001b[39;00m \u001b[38;5;167;01mTypeError\u001b[39;00m:\n\u001b[0;32m   3800\u001b[0m     \u001b[38;5;66;03m# If we have a listlike key, _check_indexing_error will raise\u001b[39;00m\n\u001b[0;32m   3801\u001b[0m     \u001b[38;5;66;03m#  InvalidIndexError. Otherwise we fall through and re-raise\u001b[39;00m\n\u001b[0;32m   3802\u001b[0m     \u001b[38;5;66;03m#  the TypeError.\u001b[39;00m\n\u001b[0;32m   3803\u001b[0m     \u001b[38;5;28mself\u001b[39m\u001b[38;5;241m.\u001b[39m_check_indexing_error(key)\n",
      "\u001b[1;31mKeyError\u001b[0m: -1"
     ]
    }
   ],
   "source": [
    "vk[-1]"
   ]
  },
  {
   "cell_type": "code",
   "execution_count": 132,
   "id": "f9d5d29b-7a9c-44e5-9060-6481b5bc8c0f",
   "metadata": {},
   "outputs": [
    {
     "data": {
      "text/plain": [
       "hindi      56\n",
       "science    67\n",
       "sst        45\n",
       "maths      89\n",
       "Name: Karan's marks, dtype: int64"
      ]
     },
     "execution_count": 132,
     "metadata": {},
     "output_type": "execute_result"
    }
   ],
   "source": [
    "marks_series"
   ]
  },
  {
   "cell_type": "code",
   "execution_count": 133,
   "id": "efb17361-cfbd-4114-944d-0b5aded1ec9d",
   "metadata": {},
   "outputs": [
    {
     "name": "stderr",
     "output_type": "stream",
     "text": [
      "C:\\Users\\DELL\\AppData\\Local\\Temp\\ipykernel_17172\\569294583.py:1: FutureWarning: Series.__getitem__ treating keys as positions is deprecated. In a future version, integer keys will always be treated as labels (consistent with DataFrame behavior). To access a value by position, use `ser.iloc[pos]`\n",
      "  marks_series[-1]\n"
     ]
    },
    {
     "data": {
      "text/plain": [
       "89"
      ]
     },
     "execution_count": 133,
     "metadata": {},
     "output_type": "execute_result"
    }
   ],
   "source": [
    "marks_series[-1]"
   ]
  },
  {
   "cell_type": "code",
   "execution_count": 134,
   "id": "3cadfa09-5d34-4430-a136-ac470b4633f5",
   "metadata": {},
   "outputs": [
    {
     "data": {
      "text/plain": [
       "match_no\n",
       "6      9\n",
       "7     34\n",
       "8      0\n",
       "9     21\n",
       "10     3\n",
       "11    10\n",
       "12    38\n",
       "13     3\n",
       "14    11\n",
       "15    50\n",
       "16     2\n",
       "Name: runs, dtype: int64"
      ]
     },
     "execution_count": 134,
     "metadata": {},
     "output_type": "execute_result"
    }
   ],
   "source": [
    "# Slicing\n",
    "\n",
    "vk[5:16]"
   ]
  },
  {
   "cell_type": "code",
   "execution_count": 135,
   "id": "67351257-ac3f-458b-99e7-9c5ecee80724",
   "metadata": {},
   "outputs": [
    {
     "data": {
      "text/plain": [
       "match_no\n",
       "211     0\n",
       "212    20\n",
       "213    73\n",
       "214    25\n",
       "215     7\n",
       "Name: runs, dtype: int64"
      ]
     },
     "execution_count": 135,
     "metadata": {},
     "output_type": "execute_result"
    }
   ],
   "source": [
    "# Negative Slicing\n",
    "\n",
    "vk[-5:]"
   ]
  },
  {
   "cell_type": "code",
   "execution_count": 136,
   "id": "3f48aeb6-c1e0-49de-8b5b-319f18866b16",
   "metadata": {},
   "outputs": [
    {
     "data": {
      "text/plain": [
       "movie\n",
       "Zindagi 50-50                      Veena Malik\n",
       "Zindagi Na Milegi Dobara        Hrithik Roshan\n",
       "Zindagi Tere Naam           Mithun Chakraborty\n",
       "Zokkomon                       Darsheel Safary\n",
       "Zor Lagaa Ke...Haiya!            Meghan Jadhav\n",
       "Name: lead, dtype: object"
      ]
     },
     "execution_count": 136,
     "metadata": {},
     "output_type": "execute_result"
    }
   ],
   "source": [
    "movies[-5:]"
   ]
  },
  {
   "cell_type": "code",
   "execution_count": 137,
   "id": "0d635d6c-7759-489f-9171-fe97cd699cc1",
   "metadata": {},
   "outputs": [
    {
     "data": {
      "text/plain": [
       "movie\n",
       "1920: London           Sharman Joshi\n",
       "1971 (2007 film)      Manoj Bajpayee\n",
       "22 Yards                 Barun Sobti\n",
       "3 Deewarein         Naseeruddin Shah\n",
       "3 Storeys                Aisha Ahmed\n",
       "Name: lead, dtype: object"
      ]
     },
     "execution_count": 137,
     "metadata": {},
     "output_type": "execute_result"
    }
   ],
   "source": [
    "movies[1:10:2]"
   ]
  },
  {
   "cell_type": "code",
   "execution_count": 139,
   "id": "de2b85fe-44dc-412a-bbba-9f74146a9257",
   "metadata": {},
   "outputs": [
    {
     "data": {
      "text/plain": [
       "match_no\n",
       "1     1\n",
       "2    23\n",
       "3    13\n",
       "5     1\n",
       "Name: runs, dtype: int64"
      ]
     },
     "execution_count": 139,
     "metadata": {},
     "output_type": "execute_result"
    }
   ],
   "source": [
    "# Fancy indexing\n",
    "\n",
    "vk[[1,2,3,5]]"
   ]
  },
  {
   "cell_type": "code",
   "execution_count": 140,
   "id": "35f49e00-4098-44c7-aa0a-acf761a2977c",
   "metadata": {},
   "outputs": [
    {
     "data": {
      "text/plain": [
       "movie\n",
       "1920 (film)                   Rajniesh Duggall\n",
       "1920: London                     Sharman Joshi\n",
       "1920: The Evil Returns             Vicky Ahuja\n",
       "1971 (2007 film)                Manoj Bajpayee\n",
       "2 States (2014 film)              Arjun Kapoor\n",
       "                                   ...        \n",
       "Zindagi 50-50                      Veena Malik\n",
       "Zindagi Na Milegi Dobara        Hrithik Roshan\n",
       "Zindagi Tere Naam           Mithun Chakraborty\n",
       "Zokkomon                       Darsheel Safary\n",
       "Zor Lagaa Ke...Haiya!            Meghan Jadhav\n",
       "Name: lead, Length: 1500, dtype: object"
      ]
     },
     "execution_count": 140,
     "metadata": {},
     "output_type": "execute_result"
    }
   ],
   "source": [
    "movies"
   ]
  },
  {
   "cell_type": "code",
   "execution_count": 141,
   "id": "53475ac8-5c1c-4d90-b051-3335b2cc5fde",
   "metadata": {},
   "outputs": [
    {
     "data": {
      "text/plain": [
       "'Veena Malik'"
      ]
     },
     "execution_count": 141,
     "metadata": {},
     "output_type": "execute_result"
    }
   ],
   "source": [
    "# Indexing with labels\n",
    "\n",
    "movies['Zindagi 50-50']"
   ]
  },
  {
   "cell_type": "markdown",
   "id": "7a0fe673-ca26-496b-a0d2-1500d3b59407",
   "metadata": {},
   "source": [
    "### Editing Series"
   ]
  },
  {
   "cell_type": "code",
   "execution_count": 142,
   "id": "c326358f-c5df-4919-9db2-6ab12271d6db",
   "metadata": {},
   "outputs": [
    {
     "data": {
      "text/plain": [
       "hindi      56\n",
       "science    67\n",
       "sst        45\n",
       "maths      89\n",
       "Name: Karan's marks, dtype: int64"
      ]
     },
     "execution_count": 142,
     "metadata": {},
     "output_type": "execute_result"
    }
   ],
   "source": [
    "# Using indexing\n",
    "\n",
    "marks_series"
   ]
  },
  {
   "cell_type": "code",
   "execution_count": 143,
   "id": "0c1a8f4f-98b1-468f-8094-62894d2c1979",
   "metadata": {},
   "outputs": [
    {
     "name": "stderr",
     "output_type": "stream",
     "text": [
      "C:\\Users\\DELL\\AppData\\Local\\Temp\\ipykernel_17172\\2388216087.py:1: FutureWarning: Series.__setitem__ treating keys as positions is deprecated. In a future version, integer keys will always be treated as labels (consistent with DataFrame behavior). To set a value by position, use `ser.iloc[pos] = value`\n",
      "  marks_series[0] = 90\n"
     ]
    }
   ],
   "source": [
    "marks_series[0] = 90"
   ]
  },
  {
   "cell_type": "code",
   "execution_count": 144,
   "id": "e0ca7483-6ad3-41ff-bfed-12dc8139faef",
   "metadata": {},
   "outputs": [
    {
     "data": {
      "text/plain": [
       "hindi      90\n",
       "science    67\n",
       "sst        45\n",
       "maths      89\n",
       "Name: Karan's marks, dtype: int64"
      ]
     },
     "execution_count": 144,
     "metadata": {},
     "output_type": "execute_result"
    }
   ],
   "source": [
    "marks_series"
   ]
  },
  {
   "cell_type": "code",
   "execution_count": 148,
   "id": "a2efddce-9152-43d3-9828-e4eddf43232b",
   "metadata": {},
   "outputs": [
    {
     "data": {
      "text/plain": [
       "hindi      90\n",
       "science    67\n",
       "sst        45\n",
       "maths      89\n",
       "english    85\n",
       "Name: Karan's marks, dtype: int64"
      ]
     },
     "execution_count": 148,
     "metadata": {},
     "output_type": "execute_result"
    }
   ],
   "source": [
    "# what if an index does not exist\n",
    "\n",
    "marks_series['english'] = 85\n",
    "\n",
    "marks_series"
   ]
  },
  {
   "cell_type": "code",
   "execution_count": 147,
   "id": "f2d92cf1-5000-49b6-8b82-cae20e155b15",
   "metadata": {},
   "outputs": [
    {
     "ename": "KeyError",
     "evalue": "'evs'",
     "output_type": "error",
     "traceback": [
      "\u001b[1;31m---------------------------------------------------------------------------\u001b[0m",
      "\u001b[1;31mKeyError\u001b[0m                                  Traceback (most recent call last)",
      "File \u001b[1;32m~\\AppData\\Local\\Programs\\Python\\Python312\\Lib\\site-packages\\pandas\\core\\indexes\\base.py:3791\u001b[0m, in \u001b[0;36mIndex.get_loc\u001b[1;34m(self, key)\u001b[0m\n\u001b[0;32m   3790\u001b[0m \u001b[38;5;28;01mtry\u001b[39;00m:\n\u001b[1;32m-> 3791\u001b[0m     \u001b[38;5;28;01mreturn\u001b[39;00m \u001b[38;5;28;43mself\u001b[39;49m\u001b[38;5;241;43m.\u001b[39;49m\u001b[43m_engine\u001b[49m\u001b[38;5;241;43m.\u001b[39;49m\u001b[43mget_loc\u001b[49m\u001b[43m(\u001b[49m\u001b[43mcasted_key\u001b[49m\u001b[43m)\u001b[49m\n\u001b[0;32m   3792\u001b[0m \u001b[38;5;28;01mexcept\u001b[39;00m \u001b[38;5;167;01mKeyError\u001b[39;00m \u001b[38;5;28;01mas\u001b[39;00m err:\n",
      "File \u001b[1;32mindex.pyx:152\u001b[0m, in \u001b[0;36mpandas._libs.index.IndexEngine.get_loc\u001b[1;34m()\u001b[0m\n",
      "File \u001b[1;32mindex.pyx:181\u001b[0m, in \u001b[0;36mpandas._libs.index.IndexEngine.get_loc\u001b[1;34m()\u001b[0m\n",
      "File \u001b[1;32mpandas\\_libs\\hashtable_class_helper.pxi:7080\u001b[0m, in \u001b[0;36mpandas._libs.hashtable.PyObjectHashTable.get_item\u001b[1;34m()\u001b[0m\n",
      "File \u001b[1;32mpandas\\_libs\\hashtable_class_helper.pxi:7088\u001b[0m, in \u001b[0;36mpandas._libs.hashtable.PyObjectHashTable.get_item\u001b[1;34m()\u001b[0m\n",
      "\u001b[1;31mKeyError\u001b[0m: 'evs'",
      "\nThe above exception was the direct cause of the following exception:\n",
      "\u001b[1;31mKeyError\u001b[0m                                  Traceback (most recent call last)",
      "Cell \u001b[1;32mIn[147], line 1\u001b[0m\n\u001b[1;32m----> 1\u001b[0m \u001b[43mmarks_series\u001b[49m\u001b[43m[\u001b[49m\u001b[38;5;124;43m'\u001b[39;49m\u001b[38;5;124;43mevs\u001b[39;49m\u001b[38;5;124;43m'\u001b[39;49m\u001b[43m]\u001b[49m\n",
      "File \u001b[1;32m~\\AppData\\Local\\Programs\\Python\\Python312\\Lib\\site-packages\\pandas\\core\\series.py:1040\u001b[0m, in \u001b[0;36mSeries.__getitem__\u001b[1;34m(self, key)\u001b[0m\n\u001b[0;32m   1037\u001b[0m     \u001b[38;5;28;01mreturn\u001b[39;00m \u001b[38;5;28mself\u001b[39m\u001b[38;5;241m.\u001b[39m_values[key]\n\u001b[0;32m   1039\u001b[0m \u001b[38;5;28;01melif\u001b[39;00m key_is_scalar:\n\u001b[1;32m-> 1040\u001b[0m     \u001b[38;5;28;01mreturn\u001b[39;00m \u001b[38;5;28;43mself\u001b[39;49m\u001b[38;5;241;43m.\u001b[39;49m\u001b[43m_get_value\u001b[49m\u001b[43m(\u001b[49m\u001b[43mkey\u001b[49m\u001b[43m)\u001b[49m\n\u001b[0;32m   1042\u001b[0m \u001b[38;5;66;03m# Convert generator to list before going through hashable part\u001b[39;00m\n\u001b[0;32m   1043\u001b[0m \u001b[38;5;66;03m# (We will iterate through the generator there to check for slices)\u001b[39;00m\n\u001b[0;32m   1044\u001b[0m \u001b[38;5;28;01mif\u001b[39;00m is_iterator(key):\n",
      "File \u001b[1;32m~\\AppData\\Local\\Programs\\Python\\Python312\\Lib\\site-packages\\pandas\\core\\series.py:1156\u001b[0m, in \u001b[0;36mSeries._get_value\u001b[1;34m(self, label, takeable)\u001b[0m\n\u001b[0;32m   1153\u001b[0m     \u001b[38;5;28;01mreturn\u001b[39;00m \u001b[38;5;28mself\u001b[39m\u001b[38;5;241m.\u001b[39m_values[label]\n\u001b[0;32m   1155\u001b[0m \u001b[38;5;66;03m# Similar to Index.get_value, but we do not fall back to positional\u001b[39;00m\n\u001b[1;32m-> 1156\u001b[0m loc \u001b[38;5;241m=\u001b[39m \u001b[38;5;28;43mself\u001b[39;49m\u001b[38;5;241;43m.\u001b[39;49m\u001b[43mindex\u001b[49m\u001b[38;5;241;43m.\u001b[39;49m\u001b[43mget_loc\u001b[49m\u001b[43m(\u001b[49m\u001b[43mlabel\u001b[49m\u001b[43m)\u001b[49m\n\u001b[0;32m   1158\u001b[0m \u001b[38;5;28;01mif\u001b[39;00m is_integer(loc):\n\u001b[0;32m   1159\u001b[0m     \u001b[38;5;28;01mreturn\u001b[39;00m \u001b[38;5;28mself\u001b[39m\u001b[38;5;241m.\u001b[39m_values[loc]\n",
      "File \u001b[1;32m~\\AppData\\Local\\Programs\\Python\\Python312\\Lib\\site-packages\\pandas\\core\\indexes\\base.py:3798\u001b[0m, in \u001b[0;36mIndex.get_loc\u001b[1;34m(self, key)\u001b[0m\n\u001b[0;32m   3793\u001b[0m     \u001b[38;5;28;01mif\u001b[39;00m \u001b[38;5;28misinstance\u001b[39m(casted_key, \u001b[38;5;28mslice\u001b[39m) \u001b[38;5;129;01mor\u001b[39;00m (\n\u001b[0;32m   3794\u001b[0m         \u001b[38;5;28misinstance\u001b[39m(casted_key, abc\u001b[38;5;241m.\u001b[39mIterable)\n\u001b[0;32m   3795\u001b[0m         \u001b[38;5;129;01mand\u001b[39;00m \u001b[38;5;28many\u001b[39m(\u001b[38;5;28misinstance\u001b[39m(x, \u001b[38;5;28mslice\u001b[39m) \u001b[38;5;28;01mfor\u001b[39;00m x \u001b[38;5;129;01min\u001b[39;00m casted_key)\n\u001b[0;32m   3796\u001b[0m     ):\n\u001b[0;32m   3797\u001b[0m         \u001b[38;5;28;01mraise\u001b[39;00m InvalidIndexError(key)\n\u001b[1;32m-> 3798\u001b[0m     \u001b[38;5;28;01mraise\u001b[39;00m \u001b[38;5;167;01mKeyError\u001b[39;00m(key) \u001b[38;5;28;01mfrom\u001b[39;00m \u001b[38;5;21;01merr\u001b[39;00m\n\u001b[0;32m   3799\u001b[0m \u001b[38;5;28;01mexcept\u001b[39;00m \u001b[38;5;167;01mTypeError\u001b[39;00m:\n\u001b[0;32m   3800\u001b[0m     \u001b[38;5;66;03m# If we have a listlike key, _check_indexing_error will raise\u001b[39;00m\n\u001b[0;32m   3801\u001b[0m     \u001b[38;5;66;03m#  InvalidIndexError. Otherwise we fall through and re-raise\u001b[39;00m\n\u001b[0;32m   3802\u001b[0m     \u001b[38;5;66;03m#  the TypeError.\u001b[39;00m\n\u001b[0;32m   3803\u001b[0m     \u001b[38;5;28mself\u001b[39m\u001b[38;5;241m.\u001b[39m_check_indexing_error(key)\n",
      "\u001b[1;31mKeyError\u001b[0m: 'evs'"
     ]
    }
   ],
   "source": [
    "marks_series['evs']"
   ]
  },
  {
   "cell_type": "code",
   "execution_count": 149,
   "id": "2ce8da5d-bca2-4993-8059-628d2071383e",
   "metadata": {},
   "outputs": [
    {
     "data": {
      "text/plain": [
       "0     54\n",
       "1     67\n",
       "2     89\n",
       "3    100\n",
       "4     23\n",
       "5     45\n",
       "6     67\n",
       "dtype: int64"
      ]
     },
     "execution_count": 149,
     "metadata": {},
     "output_type": "execute_result"
    }
   ],
   "source": [
    "# Slicing\n",
    "\n",
    "runs_series"
   ]
  },
  {
   "cell_type": "code",
   "execution_count": 151,
   "id": "fb922272-632b-4845-b019-a58030f068f9",
   "metadata": {},
   "outputs": [],
   "source": [
    "runs_series[0:3] = [23,34,56]"
   ]
  },
  {
   "cell_type": "code",
   "execution_count": 152,
   "id": "e41f8088-7bb5-48cd-8d65-cdc6eb4f94bb",
   "metadata": {},
   "outputs": [
    {
     "data": {
      "text/plain": [
       "0     23\n",
       "1     34\n",
       "2     56\n",
       "3    100\n",
       "4     23\n",
       "5     45\n",
       "6     67\n",
       "dtype: int64"
      ]
     },
     "execution_count": 152,
     "metadata": {},
     "output_type": "execute_result"
    }
   ],
   "source": [
    "runs_series"
   ]
  },
  {
   "cell_type": "code",
   "execution_count": 153,
   "id": "3ac9833a-c47d-4345-86a1-c721939fce0f",
   "metadata": {},
   "outputs": [
    {
     "data": {
      "text/plain": [
       "0     0\n",
       "1    34\n",
       "2    56\n",
       "3     0\n",
       "4    23\n",
       "5     0\n",
       "6    67\n",
       "dtype: int64"
      ]
     },
     "execution_count": 153,
     "metadata": {},
     "output_type": "execute_result"
    }
   ],
   "source": [
    "# Fancy Indexing\n",
    "\n",
    "runs_series[[0,3,5]] = [0,0,0]\n",
    "\n",
    "runs_series"
   ]
  },
  {
   "cell_type": "code",
   "execution_count": 154,
   "id": "bfc247d4-7dca-46cc-a997-f6e816a8c217",
   "metadata": {},
   "outputs": [
    {
     "data": {
      "text/plain": [
       "movie\n",
       "1920 (film)                   Rajniesh Duggall\n",
       "1920: London                     Sharman Joshi\n",
       "1920: The Evil Returns             Vicky Ahuja\n",
       "1971 (2007 film)                Manoj Bajpayee\n",
       "2 States (2014 film)              Arjun Kapoor\n",
       "                                   ...        \n",
       "Zindagi 50-50                      Veena Malik\n",
       "Zindagi Na Milegi Dobara        Hrithik Roshan\n",
       "Zindagi Tere Naam           Mithun Chakraborty\n",
       "Zokkomon                       Darsheel Safary\n",
       "Zor Lagaa Ke...Haiya!            Meghan Jadhav\n",
       "Name: lead, Length: 1500, dtype: object"
      ]
     },
     "execution_count": 154,
     "metadata": {},
     "output_type": "execute_result"
    }
   ],
   "source": [
    "# Using index label\n",
    "\n",
    "movies"
   ]
  },
  {
   "cell_type": "code",
   "execution_count": 155,
   "id": "d1d96abd-5dae-478a-9526-4b0823598ce0",
   "metadata": {},
   "outputs": [
    {
     "data": {
      "text/plain": [
       "movie\n",
       "1920 (film)                   Rajniesh Duggall\n",
       "1920: London                     Sharman Joshi\n",
       "1920: The Evil Returns             Vicky Ahuja\n",
       "1971 (2007 film)                Manoj Bajpayee\n",
       "2 States (2014 film)                Alia Bhatt\n",
       "                                   ...        \n",
       "Zindagi 50-50                      Veena Malik\n",
       "Zindagi Na Milegi Dobara        Hrithik Roshan\n",
       "Zindagi Tere Naam           Mithun Chakraborty\n",
       "Zokkomon                       Darsheel Safary\n",
       "Zor Lagaa Ke...Haiya!            Meghan Jadhav\n",
       "Name: lead, Length: 1500, dtype: object"
      ]
     },
     "execution_count": 155,
     "metadata": {},
     "output_type": "execute_result"
    }
   ],
   "source": [
    "movies['2 States (2014 film)'] = 'Alia Bhatt'\n",
    "movies"
   ]
  },
  {
   "cell_type": "markdown",
   "id": "9c997f57-3038-47d5-ada2-5426e032bd67",
   "metadata": {},
   "source": [
    "- Generally, editing is not done in real datasets."
   ]
  },
  {
   "cell_type": "markdown",
   "id": "81c0576f-5d0b-4eeb-b133-d6cb402f03e9",
   "metadata": {},
   "source": [
    "### Series with Python functionalities"
   ]
  },
  {
   "cell_type": "code",
   "execution_count": 158,
   "id": "3587d1fb-cf42-46d3-a139-42e0db963f5b",
   "metadata": {},
   "outputs": [
    {
     "name": "stdout",
     "output_type": "stream",
     "text": [
      "365\n",
      "<class 'pandas.core.series.Series'>\n",
      "['T', '_AXIS_LEN', '_AXIS_ORDERS', '_AXIS_TO_AXIS_NUMBER', '_HANDLED_TYPES', '__abs__', '__add__', '__and__', '__annotations__', '__array__', '__array_priority__', '__array_ufunc__', '__bool__', '__class__', '__column_consortium_standard__', '__contains__', '__copy__', '__deepcopy__', '__delattr__', '__delitem__', '__dict__', '__dir__', '__divmod__', '__doc__', '__eq__', '__finalize__', '__float__', '__floordiv__', '__format__', '__ge__', '__getattr__', '__getattribute__', '__getitem__', '__getstate__', '__gt__', '__hash__', '__iadd__', '__iand__', '__ifloordiv__', '__imod__', '__imul__', '__init__', '__init_subclass__', '__int__', '__invert__', '__ior__', '__ipow__', '__isub__', '__iter__', '__itruediv__', '__ixor__', '__le__', '__len__', '__lt__', '__matmul__', '__mod__', '__module__', '__mul__', '__ne__', '__neg__', '__new__', '__nonzero__', '__or__', '__pandas_priority__', '__pos__', '__pow__', '__radd__', '__rand__', '__rdivmod__', '__reduce__', '__reduce_ex__', '__repr__', '__rfloordiv__', '__rmatmul__', '__rmod__', '__rmul__', '__ror__', '__round__', '__rpow__', '__rsub__', '__rtruediv__', '__rxor__', '__setattr__', '__setitem__', '__setstate__', '__sizeof__', '__str__', '__sub__', '__subclasshook__', '__truediv__', '__weakref__', '__xor__', '_accessors', '_accum_func', '_agg_examples_doc', '_agg_see_also_doc', '_align_for_op', '_align_frame', '_align_series', '_append', '_arith_method', '_as_manager', '_attrs', '_binop', '_cacher', '_can_hold_na', '_check_inplace_and_allows_duplicate_labels', '_check_is_chained_assignment_possible', '_check_label_or_level_ambiguity', '_check_setitem_copy', '_clear_item_cache', '_clip_with_one_bound', '_clip_with_scalar', '_cmp_method', '_consolidate', '_consolidate_inplace', '_construct_axes_dict', '_construct_result', '_constructor', '_constructor_expanddim', '_constructor_expanddim_from_mgr', '_constructor_from_mgr', '_convert_dtypes', '_data', '_deprecate_downcast', '_dir_additions', '_dir_deletions', '_drop_axis', '_drop_labels_or_levels', '_duplicated', '_expanddim_from_mgr', '_find_valid_index', '_flags', '_flex_method', '_from_mgr', '_get_axis', '_get_axis_name', '_get_axis_number', '_get_axis_resolvers', '_get_block_manager_axis', '_get_bool_data', '_get_cacher', '_get_cleaned_column_resolvers', '_get_index_resolvers', '_get_label_or_level_values', '_get_numeric_data', '_get_rows_with_mask', '_get_value', '_get_values_tuple', '_get_with', '_getitem_slice', '_gotitem', '_hidden_attrs', '_indexed_same', '_info_axis', '_info_axis_name', '_info_axis_number', '_init_dict', '_init_mgr', '_inplace_method', '_internal_names', '_internal_names_set', '_is_cached', '_is_copy', '_is_label_or_level_reference', '_is_label_reference', '_is_level_reference', '_is_mixed_type', '_is_view', '_item_cache', '_ixs', '_logical_func', '_logical_method', '_map_values', '_maybe_update_cacher', '_memory_usage', '_metadata', '_mgr', '_min_count_stat_function', '_name', '_needs_reindex_multi', '_pad_or_backfill', '_protect_consolidate', '_reduce', '_references', '_reindex_axes', '_reindex_indexer', '_reindex_multi', '_reindex_with_indexers', '_rename', '_replace_single', '_repr_data_resource_', '_repr_latex_', '_reset_cache', '_reset_cacher', '_set_as_cached', '_set_axis', '_set_axis_name', '_set_axis_nocheck', '_set_is_copy', '_set_labels', '_set_name', '_set_value', '_set_values', '_set_with', '_set_with_engine', '_shift_with_freq', '_slice', '_stat_function', '_stat_function_ddof', '_take_with_is_copy', '_to_latex_via_styler', '_typ', '_update_inplace', '_validate_dtype', '_values', '_where', 'abs', 'add', 'add_prefix', 'add_suffix', 'agg', 'aggregate', 'align', 'all', 'any', 'apply', 'argmax', 'argmin', 'argsort', 'array', 'asfreq', 'asof', 'astype', 'at', 'at_time', 'attrs', 'autocorr', 'axes', 'backfill', 'between', 'between_time', 'bfill', 'bool', 'clip', 'combine', 'combine_first', 'compare', 'convert_dtypes', 'copy', 'corr', 'count', 'cov', 'cummax', 'cummin', 'cumprod', 'cumsum', 'describe', 'diff', 'div', 'divide', 'divmod', 'dot', 'drop', 'drop_duplicates', 'droplevel', 'dropna', 'dtype', 'dtypes', 'duplicated', 'empty', 'eq', 'equals', 'ewm', 'expanding', 'explode', 'factorize', 'ffill', 'fillna', 'filter', 'first', 'first_valid_index', 'flags', 'floordiv', 'ge', 'get', 'groupby', 'gt', 'hasnans', 'head', 'hist', 'iat', 'idxmax', 'idxmin', 'iloc', 'index', 'infer_objects', 'info', 'interpolate', 'is_monotonic_decreasing', 'is_monotonic_increasing', 'is_unique', 'isin', 'isna', 'isnull', 'item', 'items', 'keys', 'kurt', 'kurtosis', 'last', 'last_valid_index', 'le', 'loc', 'lt', 'map', 'mask', 'max', 'mean', 'median', 'memory_usage', 'min', 'mod', 'mode', 'mul', 'multiply', 'name', 'nbytes', 'ndim', 'ne', 'nlargest', 'notna', 'notnull', 'nsmallest', 'nunique', 'pad', 'pct_change', 'pipe', 'plot', 'pop', 'pow', 'prod', 'product', 'quantile', 'radd', 'rank', 'ravel', 'rdiv', 'rdivmod', 'reindex', 'reindex_like', 'rename', 'rename_axis', 'reorder_levels', 'repeat', 'replace', 'resample', 'reset_index', 'rfloordiv', 'rmod', 'rmul', 'rolling', 'round', 'rpow', 'rsub', 'rtruediv', 'sample', 'searchsorted', 'sem', 'set_axis', 'set_flags', 'shape', 'shift', 'size', 'skew', 'sort_index', 'sort_values', 'squeeze', 'std', 'sub', 'subtract', 'sum', 'swapaxes', 'swaplevel', 'tail', 'take', 'to_clipboard', 'to_csv', 'to_dict', 'to_excel', 'to_frame', 'to_hdf', 'to_json', 'to_latex', 'to_list', 'to_markdown', 'to_numpy', 'to_period', 'to_pickle', 'to_sql', 'to_string', 'to_timestamp', 'to_xarray', 'transform', 'transpose', 'truediv', 'truncate', 'tz_convert', 'tz_localize', 'unique', 'unstack', 'update', 'value_counts', 'values', 'var', 'view', 'where', 'xs']\n"
     ]
    }
   ],
   "source": [
    "# len/type/dir/sorted/max/min\n",
    "\n",
    "print(len(subs))\n",
    "print(type(subs))\n",
    "print(dir(subs))"
   ]
  },
  {
   "cell_type": "code",
   "execution_count": 159,
   "id": "326700dc-54fd-4a8a-98c6-7e1a5ccb84bf",
   "metadata": {},
   "outputs": [
    {
     "name": "stdout",
     "output_type": "stream",
     "text": [
      "[33, 33, 35, 37, 39, 40, 40, 40, 40, 42, 42, 43, 44, 44, 44, 45, 46, 46, 48, 49, 49, 49, 49, 50, 50, 50, 51, 54, 56, 56, 56, 56, 57, 61, 62, 64, 65, 65, 66, 66, 66, 66, 67, 68, 70, 70, 70, 71, 71, 72, 72, 72, 72, 72, 73, 74, 74, 75, 76, 76, 76, 76, 77, 77, 78, 78, 78, 79, 79, 80, 80, 80, 81, 81, 82, 82, 83, 83, 83, 84, 84, 84, 85, 86, 86, 86, 87, 87, 87, 87, 88, 88, 88, 88, 88, 89, 89, 89, 90, 90, 90, 90, 91, 92, 92, 92, 93, 93, 93, 93, 95, 95, 96, 96, 96, 96, 97, 97, 98, 98, 99, 99, 100, 100, 100, 101, 101, 101, 102, 102, 103, 103, 104, 104, 104, 105, 105, 105, 105, 105, 105, 105, 105, 105, 108, 108, 108, 108, 108, 108, 109, 109, 110, 110, 110, 111, 111, 112, 113, 113, 113, 114, 114, 114, 114, 115, 115, 115, 115, 117, 117, 117, 118, 118, 119, 119, 119, 119, 120, 122, 123, 123, 123, 123, 123, 124, 125, 126, 127, 128, 128, 129, 130, 131, 131, 132, 132, 134, 134, 134, 135, 135, 136, 136, 136, 137, 138, 138, 138, 139, 140, 144, 145, 146, 146, 146, 146, 147, 149, 150, 150, 150, 150, 151, 152, 152, 152, 153, 153, 153, 154, 154, 154, 155, 155, 156, 156, 156, 156, 157, 157, 157, 157, 158, 158, 159, 159, 160, 160, 160, 160, 162, 164, 166, 167, 167, 168, 170, 170, 170, 170, 171, 172, 172, 173, 173, 173, 174, 174, 175, 175, 176, 176, 177, 178, 179, 179, 180, 180, 180, 182, 183, 183, 183, 184, 184, 184, 185, 185, 185, 185, 186, 186, 186, 188, 189, 190, 190, 192, 192, 192, 196, 196, 196, 197, 197, 202, 202, 202, 203, 204, 206, 207, 209, 210, 210, 211, 212, 213, 214, 216, 219, 220, 221, 221, 222, 222, 224, 225, 225, 226, 227, 228, 229, 230, 231, 233, 236, 236, 237, 241, 243, 244, 245, 247, 249, 254, 254, 258, 259, 259, 261, 261, 265, 267, 268, 269, 276, 276, 290, 295, 301, 306, 312, 396]\n"
     ]
    }
   ],
   "source": [
    "print(sorted(subs))"
   ]
  },
  {
   "cell_type": "code",
   "execution_count": 160,
   "id": "83a60dab-f706-43b9-a980-50bef68b6afb",
   "metadata": {},
   "outputs": [
    {
     "name": "stdout",
     "output_type": "stream",
     "text": [
      "33\n",
      "396\n"
     ]
    }
   ],
   "source": [
    "print(min(subs))\n",
    "print(max(subs))"
   ]
  },
  {
   "cell_type": "code",
   "execution_count": 161,
   "id": "4004fa8c-702b-4aee-96b8-e6ef1828fcde",
   "metadata": {},
   "outputs": [
    {
     "data": {
      "text/plain": [
       "hindi      90\n",
       "science    67\n",
       "sst        45\n",
       "maths      89\n",
       "english    85\n",
       "Name: Karan's marks, dtype: int64"
      ]
     },
     "execution_count": 161,
     "metadata": {},
     "output_type": "execute_result"
    }
   ],
   "source": [
    "# Type conversion\n",
    "\n",
    "marks_series"
   ]
  },
  {
   "cell_type": "code",
   "execution_count": 162,
   "id": "6bc38e00-420c-474c-ad11-c8ec2a2164d5",
   "metadata": {},
   "outputs": [
    {
     "data": {
      "text/plain": [
       "[90, 67, 45, 89, 85]"
      ]
     },
     "execution_count": 162,
     "metadata": {},
     "output_type": "execute_result"
    }
   ],
   "source": [
    "list(marks_series)"
   ]
  },
  {
   "cell_type": "code",
   "execution_count": 163,
   "id": "2bde6fad-b977-4852-aa6b-e6632660c99a",
   "metadata": {},
   "outputs": [
    {
     "data": {
      "text/plain": [
       "{'hindi': 90, 'science': 67, 'sst': 45, 'maths': 89, 'english': 85}"
      ]
     },
     "execution_count": 163,
     "metadata": {},
     "output_type": "execute_result"
    }
   ],
   "source": [
    "dict(marks_series)"
   ]
  },
  {
   "cell_type": "code",
   "execution_count": 164,
   "id": "91a01af0-1246-4470-a75b-9cce8e3ee398",
   "metadata": {},
   "outputs": [
    {
     "data": {
      "text/plain": [
       "movie\n",
       "1920 (film)                   Rajniesh Duggall\n",
       "1920: London                     Sharman Joshi\n",
       "1920: The Evil Returns             Vicky Ahuja\n",
       "1971 (2007 film)                Manoj Bajpayee\n",
       "2 States (2014 film)                Alia Bhatt\n",
       "                                   ...        \n",
       "Zindagi 50-50                      Veena Malik\n",
       "Zindagi Na Milegi Dobara        Hrithik Roshan\n",
       "Zindagi Tere Naam           Mithun Chakraborty\n",
       "Zokkomon                       Darsheel Safary\n",
       "Zor Lagaa Ke...Haiya!            Meghan Jadhav\n",
       "Name: lead, Length: 1500, dtype: object"
      ]
     },
     "execution_count": 164,
     "metadata": {},
     "output_type": "execute_result"
    }
   ],
   "source": [
    "# membership operator\n",
    "\n",
    "movies"
   ]
  },
  {
   "cell_type": "code",
   "execution_count": 171,
   "id": "ff829a66-da76-4948-8810-3a6e6d115627",
   "metadata": {},
   "outputs": [
    {
     "data": {
      "text/plain": [
       "True"
      ]
     },
     "execution_count": 171,
     "metadata": {},
     "output_type": "execute_result"
    }
   ],
   "source": [
    "# works for index not values because it seaches in indexes not values\n",
    "\n",
    "'Zokkomon' in movies"
   ]
  },
  {
   "cell_type": "code",
   "execution_count": 166,
   "id": "51bb81b0-f6b5-41fb-8bad-40247eedc76a",
   "metadata": {},
   "outputs": [
    {
     "data": {
      "text/plain": [
       "False"
      ]
     },
     "execution_count": 166,
     "metadata": {},
     "output_type": "execute_result"
    }
   ],
   "source": [
    "'Mithun Chakraborty' in movies"
   ]
  },
  {
   "cell_type": "code",
   "execution_count": 172,
   "id": "a05ffe63-8df7-4c25-98c5-2cd0717f1d78",
   "metadata": {},
   "outputs": [
    {
     "data": {
      "text/plain": [
       "True"
      ]
     },
     "execution_count": 172,
     "metadata": {},
     "output_type": "execute_result"
    }
   ],
   "source": [
    "# If we want it to work for values then\n",
    "\n",
    "'Mithun Chakraborty' in movies.values"
   ]
  },
  {
   "cell_type": "code",
   "execution_count": 174,
   "id": "776f2e15-e296-4125-9fca-c6158c0557b0",
   "metadata": {},
   "outputs": [
    {
     "name": "stdout",
     "output_type": "stream",
     "text": [
      "Rajniesh Duggall\n",
      "Sharman Joshi\n",
      "Vicky Ahuja\n",
      "Manoj Bajpayee\n",
      "Alia Bhatt\n",
      "Barun Sobti\n",
      "Salil Acharya\n",
      "Naseeruddin Shah\n",
      "Aamir Khan\n",
      "Aisha Ahmed\n",
      "Soha Ali Khan\n",
      "Akshaye Khanna\n",
      "Neil Nitin Mukesh\n",
      "Sara Arjun\n",
      "Nargis Fakhri\n",
      "Mouli Ganguly\n",
      "Vipin Sharma\n",
      "Priyanka Chopra\n",
      "Juhi Chawla\n",
      "Atul Kulkarni\n",
      "Kunal Khemu\n",
      "Shawar Ali\n",
      "Kiran Bhatia\n",
      "Shabana Azmi\n",
      "Jimmy Sheirgill\n",
      "Tiger Shroff\n",
      "Sidharth Malhotra\n",
      "Prabhu Deva\n",
      "Neil Nitin Mukesh\n",
      "Govinda\n",
      "Naveen Bawa\n",
      "Amitabh Bachchan\n",
      "Shreyas Talpade\n",
      "Sudesh Berry\n",
      "Madhuri Dixit\n",
      "Paul Sidhu\n",
      "Ajay Devgn\n",
      "Omkar Das Manikpuri\n",
      "Shatrughan Sinha\n",
      "Arun Bakshi\n",
      "Amitabh Bachchan\n",
      "Himesh Reshammiya\n",
      "Akshaye Khanna\n",
      "Priyanshu Chatterjee\n",
      "Amitabh Bachchan\n",
      "John Abraham\n",
      "Emraan Hashmi\n",
      "Aditya Roy Kapoor\n",
      "Ishaan Manhaas\n",
      "Hrishitaa Bhatt\n",
      "Sachiin Joshi\n",
      "Nana Patekar\n",
      "Amitabh Bachchan\n",
      "Farooq Shaikh\n",
      "Fardeen Khan\n",
      "Prabhas\n",
      "Akshay Kumar\n",
      "Rahul Dev\n",
      "Ranbir Kapoor\n",
      "Amitabh Bachchan\n",
      "Kareena Kapoor\n",
      "Tusshar Kapoor\n",
      "Hrithik Roshan\n",
      "Jimmy Sheirgill\n",
      "Abhay Deol\n",
      "Akshay Kumar\n",
      "Rati Agnihotri\n",
      "Yashpal Sharma\n",
      "Akshay Kumar\n",
      "Sidharth Malhotra\n",
      "Rani Mukerji\n",
      "Jackky Bhagnani\n",
      "Ranbir Kapoor\n",
      "Sushama Deshpande\n",
      "Kartik Aaryan\n",
      "Emraan Hashmi\n",
      "Zareen Khan\n",
      "Amitabh Bachchan\n",
      "Akshay Kapoor\n",
      "Manav Kaul\n",
      "Sukhesh Arora\n",
      "Rishi Kapoor\n",
      "Sanjay Dutt\n",
      "Varun Bhagwat\n",
      "Bipasha Basu\n",
      "Aftab Shivdasani\n",
      "Lillete Dubey\n",
      "Ali Asgar\n",
      "Vir Das\n",
      "Pankaj Tripathi\n",
      "Dino Morea\n",
      "Akshay Kumar\n",
      "Akshay Kumar\n",
      "Ayushmann Khurrana\n",
      "Sumit Arora\n",
      "Priyanka Chopra\n",
      "Manisha Koirala\n",
      "Aftab Shivdasani\n",
      "Sanjay Mishra\n",
      "Kay Kay Menon\n",
      "Shashank Udapurkar\n",
      "Raj Singh Chaudhary\n",
      "Sanjay Dutt\n",
      "Sachin Khedekar\n",
      "Nauheed Cyrusi\n",
      "Ajay Devgn\n",
      "Rohit Roy\n",
      "Irrfan Khan\n",
      "Bobby Darling\n",
      "Dharmendra\n",
      "Diljit Dosanjh\n",
      "Yudhveer Bakoliya\n",
      "Amitabh Bachchan\n",
      "Ayushmann Khurrana\n",
      "Sohail Khan\n",
      "Arjun Rampal\n",
      "Asrani\n",
      "Krishna Abhishek\n",
      "Arjun Kapoor\n",
      "Prakash Belawadi\n",
      "Akshay Kumar\n",
      "Emraan Hashmi\n",
      "Emraan Hashmi\n",
      "Shadab Kamal\n",
      "Mithun Chakraborty\n",
      "Amitabh Bachchan\n",
      "Shraddha Kapoor\n",
      "Tiger Shroff\n",
      "Sidharth Malhotra\n",
      "Anisa Butt\n",
      "Jackie Shroff\n",
      "Radhika Apte\n",
      "Sahil Anand\n",
      "Sudha Chandran\n",
      "Nawazuddin Siddiqui\n",
      "Akshay Kumar\n",
      "Manoj Babani\n",
      "Rekha\n",
      "Ranbir Kapoor\n",
      "Ayushmann Khurrana\n",
      "Amitabh Bachchan\n",
      "Varun Dhawan\n",
      "Annu Kapoor\n",
      "Sidhant Gupta\n",
      "Varun Dhawan\n",
      "Amitabh Bachchan\n",
      "Tusshar Kapoor\n",
      "Ranveer Singh\n",
      "Salman Khan\n",
      "Ayushmann Khurrana\n",
      "Asrani\n",
      "Urmila Matondkar\n",
      "Ranveer Singh\n",
      "Manisha Kelkar\n",
      "Hrithik Roshan\n",
      "Jacqueline Fernandez\n",
      "Riteish Deshmukh\n",
      "Riteish Deshmukh\n",
      "Naseeruddin Shah\n",
      "Bobby Deol\n",
      "Ayushmann Khurrana\n",
      "Ranbir Kapoor\n",
      "Sara Loren\n",
      "Bobby Deol\n",
      "Juhi Chawla\n",
      "Sadashiv Amrapurkar\n",
      "John Abraham\n",
      "Vicky Ahuja\n",
      "Shahid Kapoor\n",
      "Reshmi Ghosh\n",
      "Amitabh Bachchan\n",
      "Vaani Kapoor\n",
      "Amitabh Bachchan\n",
      "Rajkummar Rao\n",
      "Sunny Leone\n",
      "Naseeruddin Shah\n",
      "Anil Kapoor\n",
      "Ayushmann Khurrana\n",
      "Ishaan Khattar\n",
      "Mugdha Godse\n",
      "Kunal Khemu\n",
      "Farhan Akhtar\n",
      "Akshay Kumar\n",
      "Tabu\n",
      "Sunny Deol\n",
      "Shaurya Singh\n",
      "Harshvardhan Kapoor\n",
      "Vinay Pathak\n",
      "Vinay Pathak\n",
      "Ali Asgar\n",
      "Akshay Kumar\n",
      "Sunny Leone\n",
      "Ajay Devgn\n",
      "J.D. Chakravarthi\n",
      "Jackie Shroff\n",
      "Amitabh Bachchan\n",
      "Amitabh Bachchan\n",
      "Mischa Barton\n",
      "Dino Morea\n",
      "Sunny Deol\n",
      "Irrfan Khan\n",
      "Naushaad Abbas\n",
      "Danny Denzongpa\n",
      "Pulkit Samrat\n",
      "Amitabh Bachchan\n",
      "Kay Kay Menon\n",
      "Ajay Devgn\n",
      "Jazzy Doe\n",
      "Manish Chaudhary\n",
      "Akash\n",
      "Akshay Kumar\n",
      "Abhishek Bachchan\n",
      "Vidya Balan\n",
      "Salman Khan\n",
      "Amitabh Bachchan\n",
      "Raima Sen\n",
      "Radhika Apte\n",
      "Rani Mukerji\n",
      "Ranbir Kapoor\n",
      "Shreyas Talpade\n",
      "Sunil Pal\n",
      "Amitabh Bachchan\n",
      "Sanjay Dutt\n",
      "Akshay Kumar\n",
      "Shashank Arora\n",
      "Deepika Padukone\n",
      "Vinay Virmani\n",
      "Arjun Mathur\n",
      "Akshay Kumar\n",
      "Apoorva Arora\n",
      "Mona Ambegaonkar\n",
      "Aanchal Dwivedi\n",
      "Saayli Buva\n",
      "Saif Ali Khan\n",
      "Kavin Dave\n",
      "Atul Kulkarni\n",
      "Seema Azmi\n",
      "Abhishek Bachchan\n",
      "Neil Nitin Mukesh\n",
      "Tusshar Kapoor\n",
      "Hemant Gopal\n",
      "Anil Kapoor\n",
      "Akanksha Puri\n",
      "Ajay Devgn\n",
      "Aryan Vaid\n",
      "Naseeruddin Shah\n",
      "Tusshar Kapoor\n",
      "Soha Ali Khan\n",
      "Shah Rukh Khan\n",
      "Arjun Rampal\n",
      "Asrani\n",
      "Sagar Bhangade\n",
      "Richa Chadha\n",
      "Vickrant Mahajan\n",
      "Vinay Pathak\n",
      "Shah Rukh Khan\n",
      "Kareena Kapoor\n",
      "Bobby Deol\n",
      "Shahid Kapoor\n",
      "Somesh Agarwal\n",
      "Samir Aftab\n",
      "Mithun Chakraborty\n",
      "Jimmy Sheirgill\n",
      "Dev Anand\n",
      "Anuj Saxena\n",
      "Ali Zafar\n",
      "Sanjay Dutt\n",
      "Amitabh Bachchan\n",
      "Saif Ali Khan\n",
      "Bipasha Basu\n",
      "Deepika Padukone\n",
      "Jatin Grewal\n",
      "Jimmy Sheirgill\n",
      "Rupa Bhimani\n",
      "Natalia Janoszek\n",
      "Mohammad Amir Naji\n",
      "Farooq Shaikh\n",
      "Aarav Khanna\n",
      "Parveen Kaur\n",
      "Sushmita Sen\n",
      "Rishi Kapoor\n",
      "Manoj Bajpayee\n",
      "Anil Kapoor\n",
      "Deepak Dobriyal\n",
      "Ajay Devgn\n",
      "Kareena Kapoor\n",
      "Zayed Khan\n",
      "Ashok Banthia\n",
      "Sachin Khedekar\n",
      "Rajkummar Rao\n",
      "Mithun Chakraborty\n",
      "Shreyas Talpade\n",
      "Saif Ali Khan\n",
      "Arjun Mathur\n",
      "Sunil Grover\n",
      "Vidyut Jammwal\n",
      "Vidyut Jammwal\n",
      "Ajay Devgn\n",
      "Adhvik Mahajan\n",
      "Bipasha Basu\n",
      "Vira Sathidar\n",
      "Swanand Kirkire\n",
      "Bipasha Basu\n",
      "Emraan Hashmi\n",
      "Randeep Hooda\n",
      "Rishi Kapoor\n",
      "Yogesh Raj Mishra\n",
      "Aditya Roy Kapoor\n",
      "Salman Khan\n",
      "Salman Khan\n",
      "Salman Khan\n",
      "Arjun Rampal\n",
      "Sunil Shetty\n",
      "Himesh Reshammiya\n",
      "Aamir Khan\n",
      "Karisma Kapoor\n",
      "Fardeen Khan\n",
      "Sameera Reddy\n",
      "Amitabh Bachchan\n",
      "Jimmy Sheirgill\n",
      "Ishrat Ali\n",
      "Neil Nitin Mukesh\n",
      "Vinay Pathak\n",
      "Yash Soni\n",
      "Akshay Kumar\n",
      "Ajay Devgn\n",
      "Aftab Shivdasani\n",
      "Rajit Kapoor\n",
      "Arvind Swamy\n",
      "Raghuvir Yadav\n",
      "Manisha Koirala\n",
      "Alia Bhatt\n",
      "Madhuri Dixit\n",
      "Amitabh Bachchan\n",
      "Akshay Kumar\n",
      "Adhyayan Suman\n",
      "Satish Kaushik\n",
      "Imran Khan\n",
      "Cary Elwes\n",
      "Waheeda Rehman\n",
      "Sanjay Dutt\n",
      "Kamal Rashid Khan\n",
      "Akshay Kumar\n",
      "Sasha Aagha\n",
      "Sushant Singh Rajput\n",
      "Amitabh Bachchan\n",
      "Ram Kapoor\n",
      "Shah Rukh Khan\n",
      "RJ Balaji\n",
      "Ishaan Khattar\n",
      "Sanjay Dutt\n",
      "Krrish Chhabria\n",
      "Naseeruddin Shah\n",
      "Pankaj Kapur\n",
      "Ajay Devgn\n",
      "Prateik\n",
      "Muzamil Ibrahim\n",
      "Sharman Joshi\n",
      "Abhishek Bachchan\n",
      "Hrithik Roshan\n",
      "Aamir Khan\n",
      "Paresh Rawal\n",
      "Om Puri\n",
      "Amar Upadhyaya\n",
      "Sushant Singh Rajput\n",
      "Vikaas Kalantari\n",
      "Shahid Kapoor\n",
      "Anil Kapoor\n",
      "Emraan Hashmi\n",
      "Imaaduddin Shah\n",
      "Amitabh Bachchan\n",
      "Himansh Kohli\n",
      "Taapsee Pannu\n",
      "Arjun Rampal\n",
      "Irrfan Khan\n",
      "Shahid Kapoor\n",
      "Salman Khan\n",
      "Kapil Jhaveri\n",
      "Ajay Devgn\n",
      "Zeenat Aman\n",
      "Ira Dubey\n",
      "Shah Rukh Khan\n",
      "Rajniesh Duggall\n",
      "Anupam Kher\n",
      "Harman Baweja\n",
      "John Abraham\n",
      "Rishi Kapoor\n",
      "Kajal Aggarwal\n",
      "Adil Hussain\n",
      "Jackie Shroff\n",
      "Malaika Arora\n",
      "Shah Rukh Khan\n",
      "Shah Rukh Khan\n",
      "Mithun Chakraborty\n",
      "Rishi Kapoor\n",
      "Ronit Roy\n",
      "Ayesha Takia\n",
      "Abhishek Bachchan\n",
      "Akshay Kumar\n",
      "Ayesha Jhulka\n",
      "Sanjay Dutt\n",
      "Ayushmann Khurrana\n",
      "Aseel Adel\n",
      "Ajay Devgn\n",
      "Jayshree Arora\n",
      "Diwakar Pathak\n",
      "Sushmita Sen\n",
      "Vivek Oberoi\n",
      "Ayushmann Khurrana\n",
      "Abhishek Bachchan\n",
      "Zeenat Aman\n",
      "Sanjay Dutt\n",
      "Arbaaz Khan\n",
      "Raj Tara\n",
      "Amitabh Bachchan\n",
      "Nandita Das\n",
      "Sanjay Dutt\n",
      "Abhay Deol\n",
      "Rahul Bose\n",
      "Shiv Darshan\n",
      "Saif Ali Khan\n",
      "Jimmy Sharma\n",
      "Fardeen Khan\n",
      "Kareena Kapoor\n",
      "Sunny Leone\n",
      "Sunil Shetty\n",
      "Anita\n",
      "Bhushan Agarwal\n",
      "Salman Khan\n",
      "Emraan Hashmi\n",
      "Hema Malini\n",
      "Sidharth Malhotra\n",
      "Isha Koppikar\n",
      "Bobby Deol\n",
      "Prateik\n",
      "Anupam Kher\n",
      "Amitabh Bachchan\n",
      "Arjun Rampal\n",
      "Sunil Shetty\n",
      "Sridevi\n",
      "Akshay Kumar\n",
      "Manisha Koirala\n",
      "Mona Ambegaonkar\n",
      "Arshad Warsi\n",
      "Amitabh Bachchan\n",
      "Jimmy Sheirgill\n",
      "Arjun Rampal\n",
      "Shah Rukh Khan\n",
      "Aamir Khan\n",
      "Shilpa Shetty Kundra\n",
      "Priyanka Chopra\n",
      "Gul Panag\n",
      "Sharman Joshi\n",
      "Rajeev Khandelwal\n",
      "Kareena Kapoor\n",
      "Sunil Shetty\n",
      "Sharib Hashmi\n",
      "Deepika Padukone\n",
      "Inaamulhaq\n",
      "Kapil Sharma\n",
      "Aditya Roy Kapoor\n",
      "Jayesh Raj\n",
      "Reef Karim\n",
      "Shahid Kapoor\n",
      "Aftab Shivdasani\n",
      "John Abraham\n",
      "John Abraham\n",
      "Arjun Rampal\n",
      "Arshad Warsi\n",
      "Nawazuddin Siddiqui\n",
      "Avinash Dhyani\n",
      "Bidita Bag\n",
      "Atmaram Bhende\n",
      "Govinda\n",
      "Shubham\n",
      "Jimmy Sheirgill\n",
      "Pulkit Samrat\n",
      "Pulkit Samrat\n",
      "Siddharth Koirala\n",
      "Rushali Arora\n",
      "Rajveer Ankur Singh\n",
      "Akshay Kumar\n",
      "Akshay Kumar\n",
      "Manoj Bajpayee\n",
      "Abhishek Bachchan\n",
      "Akshaye Khanna\n",
      "Sharman Joshi\n",
      "Ajay Devgn\n",
      "Sarita Joshi\n",
      "Manoj Bajpayee\n",
      "Manoj Bajpayee\n",
      "Kangana Ranaut\n",
      "Akshay Kumar\n",
      "Salman Khan\n",
      "Naresh Sharma\n",
      "Mohan Azaad\n",
      "Tusshar Kapoor\n",
      "Utkarsh Sharma\n",
      "Aamir Khan\n",
      "Vidya Balan\n",
      "Sunny Deol\n",
      "Shiney Ahuja\n",
      "Sanaya Irani\n",
      "Riya Vij\n",
      "Isha Koppikar\n",
      "Pankaj Tripathi\n",
      "Gautam Gupta\n",
      "Saif Ali Khan\n",
      "John Abraham\n",
      "Amitabh Bachchan\n",
      "Akshay Kumar\n",
      "Ranveer Singh\n",
      "Dimple Kapadia\n",
      "Ajay Devgn\n",
      "Ajay Devgn\n",
      "Ajay Devgn\n",
      "Deepika Amin\n",
      "Tusshar Kapoor\n",
      "Akshay Kumar\n",
      "Imran Khan\n",
      "Vinay Pathak\n",
      "Vivek Oberoi\n",
      "Urvashi Rautela\n",
      "Vikram Dasu\n",
      "Kunal Khemu\n",
      "Arshad Warsi\n",
      "Kartik Aaryan\n",
      "Madhuri Dixit\n",
      "Kay Kay Menon\n",
      "Sampat Pal Devi\n",
      "Ranveer Singh\n",
      "Dino Morea\n",
      "Ranveer Singh\n",
      "Mithun Chakraborty\n",
      "Hrithik Roshan\n",
      "Amita Pathak\n",
      "Jimmy Sheirgill\n",
      "Sahil Anand\n",
      "Tabu\n",
      "Shraddha Kapoor\n",
      "Paoli Dam\n",
      "Ajay Devgn\n",
      "Rajkummar Rao\n",
      "Talha Arshad Reshi\n",
      "Mukesh Khanna\n",
      "Diana Penty\n",
      "Saif Ali Khan\n",
      "Anay\n",
      "Shah Rukh Khan\n",
      "Sonakshi Sinha\n",
      "Nawazuddin Siddiqui\n",
      "Jackie Shroff\n",
      "Sidharth Malhotra\n",
      "Shraddha Kapoor\n",
      "Jimmy Sheirgill\n",
      "Nikhil Dwivedi\n",
      "Jay Bhanushali\n",
      "Lee Byford\n",
      "Nana Patekar\n",
      "Akshay Kumar\n",
      "Mimoh Chakraborty\n",
      "Aniket Vishwasrao\n",
      "Tabu\n",
      "Makrand Deshpande\n",
      "Naman Jain\n",
      "Shawar Ali\n",
      "Babbu Mann\n",
      "Kay Kay Menon\n",
      "Adhyayan Suman\n",
      "Kajol\n",
      "Sharman Joshi\n",
      "Gul Panag\n",
      "Bobby Deol\n",
      "Suraj Pancholi\n",
      "Sohail Khan\n",
      "Kareena Kapoor\n",
      "Tiger Shroff\n",
      "Ganesh Acharya\n",
      "Juanna Sanghvi\n",
      "Rani Mukerji\n",
      "Sumeet Vyas\n",
      "Alia Bhatt\n",
      "Ajay Devgn\n",
      "Gurmeet Ram Rahim Singh\n",
      "Irrfan Khan\n",
      "Mallika Sherawat\n",
      "Onjolee Nair\n",
      "Akshay Kumar\n",
      "Vivek Oberoi\n",
      "Ranvir Shorey\n",
      "Zara Sheikh\n",
      "Naseeruddin Shah\n",
      "Karan Kundrra\n",
      "Vatsal Sheth\n",
      "Adil Hussain\n",
      "Akshay Kumar\n",
      "Akshay Kumar\n",
      "Akshay Kumar\n",
      "Akshaye Khanna\n",
      "Prit Kamani\n",
      "Anupam Kher\n",
      "Saif Ali Khan\n",
      "Arshad Warsi\n",
      "Tusshar Kapoor\n",
      "Shah Rukh Khan\n",
      "Karanvir Bohra\n",
      "Akshay Kumar\n",
      "Arjun Rampal\n",
      "Omkar Bhatkar\n",
      "Varun Dhawan\n",
      "Saif Ali Khan\n",
      "Akshaye Khanna\n",
      "Gulshan Devaiah\n",
      "Tisca Chopra\n",
      "Juhi Chawla\n",
      "Gulshan Grover\n",
      "Imran Khan\n",
      "Shakti Anand\n",
      "Sunny Deol\n",
      "Sohail Khan\n",
      "Arjun Rampal\n",
      "Vivek Sudershan\n",
      "Arjun Kapoor\n",
      "Jaz Pandher\n",
      "Kirti Kulhari\n",
      "Arjun Rampal\n",
      "Dino Morea\n",
      "Akshay Kumar\n",
      "Ashmit Patel\n",
      "Manoj Bajpayee\n",
      "Shreyas Talpade\n",
      "Amarjeet\n",
      "Naseeruddin Shah\n",
      "Madhavan\n",
      "Arjun Kapoor\n",
      "Preity Zinta\n",
      "Sara Loren\n",
      "Krishna Chaturvedi\n",
      "Dino Morea\n",
      "Rishi Verma\n",
      "Shahid Kapoor\n",
      "Mimoh Chakraborty\n",
      "Manish Anand\n",
      "Vidya Balan\n",
      "Akshay Oberoi\n",
      "Vinay Pathak\n",
      "Prateik\n",
      "Sanjeev Bhaskar\n",
      "Rina Charaniya\n",
      "Sunny Deol\n",
      "Salman Khan\n",
      "Aftab Shivdasani\n",
      "Priyanka Chopra\n",
      "Akshay Anand\n",
      "Shah Rukh Khan\n",
      "Shah Rukh Khan\n",
      "Shahid Kapoor\n",
      "Sidharth Malhotra\n",
      "Amit Sadh\n",
      "Naseeruddin Shah\n",
      "Ranbir Kapoor\n",
      "Govinda\n",
      "Chiranjeevi\n",
      "Priyanka Chopra\n",
      "Salman Khan\n",
      "Rati Agnihotri\n",
      "Fardeen Khan\n",
      "Manoj Bajpayee\n",
      "Javed Jaffrey\n",
      "Purab Kohli\n",
      "Rhea Chakraborty\n",
      "Harish Chabbra\n",
      "Mohit Ahlawat\n",
      "Feroz Khan\n",
      "Emraan Hashmi\n",
      "Amardeep Insan\n",
      "Emraan Hashmi\n",
      "Vivek Oberoi\n",
      "Aishwarya Rai Bachchan\n",
      "Ravi Kishan\n",
      "Arbaaz Khan\n",
      "Boman Irani\n",
      "Sanjay Suri\n",
      "Abhishek Bachchan\n",
      "John Abraham\n",
      "Rishi Kapoor\n",
      "Richa Chadha\n",
      "Harshvardhan Deo\n",
      "Nassar Abdulla\n",
      "Mimoh Chakraborty\n",
      "Bipasha Basu\n",
      "Sunny Deol\n",
      "Sunny Gill\n",
      "Hrithik Roshan\n",
      "Bipasha Basu\n",
      "Victor Banerjee\n",
      "Naseeruddin Shah\n",
      "Dharmendra\n",
      "Akshay Kumar\n",
      "Arshad Warsi\n",
      "Kangana Ranaut\n",
      "Varun Dhawan\n",
      "Sadhana Singh\n",
      "Neha Dhupia\n",
      "Nishikant Kamat\n",
      "Vidyut Jammwal\n",
      "Pulkit Samrat\n",
      "Kamal Adib\n",
      "Fardeen Khan\n",
      "Hrithik Roshan\n",
      "Vinay Pathak\n",
      "Ajay Devgn\n",
      "Saif Ali Khan\n",
      "Aditya Srivastava\n",
      "Kartik Aaryan\n",
      "Amitabh Bachchan\n",
      "Aishwarya Devan\n",
      "Amitabh Bachchan\n",
      "Shahid Kapoor\n",
      "John Abraham\n",
      "Sanjay Mishra\n",
      "Om Puri\n",
      "Vidya Balan\n",
      "Eesha Agarwal\n",
      "Rajkummar Rao\n",
      "Amit Hingorani\n",
      "Shah Rukh Khan\n",
      "Varun Dhawan\n",
      "Kunal Khemu\n",
      "Shahid Kapoor\n",
      "Sidharth Malhotra\n",
      "John Abraham\n",
      "Mahek Chahal\n",
      "Shiv Darshan\n",
      "Rati Agnihotri\n",
      "Siddhartha Gupta\n",
      "Irrfan Khan\n",
      "Himesh Reshammiya\n",
      "Lucky Ali\n",
      "Juhi Babbar\n",
      "Suhaas Ahuja\n",
      "Raqesh Bapat\n",
      "Kunal Kapoor\n",
      "Shahbaaz Khan\n",
      "Akshay Kumar\n",
      "Vinay Pathak\n",
      "Amitabh Bachchan\n",
      "Kiron Kher\n",
      "Shilpa Shetty Kundra\n",
      "Prabhu Deva\n",
      "Gurmeet Choudhary\n",
      "Rahul Jaiswal\n",
      "Akshay Kumar\n",
      "Hazel Croney\n",
      "Sunny Deol\n",
      "Supriya Pathak\n",
      "Sonam Kapoor\n",
      "Anupam Kher\n",
      "Shiney Ahuja\n",
      "Sunny Deol\n",
      "Fardeen Khan\n",
      "Simer Motiani\n",
      "Himanshu Malik\n",
      "Amitabh Bachchan\n",
      "Salman Khan\n",
      "Ranveer Singh\n",
      "Mallika Sherawat\n",
      "Kapil Sharma\n",
      "Jackie Shroff\n",
      "Bobby Deol\n",
      "Shahid Kapoor\n",
      "Vivek Oberoi\n",
      "Vivek Oberoi\n",
      "Arshad Warsi\n",
      "Hrithik Roshan\n",
      "Sanjay Dutt\n",
      "Aftab Shivdasani\n",
      "Dia Mirza\n",
      "Rekha\n",
      "Kannan Arunachalam\n",
      "Juhi Chawla\n",
      "Manoj Bajpayee\n",
      "Sohail Khan\n",
      "Rekha\n",
      "Shefali Shah\n",
      "Tusshar Kapoor\n",
      "Ram Kapoor\n",
      "Aishwarya Rai Bachchan\n",
      "Geetanjali Thapa\n",
      "Arshad Warsi\n",
      "Rekha\n",
      "Siddharth Gupta\n",
      "Lewis Tan\n",
      "Rajpal Yadav\n",
      "Vijay Raaz\n",
      "Tusshar Kapoor\n",
      "Tusshar Kapoor\n",
      "Tusshar Kapoor\n",
      "Riteish Deshmukh\n",
      "Salman Khan\n",
      "Amitabh Bachchan\n",
      "Sanjay Dutt\n",
      "Rani Mukerji\n",
      "Randeep Hooda\n",
      "Ranveer Singh\n",
      "Neil Nitin Mukesh\n",
      "Sanjay Dutt\n",
      "Farooq Shaikh\n",
      "Avinash Tiwary\n",
      "Sunny Deol\n",
      "Monali Thakur\n",
      "Hrithik Roshan\n",
      "Sanjay Dutt\n",
      "Armaan Jain\n",
      "Rituparna Sengupta\n",
      "Manoj Amarnani\n",
      "Kay Kay Menon\n",
      "Aftab Shivdasani\n",
      "Govinda\n",
      "Dharmendra\n",
      "Aahana Kumra\n",
      "Farooq Shaikh\n",
      "John Abraham\n",
      "Himanshu Bhatt\n",
      "Shabana Azmi\n",
      "Salman Khan\n",
      "Ranveer Singh\n",
      "Saif Ali Khan\n",
      "Zayed Khan\n",
      "Patralekhaa Paul\n",
      "Rishi Kapoor\n",
      "Nushrat Bharucha\n",
      "Anuj Sachdeva\n",
      "Abhishek Bharate\n",
      "Harman Baweja\n",
      "Tusshar Kapoor\n",
      "Joy Mukherjee\n",
      "Vicky Kaushal\n",
      "Girish Taurani\n",
      "Mithun Chakraborty\n",
      "Farhan Akhtar\n",
      "Adhyayan Suman\n",
      "Farhan Akhtar\n",
      "Arvinder Bhatti\n",
      "Salman Khan\n",
      "V. Ravichandran\n",
      "Tanuj Virwani\n",
      "Tom Alter\n",
      "Sushant Singh Rajput\n",
      "Menekka Arora\n",
      "Charanpreet Insan\n",
      "Gurmeet Ram Rahim Singh\n",
      "Ashok Insan\n",
      "Mallika Sherawat\n",
      "Raveena Tandon\n",
      "Sumit Nijhawan\n",
      "Swara Bhaskar\n",
      "Kiara Advani\n",
      "Saahil Prem\n",
      "Irrfan Khan\n",
      "Rajkummar Rao\n",
      "Bipasha Basu\n",
      "John Abraham\n",
      "Sooraj Balaji\n",
      "Asha Bhosle\n",
      "Ajay Devgn\n",
      "Barun Sobti\n",
      "Salman Khan\n",
      "Shah Rukh Khan\n",
      "Smitha Gondkar\n",
      "Juhi Chawla\n",
      "Antara Mali\n",
      "Rajpal Yadav\n",
      "Hrithik Roshan\n",
      "Varun Dhawan\n",
      "Anupam Kher\n",
      "Salman Khan\n",
      "Paresh Rawal\n",
      "Akanksha\n",
      "Aamir Khan\n",
      "Kangana Ranaut\n",
      "Nawazuddin Siddiqui\n",
      "Anjori Alagh\n",
      "Taapsee Pannu\n",
      "Abhay Deol\n",
      "Nawazuddin Siddiqui\n",
      "Rajat Kapoor\n",
      "Irrfan Khan\n",
      "Abhimanyu Dasani\n",
      "Rani Mukerji\n",
      "Rani Mukerji\n",
      "Kalki Koechlin\n",
      "Salman Khan\n",
      "Riteish Deshmukh\n",
      "Manisha Koirala\n",
      "Archana Joglekar\n",
      "Priyanka Chopra\n",
      "Richa Chadha\n",
      "Aftab Shivdasani\n",
      "Tusshar Kapoor\n",
      "Rahul Bagga\n",
      "Imran Khan\n",
      "Tulip Joshi\n",
      "Shahid Kapoor\n",
      "Sonu Sood\n",
      "Tabu\n",
      "Anupam Kher\n",
      "Jaideep Ahlawat\n",
      "Puru Chibber\n",
      "Deepti Naval\n",
      "Prabhu Deva\n",
      "Paresh Rawal\n",
      "Imran Khan\n",
      "Saqib Saleem\n",
      "Sunil Shetty\n",
      "Yash Acharya\n",
      "Akshay Kumar\n",
      "Rasika Agashe\n",
      "Akshay Kumar\n",
      "Ayushmann Khurrana\n",
      "Manish Paul\n",
      "Kareena Kapoor\n",
      "Chirag Paswan\n",
      "Arunoday Singh\n",
      "Harshvardhan Kapoor\n",
      "Rahul Bagga\n",
      "Manoj Bajpayee\n",
      "Vivek Oberoi\n",
      "Akshay Kumar\n",
      "Jackky Bhagnani\n",
      "Hazel Croney\n",
      "Neha Dhupia\n",
      "Sunny Deol\n",
      "Hrithik Roshan\n",
      "Sridevi\n",
      "Govinda\n",
      "Ashutosh Rana\n",
      "Vijay Varma\n",
      "Shabana Azmi\n",
      "Nawazuddin Siddiqui\n",
      "Saurav Chakraborty\n",
      "Dev Anand\n",
      "Anupam Kher\n",
      "Prashant Narayanan\n",
      "Emraan Hashmi\n",
      "Anil Kapoor\n",
      "Prithviraj Kapoor\n",
      "Saqib Saleem\n",
      "Salman Khan\n",
      "Sammir Dattani\n",
      "Viineet Kumar\n",
      "Taapsee Pannu\n",
      "Karanvir Bohra\n",
      "Shakti Kapoor\n",
      "Shiv Panditt\n",
      "Mohsin\n",
      "Rahul Bose\n",
      "Paresh Rawal\n",
      "Linda Arsenio\n",
      "Abhishek Bachchan\n",
      "Alieesa P Badresia\n",
      "Kiron Kher\n",
      "Sanjay Dutt\n",
      "Tiger Shroff\n",
      "Sanjay Singh\n",
      "Mallika Sherawat\n",
      "Emraan Hashmi\n",
      "Randeep Hooda\n",
      "Anil Kapoor\n",
      "Aftab Shivdasani\n",
      "Nora Fatehi\n",
      "Jason Lewis\n",
      "Sanjay Suri\n",
      "Prateik\n",
      "Shah Rukh Khan\n",
      "Anil Kapoor\n",
      "Auroshika Dey\n",
      "Anushka Sharma\n",
      "Om Puri\n",
      "Antara Mali\n",
      "Taapsee Pannu\n",
      "Urmila Matondkar\n",
      "Sunny Deol\n",
      "Arjun Kapoor\n",
      "Akshay Kumar\n",
      "Dwij Yadav\n",
      "Abhay Deol\n",
      "Bobby Deol\n",
      "Poonam Pandey\n",
      "Govinda\n",
      "Ayushmann Khurrana\n",
      "Dharmesh Yelande\n",
      "Vikas Kalantri\n",
      "Uday Chopra\n",
      "Sonam Kapoor\n",
      "Sanjay Dutt\n",
      "Vinay Anand\n",
      "John Abraham\n",
      "Rajkummar Rao\n",
      "Swara Bhaskar\n",
      "Ashmit Patel\n",
      "Amitabh Bachchan\n",
      "Anil Kapoor\n",
      "Rani Mukerji\n",
      "Sanjay Dutt\n",
      "John Abraham\n",
      "Sunny Leone\n",
      "Deepak Dobriyal\n",
      "Zaheer Iqbal\n",
      "Madhavan\n",
      "Pulkit Samrat\n",
      "Paresh Rawal\n",
      "Varun Dhawan\n",
      "Vinay Pathak\n",
      "Shraddha Kapoor\n",
      "Attin Bhalla\n",
      "Shah Rukh Khan\n",
      "Gopi Desai\n",
      "Rajkummar Rao\n",
      "Ajay Devgn\n",
      "Ajay Devgn\n",
      "Akshay Kumar\n",
      "Anupam Kher\n",
      "Tusshar Kapoor\n",
      "Abhay Deol\n",
      "Riteish Deshmukh\n",
      "Abhay Deol\n",
      "Meenakshi Dixit\n",
      "Bhavesh Kumar\n",
      "Aamir Khan\n",
      "Boman Irani\n",
      "Amitabh Bachchan\n",
      "Irrfan Khan\n",
      "Nassar Abdulla\n",
      "John Abraham\n",
      "Nana Patekar\n",
      "Deepika Padukone\n",
      "Sunil Shetty\n",
      "Kriti Kharbanda\n",
      "Konkona Sen Sharma\n",
      "Shah Rukh Khan\n",
      "Manisha Koirala\n",
      "Karan Deol\n",
      "Jackie Shroff\n",
      "Nayna Bandhopadhyay\n",
      "Bipasha Basu\n",
      "Mohinder Gujral\n",
      "Tannishtha Chatterjee\n",
      "Saif Ali Khan\n",
      "John Abraham\n",
      "Salman Khan\n",
      "Ajay Devgn\n",
      "Sanya Malhotra\n",
      "Rishi Kapoor\n",
      "Kartik Aaryan\n",
      "Rishi Kapoor\n",
      "Shreyas Talpade\n",
      "Omkar Das Manikpuri\n",
      "Vinod Khanna\n",
      "Jimmy Sheirgill\n",
      "Saif Ali Khan\n",
      "Rajat Kapoor\n",
      "Shahid Kapoor\n",
      "Rajniesh Duggall\n",
      "Anushka Sharma\n",
      "Akshay Kumar\n",
      "Mithun Chakraborty\n",
      "Salman Khan\n",
      "Radhika Apte\n",
      "Sudeep\n",
      "Nawazuddin Siddiqui\n",
      "Rahul Bagga\n",
      "Deepika Padukone\n",
      "Urmila Matondkar\n",
      "Taapsee Pannu\n",
      "Akshay Oberoi\n",
      "Sanjay Dutt\n",
      "Vinod Khanna\n",
      "Akshay Kumar\n",
      "Sanjay Dutt\n",
      "Akshay Kapoor\n",
      "Sunny Deol\n",
      "Raveena Tandon\n",
      "Chandan Roy Sanyal\n",
      "Rajeev Khandelwal\n",
      "Sanjay Dutt\n",
      "Jeetendra\n",
      "Arbaaz Khan\n",
      "Salman Khan\n",
      "Vivek Oberoi\n",
      "Tanuj Virwani\n",
      "Priyanka Chopra\n",
      "Kartik Aaryan\n",
      "Kartik Aaryan\n",
      "Rahul Bose\n",
      "Rishi Kapoor\n",
      "Fardeen Khan\n",
      "Aadar Jain\n",
      "Irrfan Khan\n",
      "Ajay Devgn\n",
      "Irrfan Khan\n",
      "Kangana Ranaut\n",
      "Rajendra Prasad\n",
      "Shah Rukh Khan\n",
      "Deepika Padukone\n",
      "Kunal Kapoor\n",
      "Dhanush\n",
      "Aamir Bashir\n",
      "Abhishek Bachchan\n",
      "Dino Morea\n",
      "Emraan Hashmi\n",
      "Kangana Ranaut\n",
      "Alia Bhatt\n",
      "Shah Rukh Khan\n",
      "Saif Ali Khan\n",
      "Saif Ali Khan\n",
      "Anil Kapoor\n",
      "Raj Arjun\n",
      "Vijay Raaz\n",
      "Kainaz Motivala\n",
      "Sunny Leone\n",
      "Kay Kay Menon\n",
      "Ajay Devgn\n",
      "Ajay Devgn\n",
      "Sadashiv Amrapurkar\n",
      "Emraan Hashmi\n",
      "Kangana Ranaut\n",
      "Amyra Dastur\n",
      "Sanjay Dutt\n",
      "Julia Datt\n",
      "Sahil Khan\n",
      "Shruti Haasan\n",
      "Nawazuddin Siddiqui\n",
      "Manoj Bajpayee\n",
      "Madhavan\n",
      "Naseeruddin Shah\n",
      "Manish Paul\n",
      "Soundarya Sharma\n",
      "Aamir Khan\n",
      "Randeep Hooda\n",
      "Kangana Ranaut\n",
      "Jackky Bhagnani\n",
      "Amitabh Bachchan\n",
      "Rahul Khanna\n",
      "Ajay Devgn\n",
      "Prince Shah\n",
      "Sunil Shetty\n",
      "Sherlyn Chopra\n",
      "Aftab Shivdasani\n",
      "Kashmira Shah\n",
      "Kangana Ranaut\n",
      "Kalki Koechlin\n",
      "Ankit\n",
      "Sunny Deol\n",
      "Vinod Khanna\n",
      "Garima Agarwal\n",
      "Rajesh Khanna\n",
      "Paresh Rawal\n",
      "Saif Ali Khan\n",
      "Aadil Chahal\n",
      "Farhan Akhtar\n",
      "Arjun Rampal\n",
      "Ranbir Kapoor\n",
      "Ranbir Kapoor\n",
      "John Abraham\n",
      "Irrfan Khan\n",
      "Sunny Deol\n",
      "Tanushree Dutta\n",
      "Tannishtha Chatterjee\n",
      "Arjun Rampal\n",
      "Sanjay Dutt\n",
      "Manoj Bajpayee\n",
      "Tanuja\n",
      "Abhishek Bachchan\n",
      "Arsh Bajwa\n",
      "Emraan Hashmi\n",
      "Ileana D'Cruz\n",
      "Jacqueline Fernandez\n",
      "Taapsee Pannu\n",
      "Tanima Bhattacharya\n",
      "Sonarika Bhadoria\n",
      "Vishwa Mohan Badola\n",
      "Kiron Kher\n",
      "Manoj Bajpayee\n",
      "Vivek Oberoi\n",
      "Salman Khan\n",
      "Rani Mukerji\n",
      "John Abraham\n",
      "Swara Bhaskar\n",
      "Sachin Tendulkar\n",
      "Sarika\n",
      "Karan Sharma\n",
      "Rekha\n",
      "Jimmy Sheirgill\n",
      "Sanjay Dutt\n",
      "Jimmy Sheirgill\n",
      "Anupam Kher\n",
      "Saif Ali Khan\n",
      "Salman Khan\n",
      "Zeenat Aman\n",
      "Sushmita Sen\n",
      "Rajeev Khandelwal\n",
      "Rishi Kapoor\n",
      "Govinda\n",
      "Ranbir Kapoor\n",
      "Kay Kay Menon\n",
      "Boman Irani\n",
      "Randeep Hooda\n",
      "Mahima Chaudhry\n",
      "Amitabh Bachchan\n",
      "Amitabh Bachchan\n",
      "Amitabh Bachchan\n",
      "Suraj Pancholi\n",
      "Sanjay Mishra\n",
      "Raveena Tandon\n",
      "Puneet Singh Ratn\n",
      "Amitabh Bachchan\n",
      "John Abraham\n",
      "Mandar Jadhav\n",
      "Dharmendra\n",
      "Zaira Wasim\n",
      "Akshaye Khanna\n",
      "Arshad Warsi\n",
      "Shreyas Talpade\n",
      "Sanjay Suri\n",
      "Salman Khan\n",
      "Farhan Akhtar\n",
      "Rajkummar Rao\n",
      "Fardeen Khan\n",
      "Akshaye Khanna\n",
      "Shahid Kapoor\n",
      "Aditya Narayan\n",
      "Ashish Bisht\n",
      "Sanjay Dutt\n",
      "Ashutosh Rana\n",
      "Isha Koppikar\n",
      "Nana Patekar\n",
      "Rajkummar Rao\n",
      "Kalki Koechlin\n",
      "Bobby Deol\n",
      "Amitabh Bachchan\n",
      "Emraan Hashmi\n",
      "Zayed Khan\n",
      "Tusshar Kapoor\n",
      "Tarun Arora\n",
      "Neha Dhupia\n",
      "Ajay Devgn\n",
      "Aida Elkashef\n",
      "Freny Bhagat\n",
      "Mohit Ahlawat\n",
      "Ajay Devgn\n",
      "Sanjeev Kumar\n",
      "Amitabh Bachchan\n",
      "Sendhil Ramamurthy\n",
      "Jimmy Sheirgill\n",
      "Neil Nitin Mukesh\n",
      "Jimmy Sheirgill\n",
      "Sanjay Dutt\n",
      "Tushar Jalota\n",
      "Ayushmann Khurrana\n",
      "Sushant Singh Rajput\n",
      "Anupam Kher\n",
      "Rajesh Tailang\n",
      "Parzaan Dastur\n",
      "Tabu\n",
      "Ranveer Singh\n",
      "Kangana Ranaut\n",
      "Akshay Kumar\n",
      "Akshay Kumar\n",
      "Sunny Deol\n",
      "Ajay Devgn\n",
      "Anupam Kher\n",
      "Kay Kay Menon\n",
      "Wamiqa Gabbi\n",
      "Barkha Madan\n",
      "Abhay Deol\n",
      "Ajay Devgn\n",
      "Rhea Chakraborty\n",
      "Sushant Singh Rajput\n",
      "Geetika Vidya Ohlyan\n",
      "Sunidhi Chauhan\n",
      "Kartik Aaryan\n",
      "Tinnu Anand\n",
      "Shabana Azmi\n",
      "Shamim Khan\n",
      "Mahima Chaudhry\n",
      "Rati Agnihotri\n",
      "Akshay Kumar\n",
      "Urmila Matondkar\n",
      "Tanishaa Mukerji\n",
      "Aarti Chhabria\n",
      "Partho A. Gupte\n",
      "Kanika Batra\n",
      "Jahangir Khan\n",
      "Jimmy Sheirgill\n",
      "Rajkummar Rao\n",
      "Siddharth\n",
      "Zeenat Aman\n",
      "Alia Bhatt\n",
      "Tiger Shroff\n",
      "Raveena Tandon\n",
      "Anushka Sharma\n",
      "Gurdas Maan\n",
      "Naveen Kasturia\n",
      "Salman Khan\n",
      "Ahraz Ahmed\n",
      "Ajay Devgn\n",
      "Jaya Bachchan\n",
      "Aftab Shivdasani\n",
      "Hrithik Roshan\n",
      "Ashmit Patel\n",
      "Rekha\n",
      "Shah Rukh Khan\n",
      "Manoj Bajpayee\n",
      "Himansh Kohli\n",
      "Saif Ali Khan\n",
      "Darsheel Safary\n",
      "Vatsal Sheth\n",
      "Paresh Rawal\n",
      "Victor Banerjee\n",
      "Zulfi Sayed\n",
      "Sulabha Arya\n",
      "Aamir Khan\n",
      "Rakhee Gulzar\n",
      "Irrfan Khan\n",
      "Nikhil Dwivedi\n",
      "Ajay Devgn\n",
      "Madhavan\n",
      "Kangana Ranaut\n",
      "Kangana Ranaut\n",
      "Akshay Kumar\n",
      "Sanjay Dutt\n",
      "Nana Patekar\n",
      "Amitabh Bachchan\n",
      "Amitabh Bachchan\n",
      "Om Puri\n",
      "Akshay Kumar\n",
      "Sunny Deol\n",
      "Shabana Azmi\n",
      "Dharmendra\n",
      "Neil Nitin Mukesh\n",
      "Ali Zafar\n",
      "Parthaa Akerkar\n",
      "Vinay Pathak\n",
      "Riteish Deshmukh\n",
      "Salman Khan\n",
      "Shahid Kapoor\n",
      "Arjun Kapoor\n",
      "Anil Kapoor\n",
      "Nawazuddin Siddiqui\n",
      "Akshay Kumar\n",
      "Master Shams\n",
      "Anupam Kher\n",
      "Pankaj Kapur\n",
      "Kartik Elangovan\n",
      "Nawazuddin Siddiqui\n",
      "Vidya Balan\n",
      "Nassar Abdulla\n",
      "Ranvir Shorey\n",
      "Kunaal Roy Kapur\n",
      "Rana Daggubati\n",
      "Sunny Deol\n",
      "Rahul Bose\n",
      "Shakti Kapoor\n",
      "Irrfan Khan\n",
      "Amitabh Bachchan\n",
      "Irrfan Khan\n",
      "Kal Penn\n",
      "Edwin Fernandes\n",
      "Akshay Kumar\n",
      "Mann Bagga\n",
      "Zaira Wasim\n",
      "Kay Kay Menon\n",
      "Naseeruddin Shah\n",
      "Emraan Hashmi\n",
      "Himesh Reshammiya\n",
      "Sonam Kapoor\n",
      "Bhavita Anand\n",
      "Saif Ali Khan\n",
      "Arya Babbar\n",
      "Saahil Chadha\n",
      "Aamir Khan\n",
      "Salman Khan\n",
      "Nawazuddin Siddiqui\n",
      "Nishant Dahiya\n",
      "Tabu\n",
      "Akshay Kumar\n",
      "Rakesh Bedi\n",
      "Ajay Devgn\n",
      "Ajay Devgn\n",
      "Ali Zafar\n",
      "Manoj Bajpayee\n",
      "Kunal Khemu\n",
      "Rajkummar Rao\n",
      "Vikrum Kumar\n",
      "Salman Khan\n",
      "Riteish Deshmukh\n",
      "Manisha Koirala\n",
      "Neha Sharma\n",
      "Emraan Hashmi\n",
      "Nana Patekar\n",
      "Sohum Shah\n",
      "Vidya Balan\n",
      "Emraan Hashmi\n",
      "Gul Panag\n",
      "Ajay Devgn\n",
      "Mikaal\n",
      "Rajat Barmecha\n",
      "Shahid Kapoor\n",
      "Rahul Bhat\n",
      "Sunny Singh Nijjar\n",
      "Jimmy Sheirgill\n",
      "Aishwarya Rai Bachchan\n",
      "Aashish Bhatt\n",
      "Emraan Hashmi\n",
      "Rahul Bhat\n",
      "Russell Geoffrey Banks\n",
      "Vicky Kaushal\n",
      "Vinay Pathak\n",
      "Priyanshu Chatterjee\n",
      "Mohit Baghel\n",
      "Arjun Rampal\n",
      "Bobby Deol\n",
      "Shahid Kapoor\n",
      "Vicky Ahuja\n",
      "Shikhi Gupta\n",
      "Salman Khan\n",
      "Shah Rukh Khan\n",
      "Sachiin Joshi\n",
      "Pulkit Samrat\n",
      "Kay Kay Menon\n",
      "Hugh Bonneville\n",
      "Ayushmann Khurrana\n",
      "Harman Baweja\n",
      "Vikram Aditya\n",
      "Amitabh Bachchan\n",
      "Kamal Haasan\n",
      "Shahid Kapoor\n",
      "Kay Kay Menon\n",
      "Leeza Mangaldas\n",
      "Niharica Raizada\n",
      "Rajesh Khanna\n",
      "Shreyas Talpade\n",
      "Arshad Warsi\n",
      "Naseeruddin Shah\n",
      "Sharman Joshi\n",
      "Elisha Kriis\n",
      "Ranbir Kapoor\n",
      "Salman Khan\n",
      "Amitabh Bachchan\n",
      "Sharman Joshi\n",
      "Gurdas Maan\n",
      "Nana Patekar\n",
      "Diganth\n",
      "Akshay Kumar\n",
      "Arshad Warsi\n",
      "Anil Kapoor\n",
      "Shreyas Talpade\n",
      "Boman Irani\n",
      "Manu Rishi Chadha\n",
      "Harman Baweja\n",
      "Emraan Hashmi\n",
      "Kangana Ranaut\n",
      "Sikander Kher\n",
      "Sharman Joshi\n",
      "Indrapal Ahuja\n",
      "Siddhanth Kapoor\n",
      "Prisha Aneja\n",
      "Arjun Rampal\n",
      "Nafisa Ali\n",
      "Dharmendra\n",
      "Rekha\n",
      "Tusshar Kapoor\n",
      "Deepshika Nagpal\n",
      "Anshuman Jha\n",
      "Gavie Chahal\n",
      "Ranbir Kapoor\n",
      "Anya Anand\n",
      "Shah Rukh Khan\n",
      "Anupam Kher\n",
      "Vardhan Puri\n",
      "Jackky Bhagnani\n",
      "Paresh Rawal\n",
      "Ajay Devgn\n",
      "Salman Khan\n",
      "Jeetendra\n",
      "Ajay Devgn\n",
      "Ajay Devgn\n",
      "Vinod Acharya\n",
      "Emraan Hashmi\n",
      "Shah Rukh Khan\n",
      "Mannara Chopra\n",
      "Vivek Oberoi\n",
      "Sanjay Dutt\n",
      "Sushmita Sen\n",
      "Veena Malik\n",
      "Hrithik Roshan\n",
      "Mithun Chakraborty\n",
      "Darsheel Safary\n",
      "Meghan Jadhav\n"
     ]
    }
   ],
   "source": [
    "# Looping\n",
    "\n",
    "# loops works on values not indexes\n",
    "\n",
    "for i in movies:\n",
    "    print(i)"
   ]
  },
  {
   "cell_type": "code",
   "execution_count": 176,
   "id": "3455f762-73f8-42f8-9a80-2ae2acad4c8a",
   "metadata": {},
   "outputs": [
    {
     "name": "stdout",
     "output_type": "stream",
     "text": [
      "1920 (film)\n",
      "1920: London\n",
      "1920: The Evil Returns\n",
      "1971 (2007 film)\n",
      "2 States (2014 film)\n",
      "22 Yards\n",
      "3 A.M. (2014 film)\n",
      "3 Deewarein\n",
      "3 Idiots\n",
      "3 Storeys\n",
      "31st October (film)\n",
      "36 China Town\n",
      "3G (film)\n",
      "404 (film)\n",
      "5 Weddings\n",
      "68 Pages\n",
      "7 Hours to Go\n",
      "7 Khoon Maaf\n",
      "7½ Phere\n",
      "88 Antop Hill\n",
      "99 (2009 film)\n",
      "99.9 FM (film)\n",
      "?: A Question Mark\n",
      "A Decent Arrangement\n",
      "A Flat (film)\n",
      "A Flying Jatt\n",
      "A Gentleman\n",
      "ABCD 2\n",
      "Aa Dekhen Zara\n",
      "Aa Gaya Hero\n",
      "Aabra Ka Daabra\n",
      "Aag (2007 film)\n",
      "Aagey Se Right\n",
      "Aaj Ka Andha Kanoon\n",
      "Aaja Nachle\n",
      "Aakhari Decision\n",
      "Aakrosh (2010 film)\n",
      "Aalaap (film)\n",
      "Aan: Men at Work\n",
      "Aanch\n",
      "Aankhen (2002 film)\n",
      "Aap Kaa Surroor\n",
      "Aap Ki Khatir (2006 film)\n",
      "Aapko Pehle Bhi Kahin Dekha Hai\n",
      "Aarakshan\n",
      "Aashayein\n",
      "Aashiq Banaya Aapne\n",
      "Aashiqui 2\n",
      "Aashiqui.in\n",
      "Aasma: The Sky Is the Limit\n",
      "Aazaan\n",
      "Ab Tak Chhappan 2\n",
      "Ab Tumhare Hawale Watan Saathiyo\n",
      "Accident on Hill Road\n",
      "Acid Factory\n",
      "Action Jackson (2014 film)\n",
      "Action Replayy\n",
      "Adharm (2006 film)\n",
      "Ae Dil Hai Mushkil\n",
      "Aetbaar\n",
      "Agent Vinod (2012 film)\n",
      "Aggar (film)\n",
      "Agneepath (2012 film)\n",
      "Agnipankh\n",
      "Ahista Ahista (2006 film)\n",
      "Airlift (film)\n",
      "Aisa Kyon Hota Hai?\n",
      "Aisa Yeh Jahaan\n",
      "Aitraaz\n",
      "Aiyaary\n",
      "Aiyyaa\n",
      "Ajab Gazabb Love\n",
      "Ajab Prem Ki Ghazab Kahani\n",
      "Ajji\n",
      "Akaash Vani\n",
      "Aksar\n",
      "Aksar 2\n",
      "Aladin (film)\n",
      "Alag\n",
      "Albert Pinto Ko Gussa Kyun Aata Hai?\n",
      "Aligarh (film)\n",
      "All Is Well (2015 film)\n",
      "All the Best: Fun Begins\n",
      "Allah Ke Banday\n",
      "Alone (2015 Hindi film)\n",
      "Aloo Chaat (film)\n",
      "Always Kabhi Kabhi\n",
      "Amavas\n",
      "Amit Sahni Ki List\n",
      "Anaarkali of Aarah\n",
      "Anamika (2008 film)\n",
      "Andaaz\n",
      "Andaaz\n",
      "Andhadhun\n",
      "Angel (2011 film)\n",
      "Anjaana Anjaani\n",
      "Anjaane (2005 film)\n",
      "Ankahee (2006 film)\n",
      "Ankhon Dekhi\n",
      "Ankur Arora Murder Case\n",
      "Anna (2016 film)\n",
      "Antardwand\n",
      "Anthony Kaun Hai?\n",
      "Anuradha (2014 film)\n",
      "Anwar (2007 film)\n",
      "Apaharan\n",
      "Apartment (film)\n",
      "Apna Asmaan\n",
      "Apna Sapna Money Money\n",
      "Apne\n",
      "Arjun Patiala\n",
      "Arjun: The Warrior Prince\n",
      "Armaan (2003 film)\n",
      "Article 15 (film)\n",
      "Aryan: Unbreakable\n",
      "Asambhav\n",
      "Ata Pata Laapata\n",
      "Aur Pappu Paas Ho Gaya\n",
      "Aurangzeb (film)\n",
      "Aval (2017 film)\n",
      "Awara Paagal Deewana\n",
      "Awarapan\n",
      "Azhar (film)\n",
      "B.A. Pass\n",
      "Baabarr\n",
      "Baabul (2006 film)\n",
      "Baaghi (2016 film)\n",
      "Baaghi 2\n",
      "Baar Baar Dekho\n",
      "Baat Bann Gayi\n",
      "Baaz: A Bird in Danger\n",
      "Baazaar\n",
      "Babloo Happy Hai\n",
      "Babuji Ek Ticket Bambai\n",
      "Babumoshai Bandookbaaz\n",
      "Baby (2015 Hindi film)\n",
      "Bachche Kachche Sachche\n",
      "Bachke Rehna Re Baba\n",
      "Bachna Ae Haseeno\n",
      "Badhaai Ho\n",
      "Badla (2019 film)\n",
      "Badlapur (film)\n",
      "Badlapur Boys\n",
      "Badmashiyaan\n",
      "Badrinath Ki Dulhania\n",
      "Baghban (2003 film)\n",
      "Bajatey Raho\n",
      "Bajirao Mastani\n",
      "Bajrangi Bhaijaan\n",
      "Bala (2019 film)\n",
      "Balwinder Singh Famous Ho Gaya\n",
      "Banaras (2006 film)\n",
      "Band Baaja Baaraat\n",
      "Bandook\n",
      "Bang Bang!\n",
      "Bangistan\n",
      "Banjo (2016 film)\n",
      "Bank Chor\n",
      "Barah Aana\n",
      "Bardaasht\n",
      "Bareilly Ki Barfi\n",
      "Barfi!\n",
      "Barkhaa\n",
      "Barsaat (2005 film)\n",
      "Bas Ek Pal\n",
      "Basti (film)\n",
      "Batla House\n",
      "Battalion 609\n",
      "Batti Gul Meter Chalu\n",
      "Bazaar E Husn\n",
      "Bbuddah... Hoga Terra Baap\n",
      "Befikre\n",
      "Begum Jaan\n",
      "Behen Hogi Teri\n",
      "Beiimaan Love\n",
      "Being Cyrus\n",
      "Bewafaa (2005 film)\n",
      "Bewakoofiyaan\n",
      "Beyond the Clouds (2017 film)\n",
      "Bezubaan Ishq\n",
      "Bhaag Johnny\n",
      "Bhaag Milkha Bhaag\n",
      "Bhagam Bhag\n",
      "Bhagmati (2005 film)\n",
      "Bhaiaji Superhit\n",
      "Bhanwarey\n",
      "Bhavesh Joshi Superhero\n",
      "Bheja Fry (film)\n",
      "Bheja Fry 2\n",
      "Bhola in Bollywood\n",
      "Bhool Bhulaiyaa\n",
      "Bhoomi (film)\n",
      "Bhoot (film)\n",
      "Bhoot Returns\n",
      "Bhoot Unkle\n",
      "Bhoothnath\n",
      "Bhoothnath Returns\n",
      "Bhopal: A Prayer for Rain\n",
      "Bhram\n",
      "Big Brother (2007 film)\n",
      "Billu\n",
      "Bin Bulaye Baraati\n",
      "Bioscopewala\n",
      "Bittoo Boss\n",
      "Black (2005 film)\n",
      "Black Friday (2007 film)\n",
      "Blackmail (2005 film)\n",
      "Blood Brothers (2007 Indian film)\n",
      "Blood Money (2012 film)\n",
      "Bloody Isshq\n",
      "Blue (2009 film)\n",
      "Bluffmaster!\n",
      "Bobby Jasoos\n",
      "Bodyguard (2011 Hindi film)\n",
      "Bol Bachchan\n",
      "Bollywood Diaries\n",
      "Bombairiya\n",
      "Bombay Talkies (film)\n",
      "Bombay Velvet\n",
      "Bombay to Bangkok\n",
      "Bombay to Goa (2007 film)\n",
      "Boom (film)\n",
      "Border (1997 film)\n",
      "Boss (2013 Hindi film)\n",
      "Brahman Naman\n",
      "Break Ke Baad\n",
      "Breakaway (2011 film)\n",
      "Brij Mohan Amar Rahe\n",
      "Brothers (2015 film)\n",
      "Bubble Gum (film)\n",
      "Buddha Mar Gaya\n",
      "Buddha in a Traffic Jam\n",
      "Bullet: Ek Dhamaka\n",
      "Bullett Raja\n",
      "Bumboo\n",
      "Bumm Bumm Bole\n",
      "Bumper Draw\n",
      "Bunty Aur Babli\n",
      "Bypass Road (film)\n",
      "C Kkompany\n",
      "Calapor (film)\n",
      "Calcutta Mail\n",
      "Calendar Girls (2015 film)\n",
      "Cash (2007 film)\n",
      "Chaahat – Ek Nasha\n",
      "Chaalis Chauraasi\n",
      "Chaar Din Ki Chandni\n",
      "Chaarfutiya Chhokare\n",
      "Chak De! India\n",
      "Chakravyuh (2012 film)\n",
      "Chal Chala Chal\n",
      "Chal Pichchur Banate Hain\n",
      "Chalk n Duster\n",
      "Challo Driver\n",
      "Chalo Dilli\n",
      "Chalte Chalte (2003 film)\n",
      "Chameli (film)\n",
      "Chamku\n",
      "Chance Pe Dance\n",
      "Chand Ke Paar Chalo (film)\n",
      "Chand Sa Roshan Chehra\n",
      "Chandni Chowk to China\n",
      "Charas (2004 film)\n",
      "Chargesheet (film)\n",
      "Chase (2010 film)\n",
      "Chashme Baddoor (2013 film)\n",
      "Chatur Singh Two Star\n",
      "Cheeni Kum\n",
      "Chef (2017 film)\n",
      "Chehraa\n",
      "Chennai Express\n",
      "Chetna: The Excitement\n",
      "Chhodon Naa Yaar\n",
      "Chhota Bheem and the Throne of Bali\n",
      "Chicken Curry Law\n",
      "Children of Heaven\n",
      "Children of War (2014 film)\n",
      "Chillar Party\n",
      "Chinar Daastaan-E-Ishq\n",
      "Chingaari\n",
      "Chintu Ji\n",
      "Chittagong (film)\n",
      "Chocolate (2005 film)\n",
      "Chor Chor Super Chor\n",
      "Chori Chori (2003 film)\n",
      "Chup Chup Ke\n",
      "Chura Liyaa Hai Tumne\n",
      "Cigarette Ki Tarah\n",
      "City of Gold (2010 film)\n",
      "CityLights (2014 film)\n",
      "Classic – Dance of Love\n",
      "Click (2010 film)\n",
      "Cocktail (2012 film)\n",
      "Coffee Bloom\n",
      "Coffee with D\n",
      "Commando 3 (film)\n",
      "Commando: A One Man Army\n",
      "Company (film)\n",
      "Contract (2008 film)\n",
      "Corporate (2006 film)\n",
      "Court (film)\n",
      "Crazy Cukkad Family\n",
      "Creature 3D\n",
      "Crook (film)\n",
      "D (film)\n",
      "D-Day (2013 film)\n",
      "Daas Dev\n",
      "Daawat-e-Ishq\n",
      "Dabangg\n",
      "Dabangg 2\n",
      "Dabangg 3\n",
      "Daddy (2017 film)\n",
      "Daddy Cool (2009 Hindi film)\n",
      "Damadamm!\n",
      "Dangal (film)\n",
      "Dangerous Ishhq\n",
      "Darling (2007 Indian film)\n",
      "Darna Mana Hai\n",
      "Darna Zaroori Hai\n",
      "Darr @ the Mall\n",
      "Darwaaza Bandh Rakho\n",
      "Dassehra\n",
      "Dasvidaniya\n",
      "Days of Tafree\n",
      "De Dana Dan\n",
      "De De Pyaar De\n",
      "De Taali\n",
      "Deadline: Sirf 24 Ghante\n",
      "Dear Dad (film)\n",
      "Dear Friend Hitler\n",
      "Dear Maya\n",
      "Dear Zindagi\n",
      "Dedh Ishqiya\n",
      "Deewaar (2004 film)\n",
      "Deewane Huye Paagal\n",
      "Dehraadun Diary\n",
      "Dekh Tamasha Dekh\n",
      "Delhi Belly (film)\n",
      "Delhi Safari\n",
      "Delhi-6\n",
      "Department (film)\n",
      "Deshdrohi\n",
      "Desi Boyz\n",
      "Desi Kattey\n",
      "Detective Byomkesh Bakshy!\n",
      "Dev (2004 film)\n",
      "Devaki (2005 film)\n",
      "Devdas (2002 Hindi film)\n",
      "Devi (2016 film)\n",
      "Dhadak\n",
      "Dhamaal\n",
      "Dhanak\n",
      "Dharam Sankat Mein\n",
      "Dharm (film)\n",
      "Dharti Kahe Pukar Ke (2006 film)\n",
      "Dhobi Ghat (film)\n",
      "Dhokha\n",
      "Dhol (film)\n",
      "Dhoom\n",
      "Dhoom 2\n",
      "Dhoom 3\n",
      "Dhoondte Reh Jaaoge\n",
      "Dhoop\n",
      "Dhund (2003 film)\n",
      "Dil Bechara\n",
      "Dil Bechara Pyaar Ka Maara\n",
      "Dil Bole Hadippa!\n",
      "Dil Dhadakne Do\n",
      "Dil Diya Hai\n",
      "Dil Dosti Etc\n",
      "Dil Jo Bhi Kahey...\n",
      "Dil Jo Na Keh Saka\n",
      "Dil Juunglee\n",
      "Dil Ka Rishta\n",
      "Dil Kabaddi\n",
      "Dil Maange More\n",
      "Dil Ne Jise Apna Kahaa\n",
      "Dil Pardesi Ho Gayaa\n",
      "Dil Toh Baccha Hai Ji\n",
      "Dil Toh Deewana Hai\n",
      "Dilliwali Zaalim Girlfriend\n",
      "Dilwale (2015 film)\n",
      "Direct Ishq\n",
      "Dirty Politics (film)\n",
      "Dishkiyaoon\n",
      "Dishoom\n",
      "Do Dooni Chaar\n",
      "Do Lafzon Ki Kahani (film)\n",
      "Dobaara: See Your Evil\n",
      "Dobara\n",
      "Dolly Ki Doli\n",
      "Don (2006 Hindi film)\n",
      "Don 2\n",
      "Don Muthu Swami\n",
      "Don't Stop Dreaming\n",
      "Dongari Ka Raja\n",
      "Dor (film)\n",
      "Dostana (2008 film)\n",
      "Dosti: Friends Forever\n",
      "Double Cross (2005 film)\n",
      "Double Dhamaal\n",
      "Dream Girl (2019 film)\n",
      "Dreams (2006 film)\n",
      "Drishyam (2015 film)\n",
      "Drona (2008 film)\n",
      "Dude Where's the Party?\n",
      "Dulha Mil Gaya\n",
      "Dum (2003 Hindi film)\n",
      "Dum Laga Ke Haisha\n",
      "Dum Maaro Dum (film)\n",
      "Dunno Y... Na Jaane Kyon\n",
      "Dus\n",
      "Dus Kahaniyaan\n",
      "Eight: The Power of Shani\n",
      "Ek Ajnabee\n",
      "Ek Alag Mausam\n",
      "Ek Aur Ek Gyarah\n",
      "Ek Chalis Ki Last Local\n",
      "Ek Din 24 Ghante\n",
      "Ek Haseena Thi Ek Deewana Tha\n",
      "Ek Hasina Thi (film)\n",
      "Ek Kahani Julie Ki\n",
      "Ek Khiladi Ek Haseena (film)\n",
      "Ek Main Aur Ekk Tu\n",
      "Ek Paheli Leela\n",
      "Ek Se Badhkar Ek (2004 film)\n",
      "Ek Se Bure Do\n",
      "Ek Second... Jo Zindagi Badal De?\n",
      "Ek Tha Tiger\n",
      "Ek Thi Daayan\n",
      "Ek Thi Rani Aisi Bhi\n",
      "Ek Villain\n",
      "Ek Vivaah... Aisa Bhi\n",
      "Ek: The Power of One\n",
      "Ekk Deewana Tha\n",
      "Ekkees Toppon Ki Salaami\n",
      "Eklavya: The Royal Guard\n",
      "Elaan (2005 film)\n",
      "Enemmy\n",
      "English Vinglish\n",
      "Entertainment (2014 film)\n",
      "Escape from Taliban\n",
      "Evening Shadows\n",
      "F.A.L.T.U\n",
      "Family (2006 film)\n",
      "Family of Thakurganj\n",
      "Familywala\n",
      "Fan (film)\n",
      "Fanaa (2006 film)\n",
      "Fareb (2005 film)\n",
      "Fashion (2008 film)\n",
      "Fatso!\n",
      "Ferrari Ki Sawaari\n",
      "Fever (2016 film)\n",
      "Fida\n",
      "Fight Club – Members Only\n",
      "Filmistaan\n",
      "Finding Fanny\n",
      "Firaaq\n",
      "Firangi\n",
      "Fitoor\n",
      "Flat 211\n",
      "Flavors (film)\n",
      "Fool & Final\n",
      "Footpath (2003 film)\n",
      "Force (2011 film)\n",
      "Force 2\n",
      "Fox (film)\n",
      "Fraud Saiyaan\n",
      "Freaky Ali\n",
      "Fredrick (film)\n",
      "From Sydney with Love\n",
      "Fruit and Nut (film)\n",
      "FryDay\n",
      "Fuddu\n",
      "Fugly (film)\n",
      "Fukrey\n",
      "Fukrey Returns\n",
      "Fun – Can Be Dangerous Sometimes\n",
      "Fun2shh... Dudes in the 10th Century\n",
      "G Kutta Se\n",
      "Gabbar Is Back\n",
      "Gabbar Is Back\n",
      "Gali Guleiyan\n",
      "Game (2011 film)\n",
      "Gandhi My Father\n",
      "Gang of Ghosts\n",
      "Gangaajal\n",
      "Gangoobai\n",
      "Gangs of Wasseypur\n",
      "Gangs of Wasseypur – Part 2\n",
      "Gangster (2006 film)\n",
      "Garam Masala (2005 film)\n",
      "Garv: Pride & Honour\n",
      "Gattu\n",
      "Gauri: The Unborn\n",
      "Gayab\n",
      "Genius (2018 Hindi film)\n",
      "Ghajini (2008 film)\n",
      "Ghanchakkar (film)\n",
      "Ghayal: Once Again\n",
      "Ghost (2012 film)\n",
      "Ghost (2019 film)\n",
      "Gippi\n",
      "Girlfriend (2004 film)\n",
      "Global Baba\n",
      "Go (2007 film)\n",
      "Go Goa Gone\n",
      "Goal (2007 Hindi film)\n",
      "God Tussi Great Ho\n",
      "Gold (2018 film)\n",
      "Goliyon Ki Raasleela Ram-Leela\n",
      "Gollu Aur Pappu\n",
      "Golmaal Again\n",
      "Golmaal Returns\n",
      "Golmaal: Fun Unlimited\n",
      "Gone Kesh\n",
      "Good Boy Bad Boy\n",
      "Good Newwz\n",
      "Gori Tere Pyaar Mein\n",
      "Gour Hari Dastaan\n",
      "Grand Masti\n",
      "Great Grand Masti\n",
      "Green Card Fever\n",
      "Guddu Ki Gun\n",
      "Guddu Rangeela\n",
      "Guest iin London\n",
      "Gulaab Gang\n",
      "Gulaal (film)\n",
      "Gulabi Gang (film)\n",
      "Gully Boy\n",
      "Gumnaam – The Mystery\n",
      "Gunday\n",
      "Guru (2007 film)\n",
      "Guzaarish (film)\n",
      "Haal-e-Dil\n",
      "Haasil\n",
      "Hai Apna Dil Toh Awara\n",
      "Haider (film)\n",
      "Half Girlfriend (film)\n",
      "Halkaa\n",
      "Halla Bol\n",
      "Hamari Adhuri Kahani\n",
      "Hamid (film)\n",
      "Hanuman (2005 film)\n",
      "Happy Bhag Jayegi\n",
      "Happy Ending (film)\n",
      "Happy Husbands (2011 film)\n",
      "Happy New Year (2014 film)\n",
      "Happy Phirr Bhag Jayegi\n",
      "Haraamkhor\n",
      "Hari Puttar: A Comedy of Terrors\n",
      "Hasee Toh Phasee\n",
      "Haseena Parkar\n",
      "Hastey Hastey\n",
      "Hate Story\n",
      "Hate Story 2\n",
      "Hate Story 4\n",
      "Hattrick (film)\n",
      "Hatya (2004 film)\n",
      "Haunted – 3D\n",
      "Hava Aney Dey\n",
      "Hawa (film)\n",
      "Hawaa Hawaai\n",
      "Hawaizaada\n",
      "Hawas (2004 film)\n",
      "Hawayein\n",
      "Hazaaron Khwaishein Aisi\n",
      "Heartless (2014 film)\n",
      "Helicopter Eela\n",
      "Hello (2008 film)\n",
      "Hello Darling\n",
      "Help (film)\n",
      "Hero (2015 Hindi film)\n",
      "Heroes (2008 film)\n",
      "Heroine (2012 film)\n",
      "Heropanti\n",
      "Hey Bro\n",
      "Heyy Babyy\n",
      "Hichki\n",
      "High Jack (film)\n",
      "Highway (2014 Hindi film)\n",
      "Himmatwala (2013 film)\n",
      "Hind Ka Napak Ko Jawab: MSG Lion Heart 2\n",
      "Hindi Medium\n",
      "Hisss\n",
      "Holiday (2006 film)\n",
      "Holiday: A Soldier Is Never Off Duty\n",
      "Home Delivery\n",
      "Honeymoon Travels Pvt. Ltd.\n",
      "Honour Killing (film)\n",
      "Hope Aur Hum\n",
      "Horror Story (film)\n",
      "Hostel (2011 film)\n",
      "Hotel Salvation\n",
      "Housefull (2010 film)\n",
      "Housefull 2\n",
      "Housefull 4\n",
      "Hulchul (2004 film)\n",
      "Hum Chaar\n",
      "Hum Hai Raahi Car Ke\n",
      "Hum Tum\n",
      "Hum Tum Aur Ghost\n",
      "Hum Tum Shabana\n",
      "Hum Tumhare Hain Sanam\n",
      "Hume Tumse Pyaar Kitna\n",
      "Humko Deewana Kar Gaye\n",
      "Humko Tumse Pyaar Hai\n",
      "Humne Jeena Seekh Liya\n",
      "Humpty Sharma Ki Dulhania\n",
      "Humshakals\n",
      "Hungama (2003 film)\n",
      "Hunterrr\n",
      "Hyderabad Blues 2\n",
      "I Am (2010 Indian film)\n",
      "I Am Kalam\n",
      "I Hate Luv Storys\n",
      "I Love Desi\n",
      "I Love NY (2015 film)\n",
      "I Proud to Be an Indian\n",
      "I See You (2006 film)\n",
      "Impatient Vivek\n",
      "India's Most Wanted (film)\n",
      "Indian Babu\n",
      "Indu Sarkar\n",
      "Inkaar (2013 film)\n",
      "Insaaf: The Justice\n",
      "Insan\n",
      "Inteha (2003 film)\n",
      "Inteqam: The Perfect Game\n",
      "Iqbal (film)\n",
      "Iqraar by Chance\n",
      "Irada (2017 film)\n",
      "Irudhi Suttru\n",
      "Ishaqzaade\n",
      "Ishkq in Paris\n",
      "Ishq Click\n",
      "Ishq Forever\n",
      "Ishq Hai Tumse\n",
      "Ishq Ke Parindey\n",
      "Ishq Vishk\n",
      "Ishqedarriyaan\n",
      "Ishqeria\n",
      "Ishqiya\n",
      "Isi Life Mein\n",
      "Island City (2015 film)\n",
      "Issaq\n",
      "It's a Wonderful Afterlife\n",
      "JD (film)\n",
      "Jaal: The Trap\n",
      "Jaan-E-Mann\n",
      "Jaane Hoga Kya\n",
      "Jaane Kahan Se Aayi Hai\n",
      "Jaane Kyun De Yaaron\n",
      "Jab Harry Met Sejal\n",
      "Jab Tak Hai Jaan\n",
      "Jab We Met\n",
      "Jabariya Jodi\n",
      "Jack and Dil\n",
      "Jackpot (2013 film)\n",
      "Jagga Jasoos\n",
      "Jahan Jaaeyega Hamen Paaeyega\n",
      "Jai Chiranjeeva\n",
      "Jai Gangaajal\n",
      "Jai Ho (film)\n",
      "Jai Jawaan Jai Kisaan (film)\n",
      "Jai Veeru\n",
      "Jail (2009 film)\n",
      "Jajantaram Mamantaram\n",
      "Jal (film)\n",
      "Jalebi (film)\n",
      "Jalpari: The Desert Mermaid\n",
      "James (2005 film)\n",
      "Janasheen\n",
      "Jannat (film)\n",
      "Jattu Engineer\n",
      "Jawani Diwani: A Youthful Joyride\n",
      "Jayantabhai Ki Luv Story\n",
      "Jazbaa\n",
      "Jeena Hai Toh Thok Daal\n",
      "Jeena Isi Ka Naam Hai (film)\n",
      "Jhalki\n",
      "Jhankaar Beats\n",
      "Jhoom Barabar Jhoom\n",
      "Jhootha Hi Sahi\n",
      "Jhootha Kahin Ka\n",
      "Jia Aur Jia\n",
      "Jigariyaa\n",
      "Jigyaasa\n",
      "Jimmy (2008 film)\n",
      "Jism (2003 film)\n",
      "Jo Bole So Nihaal (film)\n",
      "Jo Hum Chahein\n",
      "Jodhaa Akbar\n",
      "Jodi Breakers\n",
      "Joggers' Park (film)\n",
      "John Day (film)\n",
      "Johnny Gaddaar\n",
      "Joker (2012 film)\n",
      "Jolly LLB\n",
      "Judgementall Hai Kya\n",
      "Judwaa 2\n",
      "Jugni (2016 film)\n",
      "Julie (2004 film)\n",
      "Julie 2\n",
      "Junglee (2019 film)\n",
      "Junooniyat\n",
      "Jurm (2005 film)\n",
      "Just Married (2007 film)\n",
      "Kaabil\n",
      "Kaagaz Ke Fools\n",
      "Kaal (2005 film)\n",
      "Kaalakaandi\n",
      "Kaalo\n",
      "Kaanchi: The Unbreakable\n",
      "Kaante\n",
      "Kaashi in Search of Ganga\n",
      "Kabhi Alvida Naa Kehna\n",
      "Kabir Singh\n",
      "Kabul Express\n",
      "Kadvi Hawa\n",
      "Kagaar: Life on the Edge\n",
      "Kahaani\n",
      "Kahin Hai Mera Pyar\n",
      "Kai Po Che!\n",
      "Kaise Kahoon Ke... Pyaar Hai\n",
      "Kal Ho Naa Ho\n",
      "Kalank\n",
      "Kalyug (2005 film)\n",
      "Kaminey\n",
      "Kapoor & Sons\n",
      "Karam (film)\n",
      "Karar: The Deal\n",
      "Karle Pyaar Karle\n",
      "Karma Aur Holi\n",
      "Karthik Calling Karthik\n",
      "Karwaan\n",
      "Karzzzz\n",
      "Kasak (2005 film)\n",
      "Kash Aap Hamare Hote\n",
      "Katti Batti\n",
      "Kaun Hai Jo Sapno Mein Aaya\n",
      "Kaun Kitne Paani Mein\n",
      "Keep Safe Distance (film)\n",
      "Kesari (film)\n",
      "Khajoor Pe Atke\n",
      "Khakee\n",
      "Khamosh Pani\n",
      "Khamoshh... Khauff Ki Raat\n",
      "Khamoshi (2019 film)\n",
      "Khamoshiyan\n",
      "Khap (film)\n",
      "Khatta Meetha (2010 film)\n",
      "Khel Toh Ab Shuru Hoga\n",
      "Khel – No Ordinary Game\n",
      "Khichdi: The Movie\n",
      "Khoobsurat (2014 film)\n",
      "Khosla Ka Ghosla\n",
      "Khoya Khoya Chand\n",
      "Khuda Kasam\n",
      "Khushi (2003 Hindi film)\n",
      "Khwaabb\n",
      "Khwahish\n",
      "Ki & Ka\n",
      "Kick (2014 film)\n",
      "Kill Dil\n",
      "Kis Kis Ki Kismat\n",
      "Kis Kisko Pyaar Karoon\n",
      "Kisaan\n",
      "Kismat (2004 film)\n",
      "Kismat Konnection\n",
      "Kismat Love Paisa Dilli\n",
      "Kisna: The Warrior Poet\n",
      "Kisse Pyaar Karoon\n",
      "Kites (film)\n",
      "Knock Out (2010 film)\n",
      "Koi Aap Sa\n",
      "Koi Mere Dil Mein Hai\n",
      "Koi... Mil Gaya\n",
      "Koyelaanchal\n",
      "Krazzy 4\n",
      "Krishna Aur Kans\n",
      "Krishna Cottage\n",
      "Krrish\n",
      "Kucch Luv Jaisaa\n",
      "Kucch To Hai\n",
      "Kuch Kuch Locha Hai\n",
      "Kuch Naa Kaho\n",
      "Kuchh Bheege Alfaaz\n",
      "Kuchh Meetha Ho Jaye\n",
      "Kudiyon Ka Hai Zamana\n",
      "Kuku Mathur Ki Jhand Ho Gayi\n",
      "Kurbaan (2009 film)\n",
      "Kushti (film)\n",
      "Kya Dilli Kya Lahore\n",
      "Kya Love Story Hai\n",
      "Kyaa Kool Hai Hum\n",
      "Kyaa Kool Hain Hum 3\n",
      "Kyaa Super Kool Hain Hum\n",
      "Kyon Ki\n",
      "Kyun! Ho Gaya Na...\n",
      "LOC Kargil\n",
      "Laaga Chunari Mein Daag\n",
      "Laal Rang\n",
      "Ladies vs Ricky Bahl\n",
      "Lafangey Parindey\n",
      "Lage Raho Munna Bhai\n",
      "Lahore (film)\n",
      "Laila Majnu (2018 film)\n",
      "Lakeer – Forbidden Lines\n",
      "Lakshmi (2014 film)\n",
      "Lakshya (film)\n",
      "Lamhaa\n",
      "Lekar Hum Deewana Dil\n",
      "Life Express (2010 film)\n",
      "Life Is Beautiful (2014 film)\n",
      "Life Ki Toh Lag Gayi\n",
      "Life Mein Kabhie Kabhiee\n",
      "Life Partner\n",
      "Life in a... Metro\n",
      "Lipstick Under My Burkha\n",
      "Listen... Amaya\n",
      "Little Zizou\n",
      "Login (film)\n",
      "Loins of Punjab Presents\n",
      "London Dreams\n",
      "Lootera\n",
      "Love Aaj Kal\n",
      "Love Breakups Zindagi\n",
      "Love Games (film)\n",
      "Love Ke Chakkar Mein\n",
      "Love Sex Aur Dhokha\n",
      "Love Shagun\n",
      "Love Sonia\n",
      "Love Story 2050\n",
      "Love U...Mr. Kalakaar!\n",
      "Love in Bombay\n",
      "Love per Square Foot\n",
      "Loveshhuda\n",
      "Luck (2009 film)\n",
      "Luck by Chance\n",
      "Luckhnowi Ishq\n",
      "Lucknow Central\n",
      "Lucky Kabootar\n",
      "Lucky: No Time for Love\n",
      "Luv U Alia\n",
      "Luv U Soniyo\n",
      "M Cream\n",
      "M.S. Dhoni: The Untold Story\n",
      "MP3: Mera Pehla Pehla Pyaar\n",
      "MSG-2 The Messenger\n",
      "MSG: The Messenger\n",
      "MSG: The Warrior Lion Heart\n",
      "Maan Gaye Mughal-e-Azam\n",
      "Maatr\n",
      "Maazii\n",
      "Machhli Jal Ki Rani Hai\n",
      "Machine (2017 film)\n",
      "Mad About Dance\n",
      "Madaari\n",
      "Made in China (2019 film)\n",
      "Madhoshi\n",
      "Madras Cafe\n",
      "Magic Magic 3D\n",
      "Mai (2013 film)\n",
      "Main Aisa Hi Hoon\n",
      "Main Aur Mr. Riight\n",
      "Main Aurr Mrs Khanna\n",
      "Main Hoon Na\n",
      "Main Hoon Part-Time Killer\n",
      "Main Krishna Hoon\n",
      "Main Madhuri Dixit Banna Chahti Hoon\n",
      "Main Meri Patni Aur Woh\n",
      "Main Prem Ki Diwani Hoon\n",
      "Main Tera Hero\n",
      "Maine Gandhi Ko Nahin Mara\n",
      "Maine Pyaar Kyun Kiya?\n",
      "Malamaal Weekly\n",
      "Malik Ek\n",
      "Mangal Pandey: The Rising\n",
      "Manikarnika: The Queen of Jhansi\n",
      "Manjhi – The Mountain Man\n",
      "Manjunath (film)\n",
      "Manmarziyaan\n",
      "Manorama Six Feet Under\n",
      "Manto (2018 film)\n",
      "Mantra (2016 film)\n",
      "Maqbool\n",
      "Mard Ko Dard Nahi Hota\n",
      "Mardaani\n",
      "Mardaani 2\n",
      "Margarita with a Straw\n",
      "Marigold (2007 film)\n",
      "Marjaavaan\n",
      "Market (2003 film)\n",
      "Married 2 America\n",
      "Mary Kom (film)\n",
      "Masaan\n",
      "Masti (2004 film)\n",
      "Mastizaade\n",
      "Mastram\n",
      "Matru Ki Bijlee Ka Mandola\n",
      "Matrubhoomi\n",
      "Mausam (2011 film)\n",
      "Maximum (film)\n",
      "Meenaxi: A Tale of Three Cities\n",
      "Meerabai Not Out\n",
      "Meeruthiya Gangsters\n",
      "Meinu Ek Ladki Chaahiye\n",
      "Memories in March\n",
      "Mercury (film)\n",
      "Mere Baap Pehle Aap\n",
      "Mere Brother Ki Dulhan\n",
      "Mere Dad Ki Maruti\n",
      "Mere Dost Picture Abhi Baki Hai\n",
      "Mere Genie Uncle\n",
      "Mere Jeevan Saathi (2006 film)\n",
      "Mere Pyare Prime Minister\n",
      "Meri Biwi Ka Jawaab Nahin\n",
      "Meri Pyaari Bindu\n",
      "Mickey Virus\n",
      "Milenge Milenge\n",
      "Miley Naa Miley Hum\n",
      "Mirch\n",
      "Mirzya (film)\n",
      "Miss Tanakpur Haazir Ho\n",
      "Missing (2018 film)\n",
      "Mission Istaanbul\n",
      "Mission Mangal\n",
      "Mitron\n",
      "Mittal v/s Mittal\n",
      "Moh Maya Money\n",
      "Mohalla Assi\n",
      "Mohenjo Daro (film)\n",
      "Mom (film)\n",
      "Money Hai Toh Honey Hai\n",
      "Monica (film)\n",
      "Monsoon Shootout\n",
      "Morning Raga\n",
      "Motichoor Chaknachoor\n",
      "Motu Patlu: King of Kings\n",
      "Mr Prime Minister\n",
      "Mr. Bhatti on Chutti\n",
      "Mr. Singh Mrs. Mehta\n",
      "Mr. X (2015 film)\n",
      "Mubarakan\n",
      "Mughal-e-Azam\n",
      "Mujhse Fraaandship Karoge\n",
      "Mujhse Shaadi Karogi\n",
      "Mukhbiir\n",
      "Mukkabaaz\n",
      "Mulk (film)\n",
      "Mumbai 125 KM\n",
      "Mumbai Can Dance Saala\n",
      "Mumbai Delhi Mumbai\n",
      "Mumbai Mast Kallander\n",
      "Mumbai Matinee\n",
      "Mumbai Meri Jaan\n",
      "Mumbai Salsa\n",
      "Mumbai Se Aaya Mera Dost\n",
      "Mumbhai Connection\n",
      "Mummy Punjabi\n",
      "Munna Bhai M.B.B.S.\n",
      "Munna Michael\n",
      "Murari the Mad Gentleman\n",
      "Murder (2004 film)\n",
      "Murder 2\n",
      "Murder 3\n",
      "Musafir (2004 film)\n",
      "Muskaan\n",
      "My Birthday Song\n",
      "My Bollywood Bride\n",
      "My Brother…Nikhil\n",
      "My Friend Pinto\n",
      "My Name Is Khan\n",
      "My Wife's Murder\n",
      "NH-8 Road to Nidhivan\n",
      "NH10 (film)\n",
      "Na Ghar Ke Na Ghaat Ke\n",
      "Naach (2004 film)\n",
      "Naam Shabana\n",
      "Naina (2005 film)\n",
      "Naksha\n",
      "Namaste England\n",
      "Namastey London\n",
      "Nanhe Jaisalmer\n",
      "Nanu Ki Jaanu\n",
      "Naqaab\n",
      "Nasha (film)\n",
      "Naughty @ 40\n",
      "Nautanki Saala!\n",
      "Nawabzaade\n",
      "Nayee Padosan\n",
      "Neal 'n' Nikki\n",
      "Neerja\n",
      "Nehlle Pe Dehlla\n",
      "Netaji Subhas Chandra Bose: The Forgotten Hero\n",
      "New York (2009 film)\n",
      "Newton (film)\n",
      "Nil Battey Sannata\n",
      "Nirdosh\n",
      "Nishabd\n",
      "No Entry\n",
      "No One Killed Jessica\n",
      "No Problem (2010 film)\n",
      "No Smoking (2007 film)\n",
      "Noor (film)\n",
      "Not a Love Story (2011 film)\n",
      "Notebook (2019 film)\n",
      "Nothing but Life\n",
      "O Teri\n",
      "OMG – Oh My God!\n",
      "October (2018 film)\n",
      "Oh My God (2008 film)\n",
      "Ok Jaanu\n",
      "Om (2003 film)\n",
      "Om Shanti Om\n",
      "Om-Dar-B-Dar\n",
      "Omerta (film)\n",
      "Omkara (2006 film)\n",
      "Once Upon a Time in Mumbaai\n",
      "Once Upon ay Time in Mumbai Dobaara!\n",
      "One Day: Justice Delivered\n",
      "One Two Three\n",
      "One by Two (2014 film)\n",
      "Out of Control (2003 film)\n",
      "Oye Lucky! Lucky Oye!\n",
      "P Se PM Tak\n",
      "P Se Pyaar F Se Faraar\n",
      "PK (film)\n",
      "PM Narendra Modi\n",
      "Paa (film)\n",
      "Paan Singh Tomar (film)\n",
      "Paanch Ghantey Mien Paanch Crore\n",
      "Paap\n",
      "Paathshaala\n",
      "Padmaavat\n",
      "Padmashree Laloo Prasad Yadav\n",
      "Pagalpanti (2019 film)\n",
      "Page 3 (film)\n",
      "Paheli\n",
      "Paisa Vasool\n",
      "Pal Pal Dil Ke Paas\n",
      "Paltan (film)\n",
      "Panchlait\n",
      "Pankh\n",
      "Paranthe Wali Gali\n",
      "Parched\n",
      "Parineeta (2005 film)\n",
      "Parmanu: The Story of Pokhran\n",
      "Partner (2007 film)\n",
      "Parwana (2003 film)\n",
      "Pataakha\n",
      "Patel Ki Punjabi Shaadi\n",
      "Pati Patni Aur Woh (2019 film)\n",
      "Patiala House (film)\n",
      "Paying Guests\n",
      "Peepli Live\n",
      "Pehchaan: The Face of Truth\n",
      "Phamous\n",
      "Phantom (2015 film)\n",
      "Phas Gaye Re Obama\n",
      "Phata Poster Nikhla Hero\n",
      "Phhir\n",
      "Phillauri (film)\n",
      "Phir Hera Pheri\n",
      "Phir Kabhi\n",
      "Phir Milenge\n",
      "Phobia (2016 film)\n",
      "Phoonk 2\n",
      "Photograph (film)\n",
      "Pihu\n",
      "Piku\n",
      "Pinjar (film)\n",
      "Pink (2016 film)\n",
      "Pizza (2014 film)\n",
      "Plan (film)\n",
      "Players (2012 film)\n",
      "Police Force: An Inside Story\n",
      "Policegiri\n",
      "Popcorn Khao! Mast Ho Jao\n",
      "Poster Boys\n",
      "Praan Jaye Par Shaan Na Jaye\n",
      "Prague (2013 film)\n",
      "Pranaam\n",
      "Prassthanam\n",
      "Prateeksha\n",
      "Prem Kaa Game\n",
      "Prem Ratan Dhan Payo\n",
      "Prince (2010 film)\n",
      "Purani Jeans\n",
      "Pyaar Impossible!\n",
      "Pyaar Ka Punchnama\n",
      "Pyaar Ka Punchnama 2\n",
      "Pyaar Ke Side Effects\n",
      "Pyaar Mein Twist\n",
      "Pyare Mohan\n",
      "Qaidi Band\n",
      "Qarib Qarib Singlle\n",
      "Qayamat: City Under Threat\n",
      "Qissa (film)\n",
      "Queen (2014 film)\n",
      "Quick Gun Murugun\n",
      "Ra.One\n",
      "Raabta (film)\n",
      "Raag Desh (film)\n",
      "Raanjhanaa\n",
      "Raat Gayi Baat Gayi?\n",
      "Raavan\n",
      "Raaz (2002 film)\n",
      "Raaz: Reboot\n",
      "Raaz: The Mystery Continues\n",
      "Raazi\n",
      "Rab Ne Bana Di Jodi\n",
      "Race (2008 film)\n",
      "Race 2\n",
      "Race 3\n",
      "Raees (film)\n",
      "Raghu Romeo\n",
      "Ragini MMS\n",
      "Ragini MMS 2\n",
      "Rahasya\n",
      "Raid (2018 film)\n",
      "Raincoat (film)\n",
      "Raja Bhaiya (film)\n",
      "Raja Natwarlal\n",
      "Rajjo\n",
      "Rajma Chawal\n",
      "Rakht\n",
      "Rakhtbeej\n",
      "Ramaa: The Saviour\n",
      "Ramaiya Vastavaiya\n",
      "Raman Raghav 2.0\n",
      "Ramayana: The Epic\n",
      "Ramji Londonwaley\n",
      "Ramprasad Ki Tehrvi\n",
      "Ranbanka\n",
      "Ranchi Diaries\n",
      "Rang De Basanti\n",
      "Rang Rasiya\n",
      "Rangoon (2017 Hindi film)\n",
      "Rangrezz\n",
      "Rann (film)\n",
      "Raqeeb\n",
      "Rascals (2011 film)\n",
      "Rebellious Flower\n",
      "Red Alert: The War Within\n",
      "Red Swastik\n",
      "Red: The Dark Side\n",
      "Revati (film)\n",
      "Revolver Rani\n",
      "Ribbon (film)\n",
      "Right Here Right Now (film)\n",
      "Right Yaaa Wrong\n",
      "Risk (2007 film)\n",
      "Risknamaa\n",
      "Riyasat (film)\n",
      "Road to Sangam\n",
      "Roadside Romeo\n",
      "Roar: Tigers of the Sundarbans\n",
      "Rock On 2\n",
      "Rock On!!\n",
      "Rocket Singh: Salesman of the Year\n",
      "Rockstar (2011 film)\n",
      "Rocky Handsome\n",
      "Rog\n",
      "Rok Sako To Rok Lo\n",
      "Rokkk\n",
      "Rough Book\n",
      "Roy (film)\n",
      "Rudraksh (film)\n",
      "Rukh (film)\n",
      "Rules: Pyaar Ka Superhit Formula\n",
      "Run (2004 film)\n",
      "Running Shaadi\n",
      "Rush (2012 film)\n",
      "Rustom (film)\n",
      "Saaho\n",
      "Saand Ki Aankh\n",
      "Saankal\n",
      "Saansein\n",
      "Saare Jahaan Se Mehnga\n",
      "Saas Bahu Aur Sensex\n",
      "Saat Uchakkey\n",
      "Saathiya (film)\n",
      "Saawan... The Love Season\n",
      "Saawariya\n",
      "Saaya (2003 film)\n",
      "Sabki Bajegi Band\n",
      "Sachin: A Billion Dreams\n",
      "Sacred Evil – A True Story\n",
      "Sadda Adda\n",
      "Sadiyaan\n",
      "Saheb Biwi Aur Gangster\n",
      "Saheb Biwi Aur Gangster 3\n",
      "Saheb Biwi Aur Gangster Returns\n",
      "Sahi Dhandhe Galat Bande\n",
      "Salaam Namaste\n",
      "Salaam-e-Ishq: A Tribute to Love\n",
      "Sallu Ki Shaadi\n",
      "Samay: When Time Strikes\n",
      "Samrat & Co.\n",
      "Sanam Re\n",
      "Sandwich (2006 film)\n",
      "Sanju\n",
      "Sankat City\n",
      "Santa Banta Pvt Ltd\n",
      "Sarbjit (film)\n",
      "Sarhad Paar\n",
      "Sarkar (2005 film)\n",
      "Sarkar 3\n",
      "Sarkar Raj\n",
      "Satellite Shankar\n",
      "Satrangee Parachute\n",
      "Satta (film)\n",
      "Satya 2\n",
      "Satyagraha (film)\n",
      "Satyameva Jayate (2018 film)\n",
      "Say Salaam India\n",
      "Second Hand Husband\n",
      "Secret Superstar\n",
      "Section 375\n",
      "Sehar\n",
      "Setters (film)\n",
      "Shaadi Ka Laddoo\n",
      "Shaadi Karke Phas Gaya Yaar\n",
      "Shaadi Ke Side Effects\n",
      "Shaadi Mein Zaroor Aana\n",
      "Shaadi No. 1\n",
      "Shaadi Se Pehle\n",
      "Shaandaar\n",
      "Shaapit\n",
      "Shab (film)\n",
      "Shabd (film)\n",
      "Shabnam Mausi\n",
      "Shabri\n",
      "Shagird (2011 film)\n",
      "Shahid (film)\n",
      "Shaitan (film)\n",
      "Shakalaka Boom Boom\n",
      "Shamitabh\n",
      "Shanghai (2012 film)\n",
      "Sharafat Gayi Tel Lene\n",
      "Shart: The Challenge\n",
      "Sheen (film)\n",
      "Sheesha (2005 film)\n",
      "Shikhar (film)\n",
      "Ship of Theseus (film)\n",
      "Shirin Farhad Ki Toh Nikal Padi\n",
      "Shiva (2006 film)\n",
      "Shivaay\n",
      "Sholay\n",
      "Shootout at Lokhandwala\n",
      "Shor in the City\n",
      "Shorgul\n",
      "Shortcut Romeo\n",
      "Shortcut Safari\n",
      "Shortkut\n",
      "Showbiz (film)\n",
      "Shubh Mangal Saavdhan\n",
      "Shuddh Desi Romance\n",
      "Shukriya: Till Death Do Us Apart\n",
      "Siddharth (2013 film)\n",
      "Sikandar (2009 film)\n",
      "Silsiilay\n",
      "Simmba\n",
      "Simran (film)\n",
      "Singh Is Bliing\n",
      "Singh Is Kinng\n",
      "Singh Saab the Great\n",
      "Singham\n",
      "Singham Returns\n",
      "Sirf (film)\n",
      "Sixteen (2013 Indian film)\n",
      "Soch Lo\n",
      "Socha Na Tha\n",
      "Son of Sardaar\n",
      "Sonali Cable\n",
      "Sonchiriya\n",
      "Soni (film)\n",
      "Sons of Ram\n",
      "Sonu Ke Titu Ki Sweety\n",
      "Sooper Se Ooper\n",
      "Sorry Bhai!\n",
      "Sorry Daddy\n",
      "Souten: The Other Woman\n",
      "Spark (2014 film)\n",
      "Special 26\n",
      "Speed (2007 film)\n",
      "Sssshhh...\n",
      "Ssukh\n",
      "Stanley Ka Dabba\n",
      "Station (2014 film)\n",
      "Staying Alive (2012 film)\n",
      "Strangers (2007 Hindi film)\n",
      "Stree (2018 film)\n",
      "Striker (2010 film)\n",
      "Strings of Passion\n",
      "Student of the Year\n",
      "Student of the Year 2\n",
      "Stumped (film)\n",
      "Sui Dhaaga\n",
      "Sukhmani: Hope for Life\n",
      "Sulemani Keeda\n",
      "Sultan (2016 film)\n",
      "Summer 2007\n",
      "Sunday (2008 film)\n",
      "Sunglass (film)\n",
      "Suno Sasurjee\n",
      "Super 30 (film)\n",
      "Super Model (film)\n",
      "Super Nani\n",
      "Swades\n",
      "Swami (2007 film)\n",
      "Sweetiee Weds NRI\n",
      "Ta Ra Rum Pum\n",
      "Taare Zameen Par\n",
      "Taarzan: The Wonder Car\n",
      "Table No. 21\n",
      "Tahaan\n",
      "Taj Mahal: An Eternal Love Story\n",
      "Take It Easy (2015 film)\n",
      "Talaash: The Answer Lies Within\n",
      "Talaash: The Hunt Begins...\n",
      "Talvar (film)\n",
      "Tamanchey\n",
      "Tango Charlie\n",
      "Tanu Weds Manu\n",
      "Tanu Weds Manu: Returns\n",
      "Tanu Weds Manu: Returns\n",
      "Tashan (film)\n",
      "Tathastu\n",
      "Taxi No. 9211\n",
      "Te3n\n",
      "Teen Patti (film)\n",
      "Teen Thay Bhai\n",
      "Tees Maar Khan (2010 film)\n",
      "Teesri Aankh: The Hidden Camera\n",
      "Tehzeeb (2003 film)\n",
      "Tell Me O Kkhuda\n",
      "Tera Kya Hoga Johnny\n",
      "Tere Bin Laden\n",
      "Tere Bin Laden: Dead or Alive\n",
      "Tere Mere Phere\n",
      "Tere Naal Love Ho Gaya\n",
      "Tere Naam\n",
      "Teri Meri Kahaani (film)\n",
      "Tevar\n",
      "Tezz\n",
      "Thackeray (film)\n",
      "Thank You (2011 film)\n",
      "Thanks Maa\n",
      "The Accidental Prime Minister (film)\n",
      "The Blue Umbrella (2005 film)\n",
      "The Blueberry Hunt\n",
      "The Bypass\n",
      "The Dirty Picture\n",
      "The Film\n",
      "The Film Emotional Atyachar\n",
      "The Final Exit\n",
      "The Ghazi Attack\n",
      "The Hero: Love Story of a Spy\n",
      "The Japanese Wife\n",
      "The Journey of Karma\n",
      "The Killer (2006 film)\n",
      "The Last Lear\n",
      "The Lunchbox\n",
      "The Namesake (film)\n",
      "The Pink Mirror\n",
      "The Shaukeens\n",
      "The Silent Heroes\n",
      "The Sky Is Pink\n",
      "The Stoneman Murders\n",
      "The Tashkent Files\n",
      "The Train (2007 film)\n",
      "The Xposé\n",
      "The Zoya Factor (film)\n",
      "Thoda Lutf Thoda Ishq\n",
      "Thoda Pyaar Thoda Magic\n",
      "Thoda Tum Badlo Thoda Hum\n",
      "Thodi Life Thoda Magic\n",
      "Thugs of Hindostan\n",
      "Tiger Zinda Hai\n",
      "Titli (2014 film)\n",
      "Titoo MBA\n",
      "Toh Baat Pakki!\n",
      "Toilet: Ek Prem Katha\n",
      "Tom Dick and Harry (2006 film)\n",
      "Toonpur Ka Super Hero\n",
      "Total Dhamaal\n",
      "Total Siyapaa\n",
      "Traffic (2016 film)\n",
      "Traffic Signal (film)\n",
      "Trapped (2016 Hindi film)\n",
      "Trump Card (film)\n",
      "Tubelight (2017 Hindi film)\n",
      "Tujhe Meri Kasam\n",
      "Tulsi (film)\n",
      "Tum Bin II\n",
      "Tum Mile\n",
      "Tum Milo Toh Sahi\n",
      "Tumbbad\n",
      "Tumhari Sulu\n",
      "Tumsa Nahin Dekha: A Love Story\n",
      "Turning 30\n",
      "U Me Aur Hum\n",
      "U R My Jaan\n",
      "Udaan (2010 film)\n",
      "Udta Punjab\n",
      "Ugly (film)\n",
      "Ujda Chaman\n",
      "Umar (film)\n",
      "Umrao Jaan (2006 film)\n",
      "Umrika\n",
      "Ungli\n",
      "Union Leader (film)\n",
      "United Six\n",
      "Uri: The Surgical Strike\n",
      "Utt Pataang\n",
      "Utthaan\n",
      "Uvaa\n",
      "Vaada (film)\n",
      "Vaada Raha\n",
      "Vaah! Life Ho Toh Aisi!\n",
      "Vaastu Shastra (film)\n",
      "Valentine's Night\n",
      "Veer (2010 film)\n",
      "Veer-Zaara\n",
      "Veerappan (2016 film)\n",
      "Veerey Ki Wedding\n",
      "Via Darjeeling\n",
      "Viceroy's House (film)\n",
      "Vicky Donor\n",
      "Victory (2009 film)\n",
      "Vidyaarthi\n",
      "Viruddh... Family Comes First\n",
      "Vishwaroopam\n",
      "Vivah\n",
      "Vodka Diaries\n",
      "W (2014 film)\n",
      "Waarrior Savitri\n",
      "Wafa: A Deadly Love Story\n",
      "Wah Taj\n",
      "Waisa Bhi Hota Hai Part II\n",
      "Waiting (2015 film)\n",
      "Wajah Tum Ho\n",
      "Wake Up India\n",
      "Wake Up Sid\n",
      "Wanted (2009 film)\n",
      "Waqt: The Race Against Time\n",
      "War Chhod Na Yaar\n",
      "Waris Shah: Ishq Daa Waaris\n",
      "Wedding Anniversary\n",
      "Wedding Pullav\n",
      "Welcome (2007 film)\n",
      "Welcome 2 Karachi\n",
      "Welcome Back (film)\n",
      "Welcome to Sajjanpur\n",
      "Well Done Abba\n",
      "What the Fish\n",
      "What's Your Raashee?\n",
      "Why Cheat India\n",
      "Woh Lamhe...\n",
      "Woodstock Villa\n",
      "Xcuse Me\n",
      "Ya Rab\n",
      "Yaaram (2019 film)\n",
      "Yadvi – The Dignified Princess\n",
      "Yakeen (2005 film)\n",
      "Yamla Pagla Deewana\n",
      "Yamla Pagla Deewana: Phir Se\n",
      "Yatra (2007 film)\n",
      "Yeh Dil\n",
      "Yeh Dooriyan\n",
      "Yeh Hai Bakrapur\n",
      "Yeh Hai India\n",
      "Yeh Jawaani Hai Deewani\n",
      "Yeh Khula Aasmaan\n",
      "Yeh Lamhe Judaai Ke\n",
      "Yeh Mera India\n",
      "Yeh Saali Aashiqui\n",
      "Youngistaan\n",
      "Yun Hota Toh Kya Hota\n",
      "Yuva\n",
      "Yuvvraaj\n",
      "Zamaanat\n",
      "Zameen (2003 film)\n",
      "Zameer: The Fire Within\n",
      "Zed Plus\n",
      "Zeher\n",
      "Zero (2018 film)\n",
      "Zid (2014 film)\n",
      "Zila Ghaziabad\n",
      "Zinda (film)\n",
      "Zindaggi Rocks\n",
      "Zindagi 50-50\n",
      "Zindagi Na Milegi Dobara\n",
      "Zindagi Tere Naam\n",
      "Zokkomon\n",
      "Zor Lagaa Ke...Haiya!\n"
     ]
    }
   ],
   "source": [
    "# If we want loops to work for indexes then\n",
    "\n",
    "for i in movies.index:\n",
    "    print(i)"
   ]
  },
  {
   "cell_type": "code",
   "execution_count": 179,
   "id": "521e9e22-2b2b-43e2-9e01-4463315bcf7c",
   "metadata": {},
   "outputs": [
    {
     "data": {
      "text/plain": [
       "hindi      90\n",
       "science    67\n",
       "sst        45\n",
       "maths      89\n",
       "english    85\n",
       "Name: Karan's marks, dtype: int64"
      ]
     },
     "execution_count": 179,
     "metadata": {},
     "output_type": "execute_result"
    }
   ],
   "source": [
    "# Arithmetic operators (Broadcasting)\n",
    "\n",
    "marks_series"
   ]
  },
  {
   "cell_type": "code",
   "execution_count": 178,
   "id": "df681653-e963-4224-a863-c7202273f0bd",
   "metadata": {},
   "outputs": [
    {
     "data": {
      "text/plain": [
       "hindi      10\n",
       "science    33\n",
       "sst        55\n",
       "maths      11\n",
       "english    15\n",
       "Name: Karan's marks, dtype: int64"
      ]
     },
     "execution_count": 178,
     "metadata": {},
     "output_type": "execute_result"
    }
   ],
   "source": [
    "100 - marks_series"
   ]
  },
  {
   "cell_type": "code",
   "execution_count": 181,
   "id": "9dbcd948-060a-4055-b0e0-f59b51195908",
   "metadata": {},
   "outputs": [
    {
     "data": {
      "text/plain": [
       "hindi      190\n",
       "science    167\n",
       "sst        145\n",
       "maths      189\n",
       "english    185\n",
       "Name: Karan's marks, dtype: int64"
      ]
     },
     "execution_count": 181,
     "metadata": {},
     "output_type": "execute_result"
    }
   ],
   "source": [
    "100 + marks_series"
   ]
  },
  {
   "cell_type": "code",
   "execution_count": 184,
   "id": "67f152be-b58d-4198-8f55-49adaf778093",
   "metadata": {},
   "outputs": [
    {
     "data": {
      "text/plain": [
       "match_no\n",
       "1      False\n",
       "2      False\n",
       "3      False\n",
       "4      False\n",
       "5      False\n",
       "       ...  \n",
       "211    False\n",
       "212    False\n",
       "213     True\n",
       "214    False\n",
       "215    False\n",
       "Name: runs, Length: 215, dtype: bool"
      ]
     },
     "execution_count": 184,
     "metadata": {},
     "output_type": "execute_result"
    }
   ],
   "source": [
    "# Relational Operators\n",
    "\n",
    "vk >= 50 # Boolean series"
   ]
  },
  {
   "cell_type": "code",
   "execution_count": 185,
   "id": "5ae40230-fa36-4d3c-8051-1d28d1dc0436",
   "metadata": {},
   "outputs": [
    {
     "data": {
      "text/plain": [
       "match_no\n",
       "15      50\n",
       "34      58\n",
       "41      71\n",
       "44      56\n",
       "45      67\n",
       "52      70\n",
       "57      57\n",
       "68      73\n",
       "71      51\n",
       "73      58\n",
       "74      65\n",
       "80      57\n",
       "81      93\n",
       "82      99\n",
       "85      56\n",
       "97      67\n",
       "99      73\n",
       "103     51\n",
       "104     62\n",
       "110     82\n",
       "116     75\n",
       "117     79\n",
       "119     80\n",
       "120    100\n",
       "122     52\n",
       "123    108\n",
       "126    109\n",
       "127     75\n",
       "128    113\n",
       "129     54\n",
       "131     54\n",
       "132     62\n",
       "134     64\n",
       "137     55\n",
       "141     58\n",
       "144     57\n",
       "145     92\n",
       "148     68\n",
       "152     70\n",
       "160     84\n",
       "162     67\n",
       "164    100\n",
       "175     72\n",
       "178     90\n",
       "182     50\n",
       "188     72\n",
       "197     51\n",
       "198     53\n",
       "209     58\n",
       "213     73\n",
       "Name: runs, dtype: int64"
      ]
     },
     "execution_count": 185,
     "metadata": {},
     "output_type": "execute_result"
    }
   ],
   "source": [
    "vk[vk >= 50]"
   ]
  },
  {
   "cell_type": "markdown",
   "id": "d0950560-7e33-4081-a377-5811ce31f5d0",
   "metadata": {},
   "source": [
    "### Boolean indexing on Series"
   ]
  },
  {
   "cell_type": "code",
   "execution_count": 186,
   "id": "2e4d7b3c-a1f5-47fe-b452-85de484c1f8d",
   "metadata": {},
   "outputs": [
    {
     "data": {
      "text/plain": [
       "match_no\n",
       "1      False\n",
       "2      False\n",
       "3      False\n",
       "4      False\n",
       "5      False\n",
       "       ...  \n",
       "211    False\n",
       "212    False\n",
       "213     True\n",
       "214    False\n",
       "215    False\n",
       "Name: runs, Length: 215, dtype: bool"
      ]
     },
     "execution_count": 186,
     "metadata": {},
     "output_type": "execute_result"
    }
   ],
   "source": [
    "# Find the number of 50's and 100's scored by Kohli.\n",
    "\n",
    "vk>=50"
   ]
  },
  {
   "cell_type": "code",
   "execution_count": 187,
   "id": "34bfdde6-a6b9-4373-9d4a-98fa3853d990",
   "metadata": {},
   "outputs": [
    {
     "data": {
      "text/plain": [
       "match_no\n",
       "15      50\n",
       "34      58\n",
       "41      71\n",
       "44      56\n",
       "45      67\n",
       "52      70\n",
       "57      57\n",
       "68      73\n",
       "71      51\n",
       "73      58\n",
       "74      65\n",
       "80      57\n",
       "81      93\n",
       "82      99\n",
       "85      56\n",
       "97      67\n",
       "99      73\n",
       "103     51\n",
       "104     62\n",
       "110     82\n",
       "116     75\n",
       "117     79\n",
       "119     80\n",
       "120    100\n",
       "122     52\n",
       "123    108\n",
       "126    109\n",
       "127     75\n",
       "128    113\n",
       "129     54\n",
       "131     54\n",
       "132     62\n",
       "134     64\n",
       "137     55\n",
       "141     58\n",
       "144     57\n",
       "145     92\n",
       "148     68\n",
       "152     70\n",
       "160     84\n",
       "162     67\n",
       "164    100\n",
       "175     72\n",
       "178     90\n",
       "182     50\n",
       "188     72\n",
       "197     51\n",
       "198     53\n",
       "209     58\n",
       "213     73\n",
       "Name: runs, dtype: int64"
      ]
     },
     "execution_count": 187,
     "metadata": {},
     "output_type": "execute_result"
    }
   ],
   "source": [
    "vk[vk>=50]"
   ]
  },
  {
   "cell_type": "code",
   "execution_count": 188,
   "id": "1d1e245e-3336-4977-82f4-9070a1fe00cf",
   "metadata": {},
   "outputs": [
    {
     "data": {
      "text/plain": [
       "50"
      ]
     },
     "execution_count": 188,
     "metadata": {},
     "output_type": "execute_result"
    }
   ],
   "source": [
    "vk[vk>=50].size"
   ]
  },
  {
   "cell_type": "code",
   "execution_count": 189,
   "id": "a2deff2d-9e33-48b0-b9bf-15939e876cf0",
   "metadata": {},
   "outputs": [
    {
     "data": {
      "text/plain": [
       "match_no\n",
       "1      False\n",
       "2      False\n",
       "3      False\n",
       "4      False\n",
       "5      False\n",
       "       ...  \n",
       "211     True\n",
       "212    False\n",
       "213    False\n",
       "214    False\n",
       "215    False\n",
       "Name: runs, Length: 215, dtype: bool"
      ]
     },
     "execution_count": 189,
     "metadata": {},
     "output_type": "execute_result"
    }
   ],
   "source": [
    "# Find number of ducks(0 runs)\n",
    "\n",
    "vk == 0"
   ]
  },
  {
   "cell_type": "code",
   "execution_count": 190,
   "id": "80766925-1283-4c84-a83a-50ffbf09158e",
   "metadata": {},
   "outputs": [
    {
     "data": {
      "text/plain": [
       "match_no\n",
       "8      0\n",
       "87     0\n",
       "91     0\n",
       "93     0\n",
       "130    0\n",
       "135    0\n",
       "206    0\n",
       "207    0\n",
       "211    0\n",
       "Name: runs, dtype: int64"
      ]
     },
     "execution_count": 190,
     "metadata": {},
     "output_type": "execute_result"
    }
   ],
   "source": [
    "vk[vk == 0]"
   ]
  },
  {
   "cell_type": "code",
   "execution_count": 191,
   "id": "4ed93084-392c-41a2-b571-75a4b4db1ad0",
   "metadata": {},
   "outputs": [
    {
     "data": {
      "text/plain": [
       "9"
      ]
     },
     "execution_count": 191,
     "metadata": {},
     "output_type": "execute_result"
    }
   ],
   "source": [
    "vk[vk == 0].size"
   ]
  },
  {
   "cell_type": "code",
   "execution_count": 192,
   "id": "84c3c66f-f3f2-4e9d-95a5-e7e69d104968",
   "metadata": {},
   "outputs": [
    {
     "data": {
      "text/plain": [
       "59"
      ]
     },
     "execution_count": 192,
     "metadata": {},
     "output_type": "execute_result"
    }
   ],
   "source": [
    "# Count number of days where CampusX had more than 200 subs a day\n",
    "\n",
    "subs[subs>200].size"
   ]
  },
  {
   "cell_type": "code",
   "execution_count": 193,
   "id": "32e996d8-36db-4b9b-9962-4eea980d2fd5",
   "metadata": {},
   "outputs": [
    {
     "data": {
      "text/plain": [
       "movie\n",
       "1920 (film)                   Rajniesh Duggall\n",
       "1920: London                     Sharman Joshi\n",
       "1920: The Evil Returns             Vicky Ahuja\n",
       "1971 (2007 film)                Manoj Bajpayee\n",
       "2 States (2014 film)                Alia Bhatt\n",
       "                                   ...        \n",
       "Zindagi 50-50                      Veena Malik\n",
       "Zindagi Na Milegi Dobara        Hrithik Roshan\n",
       "Zindagi Tere Naam           Mithun Chakraborty\n",
       "Zokkomon                       Darsheel Safary\n",
       "Zor Lagaa Ke...Haiya!            Meghan Jadhav\n",
       "Name: lead, Length: 1500, dtype: object"
      ]
     },
     "execution_count": 193,
     "metadata": {},
     "output_type": "execute_result"
    }
   ],
   "source": [
    "# Find actors who have done more than 20 movies\n",
    "\n",
    "movies"
   ]
  },
  {
   "cell_type": "code",
   "execution_count": 196,
   "id": "c4f54466-788a-4a99-9181-140efbbf58f7",
   "metadata": {},
   "outputs": [
    {
     "data": {
      "text/plain": [
       "lead\n",
       "Akshay Kumar          48\n",
       "Amitabh Bachchan      45\n",
       "Ajay Devgn            38\n",
       "Salman Khan           31\n",
       "Sanjay Dutt           26\n",
       "                      ..\n",
       "Diana Penty            1\n",
       "Mukesh Khanna          1\n",
       "Talha Arshad Reshi     1\n",
       "Paoli Dam              1\n",
       "Meghan Jadhav          1\n",
       "Name: count, Length: 566, dtype: int64"
      ]
     },
     "execution_count": 196,
     "metadata": {},
     "output_type": "execute_result"
    }
   ],
   "source": [
    "num_movies = movies.value_counts()\n",
    "num_movies"
   ]
  },
  {
   "cell_type": "code",
   "execution_count": 197,
   "id": "b1a474fb-1e4a-4a53-ae51-1c5eff9e573f",
   "metadata": {},
   "outputs": [
    {
     "data": {
      "text/plain": [
       "lead\n",
       "Akshay Kumar           True\n",
       "Amitabh Bachchan       True\n",
       "Ajay Devgn             True\n",
       "Salman Khan            True\n",
       "Sanjay Dutt            True\n",
       "                      ...  \n",
       "Diana Penty           False\n",
       "Mukesh Khanna         False\n",
       "Talha Arshad Reshi    False\n",
       "Paoli Dam             False\n",
       "Meghan Jadhav         False\n",
       "Name: count, Length: 566, dtype: bool"
      ]
     },
     "execution_count": 197,
     "metadata": {},
     "output_type": "execute_result"
    }
   ],
   "source": [
    "num_movies>20"
   ]
  },
  {
   "cell_type": "code",
   "execution_count": 199,
   "id": "82f5d975-4bc6-489a-8831-1a72af8d3465",
   "metadata": {
    "scrolled": true
   },
   "outputs": [
    {
     "data": {
      "text/plain": [
       "lead\n",
       "Akshay Kumar        48\n",
       "Amitabh Bachchan    45\n",
       "Ajay Devgn          38\n",
       "Salman Khan         31\n",
       "Sanjay Dutt         26\n",
       "Shah Rukh Khan      22\n",
       "Emraan Hashmi       21\n",
       "Name: count, dtype: int64"
      ]
     },
     "execution_count": 199,
     "metadata": {},
     "output_type": "execute_result"
    }
   ],
   "source": [
    "num_movies[num_movies>20]"
   ]
  },
  {
   "cell_type": "markdown",
   "id": "db7928ed-9c8a-4413-a0cb-64de6417d2ac",
   "metadata": {},
   "source": [
    "### Plotting graphs on Series"
   ]
  },
  {
   "cell_type": "code",
   "execution_count": 203,
   "id": "7b6b19b0-f101-403a-86de-8dbe8d11fa23",
   "metadata": {},
   "outputs": [
    {
     "data": {
      "text/plain": [
       "<Axes: >"
      ]
     },
     "execution_count": 203,
     "metadata": {},
     "output_type": "execute_result"
    },
    {
     "data": {
      "image/png": "[encoded data removed]",
      "text/plain": [
       "<Figure size 640x480 with 1 Axes>"
      ]
     },
     "metadata": {},
     "output_type": "display_data"
    }
   ],
   "source": [
    "subs.plot()"
   ]
  },
  {
   "cell_type": "code",
   "execution_count": 209,
   "id": "c310e05f-86bc-4a2f-ae46-e0ae8ab0c551",
   "metadata": {},
   "outputs": [
    {
     "data": {
      "text/plain": [
       "<Axes: xlabel='lead'>"
      ]
     },
     "execution_count": 209,
     "metadata": {},
     "output_type": "execute_result"
    },
    {
     "data": {
      "image/png": "[encoded data removed]",
      "text/plain": [
       "<Figure size 640x480 with 1 Axes>"
      ]
     },
     "metadata": {},
     "output_type": "display_data"
    }
   ],
   "source": [
    "movies.value_counts().head(20).plot(kind='bar')"
   ]
  },
  {
   "cell_type": "code",
   "execution_count": 210,
   "id": "250395d9-c66c-4ae9-9df6-f21cb79f5d05",
   "metadata": {},
   "outputs": [
    {
     "data": {
      "text/plain": [
       "<Axes: ylabel='count'>"
      ]
     },
     "execution_count": 210,
     "metadata": {},
     "output_type": "execute_result"
    },
    {
     "data": {
      "image/png": "[encoded data removed]",
      "text/plain": [
       "<Figure size 640x480 with 1 Axes>"
      ]
     },
     "metadata": {},
     "output_type": "display_data"
    }
   ],
   "source": [
    "movies.value_counts().head(20).plot(kind='pie')"
   ]
  },
  {
   "cell_type": "markdown",
   "id": "3368712e-0e09-4c3a-be9f-a9fdd99eadc3",
   "metadata": {},
   "source": [
    "### Some Important Series Methods"
   ]
  },
  {
   "cell_type": "code",
   "execution_count": 1,
   "id": "154203c0-df3d-4286-8aa8-04ce9a33100f",
   "metadata": {},
   "outputs": [],
   "source": [
    "# astype\n",
    "# between\n",
    "# clip\n",
    "# drop_duplicates\n",
    "# isnull\n",
    "# dropna\n",
    "# fillna\n",
    "# isin\n",
    "# apply\n",
    "# copy"
   ]
  },
  {
   "cell_type": "code",
   "execution_count": 3,
   "id": "628c4409-b029-466f-bb2d-ee6e49ac4dce",
   "metadata": {},
   "outputs": [],
   "source": [
    "import numpy as np\n",
    "import pandas as pd"
   ]
  },
  {
   "cell_type": "code",
   "execution_count": 15,
   "id": "017e7671-2420-4cbc-a64b-31214dcdc87b",
   "metadata": {},
   "outputs": [
    {
     "data": {
      "text/plain": [
       "match_no\n",
       "1       1\n",
       "2      23\n",
       "3      13\n",
       "4      12\n",
       "5       1\n",
       "       ..\n",
       "211     0\n",
       "212    20\n",
       "213    73\n",
       "214    25\n",
       "215     7\n",
       "Name: runs, Length: 215, dtype: int64"
      ]
     },
     "execution_count": 15,
     "metadata": {},
     "output_type": "execute_result"
    }
   ],
   "source": [
    "# astype\n",
    "\n",
    "vk"
   ]
  },
  {
   "cell_type": "code",
   "execution_count": 16,
   "id": "1c0d04d7-a3a6-48f2-88ca-4848ef60589b",
   "metadata": {},
   "outputs": [
    {
     "data": {
      "text/plain": [
       "3472"
      ]
     },
     "execution_count": 16,
     "metadata": {},
     "output_type": "execute_result"
    }
   ],
   "source": [
    "import sys\n",
    "\n",
    "sys.getsizeof(vk)"
   ]
  },
  {
   "cell_type": "code",
   "execution_count": 17,
   "id": "1b212c8e-298d-4b34-92ba-77c15565aa41",
   "metadata": {},
   "outputs": [
    {
     "data": {
      "text/plain": [
       "match_no\n",
       "1       1\n",
       "2      23\n",
       "3      13\n",
       "4      12\n",
       "5       1\n",
       "       ..\n",
       "211     0\n",
       "212    20\n",
       "213    73\n",
       "214    25\n",
       "215     7\n",
       "Name: runs, Length: 215, dtype: int16"
      ]
     },
     "execution_count": 17,
     "metadata": {},
     "output_type": "execute_result"
    }
   ],
   "source": [
    "vk.astype('int16')"
   ]
  },
  {
   "cell_type": "code",
   "execution_count": 19,
   "id": "f415ad03-860a-48a3-8c19-dc3c4ecbf1ba",
   "metadata": {},
   "outputs": [
    {
     "data": {
      "text/plain": [
       "2182"
      ]
     },
     "execution_count": 19,
     "metadata": {},
     "output_type": "execute_result"
    }
   ],
   "source": [
    "sys.getsizeof(vk.astype('int16'))"
   ]
  },
  {
   "cell_type": "code",
   "execution_count": 20,
   "id": "86ef4b8b-6847-4a6a-bd32-6350763e0850",
   "metadata": {},
   "outputs": [
    {
     "data": {
      "text/plain": [
       "match_no\n",
       "1      False\n",
       "2      False\n",
       "3      False\n",
       "4      False\n",
       "5      False\n",
       "       ...  \n",
       "211    False\n",
       "212    False\n",
       "213     True\n",
       "214    False\n",
       "215    False\n",
       "Name: runs, Length: 215, dtype: bool"
      ]
     },
     "execution_count": 20,
     "metadata": {},
     "output_type": "execute_result"
    }
   ],
   "source": [
    "# between\n",
    "\n",
    "vk.between(51,99)"
   ]
  },
  {
   "cell_type": "code",
   "execution_count": 21,
   "id": "1870d193-a354-4866-a226-79745a03516b",
   "metadata": {},
   "outputs": [
    {
     "data": {
      "text/plain": [
       "match_no\n",
       "34     58\n",
       "41     71\n",
       "44     56\n",
       "45     67\n",
       "52     70\n",
       "57     57\n",
       "68     73\n",
       "71     51\n",
       "73     58\n",
       "74     65\n",
       "80     57\n",
       "81     93\n",
       "82     99\n",
       "85     56\n",
       "97     67\n",
       "99     73\n",
       "103    51\n",
       "104    62\n",
       "110    82\n",
       "116    75\n",
       "117    79\n",
       "119    80\n",
       "122    52\n",
       "127    75\n",
       "129    54\n",
       "131    54\n",
       "132    62\n",
       "134    64\n",
       "137    55\n",
       "141    58\n",
       "144    57\n",
       "145    92\n",
       "148    68\n",
       "152    70\n",
       "160    84\n",
       "162    67\n",
       "175    72\n",
       "178    90\n",
       "188    72\n",
       "197    51\n",
       "198    53\n",
       "209    58\n",
       "213    73\n",
       "Name: runs, dtype: int64"
      ]
     },
     "execution_count": 21,
     "metadata": {},
     "output_type": "execute_result"
    }
   ],
   "source": [
    "vk[vk.between(51,99)]"
   ]
  },
  {
   "cell_type": "code",
   "execution_count": 22,
   "id": "7d6569bf-e3f1-4d85-bea1-f49d1c619a2d",
   "metadata": {},
   "outputs": [
    {
     "data": {
      "text/plain": [
       "43"
      ]
     },
     "execution_count": 22,
     "metadata": {},
     "output_type": "execute_result"
    }
   ],
   "source": [
    "vk[vk.between(51,99)].size"
   ]
  },
  {
   "cell_type": "code",
   "execution_count": 23,
   "id": "b8064da1-4e18-4851-8ef3-cec65c9c3215",
   "metadata": {},
   "outputs": [
    {
     "data": {
      "text/plain": [
       "0       48\n",
       "1       57\n",
       "2       40\n",
       "3       43\n",
       "4       44\n",
       "      ... \n",
       "360    231\n",
       "361    226\n",
       "362    155\n",
       "363    144\n",
       "364    172\n",
       "Name: Subscribers gained, Length: 365, dtype: int64"
      ]
     },
     "execution_count": 23,
     "metadata": {},
     "output_type": "execute_result"
    }
   ],
   "source": [
    "# clip\n",
    "\n",
    "subs"
   ]
  },
  {
   "cell_type": "code",
   "execution_count": 24,
   "id": "7dc41155-f886-4263-9b90-ca5e48f8bbd7",
   "metadata": {},
   "outputs": [
    {
     "data": {
      "text/plain": [
       "0      100\n",
       "1      100\n",
       "2      100\n",
       "3      100\n",
       "4      100\n",
       "      ... \n",
       "360    200\n",
       "361    200\n",
       "362    155\n",
       "363    144\n",
       "364    172\n",
       "Name: Subscribers gained, Length: 365, dtype: int64"
      ]
     },
     "execution_count": 24,
     "metadata": {},
     "output_type": "execute_result"
    }
   ],
   "source": [
    "subs.clip(100,200)"
   ]
  },
  {
   "cell_type": "code",
   "execution_count": 25,
   "id": "526d269f-f800-4cb2-acd9-4f456e4fcc24",
   "metadata": {},
   "outputs": [
    {
     "data": {
      "text/plain": [
       "0    1\n",
       "1    1\n",
       "2    1\n",
       "3    2\n",
       "4    3\n",
       "5    3\n",
       "6    4\n",
       "7    5\n",
       "8    5\n",
       "9    5\n",
       "dtype: int64"
      ]
     },
     "execution_count": 25,
     "metadata": {},
     "output_type": "execute_result"
    }
   ],
   "source": [
    "# drop_duplicates\n",
    "\n",
    "temp = pd.Series([1,1,1,2,3,3,4,5,5,5])\n",
    "\n",
    "temp"
   ]
  },
  {
   "cell_type": "code",
   "execution_count": 26,
   "id": "dacc0339-da1d-4f33-bf3f-bca27738e683",
   "metadata": {},
   "outputs": [
    {
     "data": {
      "text/plain": [
       "0    1\n",
       "3    2\n",
       "4    3\n",
       "6    4\n",
       "7    5\n",
       "dtype: int64"
      ]
     },
     "execution_count": 26,
     "metadata": {},
     "output_type": "execute_result"
    }
   ],
   "source": [
    "temp.drop_duplicates()"
   ]
  },
  {
   "cell_type": "code",
   "execution_count": 27,
   "id": "b37dc280-c5f8-4472-80de-9ee8953126e4",
   "metadata": {},
   "outputs": [
    {
     "data": {
      "text/plain": [
       "2    1\n",
       "3    2\n",
       "5    3\n",
       "6    4\n",
       "9    5\n",
       "dtype: int64"
      ]
     },
     "execution_count": 27,
     "metadata": {},
     "output_type": "execute_result"
    }
   ],
   "source": [
    "temp.drop_duplicates(keep='last')"
   ]
  },
  {
   "cell_type": "code",
   "execution_count": 28,
   "id": "9ec0b7e8-6074-4f25-bc00-dca90674a600",
   "metadata": {},
   "outputs": [
    {
     "data": {
      "text/plain": [
       "movie\n",
       "Uri: The Surgical Strike                   Vicky Kaushal\n",
       "Battalion 609                                Vicky Ahuja\n",
       "The Accidental Prime Minister (film)         Anupam Kher\n",
       "Why Cheat India                            Emraan Hashmi\n",
       "Evening Shadows                         Mona Ambegaonkar\n",
       "                                              ...       \n",
       "Sssshhh...                              Tanishaa Mukerji\n",
       "Rules: Pyaar Ka Superhit Formula                  Tanuja\n",
       "Right Here Right Now (film)                        Ankit\n",
       "Talaash: The Hunt Begins...                Rakhee Gulzar\n",
       "The Pink Mirror                          Edwin Fernandes\n",
       "Name: lead, Length: 566, dtype: object"
      ]
     },
     "execution_count": 28,
     "metadata": {},
     "output_type": "execute_result"
    }
   ],
   "source": [
    "movies.drop_duplicates()"
   ]
  },
  {
   "cell_type": "code",
   "execution_count": 29,
   "id": "b096b8cf-e00c-4cd6-8abd-cb40820cc614",
   "metadata": {},
   "outputs": [
    {
     "data": {
      "text/plain": [
       "0    False\n",
       "1     True\n",
       "2     True\n",
       "3    False\n",
       "4    False\n",
       "5     True\n",
       "6    False\n",
       "7    False\n",
       "8     True\n",
       "9     True\n",
       "dtype: bool"
      ]
     },
     "execution_count": 29,
     "metadata": {},
     "output_type": "execute_result"
    }
   ],
   "source": [
    "# duplicated\n",
    "\n",
    "temp.duplicated()"
   ]
  },
  {
   "cell_type": "code",
   "execution_count": 32,
   "id": "5c7e4884-b212-4f06-988f-16c401b12479",
   "metadata": {},
   "outputs": [
    {
     "data": {
      "text/plain": [
       "5"
      ]
     },
     "execution_count": 32,
     "metadata": {},
     "output_type": "execute_result"
    }
   ],
   "source": [
    "temp.duplicated().sum() # numbere of duplicates"
   ]
  },
  {
   "cell_type": "code",
   "execution_count": 34,
   "id": "141e5f64-db26-4dbe-896b-0f0360995718",
   "metadata": {},
   "outputs": [
    {
     "data": {
      "text/plain": [
       "137"
      ]
     },
     "execution_count": 34,
     "metadata": {},
     "output_type": "execute_result"
    }
   ],
   "source": [
    "vk.duplicated().sum()"
   ]
  },
  {
   "cell_type": "code",
   "execution_count": 35,
   "id": "c7e44f44-43c7-41ce-bcae-31842bdd0774",
   "metadata": {},
   "outputs": [
    {
     "data": {
      "text/plain": [
       "934"
      ]
     },
     "execution_count": 35,
     "metadata": {},
     "output_type": "execute_result"
    }
   ],
   "source": [
    "movies.duplicated().sum()"
   ]
  },
  {
   "cell_type": "code",
   "execution_count": 37,
   "id": "6bfe5371-2b6a-4531-8636-63e8b84f57cf",
   "metadata": {},
   "outputs": [
    {
     "data": {
      "text/plain": [
       "0     1.0\n",
       "1     2.0\n",
       "2     3.0\n",
       "3     NaN\n",
       "4     5.0\n",
       "5     6.0\n",
       "6     NaN\n",
       "7     8.0\n",
       "8     NaN\n",
       "9    10.0\n",
       "dtype: float64"
      ]
     },
     "execution_count": 37,
     "metadata": {},
     "output_type": "execute_result"
    }
   ],
   "source": [
    "# isnull\n",
    "\n",
    "temp = pd.Series([1,2,3,np.nan,5,6,np.nan,8,np.nan,10])\n",
    "temp"
   ]
  },
  {
   "cell_type": "code",
   "execution_count": 38,
   "id": "1a33c410-fca7-4afa-b136-74c19a3d7ca1",
   "metadata": {},
   "outputs": [
    {
     "data": {
      "text/plain": [
       "10"
      ]
     },
     "execution_count": 38,
     "metadata": {},
     "output_type": "execute_result"
    }
   ],
   "source": [
    "temp.size"
   ]
  },
  {
   "cell_type": "code",
   "execution_count": 40,
   "id": "d09e8e85-06a6-4ebe-baf2-43a4425daa11",
   "metadata": {},
   "outputs": [
    {
     "data": {
      "text/plain": [
       "7"
      ]
     },
     "execution_count": 40,
     "metadata": {},
     "output_type": "execute_result"
    }
   ],
   "source": [
    "temp.count()"
   ]
  },
  {
   "cell_type": "code",
   "execution_count": 42,
   "id": "663b71c1-d7b6-43a3-866d-1c9477515a7c",
   "metadata": {},
   "outputs": [
    {
     "data": {
      "text/plain": [
       "0    False\n",
       "1    False\n",
       "2    False\n",
       "3     True\n",
       "4    False\n",
       "5    False\n",
       "6     True\n",
       "7    False\n",
       "8     True\n",
       "9    False\n",
       "dtype: bool"
      ]
     },
     "execution_count": 42,
     "metadata": {},
     "output_type": "execute_result"
    }
   ],
   "source": [
    "temp.isnull()"
   ]
  },
  {
   "cell_type": "code",
   "execution_count": 44,
   "id": "9c619b17-b09e-4573-9fb9-af8812a56253",
   "metadata": {},
   "outputs": [
    {
     "data": {
      "text/plain": [
       "3"
      ]
     },
     "execution_count": 44,
     "metadata": {},
     "output_type": "execute_result"
    }
   ],
   "source": [
    "temp.isnull().sum()"
   ]
  },
  {
   "cell_type": "code",
   "execution_count": 46,
   "id": "dbbbfece-d5b5-4278-b578-7379da0abdf8",
   "metadata": {},
   "outputs": [
    {
     "data": {
      "text/plain": [
       "0"
      ]
     },
     "execution_count": 46,
     "metadata": {},
     "output_type": "execute_result"
    }
   ],
   "source": [
    "vk.isnull().sum()"
   ]
  },
  {
   "cell_type": "code",
   "execution_count": 48,
   "id": "4e0861dd-b077-49d2-b3a9-a839a99e3bd0",
   "metadata": {},
   "outputs": [
    {
     "data": {
      "text/plain": [
       "0     1.0\n",
       "1     2.0\n",
       "2     3.0\n",
       "4     5.0\n",
       "5     6.0\n",
       "7     8.0\n",
       "9    10.0\n",
       "dtype: float64"
      ]
     },
     "execution_count": 48,
     "metadata": {},
     "output_type": "execute_result"
    }
   ],
   "source": [
    "# dropna --> remove all missing values\n",
    "\n",
    "temp.dropna()"
   ]
  },
  {
   "cell_type": "code",
   "execution_count": 50,
   "id": "7267bcfa-4987-4d9e-873a-d264bf24be5e",
   "metadata": {},
   "outputs": [
    {
     "data": {
      "text/plain": [
       "0     1.0\n",
       "1     2.0\n",
       "2     3.0\n",
       "3     0.0\n",
       "4     5.0\n",
       "5     6.0\n",
       "6     0.0\n",
       "7     8.0\n",
       "8     0.0\n",
       "9    10.0\n",
       "dtype: float64"
      ]
     },
     "execution_count": 50,
     "metadata": {},
     "output_type": "execute_result"
    }
   ],
   "source": [
    "# fillna --> fills all missing values\n",
    "\n",
    "temp.fillna(0)"
   ]
  },
  {
   "cell_type": "code",
   "execution_count": 52,
   "id": "464ae3bc-314c-427c-8340-4a7bcc36b3de",
   "metadata": {},
   "outputs": [
    {
     "data": {
      "text/plain": [
       "0     1.0\n",
       "1     2.0\n",
       "2     3.0\n",
       "3     5.0\n",
       "4     5.0\n",
       "5     6.0\n",
       "6     5.0\n",
       "7     8.0\n",
       "8     5.0\n",
       "9    10.0\n",
       "dtype: float64"
      ]
     },
     "execution_count": 52,
     "metadata": {},
     "output_type": "execute_result"
    }
   ],
   "source": [
    "temp.fillna(temp.mean())"
   ]
  },
  {
   "cell_type": "code",
   "execution_count": 53,
   "id": "6d449347-7e33-4870-9e7e-8a3f38a5fb48",
   "metadata": {},
   "outputs": [
    {
     "data": {
      "text/plain": [
       "match_no\n",
       "1       1\n",
       "2      23\n",
       "3      13\n",
       "4      12\n",
       "5       1\n",
       "       ..\n",
       "211     0\n",
       "212    20\n",
       "213    73\n",
       "214    25\n",
       "215     7\n",
       "Name: runs, Length: 215, dtype: int64"
      ]
     },
     "execution_count": 53,
     "metadata": {},
     "output_type": "execute_result"
    }
   ],
   "source": [
    "# isin\n",
    "\n",
    "vk"
   ]
  },
  {
   "cell_type": "code",
   "execution_count": 55,
   "id": "736a726b-51d2-4b2b-ad74-a349e9c67626",
   "metadata": {},
   "outputs": [
    {
     "data": {
      "text/plain": [
       "match_no\n",
       "1      False\n",
       "2      False\n",
       "3      False\n",
       "4      False\n",
       "5      False\n",
       "       ...  \n",
       "211    False\n",
       "212    False\n",
       "213    False\n",
       "214    False\n",
       "215    False\n",
       "Name: runs, Length: 215, dtype: bool"
      ]
     },
     "execution_count": 55,
     "metadata": {},
     "output_type": "execute_result"
    }
   ],
   "source": [
    "(vk == 49) | (vk == 99)"
   ]
  },
  {
   "cell_type": "code",
   "execution_count": 56,
   "id": "cc8af926-55bb-4918-b223-d22b69d290bf",
   "metadata": {},
   "outputs": [
    {
     "data": {
      "text/plain": [
       "match_no\n",
       "82    99\n",
       "86    49\n",
       "Name: runs, dtype: int64"
      ]
     },
     "execution_count": 56,
     "metadata": {},
     "output_type": "execute_result"
    }
   ],
   "source": [
    "vk[(vk == 49) | (vk == 99)]"
   ]
  },
  {
   "cell_type": "code",
   "execution_count": 57,
   "id": "17abded4-2047-4407-9ecd-f0e6e8a7d2cc",
   "metadata": {},
   "outputs": [
    {
     "data": {
      "text/plain": [
       "match_no\n",
       "1      False\n",
       "2      False\n",
       "3      False\n",
       "4      False\n",
       "5      False\n",
       "       ...  \n",
       "211    False\n",
       "212    False\n",
       "213    False\n",
       "214    False\n",
       "215    False\n",
       "Name: runs, Length: 215, dtype: bool"
      ]
     },
     "execution_count": 57,
     "metadata": {},
     "output_type": "execute_result"
    }
   ],
   "source": [
    "vk.isin([49,99])"
   ]
  },
  {
   "cell_type": "code",
   "execution_count": 58,
   "id": "4c48c9a9-8a7b-4344-b059-caa10dfe33ab",
   "metadata": {},
   "outputs": [
    {
     "data": {
      "text/plain": [
       "match_no\n",
       "82    99\n",
       "86    49\n",
       "Name: runs, dtype: int64"
      ]
     },
     "execution_count": 58,
     "metadata": {},
     "output_type": "execute_result"
    }
   ],
   "source": [
    "vk[vk.isin([49,99])]"
   ]
  },
  {
   "cell_type": "code",
   "execution_count": 61,
   "id": "c681e7c7-4a79-4e4e-9602-96d3dd83fb85",
   "metadata": {},
   "outputs": [
    {
     "data": {
      "text/plain": [
       "movie\n",
       "Uri: The Surgical Strike                   Vicky Kaushal\n",
       "Battalion 609                                Vicky Ahuja\n",
       "The Accidental Prime Minister (film)         Anupam Kher\n",
       "Why Cheat India                            Emraan Hashmi\n",
       "Evening Shadows                         Mona Ambegaonkar\n",
       "                                              ...       \n",
       "Hum Tumhare Hain Sanam                    Shah Rukh Khan\n",
       "Aankhen (2002 film)                     Amitabh Bachchan\n",
       "Saathiya (film)                             Vivek Oberoi\n",
       "Company (film)                                Ajay Devgn\n",
       "Awara Paagal Deewana                        Akshay Kumar\n",
       "Name: lead, Length: 1500, dtype: object"
      ]
     },
     "execution_count": 61,
     "metadata": {},
     "output_type": "execute_result"
    }
   ],
   "source": [
    "# apply --> we can make custom functions\n",
    "\n",
    "movies"
   ]
  },
  {
   "cell_type": "code",
   "execution_count": 62,
   "id": "e993ccd1-dd6d-442b-9dba-d7e2b6792cab",
   "metadata": {},
   "outputs": [
    {
     "data": {
      "text/plain": [
       "movie\n",
       "Uri: The Surgical Strike                   [Vicky, Kaushal]\n",
       "Battalion 609                                [Vicky, Ahuja]\n",
       "The Accidental Prime Minister (film)         [Anupam, Kher]\n",
       "Why Cheat India                            [Emraan, Hashmi]\n",
       "Evening Shadows                         [Mona, Ambegaonkar]\n",
       "                                               ...         \n",
       "Hum Tumhare Hain Sanam                   [Shah, Rukh, Khan]\n",
       "Aankhen (2002 film)                     [Amitabh, Bachchan]\n",
       "Saathiya (film)                             [Vivek, Oberoi]\n",
       "Company (film)                                [Ajay, Devgn]\n",
       "Awara Paagal Deewana                        [Akshay, Kumar]\n",
       "Name: lead, Length: 1500, dtype: object"
      ]
     },
     "execution_count": 62,
     "metadata": {},
     "output_type": "execute_result"
    }
   ],
   "source": [
    "movies.apply(lambda x:x.split())"
   ]
  },
  {
   "cell_type": "code",
   "execution_count": 69,
   "id": "75e114aa-b8d5-4d56-86a8-21e2277fd9d3",
   "metadata": {},
   "outputs": [
    {
     "data": {
      "text/plain": [
       "movie\n",
       "Uri: The Surgical Strike                  VICKY\n",
       "Battalion 609                             VICKY\n",
       "The Accidental Prime Minister (film)     ANUPAM\n",
       "Why Cheat India                          EMRAAN\n",
       "Evening Shadows                            MONA\n",
       "                                         ...   \n",
       "Hum Tumhare Hain Sanam                     SHAH\n",
       "Aankhen (2002 film)                     AMITABH\n",
       "Saathiya (film)                           VIVEK\n",
       "Company (film)                             AJAY\n",
       "Awara Paagal Deewana                     AKSHAY\n",
       "Name: lead, Length: 1500, dtype: object"
      ]
     },
     "execution_count": 69,
     "metadata": {},
     "output_type": "execute_result"
    }
   ],
   "source": [
    "movies.apply(lambda x:x.split()[0].upper())"
   ]
  },
  {
   "cell_type": "code",
   "execution_count": 70,
   "id": "c1b6b0c0-1ae7-4859-9a96-d1810ad116d8",
   "metadata": {},
   "outputs": [
    {
     "data": {
      "text/plain": [
       "0       48\n",
       "1       57\n",
       "2       40\n",
       "3       43\n",
       "4       44\n",
       "      ... \n",
       "360    231\n",
       "361    226\n",
       "362    155\n",
       "363    144\n",
       "364    172\n",
       "Name: Subscribers gained, Length: 365, dtype: int64"
      ]
     },
     "execution_count": 70,
     "metadata": {},
     "output_type": "execute_result"
    }
   ],
   "source": [
    "subs"
   ]
  },
  {
   "cell_type": "code",
   "execution_count": 71,
   "id": "0c9db47c-07b8-4862-bd09-9b64d948f572",
   "metadata": {},
   "outputs": [
    {
     "data": {
      "text/plain": [
       "135.64383561643837"
      ]
     },
     "execution_count": 71,
     "metadata": {},
     "output_type": "execute_result"
    }
   ],
   "source": [
    "subs.mean()"
   ]
  },
  {
   "cell_type": "code",
   "execution_count": 74,
   "id": "20c04524-3e9b-4cb9-9141-3a8f91aadec2",
   "metadata": {},
   "outputs": [
    {
     "data": {
      "text/plain": [
       "0       bad day\n",
       "1       bad day\n",
       "2       bad day\n",
       "3       bad day\n",
       "4       bad day\n",
       "         ...   \n",
       "360    good day\n",
       "361    good day\n",
       "362    good day\n",
       "363    good day\n",
       "364    good day\n",
       "Name: Subscribers gained, Length: 365, dtype: object"
      ]
     },
     "execution_count": 74,
     "metadata": {},
     "output_type": "execute_result"
    }
   ],
   "source": [
    "subs.apply(lambda x:'good day' if x >= subs.mean() else 'bad day') "
   ]
  },
  {
   "cell_type": "code",
   "execution_count": 120,
   "id": "0f720955-47e2-48df-8ca9-da84a667f3f1",
   "metadata": {},
   "outputs": [
    {
     "data": {
      "text/plain": [
       "match_no\n",
       "1       1\n",
       "2      23\n",
       "3      13\n",
       "4      12\n",
       "5       1\n",
       "       ..\n",
       "211     0\n",
       "212    20\n",
       "213    73\n",
       "214    25\n",
       "215     7\n",
       "Name: runs, Length: 215, dtype: int64"
      ]
     },
     "execution_count": 120,
     "metadata": {},
     "output_type": "execute_result"
    }
   ],
   "source": [
    "# copy\n",
    "\n",
    "vk"
   ]
  },
  {
   "cell_type": "code",
   "execution_count": 121,
   "id": "e4839b01-6503-44bb-ac54-f9f56abcb71f",
   "metadata": {},
   "outputs": [
    {
     "data": {
      "text/plain": [
       "match_no\n",
       "1     1\n",
       "2    23\n",
       "3    13\n",
       "4    12\n",
       "5     1\n",
       "Name: runs, dtype: int64"
      ]
     },
     "execution_count": 121,
     "metadata": {},
     "output_type": "execute_result"
    }
   ],
   "source": [
    "new = vk.head()\n",
    "new"
   ]
  },
  {
   "cell_type": "code",
   "execution_count": 123,
   "id": "94dd203d-d539-43f4-a45e-7edd37cc969d",
   "metadata": {},
   "outputs": [],
   "source": [
    "new[1] = 100"
   ]
  },
  {
   "cell_type": "code",
   "execution_count": 124,
   "id": "5f9e2a15-ec23-4239-a776-6ff197606b28",
   "metadata": {},
   "outputs": [
    {
     "data": {
      "text/plain": [
       "match_no\n",
       "1    100\n",
       "2     23\n",
       "3     13\n",
       "4     12\n",
       "5      1\n",
       "Name: runs, dtype: int64"
      ]
     },
     "execution_count": 124,
     "metadata": {},
     "output_type": "execute_result"
    }
   ],
   "source": [
    "new"
   ]
  },
  {
   "cell_type": "code",
   "execution_count": 125,
   "id": "2e2f3f69-3582-4bf7-9e26-47573b8be2f2",
   "metadata": {},
   "outputs": [
    {
     "data": {
      "text/plain": [
       "match_no\n",
       "1      100\n",
       "2       23\n",
       "3       13\n",
       "4       12\n",
       "5        1\n",
       "      ... \n",
       "211      0\n",
       "212     20\n",
       "213     73\n",
       "214     25\n",
       "215      7\n",
       "Name: runs, Length: 215, dtype: int64"
      ]
     },
     "execution_count": 125,
     "metadata": {},
     "output_type": "execute_result"
    }
   ],
   "source": [
    "vk"
   ]
  },
  {
   "cell_type": "markdown",
   "id": "a16f0ffd-a156-494c-b58f-9e58d6edd3fc",
   "metadata": {},
   "source": [
    "```\n",
    "head() and tail() makes view and thus able to make changes to original data. \n",
    "To prevent this we use copy()\n",
    "```"
   ]
  },
  {
   "cell_type": "code",
   "execution_count": 127,
   "id": "be4593e0-2a94-4fa4-b8a8-85a50f89e61f",
   "metadata": {},
   "outputs": [
    {
     "data": {
      "text/plain": [
       "match_no\n",
       "1    100\n",
       "2     23\n",
       "3     13\n",
       "4     12\n",
       "5      1\n",
       "Name: runs, dtype: int64"
      ]
     },
     "execution_count": 127,
     "metadata": {},
     "output_type": "execute_result"
    }
   ],
   "source": [
    "new1 = vk.head().copy()\n",
    "new1"
   ]
  },
  {
   "cell_type": "code",
   "execution_count": 128,
   "id": "6e1f7a54-a4dc-4740-8d1b-77bef4020f81",
   "metadata": {},
   "outputs": [],
   "source": [
    "new1[0] = 1"
   ]
  },
  {
   "cell_type": "code",
   "execution_count": 129,
   "id": "ff71b3c1-28b2-414d-a475-077c86af7a21",
   "metadata": {},
   "outputs": [
    {
     "data": {
      "text/plain": [
       "match_no\n",
       "1    100\n",
       "2     23\n",
       "3     13\n",
       "4     12\n",
       "5      1\n",
       "0      1\n",
       "Name: runs, dtype: int64"
      ]
     },
     "execution_count": 129,
     "metadata": {},
     "output_type": "execute_result"
    }
   ],
   "source": [
    "new1"
   ]
  },
  {
   "cell_type": "code",
   "execution_count": 130,
   "id": "cd18bf6f-f8a1-4532-97a7-a03f79ec44ea",
   "metadata": {},
   "outputs": [
    {
     "data": {
      "text/plain": [
       "match_no\n",
       "1      100\n",
       "2       23\n",
       "3       13\n",
       "4       12\n",
       "5        1\n",
       "      ... \n",
       "211      0\n",
       "212     20\n",
       "213     73\n",
       "214     25\n",
       "215      7\n",
       "Name: runs, Length: 215, dtype: int64"
      ]
     },
     "execution_count": 130,
     "metadata": {},
     "output_type": "execute_result"
    }
   ],
   "source": [
    "vk"
   ]
  },
  {
   "cell_type": "code",
   "execution_count": null,
   "id": "17967a50-b7c7-41a7-b248-4f2f07c8bae0",
   "metadata": {},
   "outputs": [],
   "source": []
  },
  {
   "cell_type": "code",
   "execution_count": null,
   "id": "4dbd0573-84e2-4fd9-a983-8d6e2880102f",
   "metadata": {},
   "outputs": [],
   "source": []
  },
  {
   "cell_type": "code",
   "execution_count": null,
   "id": "2bb293ba-3056-46e1-9743-14b34a2d46cd",
   "metadata": {},
   "outputs": [],
   "source": []
  },
  {
   "cell_type": "code",
   "execution_count": null,
   "id": "849d43cd-20be-4cfc-ac4f-d4ed9991c59d",
   "metadata": {},
   "outputs": [],
   "source": []
  }
 ],
 "metadata": {
  "kernelspec": {
   "display_name": "Python 3 (ipykernel)",
   "language": "python",
   "name": "python3"
  },
  "language_info": {
   "codemirror_mode": {
    "name": "ipython",
    "version": 3
   },
   "file_extension": ".py",
   "mimetype": "text/x-python",
   "name": "python",
   "nbconvert_exporter": "python",
   "pygments_lexer": "ipython3",
   "version": "3.12.1"
  }
 },
 "nbformat": 4,
 "nbformat_minor": 5
}
